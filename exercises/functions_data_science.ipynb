{
  "nbformat": 4,
  "nbformat_minor": 0,
  "metadata": {
    "colab": {
      "provenance": []
    },
    "kernelspec": {
      "name": "python3",
      "display_name": "Python 3"
    },
    "language_info": {
      "name": "python"
    }
  },
  "cells": [
    {
      "cell_type": "code",
      "execution_count": null,
      "metadata": {
        "colab": {
          "base_uri": "https://localhost:8080/"
        },
        "id": "qju4m-GtKs4s",
        "outputId": "8b4b5223-f712-410b-d4a4-c8c15c20d2e4"
      },
      "outputs": [
        {
          "output_type": "stream",
          "name": "stdout",
          "text": [
            "La lista tiene 17 numeros donde el mayor es 99 y el menor es 11. La suma de los valores es 743 \n"
          ]
        }
      ],
      "source": [
        "lista = [16, 14, 63, 65, 17, 99, 70, 11, 20, 48, 79, 32, 17, 89, 12, 25, 66]\n",
        "# 1. Leer el tamaño de la lista\n",
        "# 2. Leer el valor máximo y mínimo\n",
        "# 3. Calcular la suma de los valores de la lista\n",
        "# 4. Mostrar un mensaje al final: La lista tiene `tamano` números, donde el mayor\n",
        "# es `mayor` y el menor es `menor`. La suma de los valores es `suma`.\n",
        "def actions_to_list(lista:list):\n",
        "  maximo, minimo = max(lista), min(lista)\n",
        "  suma = sum (lista)\n",
        "  print(f\"La lista tiene {len(lista)} numeros donde el mayor es {maximo} y el menor es { minimo}. La suma de los valores es {suma} \")\n",
        "\n",
        "actions_to_list(lista)"
      ]
    },
    {
      "cell_type": "code",
      "source": [
        "'''\n",
        "2 - Escribe una función que genere la tabla de multiplicar de un\n",
        "número entero del 1 al 10, según la elección del usuario. Como ejemplo,\n",
        "para el número 7, la tabla de multiplicar se debe mostrar en el siguiente formato:\n",
        "\n",
        "# Tabla del  7:\n",
        "# 7 x 0 = 0\n",
        "# 7 x 1 = 7\n",
        "# [...]\n",
        "# 7 x 10 = 70\n",
        "'''\n",
        "\n",
        "def generate_multiplication_table():\n",
        "  number = int(input(\"Ingresa un numero para generar una tabla de multiplicar: \"))\n",
        "  print(\"Tabla del %d\"%(number))\n",
        "  for i in range(0,11):\n",
        "    print(f\"{number} x {i} = {number * i}\")\n",
        "\n",
        "generate_multiplication_table()"
      ],
      "metadata": {
        "colab": {
          "base_uri": "https://localhost:8080/"
        },
        "id": "wtbYhpjMM_zF",
        "outputId": "d7126bca-765a-4fc4-8321-3570fff18652"
      },
      "execution_count": null,
      "outputs": [
        {
          "output_type": "stream",
          "name": "stdout",
          "text": [
            "Ingresa un numero para generar una tabla de multiplicar: 5\n",
            "Tabla del 5\n",
            "5 x 0 = 0\n",
            "5 x 1 = 5\n",
            "5 x 2 = 10\n",
            "5 x 3 = 15\n",
            "5 x 4 = 20\n",
            "5 x 5 = 25\n",
            "5 x 6 = 30\n",
            "5 x 7 = 35\n",
            "5 x 8 = 40\n",
            "5 x 9 = 45\n",
            "5 x 10 = 50\n"
          ]
        }
      ]
    },
    {
      "cell_type": "code",
      "source": [
        "#3 - Crea una función que lea la siguiente lista y devuelva una nueva\n",
        "# lista con los múltiplos de 3:\n",
        "lista = [97, 80, 94, 88, 80, 1, 16, 53, 62, 32, 24, 99]\n",
        "\n",
        "def multiplos_tres(lista):\n",
        "  return [num for num in lista if num % 3 == 0]\n",
        "\n",
        "print(multiplos_tres(lista))"
      ],
      "metadata": {
        "colab": {
          "base_uri": "https://localhost:8080/"
        },
        "id": "tzoW-fhyS3dC",
        "outputId": "687cf2be-eafa-4724-af98-c9f3333d4e20"
      },
      "execution_count": null,
      "outputs": [
        {
          "output_type": "stream",
          "name": "stdout",
          "text": [
            "[24, 99]\n"
          ]
        }
      ]
    },
    {
      "cell_type": "code",
      "source": [
        "'''\n",
        "4 - Crea una lista de los cuadrados de los números de la siguiente lista\n",
        " [1, 2, 3, 4, 5, 6, 7, 8, 9, 10].\n",
        " Recuerda utilizar las funciones lambda y map() para calcular el cuadrado de cada elemento de la lista.\n",
        "'''\n",
        "lista = [1, 2, 3, 4, 5, 6, 7, 8, 9, 10]\n",
        "\n",
        "cuadrados = list(map(lambda x: pow(x,2), lista))\n",
        "print(cuadrados)\n"
      ],
      "metadata": {
        "colab": {
          "base_uri": "https://localhost:8080/"
        },
        "id": "meE60HkGUeDL",
        "outputId": "2bf5a74f-2e4e-48fe-92c7-70069ef353c9"
      },
      "execution_count": null,
      "outputs": [
        {
          "output_type": "stream",
          "name": "stdout",
          "text": [
            "[1, 4, 9, 16, 25, 36, 49, 64, 81, 100]\n"
          ]
        }
      ]
    },
    {
      "cell_type": "code",
      "source": [
        "'''\n",
        "5 - Has sido contratado como científico(a) de datos de una asociación de skate.\n",
        "Para analizar las notas recibidas por los skaters en algunas competiciones a lo largo del año,\n",
        "necesitas crear un código que calcule la puntuación de los atletas.\n",
        "Para ello, tu código debe recibir 5 notas ingresadas por los jueces.\n",
        "'''\n",
        "\n",
        "def notes ():\n",
        "  lista:list = []\n",
        "\n",
        "  for i in range(5):\n",
        "    lista.append(float(input(\"Ingresa una nota: \")))\n",
        "\n",
        "  promedio = sum(lista)/len(lista)\n",
        "  print(lista, promedio)\n",
        "\n",
        "notes()"
      ],
      "metadata": {
        "colab": {
          "base_uri": "https://localhost:8080/"
        },
        "id": "hSgmK-vBU3r-",
        "outputId": "6da653a4-25d2-469c-d31a-d155a27c302b"
      },
      "execution_count": null,
      "outputs": [
        {
          "output_type": "stream",
          "name": "stdout",
          "text": [
            "Ingresa una nota: 8\n",
            "Ingresa una nota: 7\n",
            "Ingresa una nota: 5\n",
            "Ingresa una nota: 8\n",
            "Ingresa una nota: 9\n",
            "[8.0, 7.0, 5.0, 8.0, 9.0] 7.4\n"
          ]
        }
      ]
    },
    {
      "cell_type": "code",
      "source": [
        "'''\n",
        "6 - Para cumplir con una demanda de una institución educativa para el análisis del rendimiento de sus estudiantes, necesitas crear una función que reciba una lista de 4 notas y devuelva:\n",
        "# mayor nota\n",
        "# menor nota\n",
        "# media\n",
        "# situación (Aprobado(a) o Reprobado(a))\n",
        "# Uso de la función\n",
        "# Mostrar: El estudiante obtuvo una media de `media`, con la mayor nota de `mayor` puntos y la menor nota de `menor` puntos y fue `situacion`.)\n",
        "'''\n",
        "\n",
        "def calc_calificacaciones(lista: list):\n",
        "  maximo,minimo = max(lista), min(lista)\n",
        "  media = sum(lista)/ len(lista)\n",
        "  situacion:str\n",
        "\n",
        "  if media >=7:\n",
        "    situacion = \"aprovado\"\n",
        "  else:\n",
        "    situacion = \"reprobado\"\n",
        "\n",
        "  print(f\"El estudiante obtuvo una media de {media}, con la mayor nota de {maximo} puntos y la menor nota de {minimo} puntos y fue {situacion}.\")"
      ],
      "metadata": {
        "id": "1lsHdTEMU8Za"
      },
      "execution_count": null,
      "outputs": []
    },
    {
      "cell_type": "code",
      "source": [
        "'''\n",
        "7 - Has recibido una demanda para tratar 2 listas con los nombres y apellidos de cada estudiante concatenándolos para presentar sus nombres completos en la forma Nombre Apellido. Las listas son:\n",
        "nombres = [\"juan\", \"MaRia\", \"JOSÉ\"]\n",
        "apellidos = [\"SILVA\", \"sosa\", \"Tavares\"]\n",
        "\n",
        "# Normalizar nombres y apellidos y crear una nueva lista con los nombres completos\n",
        "# Puedes apoyarte en la función map()\n",
        "'''\n",
        "nombres = [\"juan\", \"MaRia\", \"JOSÉ\"]\n",
        "apellidos = [\"SILVA\", \"sosa\", \"Tavares\"]\n",
        "\n",
        "names = list(map(lambda x:x.capitalize(), nombres))\n",
        "last_names = list(map(lambda x:x.capitalize(), apellidos))\n",
        "\n",
        "one_more = [1, 2, 3]\n",
        "\n",
        "full_names = list(map(lambda x, y, z: f\"{x} {y} {z}\", names, last_names, one_more))\n",
        "\n",
        "print(full_names)\n"
      ],
      "metadata": {
        "id": "E-3Ynw2JVCUZ",
        "colab": {
          "base_uri": "https://localhost:8080/"
        },
        "outputId": "6a6bfe34-3d8a-4fb6-f95a-1c1b096267af"
      },
      "execution_count": null,
      "outputs": [
        {
          "output_type": "stream",
          "name": "stdout",
          "text": [
            "['Juan Silva 1', 'Maria Sosa 2', 'José Tavares 3']\n"
          ]
        }
      ]
    },
    {
      "cell_type": "code",
      "source": [
        "'''\n",
        "8. Como científico de datos en un equipo de fútbol, necesitas implementar nuevas formas de recopilación de datos sobre el\n",
        "rendimiento de los jugadores y del equipo en su conjunto. Tu primera acción es crear una forma de calcular la puntuación\n",
        "del equipo en el campeonato nacional a partir de los datos de goles marcados y recibidos en cada juego.\n",
        "\n",
        "Escribe una función llamada calcula_puntos() que recibe como parámetros dos listas de números enteros, representando los\n",
        "goles marcados y recibidos por el equipo en cada partido del campeonato. La función debe devolver la puntuación del equipo y\n",
        "el rendimiento en porcentaje, teniendo en cuenta que la victoria vale 3 puntos, el empate 1 punto y la derrota 0 puntos.\n",
        "\n",
        "Nota: si la cantidad de goles marcados en un partido es mayor que los recibidos, el equipo ganó.\n",
        "En caso de ser igual, el equipo empató, y si es menor, el equipo perdió.\n",
        "Para calcular el rendimiento, debemos hacer la razón entre la puntuación del equipo y la puntuación máxima que podría recibir.\n",
        "\n",
        "Para la prueba, utiliza las siguientes listas de goles marcados y recibidos:\n",
        "\n",
        "goles_marcados = [2, 1, 3, 1, 0]\n",
        "goles_recibidos = [1, 2, 2, 1, 3]\n",
        "# Texto probablemente mostrado:\n",
        "# La puntuación del equipo fue `puntos` y su rendimiento fue `desempeno`%\"\n",
        "'''\n",
        "goals_scored = [2, 1, 3, 1, 0]\n",
        "goals_conceded = [1, 2, 2, 1, 3]\n",
        "\n",
        "def calculate_points(goals_scored:list, goals_conceded:list):\n",
        "  total_points = len(goals_scored) * 3\n",
        "  points = 0\n",
        "\n",
        "  for i in range(len(goals_scored)):\n",
        "    if goals_scored[i] > goals_conceded[i]:\n",
        "      points +=3\n",
        "    elif goals_scored[i] == goals_conceded[i]:\n",
        "      points +=1\n",
        "    else:\n",
        "      print('Caso innesperado')\n",
        "  return f\"La puntuacion de tu equipo fue {points} puntos y su rendimiento fue de {round(points * 100 / total_points)}%\"\n",
        "\n",
        "calculate_points(goals_scored, goals_conceded)\n"
      ],
      "metadata": {
        "id": "qYvcLxZVa275",
        "colab": {
          "base_uri": "https://localhost:8080/",
          "height": 70
        },
        "outputId": "b8d375f3-25f2-45db-ae47-6bc1b42102b0"
      },
      "execution_count": null,
      "outputs": [
        {
          "output_type": "stream",
          "name": "stdout",
          "text": [
            "Caso innesperado\n",
            "Caso innesperado\n"
          ]
        },
        {
          "output_type": "execute_result",
          "data": {
            "text/plain": [
              "'La puntuacion de tu equipo fue 7 puntos y su rendimiento fue de 47%'"
            ],
            "application/vnd.google.colaboratory.intrinsic+json": {
              "type": "string"
            }
          },
          "metadata": {},
          "execution_count": 13
        }
      ]
    },
    {
      "cell_type": "code",
      "source": [
        "'''\n",
        "9 - Te han desafiado a crear un código que calcule los gastos de un viaje a una de las cuatro ciudades desde Recife,\n",
        "siendo ellas: Salvador, Fortaleza, Natal y Aracaju.\n",
        "\n",
        "El costo diario del hotel es de 150 reales en todas ellas y el consumo de gasolina en el viaje en coche es de 14 km/l,\n",
        "siendo que el precio de la gasolina es de 5 reales por litro. Los gastos con paseos y alimentación a realizar en cada una de\n",
        "ellas por día serían [200, 400, 250, 300], respectivamente.\n",
        "\n",
        "Sabiendo que las distancias entre Recife y cada una de las ciudades son aproximadamente [850, 800, 300, 550] km,\n",
        "crea tres funciones:\n",
        "-> la primera función calcula los gastos de hotel (gasto_hotel),\n",
        "-> la segunda calcula los gastos de gasolina (gasto_gasolina)\n",
        "-> la tercera los gastos de paseo y alimentación (gasto_paseo).\n",
        "\n",
        "Para probar, simula un viaje de 3 días a Salvador desde Recife. Considera el viaje de ida y vuelta en coche.\n",
        "\n",
        "# Texto probablemente mostrado:\n",
        "# Con base en los gastos definidos, un viaje de [dias] días a [ciudad] desde\n",
        "# Recife costaría [gastos] reales.\n",
        "'''\n",
        "\n",
        "\n",
        "def hotel_expense(days):\n",
        "  return days * 150\n",
        "\n",
        "def gasoline_expense(distance):\n",
        "  total = distance / 14\n",
        "  return total * 5\n",
        "\n",
        "def tour_expense(days, price):\n",
        "  return days * price\n",
        "\n",
        "\n"
      ],
      "metadata": {
        "id": "Z5KDX0Txa3Kg",
        "colab": {
          "base_uri": "https://localhost:8080/",
          "height": 193
        },
        "outputId": "87311bb6-2e69-4cf0-beb7-df7706d208b8"
      },
      "execution_count": null,
      "outputs": [
        {
          "output_type": "error",
          "ename": "NameError",
          "evalue": "name 'gasoline_expense' is not defined",
          "traceback": [
            "\u001b[0;31m---------------------------------------------------------------------------\u001b[0m",
            "\u001b[0;31mNameError\u001b[0m                                 Traceback (most recent call last)",
            "\u001b[0;32m<ipython-input-14-6a551ac9b6d0>\u001b[0m in \u001b[0;36m<cell line: 0>\u001b[0;34m()\u001b[0m\n\u001b[1;32m     21\u001b[0m \u001b[0;32mdef\u001b[0m \u001b[0mhotel_expense\u001b[0m\u001b[0;34m(\u001b[0m\u001b[0mdays\u001b[0m\u001b[0;34m)\u001b[0m\u001b[0;34m:\u001b[0m\u001b[0;34m\u001b[0m\u001b[0;34m\u001b[0m\u001b[0m\n\u001b[1;32m     22\u001b[0m   \u001b[0mprice\u001b[0m \u001b[0;34m=\u001b[0m \u001b[0;36m150\u001b[0m\u001b[0;34m\u001b[0m\u001b[0;34m\u001b[0m\u001b[0m\n\u001b[0;32m---> 23\u001b[0;31m \u001b[0mgasoline_expense\u001b[0m\u001b[0;34m\u001b[0m\u001b[0;34m\u001b[0m\u001b[0m\n\u001b[0m\u001b[1;32m     24\u001b[0m \u001b[0mtour_expense\u001b[0m\u001b[0;34m\u001b[0m\u001b[0;34m\u001b[0m\u001b[0m\n",
            "\u001b[0;31mNameError\u001b[0m: name 'gasoline_expense' is not defined"
          ]
        }
      ]
    },
    {
      "cell_type": "code",
      "source": [
        "'''\n",
        "10 - Has comenzado una pasantía en una empresa que trabaja con procesamiento de lenguaje natural (NLP). Tu líder te solicitó\n",
        "que crees un fragmento de código que reciba una frase escrita por el usuario y filtre solo las palabras con un tamaño mayor o igual a 5, mostrándolas en una lista. Esta demanda se centra en el análisis del patrón de comportamiento de las personas al escribir palabras de esta cantidad de caracteres o más.\n",
        "\n",
        "Consejo: utiliza las funciones lambda y filter() para filtrar estas palabras. Recordando que la función integrada filter() recibe una función (en nuestro caso, una función lambda) y filtra un iterable según la función. Para tratar la frase, utiliza replace() para cambiar ',' '.', '!' y '?' por espacio.\n",
        "\n",
        "Utiliza la frase \"Aprender Python aquí en Alura es muy bueno\" para probar el código.\n",
        "'''"
      ],
      "metadata": {
        "id": "hK4V8RGObCwZ"
      },
      "execution_count": null,
      "outputs": []
    },
    {
      "cell_type": "code",
      "source": [
        "nombres_estudiantes = [\"Enrique Montero\", \"Luna Pereira\", \"Anthony Silva\", \"Leticia Fernandez\", \"Juan González\", \"Maira Caldera\", \"Diana Carvajo\", \"Mariana Rosas\", \"Camila Fernandez\", \"Levi Alves\", \"Nicolás Rocha\", \"Amanda Navas\",  \"Lara Morales\", \"Leticia Olivera\", \"Lucas Navas\", \"Lara Arteaga\", \"Beatriz Martinez\", \"Victor Acevedo\", \"Stephany Hernández\", \"Gustavo Lima\"]\n",
        "\n",
        "medias_estudiantes = [5.4, 4.1, 9.1, 5.3, 6.9, 3.1, 9.0, 5.0, 8.2, 5.5,\n",
        "                    8.1, 7.4, 5.0, 3.7, 8.1, 6.2, 6.1, 5.6, 10.0, 8.2]\n",
        "\n",
        "# Esta es una manera utilizando las listas con indices\n",
        "promedio_estudiantes = {nombres_estudiantes[i]: medias_estudiantes[i] for i in range(len(nombres_estudiantes)) if medias_estudiantes[i] >= 9}\n",
        "\n",
        "# Utilizando zip\n",
        "promedios_estudiantes = {name: media for name, media in zip(nombres_estudiantes, medias_estudiantes) if media >=9}\n",
        "\n",
        "# estudiantes_becados = {key: if value > 8 for key, value in promedio_estudiantes.items()}\n",
        "promedio_estudiantes"
      ],
      "metadata": {
        "colab": {
          "base_uri": "https://localhost:8080/"
        },
        "id": "3eEf4xT59cgL",
        "outputId": "8faae43d-9a34-485e-b508-ceadafdeff42"
      },
      "execution_count": null,
      "outputs": [
        {
          "output_type": "execute_result",
          "data": {
            "text/plain": [
              "{'Anthony Silva': 9.1, 'Diana Carvajo': 9.0, 'Stephany Hernández': 10.0}"
            ]
          },
          "metadata": {},
          "execution_count": 7
        }
      ]
    },
    {
      "cell_type": "code",
      "source": [
        "# 1 - Crea un código para imprimir la suma de los elementos de cada una de las listas contenidas en la siguiente lista:\n",
        "lista_de_listas = [[4, 6, 5, 9], [1, 0, 7, 2], [3, 4, 1, 8]]\n",
        "\n",
        "print([sum(lista_de_listas[i]) for i in range(len(lista_de_listas))])\n",
        "\n",
        "print([sum(suma) for suma in lista_de_listas])"
      ],
      "metadata": {
        "colab": {
          "base_uri": "https://localhost:8080/"
        },
        "id": "XYpjEemfCicb",
        "outputId": "843aefe3-8e26-4ab9-8c76-3ffbd35002ab"
      },
      "execution_count": null,
      "outputs": [
        {
          "output_type": "stream",
          "name": "stdout",
          "text": [
            "[24, 10, 16]\n",
            "[24, 10, 16]\n"
          ]
        }
      ]
    },
    {
      "cell_type": "code",
      "source": [
        "# 2 - Crea un código para generar una lista que almacene el tercer elemento de cada tupla contenida en la siguiente lista de tuplas:\n",
        "lista_de_tuplas = [('Pedro', 1.74, 81), ('Júlia', 1.65, 67), ('Otávio', 1.81, 83)]\n",
        "\n",
        "lista_tercer_elemento = [lista[-1] for lista in zip(*lista_de_tuplas)]\n",
        "# lista_tercer_elemento = [lista[-1] for lista in lista_de_tuplas]\n",
        "lista_tercer_elemento"
      ],
      "metadata": {
        "colab": {
          "base_uri": "https://localhost:8080/"
        },
        "id": "SzY8nSf_Dxz2",
        "outputId": "76401a8d-b882-423f-8b7d-592f784ec753"
      },
      "execution_count": null,
      "outputs": [
        {
          "output_type": "execute_result",
          "data": {
            "text/plain": [
              "[81, 67, 83]"
            ]
          },
          "metadata": {},
          "execution_count": 14
        }
      ]
    },
    {
      "cell_type": "code",
      "source": [
        "# 3 - A partir de la lista crea un código para generar una lista de tuplas en la que cada tupla tenga el primer elemento como la posición del nombre en la lista original y el segundo elemento siendo el propio nombre.\n",
        "\n",
        "lista = ['Pedro', 'Júlia', 'Otávio', 'Eduardo']\n",
        "\n",
        "nombres_tupla = [(i, lista[i]) for i in range(len(lista)) ]\n",
        "nombres_tupla"
      ],
      "metadata": {
        "colab": {
          "base_uri": "https://localhost:8080/"
        },
        "id": "GDe9ExWMGS0n",
        "outputId": "ae369043-a15f-4a18-b427-7ff7f1503f94"
      },
      "execution_count": null,
      "outputs": [
        {
          "output_type": "execute_result",
          "data": {
            "text/plain": [
              "[(0, 'Pedro'), (1, 'Júlia'), (2, 'Otávio'), (3, 'Eduardo')]"
            ]
          },
          "metadata": {},
          "execution_count": 21
        }
      ]
    },
    {
      "cell_type": "code",
      "source": [
        "# 4 - Crea una lista usando la comprensión de listas (list comprehension) que almacene solo el valor numérico de cada tupla en caso de que el primer elemento sea 'Apartamento', a partir de la siguiente lista de tuplas:\n",
        "\n",
        "alquiler = [('Apartamento', 1700), ('Apartamento', 1400), ('Casa', 2150), ('Apartamento', 1900), ('Casa', 1100)]\n",
        "\n",
        "prices = [price for site, price in alquiler if site.lower() == 'apartamento']\n",
        "# prices = [alquiler[i][1] for i in range(len(alquiler)) if alquiler[i][0].lower() == 'apartamento' ]\n",
        "prices"
      ],
      "metadata": {
        "colab": {
          "base_uri": "https://localhost:8080/"
        },
        "id": "CGyDzqomIBw7",
        "outputId": "b0e196e8-106a-46f5-d2a0-e967613b8403"
      },
      "execution_count": null,
      "outputs": [
        {
          "output_type": "execute_result",
          "data": {
            "text/plain": [
              "[1700, 1400, 1900]"
            ]
          },
          "metadata": {},
          "execution_count": 27
        }
      ]
    },
    {
      "cell_type": "code",
      "source": [
        "# 5 - Crea un diccionario usando la comprensión de diccionarios (dict comprehension) en el que las claves estén en la\n",
        "# lista meses = ['Jan', 'Fev', 'Mar', 'Abr', 'Mai', 'Jun', 'Jul', 'Ago', 'Set', 'Out', 'Nov', 'Dez'] y los valores estén en\n",
        "# gasto = [860, 490, 1010, 780, 900, 630, 590, 770, 620, 560, 840, 360].\n",
        "\n",
        "meses = ['Jan', 'Fev', 'Mar', 'Abr', 'Mai', 'Jun', 'Jul', 'Ago', 'Set', 'Out', 'Nov', 'Dez']\n",
        "gasto = [860, 490, 1010, 780, 900, 630, 590, 770, 620, 560, 840, 360]\n",
        "\n",
        "diccionario = {meses[i]: gasto[i] for i in range(len(meses))}\n",
        "diccionario"
      ],
      "metadata": {
        "colab": {
          "base_uri": "https://localhost:8080/"
        },
        "id": "4QGztJlUJUXl",
        "outputId": "8679b948-b020-418d-8bea-5535de98bed8"
      },
      "execution_count": null,
      "outputs": [
        {
          "output_type": "execute_result",
          "data": {
            "text/plain": [
              "{'Jan': 860,\n",
              " 'Fev': 490,\n",
              " 'Mar': 1010,\n",
              " 'Abr': 780,\n",
              " 'Mai': 900,\n",
              " 'Jun': 630,\n",
              " 'Jul': 590,\n",
              " 'Ago': 770,\n",
              " 'Set': 620,\n",
              " 'Out': 560,\n",
              " 'Nov': 840,\n",
              " 'Dez': 360}"
            ]
          },
          "metadata": {},
          "execution_count": 30
        }
      ]
    },
    {
      "cell_type": "code",
      "source": [
        "# 6 - Una tienda tiene una base de datos con la información de venta de cada representante y de cada año y necesita filtrar solo los datos del año 2022 con ventas mayores a 6000.\n",
        "# La tienda proporcionó una muestra con solo las columnas de los años y los valores de venta para que puedas ayudar a realizar la filtración de los datos a través de un código:\n",
        "\n",
        "ventas = [('2023', 4093), ('2021', 4320), ('2021', 5959), ('2022', 8883), ('2023', 9859), ('2022', 5141), ('2022', 7688), ('2022', 9544), ('2023', 4794), ('2021', 7178), ('2022', 3030), ('2021', 7471), ('2022', 4226), ('2022', 8190), ('2021', 9680), ('2022', 5616)]\n",
        "\n",
        "ventas_mayores_2022 = [venta for venta in ventas if venta[0]=='2022' and venta[1] > 6000]\n",
        "ventas_mayores_2022"
      ],
      "metadata": {
        "colab": {
          "base_uri": "https://localhost:8080/"
        },
        "id": "i5Bo3V0wJyte",
        "outputId": "1096dc26-a5df-43fb-adc1-e4d046b82147"
      },
      "execution_count": null,
      "outputs": [
        {
          "output_type": "execute_result",
          "data": {
            "text/plain": [
              "[('2022', 8883), ('2022', 7688), ('2022', 9544), ('2022', 8190)]"
            ]
          },
          "metadata": {},
          "execution_count": 31
        }
      ]
    },
    {
      "cell_type": "code",
      "source": [
        "# 7 - Una clínica analiza datos de pacientes y almacena el valor numérico de la glucosa en una base de datos y le gustaría etiquetar los datos de la siguiente manera:\n",
        "\n",
        "# Glucosa igual o inferior a 70: 'Hipoglicemia'\n",
        "# Glucosa entre 70 y 99: 'Normal'\n",
        "# Glucosa entre 100 y 125: 'Alterada'\n",
        "# Glucosa superior a 125: 'Diabetes'\n",
        "\n",
        "# La clínica proporcionó parte de los valores y tu tarea es crear una lista de tuplas usando la comprensión de listas que contenga la etiqueta y el valor de la glucemia en cada tupla.\n",
        "\n",
        "glicemia = [129, 82, 60, 97, 101, 65, 62, 167, 87, 53, 58, 92, 66, 120, 109, 62, 86, 96, 103, 88, 155, 52, 89, 73]\n",
        "tags = ['Hipoglicemia', 'Normal', 'Alterada', 'Diabetes']\n",
        "\n",
        "db = {tags[i]: [] for i in range(len(tags))}\n",
        "\n",
        "for value in glicemia:\n",
        "  if value > 125:\n",
        "    db['Diabetes'].append(value)\n",
        "  elif value >= 100 and value < 125:\n",
        "    db['Alterada'].append(value)\n",
        "  elif value >= 70 and value < 100:\n",
        "    db['Normal'].append(value)\n",
        "  elif value <= 70:\n",
        "    db['Hipoglicemia'].append(value)\n",
        "\n",
        "db\n"
      ],
      "metadata": {
        "colab": {
          "base_uri": "https://localhost:8080/"
        },
        "id": "SnbBG1m6K3c1",
        "outputId": "412bb95a-853a-4f53-ba41-a63426ab4df6"
      },
      "execution_count": null,
      "outputs": [
        {
          "output_type": "execute_result",
          "data": {
            "text/plain": [
              "{'Hipoglicemia': [60, 65, 62, 53, 58, 66, 62, 52],\n",
              " 'Normal': [82, 97, 87, 92, 86, 96, 88, 89, 73],\n",
              " 'Alterada': [101, 120, 109, 103],\n",
              " 'Diabetes': [129, 167, 155]}"
            ]
          },
          "metadata": {},
          "execution_count": 41
        }
      ]
    },
    {
      "cell_type": "code",
      "source": [
        "'''\n",
        "8 - Un comercio electrónico tiene información de id de venta, cantidad vendida y precio del producto divididos en las siguientes listas:\n",
        "\n",
        "La plataforma necesita estructurar estos datos en una tabla que contenga el\n",
        "valor total de la venta -> que se obtiene multiplicando la cantidad por el precio unitario.\n",
        "la tabla debe contener un encabezado indicando las columnas: 'id', 'cantidad', 'precio' y 'total'.\n",
        "\n",
        "Crea una lista de tuplas en la que cada tupla tenga id, cantidad, precio y valor total, siendo la primera tupla el encabezado de la tabla.\n",
        "'''\n",
        "id = [0, 1, 2, 3, 4, 5, 6, 7, 8, 9]\n",
        "cantidad = [15, 12, 1, 15, 2, 11, 2, 12, 2, 4]\n",
        "precio = [93.0, 102.0, 18.0, 41.0, 122.0, 14.0, 71.0, 48.0, 14.0, 144.0]\n",
        "\n",
        "encabezados = ('id',  'cantidad', 'precio', 'valor total')\n",
        "\n",
        "lista = [(id, cantidad, precio, (precio * cantidad)) for id, cantidad, precio in zip(id, cantidad, precio)]\n",
        "lista[0] = encabezados\n",
        "\n",
        "lista"
      ],
      "metadata": {
        "colab": {
          "base_uri": "https://localhost:8080/"
        },
        "id": "NtUtuCnkPJlN",
        "outputId": "8c9ff375-ae42-4619-adf1-f15c44cc287a"
      },
      "execution_count": null,
      "outputs": [
        {
          "output_type": "execute_result",
          "data": {
            "text/plain": [
              "[('id', 'cantidad', 'precio', 'valor total'),\n",
              " (1, 12, 102.0, 1224.0),\n",
              " (2, 1, 18.0, 18.0),\n",
              " (3, 15, 41.0, 615.0),\n",
              " (4, 2, 122.0, 244.0),\n",
              " (5, 11, 14.0, 154.0),\n",
              " (6, 2, 71.0, 142.0),\n",
              " (7, 12, 48.0, 576.0),\n",
              " (8, 2, 14.0, 28.0),\n",
              " (9, 4, 144.0, 576.0)]"
            ]
          },
          "metadata": {},
          "execution_count": 47
        }
      ]
    },
    {
      "cell_type": "code",
      "source": [
        "'''\n",
        "9 - Una empresa tiene sucursales distribuidas en los estados de la región Sudeste de Brasil. En una de las tablas de registro de las sucursales, hay una columna que contiene la información de a qué estado pertenece:\n",
        "estados =['CMX', 'OAX', 'PUE', 'PUE', 'CMX', 'PUE', 'OAX', 'OAX', 'OAX', 'CMX', 'CMX', 'PUE', 'OAX', 'CMX', 'VER', 'PUE', 'VER', 'CMX', 'PUE', 'CMX', 'OAX', 'CMX', 'PUE'].\n",
        "\n",
        "La empresa siempre está abriendo nuevas sucursales, por lo que la tabla está constantemente recibiendo nuevos registros y al gerente le gustaría tener la información actualizada de la cantidad de sucursales en cada estado.\n",
        "\n",
        "A partir de la columna con la información de los estados, crea un diccionario utilizando la comprensión de diccionarios (dict comprehension) con la clave siendo el nombre de un estado\n",
        "y el valor siendo la cantidad de veces que aparece el estado en la lista.\n",
        "\n",
        "Consejo: Puedes hacer un paso intermedio para generar una lista de listas en la que cada una de las listas tenga el nombre de solo un estado con valores repetidos.\n",
        "'''\n",
        "estados =['CMX', 'OAX', 'PUE', 'PUE', 'CMX', 'PUE', 'OAX', 'OAX', 'OAX', 'CMX', 'CMX', 'PUE', 'OAX', 'CMX', 'VER', 'PUE', 'VER', 'CMX', 'PUE', 'CMX', 'OAX', 'CMX', 'PUE']\n",
        "\n",
        "lista_de_listas = []\n",
        "# crear el for\n",
        "# crear la primera coincidencia\n",
        "# verificar si ya existe uno registro igual\n",
        "# si existe almacenarlo en esta lista y si no crear una nueva lista\n",
        "\n",
        "estados_unicos = []\n",
        "[estados_unicos.append(value) for value in estados if value not in estados_unicos]\n",
        "\n",
        "for estado in estados_unicos:\n",
        "  lista = [e for e in estados if e == estado ]\n",
        "  lista_de_listas.append(lista)\n",
        "\n",
        "db = {lista[0]: len(lista) for lista in lista_de_listas}\n",
        "print(db, lista_de_listas)\n",
        "\n"
      ],
      "metadata": {
        "colab": {
          "base_uri": "https://localhost:8080/"
        },
        "id": "amzSGvZRQdJq",
        "outputId": "aa9f3cd3-92c8-477d-f0c4-2478edd47def"
      },
      "execution_count": null,
      "outputs": [
        {
          "output_type": "stream",
          "name": "stdout",
          "text": [
            "{'CMX': 8, 'OAX': 6, 'PUE': 7, 'VER': 2} [['CMX', 'CMX', 'CMX', 'CMX', 'CMX', 'CMX', 'CMX', 'CMX'], ['OAX', 'OAX', 'OAX', 'OAX', 'OAX', 'OAX'], ['PUE', 'PUE', 'PUE', 'PUE', 'PUE', 'PUE', 'PUE'], ['VER', 'VER']]\n",
            "[['PUE', 'PUE', 'PUE', 'PUE', 'PUE', 'PUE', 'PUE'], ['VER', 'VER'], ['OAX', 'OAX', 'OAX', 'OAX', 'OAX', 'OAX'], ['CMX', 'CMX', 'CMX', 'CMX', 'CMX', 'CMX', 'CMX', 'CMX']]\n",
            "{'PUE': 7, 'VER': 2, 'OAX': 6, 'CMX': 8}\n"
          ]
        }
      ]
    },
    {
      "cell_type": "code",
      "source": [
        "'''\n",
        "10 - En esa misma tabla de registro de sucursales, hay una columna con la información de la cantidad de personas empleadas y el gerente quisiera tener un agrupamiento de la suma de esas personas para cada estado.\n",
        "Las informaciones contenidas en la tabla son:\n",
        "\n",
        "A partir de la lista de tuplas, crea un diccionario en el que las claves son los nombres de los estados únicos y los valores son las listas con el número de empleados referentes al estado.\n",
        "También crea un diccionario en el que las claves son los nombres de los estados y los valores son la suma de empleados por estado.\n",
        "\n",
        "'''\n",
        "empleados = [('CMX', 16), ('OAX', 8), ('PUE', 9), ('PUE', 6), ('CMX', 10), ('PUE', 4), ('OAX',9),  ('OAX', 7), ('OAX', 12), ('CMX', 7), ('CMX', 11), ('PUE',8), ('OAX',8), ('CMX',9), ('VER', 13), ('PUE', 5),  ('VER', 9), ('CMX', 12), ('PUE', 10), ('CMX', 7), ('OAX', 14), ('CMX', 10), ('PUE', 12)]\n",
        "\n",
        "estados_unicos = list(set([city for city, employe in empleados]))\n",
        "\n",
        "dict_base = {estados_unicos[i]: [employe for city, employe in empleados if city == estados_unicos[i]] for i in range(len(estados_unicos))}\n",
        "\n",
        "dict_base_two = {estados_unicos[i]: sum([employe for city, employe in empleados if city == estados_unicos[i]]) for i in range(len(estados_unicos))}\n",
        "\n",
        "\n",
        "\n",
        "print(dict_base, dict_base_two)\n",
        "# valores_unicos = []\n",
        "# [valores_unicos.append(value) for index, value in enumerate(empleados) if value[1] not in valores_unicos[index]]\n",
        "# valores_unicos\n",
        "# dic_normal = {empleados[i][0]: empleados[i][1] for i in range(len(empleados))}\n",
        "\n",
        "# dic_normal"
      ],
      "metadata": {
        "colab": {
          "base_uri": "https://localhost:8080/"
        },
        "id": "7MMsjGCmWkwv",
        "outputId": "e0a2486d-9591-4e02-9ed6-fee25961b653"
      },
      "execution_count": null,
      "outputs": [
        {
          "output_type": "stream",
          "name": "stdout",
          "text": [
            "{'PUE': [9, 6, 4, 8, 5, 10, 12], 'VER': [13, 9], 'OAX': [8, 9, 7, 12, 8, 14], 'CMX': [16, 10, 7, 11, 9, 12, 7, 10]} {'PUE': 54, 'VER': 22, 'OAX': 58, 'CMX': 82}\n"
          ]
        }
      ]
    },
    {
      "cell_type": "code",
      "source": [
        "# 1 - Haz un programa que solicite a la persona usuaria ingresar dos números decimales y calcular la división entre estos números.\n",
        "#  El código debe incluir un manejo de error, indicando el tipo de error que se generó si la división no es posible.\n",
        "# try:\n",
        "\n",
        "try:\n",
        "  num1 = float(input(f\"Ingresa un numero decimal: \"))\n",
        "  num2 = float(input(\"Ingresa un numero decimal: \"))\n",
        "\n",
        "  division = num1 / num2\n",
        "except ValueError:\n",
        "  print(\"El valor ingresado no es un numero decimal\")\n",
        "except ZeroDivisionError:\n",
        "  print(\"No se puede divir entre 0 \")\n",
        "else:\n",
        "  print(f\"El resultado de {num1} / {num2} es igual a {division}\")\n"
      ],
      "metadata": {
        "colab": {
          "base_uri": "https://localhost:8080/"
        },
        "id": "WlhwzfZnAv6_",
        "outputId": "2403986d-9025-46c4-f9b8-ee11e2db8f81"
      },
      "execution_count": null,
      "outputs": [
        {
          "output_type": "stream",
          "name": "stdout",
          "text": [
            "Ingresa un numero decimal: 1\n",
            "Ingresa un numero decimal: 0\n",
            "No se puede divir entre 0\n"
          ]
        }
      ]
    },
    {
      "cell_type": "code",
      "source": [
        "# 2 - Haz un programa que solicite a la persona usuaria ingresar un texto que será una clave a buscar en el siguiente diccionario:\n",
        "# edades = {'Júlia': 16, 'Carol': 23, 'Alberto': 19, 'Roberta': 17},\n",
        "# almacenando el resultado del valor en una variable. El código debe incluir un manejo de error KeyError, imprimiendo la información 'Nombre no encontrado' en caso de error, e imprimir el valor si no ocurre ninguno.\n",
        "\n",
        "key = input(\"Ingresa un nombre para obtener una edad: \")\n",
        "\n",
        "try:\n",
        "  edades = {'Júlia': 16, 'Carol': 23, 'Alberto': 19, 'Roberta': 17}\n",
        "  edad = edades[key]\n",
        "except KeyError:\n",
        "  print(\"El usuario ingresado no existe\")\n",
        "else:\n",
        "  print(f\"{key} tiene {edad} años\")\n"
      ],
      "metadata": {
        "colab": {
          "base_uri": "https://localhost:8080/"
        },
        "id": "0nRZfI6_DlhI",
        "outputId": "546ddb9f-efec-435e-83f9-cf635e3e9f1f"
      },
      "execution_count": null,
      "outputs": [
        {
          "output_type": "stream",
          "name": "stdout",
          "text": [
            "Ingresa un nombre para obtener una edad: Alberto\n",
            "Alberto tiene 19 años\n"
          ]
        }
      ]
    },
    {
      "cell_type": "code",
      "source": [
        "# 3 - Crea una función que reciba una lista como parámetro y convierta todos los valores de la lista a flotantes.\n",
        "# La función debe incluir un manejo de error indicando el tipo de error generado y devolver la lista si no ha ocurrido ningún error.\n",
        "# Por último, debe tener la cláusula finally para imprimir el texto: 'Fin de la ejecución de la función'.\n",
        "\n",
        "def transform_list_to_int(lista:list):\n",
        "  try:\n",
        "    lista = [float(number) for number in lista]\n",
        "  except ValueError:\n",
        "    print(f\"Algunos de los elementos de la lista no pueden ser convertidos a numero flotantes - elementos de la lista ->  { lista}\")\n",
        "  else:\n",
        "    return lista\n",
        "  finally:\n",
        "    print(\"Fin de la ejecucion\")\n",
        "\n",
        "transform_list_to_int([\"1\", \"a\"])"
      ],
      "metadata": {
        "colab": {
          "base_uri": "https://localhost:8080/"
        },
        "id": "xqyKspmtHsn6",
        "outputId": "e2a30eb6-a587-4af7-8fe8-a913c00ff316"
      },
      "execution_count": null,
      "outputs": [
        {
          "output_type": "stream",
          "name": "stdout",
          "text": [
            "Algunos de los elementos de la lista no pueden ser convertidos a numero flotantes - elementos de la lista ->  ['1', 'a']\n",
            "Fin de la ejecucion\n"
          ]
        }
      ]
    },
    {
      "cell_type": "code",
      "source": [
        "'''\n",
        "4 - Crea una función que reciba dos listas como parámetros y agrupe los elementos uno a uno de las listas, formando una lista de tuplas de 3 elementos.\n",
        "El primer y segundo elemento de la tupla son los valores en la posición i de las listas y el tercer elemento es la suma de los valores en la posición i de las listas.\n",
        "\n",
        "La función debe incluir un manejo de error indicando el tipo de error generado y devolver como resultado la lista de tuplas.\n",
        "Si las listas enviadas como parámetro tienen tamaños diferentes, la función debe devolver un IndexError con la frase: 'La cantidad de elementos en cada lista es diferente.'.\n",
        "'''\n",
        "\n",
        "lista1 = [4, 6, 7, 9, 10]\n",
        "lista2 = [-4, 6, 8, 7, 9]\n",
        "\n",
        "def agrupar_listas(lista1, lista2):\n",
        "    try:\n",
        "        if len(lista1) != len(lista2):\n",
        "            raise IndexError(\"La cantidad de elementos en cada lista es diferente.\")\n",
        "\n",
        "        lista_resultado = [(lista1[i], lista2[i], lista1[i] + lista2[i]) for i in range(len(lista1))]\n",
        "        return lista_resultado\n",
        "    except TypeError as e:\n",
        "        print(f\"Error: {e}\")\n",
        "    except IndexError as e:\n",
        "        print(f\"Error: {e}\")\n",
        "# Ejemplos de uso:\n",
        "try:\n",
        "    resultado_sin_error = agrupar_listas([4, 6, 7, 9, 10], [-4, 6, 8, 7, 9])\n",
        "    print(resultado_sin_error)\n",
        "\n",
        "    resultado_tamanos_diferentes = agrupar_listas([4, 6, 7, 9, 10, 4], [-4, 6, 8, 7, 9])\n",
        "    print(resultado_tamanos_diferentes)\n",
        "\n",
        "    resultado_valores_incoherentes = agrupar_listas([4, 6, 7, 9, 'A'], [-4, 'E', 8, 7, 9])\n",
        "    print(resultado_valores_incoherentes)\n",
        "except Exception as e:\n",
        "    print(f\"Error general: {e}\")\n",
        "\n"
      ],
      "metadata": {
        "colab": {
          "base_uri": "https://localhost:8080/"
        },
        "id": "iJokqsQ0I8Aa",
        "outputId": "ccb2ca77-3060-4586-e624-25f221815f93"
      },
      "execution_count": null,
      "outputs": [
        {
          "output_type": "stream",
          "name": "stdout",
          "text": [
            "[(4, -4, 0), (6, 6, 12), (7, 8, 15), (9, 7, 16), (10, 9, 19)]\n",
            "Error: La cantidad de elementos en cada lista es diferente.\n",
            "None\n",
            "Error: unsupported operand type(s) for +: 'int' and 'str'\n",
            "None\n"
          ]
        }
      ]
    },
    {
      "cell_type": "markdown",
      "source": [],
      "metadata": {
        "id": "m3dR2sp2Hvj1"
      }
    },
    {
      "cell_type": "markdown",
      "source": [],
      "metadata": {
        "id": "i9QKjUL7A1PN"
      }
    }
  ]
}