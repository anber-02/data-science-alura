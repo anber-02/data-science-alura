{
 "cells": [
  {
   "cell_type": "code",
   "execution_count": 116,
   "id": "97964f9b",
   "metadata": {},
   "outputs": [
    {
     "data": {
      "application/vnd.microsoft.datawrangler.viewer.v0+json": {
       "columns": [
        {
         "name": "index",
         "rawType": "int64",
         "type": "integer"
        },
        {
         "name": "Tipo",
         "rawType": "object",
         "type": "string"
        },
        {
         "name": "Colonia",
         "rawType": "object",
         "type": "string"
        },
        {
         "name": "Habitaciones",
         "rawType": "int64",
         "type": "integer"
        },
        {
         "name": "Garages",
         "rawType": "int64",
         "type": "integer"
        },
        {
         "name": "Suites",
         "rawType": "int64",
         "type": "integer"
        },
        {
         "name": "Area",
         "rawType": "int64",
         "type": "integer"
        },
        {
         "name": "Valor",
         "rawType": "float64",
         "type": "float"
        },
        {
         "name": "Condominio",
         "rawType": "float64",
         "type": "float"
        },
        {
         "name": "Impuesto",
         "rawType": "float64",
         "type": "float"
        }
       ],
       "ref": "ec6cdec1-60e6-4230-a71f-c45f2251eede",
       "rows": [
        [
         "0",
         "Cocineta",
         "Condesa",
         "1",
         "0",
         "0",
         "40",
         "5950.0",
         "1750.0",
         "210.0"
        ],
        [
         "1",
         "Casa",
         "Polanco",
         "2",
         "0",
         "1",
         "100",
         "24500.0",
         null,
         null
        ],
        [
         "2",
         "Conjunto Comercial/Sala",
         "Santa Fe",
         "0",
         "4",
         "0",
         "150",
         "18200.0",
         "14070.0",
         "3888.5"
        ],
        [
         "3",
         "Departamento",
         "Centro Histórico",
         "1",
         "0",
         "0",
         "15",
         "2800.0",
         "1365.0",
         "70.0"
        ],
        [
         "4",
         "Departamento",
         "Del Valle",
         "1",
         "0",
         "0",
         "48",
         "2800.0",
         "805.0",
         null
        ],
        [
         "5",
         "Casa de Condominio",
         "Santa Fe",
         "5",
         "4",
         "5",
         "750",
         "77000.0",
         null,
         null
        ],
        [
         "6",
         "Conjunto Comercial/Sala",
         "Centro Histórico",
         "0",
         "3",
         "0",
         "695",
         "122500.0",
         "67175.5",
         "10605.0"
        ],
        [
         "7",
         "Departamento",
         "Centro Histórico",
         "1",
         "0",
         "0",
         "36",
         "4200.0",
         null,
         null
        ],
        [
         "8",
         "Departamento",
         "Condesa",
         "1",
         "0",
         "1",
         "40",
         "7000.0",
         "1963.5",
         "175.0"
        ],
        [
         "9",
         "Cocineta",
         "Condesa",
         "1",
         "0",
         "0",
         "27",
         "6300.0",
         "1753.5",
         null
        ]
       ],
       "shape": {
        "columns": 9,
        "rows": 10
       }
      },
      "text/html": [
       "<div>\n",
       "<style scoped>\n",
       "    .dataframe tbody tr th:only-of-type {\n",
       "        vertical-align: middle;\n",
       "    }\n",
       "\n",
       "    .dataframe tbody tr th {\n",
       "        vertical-align: top;\n",
       "    }\n",
       "\n",
       "    .dataframe thead th {\n",
       "        text-align: right;\n",
       "    }\n",
       "</style>\n",
       "<table border=\"1\" class=\"dataframe\">\n",
       "  <thead>\n",
       "    <tr style=\"text-align: right;\">\n",
       "      <th></th>\n",
       "      <th>Tipo</th>\n",
       "      <th>Colonia</th>\n",
       "      <th>Habitaciones</th>\n",
       "      <th>Garages</th>\n",
       "      <th>Suites</th>\n",
       "      <th>Area</th>\n",
       "      <th>Valor</th>\n",
       "      <th>Condominio</th>\n",
       "      <th>Impuesto</th>\n",
       "    </tr>\n",
       "  </thead>\n",
       "  <tbody>\n",
       "    <tr>\n",
       "      <th>0</th>\n",
       "      <td>Cocineta</td>\n",
       "      <td>Condesa</td>\n",
       "      <td>1</td>\n",
       "      <td>0</td>\n",
       "      <td>0</td>\n",
       "      <td>40</td>\n",
       "      <td>5950.0</td>\n",
       "      <td>1750.0</td>\n",
       "      <td>210.0</td>\n",
       "    </tr>\n",
       "    <tr>\n",
       "      <th>1</th>\n",
       "      <td>Casa</td>\n",
       "      <td>Polanco</td>\n",
       "      <td>2</td>\n",
       "      <td>0</td>\n",
       "      <td>1</td>\n",
       "      <td>100</td>\n",
       "      <td>24500.0</td>\n",
       "      <td>NaN</td>\n",
       "      <td>NaN</td>\n",
       "    </tr>\n",
       "    <tr>\n",
       "      <th>2</th>\n",
       "      <td>Conjunto Comercial/Sala</td>\n",
       "      <td>Santa Fe</td>\n",
       "      <td>0</td>\n",
       "      <td>4</td>\n",
       "      <td>0</td>\n",
       "      <td>150</td>\n",
       "      <td>18200.0</td>\n",
       "      <td>14070.0</td>\n",
       "      <td>3888.5</td>\n",
       "    </tr>\n",
       "    <tr>\n",
       "      <th>3</th>\n",
       "      <td>Departamento</td>\n",
       "      <td>Centro Histórico</td>\n",
       "      <td>1</td>\n",
       "      <td>0</td>\n",
       "      <td>0</td>\n",
       "      <td>15</td>\n",
       "      <td>2800.0</td>\n",
       "      <td>1365.0</td>\n",
       "      <td>70.0</td>\n",
       "    </tr>\n",
       "    <tr>\n",
       "      <th>4</th>\n",
       "      <td>Departamento</td>\n",
       "      <td>Del Valle</td>\n",
       "      <td>1</td>\n",
       "      <td>0</td>\n",
       "      <td>0</td>\n",
       "      <td>48</td>\n",
       "      <td>2800.0</td>\n",
       "      <td>805.0</td>\n",
       "      <td>NaN</td>\n",
       "    </tr>\n",
       "    <tr>\n",
       "      <th>5</th>\n",
       "      <td>Casa de Condominio</td>\n",
       "      <td>Santa Fe</td>\n",
       "      <td>5</td>\n",
       "      <td>4</td>\n",
       "      <td>5</td>\n",
       "      <td>750</td>\n",
       "      <td>77000.0</td>\n",
       "      <td>NaN</td>\n",
       "      <td>NaN</td>\n",
       "    </tr>\n",
       "    <tr>\n",
       "      <th>6</th>\n",
       "      <td>Conjunto Comercial/Sala</td>\n",
       "      <td>Centro Histórico</td>\n",
       "      <td>0</td>\n",
       "      <td>3</td>\n",
       "      <td>0</td>\n",
       "      <td>695</td>\n",
       "      <td>122500.0</td>\n",
       "      <td>67175.5</td>\n",
       "      <td>10605.0</td>\n",
       "    </tr>\n",
       "    <tr>\n",
       "      <th>7</th>\n",
       "      <td>Departamento</td>\n",
       "      <td>Centro Histórico</td>\n",
       "      <td>1</td>\n",
       "      <td>0</td>\n",
       "      <td>0</td>\n",
       "      <td>36</td>\n",
       "      <td>4200.0</td>\n",
       "      <td>NaN</td>\n",
       "      <td>NaN</td>\n",
       "    </tr>\n",
       "    <tr>\n",
       "      <th>8</th>\n",
       "      <td>Departamento</td>\n",
       "      <td>Condesa</td>\n",
       "      <td>1</td>\n",
       "      <td>0</td>\n",
       "      <td>1</td>\n",
       "      <td>40</td>\n",
       "      <td>7000.0</td>\n",
       "      <td>1963.5</td>\n",
       "      <td>175.0</td>\n",
       "    </tr>\n",
       "    <tr>\n",
       "      <th>9</th>\n",
       "      <td>Cocineta</td>\n",
       "      <td>Condesa</td>\n",
       "      <td>1</td>\n",
       "      <td>0</td>\n",
       "      <td>0</td>\n",
       "      <td>27</td>\n",
       "      <td>6300.0</td>\n",
       "      <td>1753.5</td>\n",
       "      <td>NaN</td>\n",
       "    </tr>\n",
       "  </tbody>\n",
       "</table>\n",
       "</div>"
      ],
      "text/plain": [
       "                      Tipo           Colonia  Habitaciones  Garages  Suites  \\\n",
       "0                 Cocineta           Condesa             1        0       0   \n",
       "1                     Casa           Polanco             2        0       1   \n",
       "2  Conjunto Comercial/Sala          Santa Fe             0        4       0   \n",
       "3             Departamento  Centro Histórico             1        0       0   \n",
       "4             Departamento         Del Valle             1        0       0   \n",
       "5       Casa de Condominio          Santa Fe             5        4       5   \n",
       "6  Conjunto Comercial/Sala  Centro Histórico             0        3       0   \n",
       "7             Departamento  Centro Histórico             1        0       0   \n",
       "8             Departamento           Condesa             1        0       1   \n",
       "9                 Cocineta           Condesa             1        0       0   \n",
       "\n",
       "   Area     Valor  Condominio  Impuesto  \n",
       "0    40    5950.0      1750.0     210.0  \n",
       "1   100   24500.0         NaN       NaN  \n",
       "2   150   18200.0     14070.0    3888.5  \n",
       "3    15    2800.0      1365.0      70.0  \n",
       "4    48    2800.0       805.0       NaN  \n",
       "5   750   77000.0         NaN       NaN  \n",
       "6   695  122500.0     67175.5   10605.0  \n",
       "7    36    4200.0         NaN       NaN  \n",
       "8    40    7000.0      1963.5     175.0  \n",
       "9    27    6300.0      1753.5       NaN  "
      ]
     },
     "execution_count": 116,
     "metadata": {},
     "output_type": "execute_result"
    }
   ],
   "source": [
    "import pandas as pd\n",
    "url = \"https://gist.githubusercontent.com/ahcamachod/a572cfcc2527046db93101f88011b26e/raw/ffb13f45a79d31223e645611a119397dd127ee3c/alquiler.csv\"\n",
    "# csv = comma separate value\n",
    "# indicamos el sep ya que nuestro archivo esta con ;\n",
    "df_inmuebles = pd.read_csv(url, sep=\";\")\n",
    "df_inmuebles.head(10)"
   ]
  },
  {
   "cell_type": "code",
   "execution_count": 117,
   "id": "3654b04e",
   "metadata": {},
   "outputs": [
    {
     "data": {
      "application/vnd.microsoft.datawrangler.viewer.v0+json": {
       "columns": [
        {
         "name": "index",
         "rawType": "int64",
         "type": "integer"
        },
        {
         "name": "Tipo",
         "rawType": "object",
         "type": "string"
        },
        {
         "name": "Colonia",
         "rawType": "object",
         "type": "string"
        },
        {
         "name": "Habitaciones",
         "rawType": "int64",
         "type": "integer"
        },
        {
         "name": "Garages",
         "rawType": "int64",
         "type": "integer"
        },
        {
         "name": "Suites",
         "rawType": "int64",
         "type": "integer"
        },
        {
         "name": "Area",
         "rawType": "int64",
         "type": "integer"
        },
        {
         "name": "Valor",
         "rawType": "float64",
         "type": "float"
        },
        {
         "name": "Condominio",
         "rawType": "float64",
         "type": "float"
        },
        {
         "name": "Impuesto",
         "rawType": "float64",
         "type": "float"
        }
       ],
       "ref": "9b1a4b0e-1adf-4b71-a564-71000504e27d",
       "rows": [
        [
         "25116",
         "Cochera/Estacionamiento",
         "Centro Histórico",
         "0",
         "0",
         "0",
         "755",
         "49000.0",
         null,
         null
        ],
        [
         "25117",
         "Cocineta",
         "Centro Histórico",
         "0",
         "0",
         "0",
         "27",
         "2800.0",
         "1225.0",
         "87.5"
        ],
        [
         "25118",
         "Departamento",
         "Mixcoac",
         "2",
         "1",
         "0",
         "48",
         "4900.0",
         "1781.5",
         "129.5"
        ],
        [
         "25119",
         "Departamento",
         "Lomas de Chapultepec",
         "2",
         "0",
         "0",
         "70",
         "10500.0",
         "2660.0",
         null
        ],
        [
         "25120",
         "Conjunto Comercial/Sala",
         "Centro Histórico",
         "0",
         "0",
         "0",
         "250",
         "22750.0",
         "14721.0",
         "3881.5"
        ]
       ],
       "shape": {
        "columns": 9,
        "rows": 5
       }
      },
      "text/html": [
       "<div>\n",
       "<style scoped>\n",
       "    .dataframe tbody tr th:only-of-type {\n",
       "        vertical-align: middle;\n",
       "    }\n",
       "\n",
       "    .dataframe tbody tr th {\n",
       "        vertical-align: top;\n",
       "    }\n",
       "\n",
       "    .dataframe thead th {\n",
       "        text-align: right;\n",
       "    }\n",
       "</style>\n",
       "<table border=\"1\" class=\"dataframe\">\n",
       "  <thead>\n",
       "    <tr style=\"text-align: right;\">\n",
       "      <th></th>\n",
       "      <th>Tipo</th>\n",
       "      <th>Colonia</th>\n",
       "      <th>Habitaciones</th>\n",
       "      <th>Garages</th>\n",
       "      <th>Suites</th>\n",
       "      <th>Area</th>\n",
       "      <th>Valor</th>\n",
       "      <th>Condominio</th>\n",
       "      <th>Impuesto</th>\n",
       "    </tr>\n",
       "  </thead>\n",
       "  <tbody>\n",
       "    <tr>\n",
       "      <th>25116</th>\n",
       "      <td>Cochera/Estacionamiento</td>\n",
       "      <td>Centro Histórico</td>\n",
       "      <td>0</td>\n",
       "      <td>0</td>\n",
       "      <td>0</td>\n",
       "      <td>755</td>\n",
       "      <td>49000.0</td>\n",
       "      <td>NaN</td>\n",
       "      <td>NaN</td>\n",
       "    </tr>\n",
       "    <tr>\n",
       "      <th>25117</th>\n",
       "      <td>Cocineta</td>\n",
       "      <td>Centro Histórico</td>\n",
       "      <td>0</td>\n",
       "      <td>0</td>\n",
       "      <td>0</td>\n",
       "      <td>27</td>\n",
       "      <td>2800.0</td>\n",
       "      <td>1225.0</td>\n",
       "      <td>87.5</td>\n",
       "    </tr>\n",
       "    <tr>\n",
       "      <th>25118</th>\n",
       "      <td>Departamento</td>\n",
       "      <td>Mixcoac</td>\n",
       "      <td>2</td>\n",
       "      <td>1</td>\n",
       "      <td>0</td>\n",
       "      <td>48</td>\n",
       "      <td>4900.0</td>\n",
       "      <td>1781.5</td>\n",
       "      <td>129.5</td>\n",
       "    </tr>\n",
       "    <tr>\n",
       "      <th>25119</th>\n",
       "      <td>Departamento</td>\n",
       "      <td>Lomas de Chapultepec</td>\n",
       "      <td>2</td>\n",
       "      <td>0</td>\n",
       "      <td>0</td>\n",
       "      <td>70</td>\n",
       "      <td>10500.0</td>\n",
       "      <td>2660.0</td>\n",
       "      <td>NaN</td>\n",
       "    </tr>\n",
       "    <tr>\n",
       "      <th>25120</th>\n",
       "      <td>Conjunto Comercial/Sala</td>\n",
       "      <td>Centro Histórico</td>\n",
       "      <td>0</td>\n",
       "      <td>0</td>\n",
       "      <td>0</td>\n",
       "      <td>250</td>\n",
       "      <td>22750.0</td>\n",
       "      <td>14721.0</td>\n",
       "      <td>3881.5</td>\n",
       "    </tr>\n",
       "  </tbody>\n",
       "</table>\n",
       "</div>"
      ],
      "text/plain": [
       "                          Tipo               Colonia  Habitaciones  Garages  \\\n",
       "25116  Cochera/Estacionamiento      Centro Histórico             0        0   \n",
       "25117                 Cocineta      Centro Histórico             0        0   \n",
       "25118             Departamento               Mixcoac             2        1   \n",
       "25119             Departamento  Lomas de Chapultepec             2        0   \n",
       "25120  Conjunto Comercial/Sala      Centro Histórico             0        0   \n",
       "\n",
       "       Suites  Area    Valor  Condominio  Impuesto  \n",
       "25116       0   755  49000.0         NaN       NaN  \n",
       "25117       0    27   2800.0      1225.0      87.5  \n",
       "25118       0    48   4900.0      1781.5     129.5  \n",
       "25119       0    70  10500.0      2660.0       NaN  \n",
       "25120       0   250  22750.0     14721.0    3881.5  "
      ]
     },
     "execution_count": 117,
     "metadata": {},
     "output_type": "execute_result"
    }
   ],
   "source": [
    "df_inmuebles.tail()"
   ]
  },
  {
   "cell_type": "code",
   "execution_count": 118,
   "id": "df49a21e",
   "metadata": {},
   "outputs": [
    {
     "data": {
      "application/vnd.microsoft.datawrangler.viewer.v0+json": {
       "columns": [
        {
         "name": "index",
         "rawType": "int64",
         "type": "integer"
        },
        {
         "name": "Tipo",
         "rawType": "object",
         "type": "string"
        },
        {
         "name": "Colonia",
         "rawType": "object",
         "type": "string"
        },
        {
         "name": "Habitaciones",
         "rawType": "int64",
         "type": "integer"
        },
        {
         "name": "Garages",
         "rawType": "int64",
         "type": "integer"
        },
        {
         "name": "Suites",
         "rawType": "int64",
         "type": "integer"
        },
        {
         "name": "Area",
         "rawType": "int64",
         "type": "integer"
        },
        {
         "name": "Valor",
         "rawType": "float64",
         "type": "float"
        },
        {
         "name": "Condominio",
         "rawType": "float64",
         "type": "float"
        },
        {
         "name": "Impuesto",
         "rawType": "float64",
         "type": "float"
        }
       ],
       "ref": "c866c37b-c0a2-492a-8290-751cd9f1f693",
       "rows": [
        [
         "3263",
         "Conjunto Comercial/Sala",
         "Roma",
         "0",
         "3",
         "0",
         "300",
         "77000.0",
         "26250.0",
         "4753.0"
        ],
        [
         "24993",
         "Departamento",
         "Juárez",
         "1",
         "0",
         "0",
         "45",
         "4900.0",
         "1820.0",
         "140.0"
        ],
        [
         "16746",
         "Departamento",
         "Narvarte",
         "3",
         "2",
         "1",
         "84",
         "8225.0",
         "3325.0",
         "4151.0"
        ],
        [
         "2643",
         "Departamento",
         "Coyoacán",
         "3",
         "1",
         "1",
         "130",
         "15750.0",
         "4305.0",
         "1172.5"
        ],
        [
         "8506",
         "Departamento",
         "Tlalpan",
         "3",
         "2",
         "1",
         "168",
         "26250.0",
         "7602.0",
         "13755.0"
        ],
        [
         "5381",
         "Edificio Completo",
         "Narvarte",
         "0",
         "60",
         "0",
         "5315",
         "805000.0",
         "280000.0",
         "87500.0"
        ],
        [
         "6473",
         "Conjunto Comercial/Sala",
         "Santa Fe",
         "0",
         "1",
         "0",
         "32",
         "5600.0",
         "2520.0",
         "700.0"
        ],
        [
         "12517",
         "Conjunto Comercial/Sala",
         "Centro Histórico",
         "0",
         "0",
         "0",
         "120",
         "21000.0",
         null,
         null
        ],
        [
         "8797",
         "Conjunto Comercial/Sala",
         "Santa Fe",
         "0",
         "1",
         "0",
         "28",
         "5250.0",
         "2240.0",
         "409.5"
        ],
        [
         "8308",
         "Departamento",
         "Roma",
         "1",
         "0",
         "0",
         "19",
         "3430.0",
         "1683.5",
         "101.5"
        ]
       ],
       "shape": {
        "columns": 9,
        "rows": 10
       }
      },
      "text/html": [
       "<div>\n",
       "<style scoped>\n",
       "    .dataframe tbody tr th:only-of-type {\n",
       "        vertical-align: middle;\n",
       "    }\n",
       "\n",
       "    .dataframe tbody tr th {\n",
       "        vertical-align: top;\n",
       "    }\n",
       "\n",
       "    .dataframe thead th {\n",
       "        text-align: right;\n",
       "    }\n",
       "</style>\n",
       "<table border=\"1\" class=\"dataframe\">\n",
       "  <thead>\n",
       "    <tr style=\"text-align: right;\">\n",
       "      <th></th>\n",
       "      <th>Tipo</th>\n",
       "      <th>Colonia</th>\n",
       "      <th>Habitaciones</th>\n",
       "      <th>Garages</th>\n",
       "      <th>Suites</th>\n",
       "      <th>Area</th>\n",
       "      <th>Valor</th>\n",
       "      <th>Condominio</th>\n",
       "      <th>Impuesto</th>\n",
       "    </tr>\n",
       "  </thead>\n",
       "  <tbody>\n",
       "    <tr>\n",
       "      <th>3263</th>\n",
       "      <td>Conjunto Comercial/Sala</td>\n",
       "      <td>Roma</td>\n",
       "      <td>0</td>\n",
       "      <td>3</td>\n",
       "      <td>0</td>\n",
       "      <td>300</td>\n",
       "      <td>77000.0</td>\n",
       "      <td>26250.0</td>\n",
       "      <td>4753.0</td>\n",
       "    </tr>\n",
       "    <tr>\n",
       "      <th>24993</th>\n",
       "      <td>Departamento</td>\n",
       "      <td>Juárez</td>\n",
       "      <td>1</td>\n",
       "      <td>0</td>\n",
       "      <td>0</td>\n",
       "      <td>45</td>\n",
       "      <td>4900.0</td>\n",
       "      <td>1820.0</td>\n",
       "      <td>140.0</td>\n",
       "    </tr>\n",
       "    <tr>\n",
       "      <th>16746</th>\n",
       "      <td>Departamento</td>\n",
       "      <td>Narvarte</td>\n",
       "      <td>3</td>\n",
       "      <td>2</td>\n",
       "      <td>1</td>\n",
       "      <td>84</td>\n",
       "      <td>8225.0</td>\n",
       "      <td>3325.0</td>\n",
       "      <td>4151.0</td>\n",
       "    </tr>\n",
       "    <tr>\n",
       "      <th>2643</th>\n",
       "      <td>Departamento</td>\n",
       "      <td>Coyoacán</td>\n",
       "      <td>3</td>\n",
       "      <td>1</td>\n",
       "      <td>1</td>\n",
       "      <td>130</td>\n",
       "      <td>15750.0</td>\n",
       "      <td>4305.0</td>\n",
       "      <td>1172.5</td>\n",
       "    </tr>\n",
       "    <tr>\n",
       "      <th>8506</th>\n",
       "      <td>Departamento</td>\n",
       "      <td>Tlalpan</td>\n",
       "      <td>3</td>\n",
       "      <td>2</td>\n",
       "      <td>1</td>\n",
       "      <td>168</td>\n",
       "      <td>26250.0</td>\n",
       "      <td>7602.0</td>\n",
       "      <td>13755.0</td>\n",
       "    </tr>\n",
       "    <tr>\n",
       "      <th>5381</th>\n",
       "      <td>Edificio Completo</td>\n",
       "      <td>Narvarte</td>\n",
       "      <td>0</td>\n",
       "      <td>60</td>\n",
       "      <td>0</td>\n",
       "      <td>5315</td>\n",
       "      <td>805000.0</td>\n",
       "      <td>280000.0</td>\n",
       "      <td>87500.0</td>\n",
       "    </tr>\n",
       "    <tr>\n",
       "      <th>6473</th>\n",
       "      <td>Conjunto Comercial/Sala</td>\n",
       "      <td>Santa Fe</td>\n",
       "      <td>0</td>\n",
       "      <td>1</td>\n",
       "      <td>0</td>\n",
       "      <td>32</td>\n",
       "      <td>5600.0</td>\n",
       "      <td>2520.0</td>\n",
       "      <td>700.0</td>\n",
       "    </tr>\n",
       "    <tr>\n",
       "      <th>12517</th>\n",
       "      <td>Conjunto Comercial/Sala</td>\n",
       "      <td>Centro Histórico</td>\n",
       "      <td>0</td>\n",
       "      <td>0</td>\n",
       "      <td>0</td>\n",
       "      <td>120</td>\n",
       "      <td>21000.0</td>\n",
       "      <td>NaN</td>\n",
       "      <td>NaN</td>\n",
       "    </tr>\n",
       "    <tr>\n",
       "      <th>8797</th>\n",
       "      <td>Conjunto Comercial/Sala</td>\n",
       "      <td>Santa Fe</td>\n",
       "      <td>0</td>\n",
       "      <td>1</td>\n",
       "      <td>0</td>\n",
       "      <td>28</td>\n",
       "      <td>5250.0</td>\n",
       "      <td>2240.0</td>\n",
       "      <td>409.5</td>\n",
       "    </tr>\n",
       "    <tr>\n",
       "      <th>8308</th>\n",
       "      <td>Departamento</td>\n",
       "      <td>Roma</td>\n",
       "      <td>1</td>\n",
       "      <td>0</td>\n",
       "      <td>0</td>\n",
       "      <td>19</td>\n",
       "      <td>3430.0</td>\n",
       "      <td>1683.5</td>\n",
       "      <td>101.5</td>\n",
       "    </tr>\n",
       "  </tbody>\n",
       "</table>\n",
       "</div>"
      ],
      "text/plain": [
       "                          Tipo           Colonia  Habitaciones  Garages  \\\n",
       "3263   Conjunto Comercial/Sala              Roma             0        3   \n",
       "24993             Departamento            Juárez             1        0   \n",
       "16746             Departamento          Narvarte             3        2   \n",
       "2643              Departamento          Coyoacán             3        1   \n",
       "8506              Departamento           Tlalpan             3        2   \n",
       "5381         Edificio Completo          Narvarte             0       60   \n",
       "6473   Conjunto Comercial/Sala          Santa Fe             0        1   \n",
       "12517  Conjunto Comercial/Sala  Centro Histórico             0        0   \n",
       "8797   Conjunto Comercial/Sala          Santa Fe             0        1   \n",
       "8308              Departamento              Roma             1        0   \n",
       "\n",
       "       Suites  Area     Valor  Condominio  Impuesto  \n",
       "3263        0   300   77000.0     26250.0    4753.0  \n",
       "24993       0    45    4900.0      1820.0     140.0  \n",
       "16746       1    84    8225.0      3325.0    4151.0  \n",
       "2643        1   130   15750.0      4305.0    1172.5  \n",
       "8506        1   168   26250.0      7602.0   13755.0  \n",
       "5381        0  5315  805000.0    280000.0   87500.0  \n",
       "6473        0    32    5600.0      2520.0     700.0  \n",
       "12517       0   120   21000.0         NaN       NaN  \n",
       "8797        0    28    5250.0      2240.0     409.5  \n",
       "8308        0    19    3430.0      1683.5     101.5  "
      ]
     },
     "execution_count": 118,
     "metadata": {},
     "output_type": "execute_result"
    }
   ],
   "source": [
    "df_inmuebles.sample(10) # 10 valores aleatorios"
   ]
  },
  {
   "cell_type": "code",
   "execution_count": 119,
   "id": "d1313d50",
   "metadata": {},
   "outputs": [
    {
     "data": {
      "text/plain": [
       "pandas.core.frame.DataFrame"
      ]
     },
     "execution_count": 119,
     "metadata": {},
     "output_type": "execute_result"
    }
   ],
   "source": [
    "type(df_inmuebles)\n",
    "# df_inmuebles.dtypes"
   ]
  },
  {
   "cell_type": "markdown",
   "id": "a0e7b60b",
   "metadata": {},
   "source": [
    "# Exploración inicial de los datos"
   ]
  },
  {
   "cell_type": "code",
   "execution_count": 120,
   "id": "eba62d7d",
   "metadata": {},
   "outputs": [
    {
     "name": "stdout",
     "output_type": "stream",
     "text": [
      "<class 'pandas.core.frame.DataFrame'>\n",
      "RangeIndex: 25121 entries, 0 to 25120\n",
      "Data columns (total 9 columns):\n",
      " #   Column        Non-Null Count  Dtype  \n",
      "---  ------        --------------  -----  \n",
      " 0   Tipo          25121 non-null  object \n",
      " 1   Colonia       25121 non-null  object \n",
      " 2   Habitaciones  25121 non-null  int64  \n",
      " 3   Garages       25121 non-null  int64  \n",
      " 4   Suites        25121 non-null  int64  \n",
      " 5   Area          25121 non-null  int64  \n",
      " 6   Valor         25107 non-null  float64\n",
      " 7   Condominio    22495 non-null  float64\n",
      " 8   Impuesto      18037 non-null  float64\n",
      "dtypes: float64(3), int64(4), object(2)\n",
      "memory usage: 1.7+ MB\n"
     ]
    }
   ],
   "source": [
    "df_inmuebles.shape\n",
    "df_inmuebles.columns\n",
    "df_inmuebles.info()"
   ]
  },
  {
   "cell_type": "code",
   "execution_count": 121,
   "id": "9b07a542",
   "metadata": {},
   "outputs": [
    {
     "data": {
      "application/vnd.microsoft.datawrangler.viewer.v0+json": {
       "columns": [
        {
         "name": "index",
         "rawType": "int64",
         "type": "integer"
        },
        {
         "name": "Tipo",
         "rawType": "object",
         "type": "string"
        }
       ],
       "ref": "39d1fb8a-cec7-4371-abba-c1126a10e11d",
       "rows": [
        [
         "0",
         "Cocineta"
        ],
        [
         "1",
         "Casa"
        ],
        [
         "2",
         "Conjunto Comercial/Sala"
        ],
        [
         "3",
         "Departamento"
        ],
        [
         "4",
         "Departamento"
        ],
        [
         "5",
         "Casa de Condominio"
        ],
        [
         "6",
         "Conjunto Comercial/Sala"
        ],
        [
         "7",
         "Departamento"
        ],
        [
         "8",
         "Departamento"
        ],
        [
         "9",
         "Cocineta"
        ],
        [
         "10",
         "Departamento"
        ],
        [
         "11",
         "Edificio Completo"
        ],
        [
         "12",
         "Departamento en Hotel"
        ],
        [
         "13",
         "Departamento"
        ],
        [
         "14",
         "Departamento"
        ],
        [
         "15",
         "Casa de Condominio"
        ],
        [
         "16",
         "Departamento"
        ],
        [
         "17",
         "Departamento en Hotel"
        ],
        [
         "18",
         "Departamento"
        ],
        [
         "19",
         "Departamento"
        ],
        [
         "20",
         "Departamento"
        ],
        [
         "21",
         "Departamento"
        ],
        [
         "22",
         "Departamento"
        ],
        [
         "23",
         "Departamento"
        ],
        [
         "24",
         "Conjunto Comercial/Sala"
        ],
        [
         "25",
         "Departamento"
        ],
        [
         "26",
         "Conjunto Comercial/Sala"
        ],
        [
         "27",
         "Cocineta"
        ],
        [
         "28",
         "Departamento"
        ],
        [
         "29",
         "Departamento"
        ],
        [
         "30",
         "Departamento"
        ],
        [
         "31",
         "Conjunto Comercial/Sala"
        ],
        [
         "32",
         "Conjunto Comercial/Sala"
        ],
        [
         "33",
         "Departamento"
        ],
        [
         "34",
         "Departamento"
        ],
        [
         "35",
         "Conjunto Comercial/Sala"
        ],
        [
         "36",
         "Conjunto Comercial/Sala"
        ],
        [
         "37",
         "Departamento"
        ],
        [
         "38",
         "Departamento"
        ],
        [
         "39",
         "Departamento"
        ],
        [
         "40",
         "Tienda/Salón"
        ],
        [
         "41",
         "Casa de Condominio"
        ],
        [
         "42",
         "Departamento"
        ],
        [
         "43",
         "Departamento"
        ],
        [
         "44",
         "Departamento"
        ],
        [
         "45",
         "Departamento"
        ],
        [
         "46",
         "Conjunto Comercial/Sala"
        ],
        [
         "47",
         "Departamento"
        ],
        [
         "48",
         "Departamento"
        ],
        [
         "49",
         "Departamento"
        ]
       ],
       "shape": {
        "columns": 1,
        "rows": 25121
       }
      },
      "text/plain": [
       "0                       Cocineta\n",
       "1                           Casa\n",
       "2        Conjunto Comercial/Sala\n",
       "3                   Departamento\n",
       "4                   Departamento\n",
       "                  ...           \n",
       "25116    Cochera/Estacionamiento\n",
       "25117                   Cocineta\n",
       "25118               Departamento\n",
       "25119               Departamento\n",
       "25120    Conjunto Comercial/Sala\n",
       "Name: Tipo, Length: 25121, dtype: object"
      ]
     },
     "execution_count": 121,
     "metadata": {},
     "output_type": "execute_result"
    }
   ],
   "source": [
    "df_inmuebles['Tipo']"
   ]
  },
  {
   "cell_type": "code",
   "execution_count": 122,
   "id": "07784944",
   "metadata": {},
   "outputs": [
    {
     "data": {
      "application/vnd.microsoft.datawrangler.viewer.v0+json": {
       "columns": [
        {
         "name": "index",
         "rawType": "int64",
         "type": "integer"
        },
        {
         "name": "Habitaciones",
         "rawType": "int64",
         "type": "integer"
        },
        {
         "name": "Valor",
         "rawType": "float64",
         "type": "float"
        }
       ],
       "ref": "63088c66-b583-470b-bed1-5b8c46e2fa1c",
       "rows": [
        [
         "0",
         "1",
         "5950.0"
        ],
        [
         "1",
         "2",
         "24500.0"
        ],
        [
         "2",
         "0",
         "18200.0"
        ],
        [
         "3",
         "1",
         "2800.0"
        ],
        [
         "4",
         "1",
         "2800.0"
        ],
        [
         "5",
         "5",
         "77000.0"
        ],
        [
         "6",
         "0",
         "122500.0"
        ],
        [
         "7",
         "1",
         "4200.0"
        ],
        [
         "8",
         "1",
         "7000.0"
        ],
        [
         "9",
         "1",
         "6300.0"
        ],
        [
         "10",
         "4",
         "45500.0"
        ],
        [
         "11",
         "0",
         "98000.0"
        ],
        [
         "12",
         "3",
         "13300.0"
        ],
        [
         "13",
         "2",
         "5950.0"
        ],
        [
         "14",
         "2",
         "6650.0"
        ],
        [
         "15",
         "4",
         "26250.0"
        ],
        [
         "16",
         "2",
         "7000.0"
        ],
        [
         "17",
         "1",
         "15750.0"
        ],
        [
         "18",
         "3",
         "24500.0"
        ],
        [
         "19",
         "1",
         "2625.0"
        ],
        [
         "20",
         "3",
         "14700.0"
        ],
        [
         "21",
         "2",
         "8750.0"
        ],
        [
         "22",
         "3",
         "35000.0"
        ],
        [
         "23",
         "3",
         "19250.0"
        ],
        [
         "24",
         "0",
         "2450.0"
        ],
        [
         "25",
         "3",
         "13650.0"
        ],
        [
         "26",
         "0",
         "411390.0"
        ],
        [
         "27",
         "1",
         "4550.0"
        ],
        [
         "28",
         "3",
         "6300.0"
        ],
        [
         "29",
         "4",
         "17500.0"
        ],
        [
         "30",
         "3",
         "15750.0"
        ],
        [
         "31",
         "0",
         "26250.0"
        ],
        [
         "32",
         "0",
         "491596.0"
        ],
        [
         "33",
         "3",
         "8225.0"
        ],
        [
         "34",
         "2",
         "14000.0"
        ],
        [
         "35",
         "0",
         "6650.0"
        ],
        [
         "36",
         "0",
         "14000.0"
        ],
        [
         "37",
         "1",
         "2625.0"
        ],
        [
         "38",
         "1",
         "7000.0"
        ],
        [
         "39",
         "1",
         "4900.0"
        ],
        [
         "40",
         "0",
         "7000.0"
        ],
        [
         "41",
         "5",
         "87500.0"
        ],
        [
         "42",
         "4",
         "22750.0"
        ],
        [
         "43",
         "3",
         "11200.0"
        ],
        [
         "44",
         "3",
         "20825.0"
        ],
        [
         "45",
         "3",
         "28000.0"
        ],
        [
         "46",
         "0",
         "9975.0"
        ],
        [
         "47",
         "3",
         "27650.0"
        ],
        [
         "48",
         "2",
         "14000.0"
        ],
        [
         "49",
         "2",
         null
        ]
       ],
       "shape": {
        "columns": 2,
        "rows": 25121
       }
      },
      "text/html": [
       "<div>\n",
       "<style scoped>\n",
       "    .dataframe tbody tr th:only-of-type {\n",
       "        vertical-align: middle;\n",
       "    }\n",
       "\n",
       "    .dataframe tbody tr th {\n",
       "        vertical-align: top;\n",
       "    }\n",
       "\n",
       "    .dataframe thead th {\n",
       "        text-align: right;\n",
       "    }\n",
       "</style>\n",
       "<table border=\"1\" class=\"dataframe\">\n",
       "  <thead>\n",
       "    <tr style=\"text-align: right;\">\n",
       "      <th></th>\n",
       "      <th>Habitaciones</th>\n",
       "      <th>Valor</th>\n",
       "    </tr>\n",
       "  </thead>\n",
       "  <tbody>\n",
       "    <tr>\n",
       "      <th>0</th>\n",
       "      <td>1</td>\n",
       "      <td>5950.0</td>\n",
       "    </tr>\n",
       "    <tr>\n",
       "      <th>1</th>\n",
       "      <td>2</td>\n",
       "      <td>24500.0</td>\n",
       "    </tr>\n",
       "    <tr>\n",
       "      <th>2</th>\n",
       "      <td>0</td>\n",
       "      <td>18200.0</td>\n",
       "    </tr>\n",
       "    <tr>\n",
       "      <th>3</th>\n",
       "      <td>1</td>\n",
       "      <td>2800.0</td>\n",
       "    </tr>\n",
       "    <tr>\n",
       "      <th>4</th>\n",
       "      <td>1</td>\n",
       "      <td>2800.0</td>\n",
       "    </tr>\n",
       "    <tr>\n",
       "      <th>...</th>\n",
       "      <td>...</td>\n",
       "      <td>...</td>\n",
       "    </tr>\n",
       "    <tr>\n",
       "      <th>25116</th>\n",
       "      <td>0</td>\n",
       "      <td>49000.0</td>\n",
       "    </tr>\n",
       "    <tr>\n",
       "      <th>25117</th>\n",
       "      <td>0</td>\n",
       "      <td>2800.0</td>\n",
       "    </tr>\n",
       "    <tr>\n",
       "      <th>25118</th>\n",
       "      <td>2</td>\n",
       "      <td>4900.0</td>\n",
       "    </tr>\n",
       "    <tr>\n",
       "      <th>25119</th>\n",
       "      <td>2</td>\n",
       "      <td>10500.0</td>\n",
       "    </tr>\n",
       "    <tr>\n",
       "      <th>25120</th>\n",
       "      <td>0</td>\n",
       "      <td>22750.0</td>\n",
       "    </tr>\n",
       "  </tbody>\n",
       "</table>\n",
       "<p>25121 rows × 2 columns</p>\n",
       "</div>"
      ],
      "text/plain": [
       "       Habitaciones    Valor\n",
       "0                 1   5950.0\n",
       "1                 2  24500.0\n",
       "2                 0  18200.0\n",
       "3                 1   2800.0\n",
       "4                 1   2800.0\n",
       "...             ...      ...\n",
       "25116             0  49000.0\n",
       "25117             0   2800.0\n",
       "25118             2   4900.0\n",
       "25119             2  10500.0\n",
       "25120             0  22750.0\n",
       "\n",
       "[25121 rows x 2 columns]"
      ]
     },
     "execution_count": 122,
     "metadata": {},
     "output_type": "execute_result"
    }
   ],
   "source": [
    "df_inmuebles[['Habitaciones', 'Valor']]"
   ]
  },
  {
   "cell_type": "markdown",
   "id": "58ff32aa",
   "metadata": {},
   "source": [
    "# Análisis exploratorio de datos (EDA)\n",
    "¿Cuáles son los valores promedio de alquiler por tipo de propiedad?\n",
    "\n",
    "¿Cuál es el porcentaje de cada tipo de propiedad en nuestra base de datos?"
   ]
  },
  {
   "cell_type": "code",
   "execution_count": 123,
   "id": "567017e2",
   "metadata": {},
   "outputs": [
    {
     "data": {
      "application/vnd.microsoft.datawrangler.viewer.v0+json": {
       "columns": [
        {
         "name": "index",
         "rawType": "int64",
         "type": "integer"
        },
        {
         "name": "Tipo",
         "rawType": "object",
         "type": "string"
        },
        {
         "name": "Colonia",
         "rawType": "object",
         "type": "string"
        },
        {
         "name": "Habitaciones",
         "rawType": "int64",
         "type": "integer"
        },
        {
         "name": "Garages",
         "rawType": "int64",
         "type": "integer"
        },
        {
         "name": "Suites",
         "rawType": "int64",
         "type": "integer"
        },
        {
         "name": "Area",
         "rawType": "int64",
         "type": "integer"
        },
        {
         "name": "Valor",
         "rawType": "float64",
         "type": "float"
        },
        {
         "name": "Condominio",
         "rawType": "float64",
         "type": "float"
        },
        {
         "name": "Impuesto",
         "rawType": "float64",
         "type": "float"
        }
       ],
       "ref": "0ac7878f-2287-41dd-b75f-8b94aa3bcf99",
       "rows": [
        [
         "0",
         "Cocineta",
         "Condesa",
         "1",
         "0",
         "0",
         "40",
         "5950.0",
         "1750.0",
         "210.0"
        ],
        [
         "1",
         "Casa",
         "Polanco",
         "2",
         "0",
         "1",
         "100",
         "24500.0",
         null,
         null
        ],
        [
         "2",
         "Conjunto Comercial/Sala",
         "Santa Fe",
         "0",
         "4",
         "0",
         "150",
         "18200.0",
         "14070.0",
         "3888.5"
        ],
        [
         "3",
         "Departamento",
         "Centro Histórico",
         "1",
         "0",
         "0",
         "15",
         "2800.0",
         "1365.0",
         "70.0"
        ],
        [
         "4",
         "Departamento",
         "Del Valle",
         "1",
         "0",
         "0",
         "48",
         "2800.0",
         "805.0",
         null
        ]
       ],
       "shape": {
        "columns": 9,
        "rows": 5
       }
      },
      "text/html": [
       "<div>\n",
       "<style scoped>\n",
       "    .dataframe tbody tr th:only-of-type {\n",
       "        vertical-align: middle;\n",
       "    }\n",
       "\n",
       "    .dataframe tbody tr th {\n",
       "        vertical-align: top;\n",
       "    }\n",
       "\n",
       "    .dataframe thead th {\n",
       "        text-align: right;\n",
       "    }\n",
       "</style>\n",
       "<table border=\"1\" class=\"dataframe\">\n",
       "  <thead>\n",
       "    <tr style=\"text-align: right;\">\n",
       "      <th></th>\n",
       "      <th>Tipo</th>\n",
       "      <th>Colonia</th>\n",
       "      <th>Habitaciones</th>\n",
       "      <th>Garages</th>\n",
       "      <th>Suites</th>\n",
       "      <th>Area</th>\n",
       "      <th>Valor</th>\n",
       "      <th>Condominio</th>\n",
       "      <th>Impuesto</th>\n",
       "    </tr>\n",
       "  </thead>\n",
       "  <tbody>\n",
       "    <tr>\n",
       "      <th>0</th>\n",
       "      <td>Cocineta</td>\n",
       "      <td>Condesa</td>\n",
       "      <td>1</td>\n",
       "      <td>0</td>\n",
       "      <td>0</td>\n",
       "      <td>40</td>\n",
       "      <td>5950.0</td>\n",
       "      <td>1750.0</td>\n",
       "      <td>210.0</td>\n",
       "    </tr>\n",
       "    <tr>\n",
       "      <th>1</th>\n",
       "      <td>Casa</td>\n",
       "      <td>Polanco</td>\n",
       "      <td>2</td>\n",
       "      <td>0</td>\n",
       "      <td>1</td>\n",
       "      <td>100</td>\n",
       "      <td>24500.0</td>\n",
       "      <td>NaN</td>\n",
       "      <td>NaN</td>\n",
       "    </tr>\n",
       "    <tr>\n",
       "      <th>2</th>\n",
       "      <td>Conjunto Comercial/Sala</td>\n",
       "      <td>Santa Fe</td>\n",
       "      <td>0</td>\n",
       "      <td>4</td>\n",
       "      <td>0</td>\n",
       "      <td>150</td>\n",
       "      <td>18200.0</td>\n",
       "      <td>14070.0</td>\n",
       "      <td>3888.5</td>\n",
       "    </tr>\n",
       "    <tr>\n",
       "      <th>3</th>\n",
       "      <td>Departamento</td>\n",
       "      <td>Centro Histórico</td>\n",
       "      <td>1</td>\n",
       "      <td>0</td>\n",
       "      <td>0</td>\n",
       "      <td>15</td>\n",
       "      <td>2800.0</td>\n",
       "      <td>1365.0</td>\n",
       "      <td>70.0</td>\n",
       "    </tr>\n",
       "    <tr>\n",
       "      <th>4</th>\n",
       "      <td>Departamento</td>\n",
       "      <td>Del Valle</td>\n",
       "      <td>1</td>\n",
       "      <td>0</td>\n",
       "      <td>0</td>\n",
       "      <td>48</td>\n",
       "      <td>2800.0</td>\n",
       "      <td>805.0</td>\n",
       "      <td>NaN</td>\n",
       "    </tr>\n",
       "  </tbody>\n",
       "</table>\n",
       "</div>"
      ],
      "text/plain": [
       "                      Tipo           Colonia  Habitaciones  Garages  Suites  \\\n",
       "0                 Cocineta           Condesa             1        0       0   \n",
       "1                     Casa           Polanco             2        0       1   \n",
       "2  Conjunto Comercial/Sala          Santa Fe             0        4       0   \n",
       "3             Departamento  Centro Histórico             1        0       0   \n",
       "4             Departamento         Del Valle             1        0       0   \n",
       "\n",
       "   Area    Valor  Condominio  Impuesto  \n",
       "0    40   5950.0      1750.0     210.0  \n",
       "1   100  24500.0         NaN       NaN  \n",
       "2   150  18200.0     14070.0    3888.5  \n",
       "3    15   2800.0      1365.0      70.0  \n",
       "4    48   2800.0       805.0       NaN  "
      ]
     },
     "execution_count": 123,
     "metadata": {},
     "output_type": "execute_result"
    }
   ],
   "source": [
    "df_inmuebles.head()"
   ]
  },
  {
   "cell_type": "code",
   "execution_count": 124,
   "id": "a5eab4d8",
   "metadata": {},
   "outputs": [
    {
     "data": {
      "text/plain": [
       "np.float64(36885.05048392878)"
      ]
     },
     "execution_count": 124,
     "metadata": {},
     "output_type": "execute_result"
    }
   ],
   "source": [
    "df_inmuebles['Valor'].mean()\n"
   ]
  },
  {
   "cell_type": "code",
   "execution_count": 125,
   "id": "b4ea79f7",
   "metadata": {},
   "outputs": [
    {
     "data": {
      "application/vnd.microsoft.datawrangler.viewer.v0+json": {
       "columns": [
        {
         "name": "Tipo",
         "rawType": "object",
         "type": "string"
        },
        {
         "name": "Habitaciones",
         "rawType": "float64",
         "type": "float"
        },
        {
         "name": "Garages",
         "rawType": "float64",
         "type": "float"
        },
        {
         "name": "Suites",
         "rawType": "float64",
         "type": "float"
        },
        {
         "name": "Area",
         "rawType": "float64",
         "type": "float"
        },
        {
         "name": "Valor",
         "rawType": "float64",
         "type": "float"
        },
        {
         "name": "Condominio",
         "rawType": "float64",
         "type": "float"
        },
        {
         "name": "Impuesto",
         "rawType": "float64",
         "type": "float"
        }
       ],
       "ref": "81574369-c6b1-4d2d-9d82-a5221503cbcd",
       "rows": [
        [
         "Casa",
         "3.3596330275229356",
         "1.8972477064220183",
         "1.4385321100917432",
         "289.943119266055",
         "31453.177064220185",
         "3699.4216417910447",
         "6629.4048507462685"
        ],
        [
         "Casa Comercial",
         "1.801980198019802",
         "2.118811881188119",
         "0.25742574257425743",
         "370.2772277227723",
         "54735.841584158414",
         "7622.192307692308",
         "6166.06338028169"
        ],
        [
         "Casa de Condominio",
         "4.319672131147541",
         "3.555737704918033",
         "3.2475409836065574",
         "566.3032786885246",
         "51428.609836065574",
         "5286.578804347826",
         "15046.939393939394"
        ],
        [
         "Casa de Vecindad",
         "1.9746835443037976",
         "0.379746835443038",
         "0.21518987341772153",
         "79.98101265822785",
         "5961.7405063291135",
         "413.44444444444446",
         "706.85"
        ],
        [
         "Cochera/Estacionamiento",
         "0.06493506493506493",
         "1.3766233766233766",
         "0.0",
         "18.662337662337663",
         "6995.454545454545",
         "1069.075",
         "449.4583333333333"
        ],
        [
         "Cocineta",
         "0.8360881542699724",
         "0.02066115702479339",
         "0.04132231404958678",
         "29.09090909090909",
         "4425.856060606061",
         "1521.7342143906021",
         "280.70146137787054"
        ],
        [
         "Conjunto Comercial/Sala",
         "0.047174793170216514",
         "2.6863228304875904",
         "0.0003520506953001232",
         "236.32371061432846",
         "57675.21454993835",
         "17489.36114200964",
         "5425.980245061265"
        ],
        [
         "Departamento",
         "2.5041994039555675",
         "1.2563668382552153",
         "0.8918992143050664",
         "124.0142915199133",
         "18683.269431456258",
         "6797.092950739261",
         "2634.9210814260964"
        ],
        [
         "Departamento en Hotel",
         "1.4197802197802198",
         "0.9692307692307692",
         "0.7582417582417582",
         "65.84835164835165",
         "16285.430769230768",
         "7250.650602409639",
         "1768.9238845144357"
        ],
        [
         "Edificio Completo",
         "0.4055299539170507",
         "11.175115207373272",
         "0.027649769585253458",
         "1717.2718894009217",
         "409418.0806451613",
         "234304.60869565216",
         "50413.73529411765"
        ],
        [
         "Estudio",
         "0.5",
         "0.25",
         "0.0",
         "103.25",
         "8400.0",
         "1921.5",
         "529.375"
        ],
        [
         "Galpón/Depósito/Almacén",
         "0.06920415224913495",
         "5.311418685121107",
         "0.0",
         "2660.4878892733564",
         "299984.1401384083",
         "48581.166666666664",
         "22260.530898876405"
        ],
        [
         "Hotel",
         "25.5",
         "2.5",
         "12.0",
         "885.5",
         "87500.0",
         null,
         "21707.0"
        ],
        [
         "Industria",
         "0.0",
         "0.0",
         "0.0",
         "22.0",
         "420000.0",
         null,
         null
        ],
        [
         "Loft",
         "1.0789473684210527",
         "0.5526315789473685",
         "0.42105263157894735",
         "56.26315789473684",
         "9924.526315789473",
         "3501.2",
         "887.0806451612904"
        ],
        [
         "Loteo/Condominio",
         "0.0",
         "0.0",
         "0.0",
         "215.0",
         "92166.66666666667",
         null,
         "17097.5"
        ],
        [
         "Posada/Chalé",
         "23.0",
         "0.0",
         "23.0",
         "862.0",
         "5180.0",
         "1032.5",
         null
        ],
        [
         "Rancho",
         "5.125",
         "0.0",
         "3.75",
         "14993.75",
         "38014.375",
         null,
         "4375.0"
        ],
        [
         "Terreno Estándar",
         "0.06666666666666667",
         "0.0",
         "0.0",
         "4012.0444444444443",
         "135364.44444444444",
         null,
         "24988.75"
        ],
        [
         "Tienda en Centro Comercial",
         "0.05583756345177665",
         "8.385786802030458",
         "0.01015228426395939",
         "92.19796954314721",
         "32556.785714285714",
         "6824.166666666667",
         "4127.755882352942"
        ],
        [
         "Tienda/Salón",
         "0.011839708561020037",
         "1.349726775956284",
         "0.0018214936247723133",
         "242.1693989071038",
         "56263.54425182482",
         "10395.491137370753",
         "10532.468926553673"
        ]
       ],
       "shape": {
        "columns": 7,
        "rows": 21
       }
      },
      "text/html": [
       "<div>\n",
       "<style scoped>\n",
       "    .dataframe tbody tr th:only-of-type {\n",
       "        vertical-align: middle;\n",
       "    }\n",
       "\n",
       "    .dataframe tbody tr th {\n",
       "        vertical-align: top;\n",
       "    }\n",
       "\n",
       "    .dataframe thead th {\n",
       "        text-align: right;\n",
       "    }\n",
       "</style>\n",
       "<table border=\"1\" class=\"dataframe\">\n",
       "  <thead>\n",
       "    <tr style=\"text-align: right;\">\n",
       "      <th></th>\n",
       "      <th>Habitaciones</th>\n",
       "      <th>Garages</th>\n",
       "      <th>Suites</th>\n",
       "      <th>Area</th>\n",
       "      <th>Valor</th>\n",
       "      <th>Condominio</th>\n",
       "      <th>Impuesto</th>\n",
       "    </tr>\n",
       "    <tr>\n",
       "      <th>Tipo</th>\n",
       "      <th></th>\n",
       "      <th></th>\n",
       "      <th></th>\n",
       "      <th></th>\n",
       "      <th></th>\n",
       "      <th></th>\n",
       "      <th></th>\n",
       "    </tr>\n",
       "  </thead>\n",
       "  <tbody>\n",
       "    <tr>\n",
       "      <th>Casa</th>\n",
       "      <td>3.359633</td>\n",
       "      <td>1.897248</td>\n",
       "      <td>1.438532</td>\n",
       "      <td>289.943119</td>\n",
       "      <td>31453.177064</td>\n",
       "      <td>3699.421642</td>\n",
       "      <td>6629.404851</td>\n",
       "    </tr>\n",
       "    <tr>\n",
       "      <th>Casa Comercial</th>\n",
       "      <td>1.801980</td>\n",
       "      <td>2.118812</td>\n",
       "      <td>0.257426</td>\n",
       "      <td>370.277228</td>\n",
       "      <td>54735.841584</td>\n",
       "      <td>7622.192308</td>\n",
       "      <td>6166.063380</td>\n",
       "    </tr>\n",
       "    <tr>\n",
       "      <th>Casa de Condominio</th>\n",
       "      <td>4.319672</td>\n",
       "      <td>3.555738</td>\n",
       "      <td>3.247541</td>\n",
       "      <td>566.303279</td>\n",
       "      <td>51428.609836</td>\n",
       "      <td>5286.578804</td>\n",
       "      <td>15046.939394</td>\n",
       "    </tr>\n",
       "    <tr>\n",
       "      <th>Casa de Vecindad</th>\n",
       "      <td>1.974684</td>\n",
       "      <td>0.379747</td>\n",
       "      <td>0.215190</td>\n",
       "      <td>79.981013</td>\n",
       "      <td>5961.740506</td>\n",
       "      <td>413.444444</td>\n",
       "      <td>706.850000</td>\n",
       "    </tr>\n",
       "    <tr>\n",
       "      <th>Cochera/Estacionamiento</th>\n",
       "      <td>0.064935</td>\n",
       "      <td>1.376623</td>\n",
       "      <td>0.000000</td>\n",
       "      <td>18.662338</td>\n",
       "      <td>6995.454545</td>\n",
       "      <td>1069.075000</td>\n",
       "      <td>449.458333</td>\n",
       "    </tr>\n",
       "    <tr>\n",
       "      <th>Cocineta</th>\n",
       "      <td>0.836088</td>\n",
       "      <td>0.020661</td>\n",
       "      <td>0.041322</td>\n",
       "      <td>29.090909</td>\n",
       "      <td>4425.856061</td>\n",
       "      <td>1521.734214</td>\n",
       "      <td>280.701461</td>\n",
       "    </tr>\n",
       "    <tr>\n",
       "      <th>Conjunto Comercial/Sala</th>\n",
       "      <td>0.047175</td>\n",
       "      <td>2.686323</td>\n",
       "      <td>0.000352</td>\n",
       "      <td>236.323711</td>\n",
       "      <td>57675.214550</td>\n",
       "      <td>17489.361142</td>\n",
       "      <td>5425.980245</td>\n",
       "    </tr>\n",
       "    <tr>\n",
       "      <th>Departamento</th>\n",
       "      <td>2.504199</td>\n",
       "      <td>1.256367</td>\n",
       "      <td>0.891899</td>\n",
       "      <td>124.014292</td>\n",
       "      <td>18683.269431</td>\n",
       "      <td>6797.092951</td>\n",
       "      <td>2634.921081</td>\n",
       "    </tr>\n",
       "    <tr>\n",
       "      <th>Departamento en Hotel</th>\n",
       "      <td>1.419780</td>\n",
       "      <td>0.969231</td>\n",
       "      <td>0.758242</td>\n",
       "      <td>65.848352</td>\n",
       "      <td>16285.430769</td>\n",
       "      <td>7250.650602</td>\n",
       "      <td>1768.923885</td>\n",
       "    </tr>\n",
       "    <tr>\n",
       "      <th>Edificio Completo</th>\n",
       "      <td>0.405530</td>\n",
       "      <td>11.175115</td>\n",
       "      <td>0.027650</td>\n",
       "      <td>1717.271889</td>\n",
       "      <td>409418.080645</td>\n",
       "      <td>234304.608696</td>\n",
       "      <td>50413.735294</td>\n",
       "    </tr>\n",
       "    <tr>\n",
       "      <th>Estudio</th>\n",
       "      <td>0.500000</td>\n",
       "      <td>0.250000</td>\n",
       "      <td>0.000000</td>\n",
       "      <td>103.250000</td>\n",
       "      <td>8400.000000</td>\n",
       "      <td>1921.500000</td>\n",
       "      <td>529.375000</td>\n",
       "    </tr>\n",
       "    <tr>\n",
       "      <th>Galpón/Depósito/Almacén</th>\n",
       "      <td>0.069204</td>\n",
       "      <td>5.311419</td>\n",
       "      <td>0.000000</td>\n",
       "      <td>2660.487889</td>\n",
       "      <td>299984.140138</td>\n",
       "      <td>48581.166667</td>\n",
       "      <td>22260.530899</td>\n",
       "    </tr>\n",
       "    <tr>\n",
       "      <th>Hotel</th>\n",
       "      <td>25.500000</td>\n",
       "      <td>2.500000</td>\n",
       "      <td>12.000000</td>\n",
       "      <td>885.500000</td>\n",
       "      <td>87500.000000</td>\n",
       "      <td>NaN</td>\n",
       "      <td>21707.000000</td>\n",
       "    </tr>\n",
       "    <tr>\n",
       "      <th>Industria</th>\n",
       "      <td>0.000000</td>\n",
       "      <td>0.000000</td>\n",
       "      <td>0.000000</td>\n",
       "      <td>22.000000</td>\n",
       "      <td>420000.000000</td>\n",
       "      <td>NaN</td>\n",
       "      <td>NaN</td>\n",
       "    </tr>\n",
       "    <tr>\n",
       "      <th>Loft</th>\n",
       "      <td>1.078947</td>\n",
       "      <td>0.552632</td>\n",
       "      <td>0.421053</td>\n",
       "      <td>56.263158</td>\n",
       "      <td>9924.526316</td>\n",
       "      <td>3501.200000</td>\n",
       "      <td>887.080645</td>\n",
       "    </tr>\n",
       "    <tr>\n",
       "      <th>Loteo/Condominio</th>\n",
       "      <td>0.000000</td>\n",
       "      <td>0.000000</td>\n",
       "      <td>0.000000</td>\n",
       "      <td>215.000000</td>\n",
       "      <td>92166.666667</td>\n",
       "      <td>NaN</td>\n",
       "      <td>17097.500000</td>\n",
       "    </tr>\n",
       "    <tr>\n",
       "      <th>Posada/Chalé</th>\n",
       "      <td>23.000000</td>\n",
       "      <td>0.000000</td>\n",
       "      <td>23.000000</td>\n",
       "      <td>862.000000</td>\n",
       "      <td>5180.000000</td>\n",
       "      <td>1032.500000</td>\n",
       "      <td>NaN</td>\n",
       "    </tr>\n",
       "    <tr>\n",
       "      <th>Rancho</th>\n",
       "      <td>5.125000</td>\n",
       "      <td>0.000000</td>\n",
       "      <td>3.750000</td>\n",
       "      <td>14993.750000</td>\n",
       "      <td>38014.375000</td>\n",
       "      <td>NaN</td>\n",
       "      <td>4375.000000</td>\n",
       "    </tr>\n",
       "    <tr>\n",
       "      <th>Terreno Estándar</th>\n",
       "      <td>0.066667</td>\n",
       "      <td>0.000000</td>\n",
       "      <td>0.000000</td>\n",
       "      <td>4012.044444</td>\n",
       "      <td>135364.444444</td>\n",
       "      <td>NaN</td>\n",
       "      <td>24988.750000</td>\n",
       "    </tr>\n",
       "    <tr>\n",
       "      <th>Tienda en Centro Comercial</th>\n",
       "      <td>0.055838</td>\n",
       "      <td>8.385787</td>\n",
       "      <td>0.010152</td>\n",
       "      <td>92.197970</td>\n",
       "      <td>32556.785714</td>\n",
       "      <td>6824.166667</td>\n",
       "      <td>4127.755882</td>\n",
       "    </tr>\n",
       "    <tr>\n",
       "      <th>Tienda/Salón</th>\n",
       "      <td>0.011840</td>\n",
       "      <td>1.349727</td>\n",
       "      <td>0.001821</td>\n",
       "      <td>242.169399</td>\n",
       "      <td>56263.544252</td>\n",
       "      <td>10395.491137</td>\n",
       "      <td>10532.468927</td>\n",
       "    </tr>\n",
       "  </tbody>\n",
       "</table>\n",
       "</div>"
      ],
      "text/plain": [
       "                            Habitaciones    Garages     Suites          Area  \\\n",
       "Tipo                                                                           \n",
       "Casa                            3.359633   1.897248   1.438532    289.943119   \n",
       "Casa Comercial                  1.801980   2.118812   0.257426    370.277228   \n",
       "Casa de Condominio              4.319672   3.555738   3.247541    566.303279   \n",
       "Casa de Vecindad                1.974684   0.379747   0.215190     79.981013   \n",
       "Cochera/Estacionamiento         0.064935   1.376623   0.000000     18.662338   \n",
       "Cocineta                        0.836088   0.020661   0.041322     29.090909   \n",
       "Conjunto Comercial/Sala         0.047175   2.686323   0.000352    236.323711   \n",
       "Departamento                    2.504199   1.256367   0.891899    124.014292   \n",
       "Departamento en Hotel           1.419780   0.969231   0.758242     65.848352   \n",
       "Edificio Completo               0.405530  11.175115   0.027650   1717.271889   \n",
       "Estudio                         0.500000   0.250000   0.000000    103.250000   \n",
       "Galpón/Depósito/Almacén         0.069204   5.311419   0.000000   2660.487889   \n",
       "Hotel                          25.500000   2.500000  12.000000    885.500000   \n",
       "Industria                       0.000000   0.000000   0.000000     22.000000   \n",
       "Loft                            1.078947   0.552632   0.421053     56.263158   \n",
       "Loteo/Condominio                0.000000   0.000000   0.000000    215.000000   \n",
       "Posada/Chalé                   23.000000   0.000000  23.000000    862.000000   \n",
       "Rancho                          5.125000   0.000000   3.750000  14993.750000   \n",
       "Terreno Estándar                0.066667   0.000000   0.000000   4012.044444   \n",
       "Tienda en Centro Comercial      0.055838   8.385787   0.010152     92.197970   \n",
       "Tienda/Salón                    0.011840   1.349727   0.001821    242.169399   \n",
       "\n",
       "                                    Valor     Condominio      Impuesto  \n",
       "Tipo                                                                    \n",
       "Casa                         31453.177064    3699.421642   6629.404851  \n",
       "Casa Comercial               54735.841584    7622.192308   6166.063380  \n",
       "Casa de Condominio           51428.609836    5286.578804  15046.939394  \n",
       "Casa de Vecindad              5961.740506     413.444444    706.850000  \n",
       "Cochera/Estacionamiento       6995.454545    1069.075000    449.458333  \n",
       "Cocineta                      4425.856061    1521.734214    280.701461  \n",
       "Conjunto Comercial/Sala      57675.214550   17489.361142   5425.980245  \n",
       "Departamento                 18683.269431    6797.092951   2634.921081  \n",
       "Departamento en Hotel        16285.430769    7250.650602   1768.923885  \n",
       "Edificio Completo           409418.080645  234304.608696  50413.735294  \n",
       "Estudio                       8400.000000    1921.500000    529.375000  \n",
       "Galpón/Depósito/Almacén     299984.140138   48581.166667  22260.530899  \n",
       "Hotel                        87500.000000            NaN  21707.000000  \n",
       "Industria                   420000.000000            NaN           NaN  \n",
       "Loft                          9924.526316    3501.200000    887.080645  \n",
       "Loteo/Condominio             92166.666667            NaN  17097.500000  \n",
       "Posada/Chalé                  5180.000000    1032.500000           NaN  \n",
       "Rancho                       38014.375000            NaN   4375.000000  \n",
       "Terreno Estándar            135364.444444            NaN  24988.750000  \n",
       "Tienda en Centro Comercial   32556.785714    6824.166667   4127.755882  \n",
       "Tienda/Salón                 56263.544252   10395.491137  10532.468927  "
      ]
     },
     "execution_count": 125,
     "metadata": {},
     "output_type": "execute_result"
    }
   ],
   "source": [
    "df_inmuebles.groupby('Tipo').mean(numeric_only=True)"
   ]
  },
  {
   "cell_type": "code",
   "execution_count": 126,
   "id": "8724bcf8",
   "metadata": {},
   "outputs": [
    {
     "data": {
      "application/vnd.microsoft.datawrangler.viewer.v0+json": {
       "columns": [
        {
         "name": "Tipo",
         "rawType": "object",
         "type": "string"
        },
        {
         "name": "Valor",
         "rawType": "float64",
         "type": "float"
        }
       ],
       "ref": "47f3007e-eb23-428b-a927-53b6e59323d1",
       "rows": [
        [
         "Casa",
         "31453.177064220185"
        ],
        [
         "Casa Comercial",
         "54735.841584158414"
        ],
        [
         "Casa de Condominio",
         "51428.609836065574"
        ],
        [
         "Casa de Vecindad",
         "5961.7405063291135"
        ],
        [
         "Cochera/Estacionamiento",
         "6995.454545454545"
        ],
        [
         "Cocineta",
         "4425.856060606061"
        ],
        [
         "Conjunto Comercial/Sala",
         "57675.21454993835"
        ],
        [
         "Departamento",
         "18683.269431456258"
        ],
        [
         "Departamento en Hotel",
         "16285.430769230768"
        ],
        [
         "Edificio Completo",
         "409418.0806451613"
        ],
        [
         "Estudio",
         "8400.0"
        ],
        [
         "Galpón/Depósito/Almacén",
         "299984.1401384083"
        ],
        [
         "Hotel",
         "87500.0"
        ],
        [
         "Industria",
         "420000.0"
        ],
        [
         "Loft",
         "9924.526315789473"
        ],
        [
         "Loteo/Condominio",
         "92166.66666666667"
        ],
        [
         "Posada/Chalé",
         "5180.0"
        ],
        [
         "Rancho",
         "38014.375"
        ],
        [
         "Terreno Estándar",
         "135364.44444444444"
        ],
        [
         "Tienda en Centro Comercial",
         "32556.785714285714"
        ],
        [
         "Tienda/Salón",
         "56263.54425182482"
        ]
       ],
       "shape": {
        "columns": 1,
        "rows": 21
       }
      },
      "text/plain": [
       "Tipo\n",
       "Casa                           31453.177064\n",
       "Casa Comercial                 54735.841584\n",
       "Casa de Condominio             51428.609836\n",
       "Casa de Vecindad                5961.740506\n",
       "Cochera/Estacionamiento         6995.454545\n",
       "Cocineta                        4425.856061\n",
       "Conjunto Comercial/Sala        57675.214550\n",
       "Departamento                   18683.269431\n",
       "Departamento en Hotel          16285.430769\n",
       "Edificio Completo             409418.080645\n",
       "Estudio                         8400.000000\n",
       "Galpón/Depósito/Almacén       299984.140138\n",
       "Hotel                          87500.000000\n",
       "Industria                     420000.000000\n",
       "Loft                            9924.526316\n",
       "Loteo/Condominio               92166.666667\n",
       "Posada/Chalé                    5180.000000\n",
       "Rancho                         38014.375000\n",
       "Terreno Estándar              135364.444444\n",
       "Tienda en Centro Comercial     32556.785714\n",
       "Tienda/Salón                   56263.544252\n",
       "Name: Valor, dtype: float64"
      ]
     },
     "execution_count": 126,
     "metadata": {},
     "output_type": "execute_result"
    }
   ],
   "source": [
    "df_inmuebles.groupby(['Tipo'])['Valor'].mean()"
   ]
  },
  {
   "cell_type": "code",
   "execution_count": 127,
   "id": "b603c34f",
   "metadata": {},
   "outputs": [
    {
     "data": {
      "application/vnd.microsoft.datawrangler.viewer.v0+json": {
       "columns": [
        {
         "name": "Tipo",
         "rawType": "object",
         "type": "string"
        },
        {
         "name": "Valor",
         "rawType": "float64",
         "type": "float"
        }
       ],
       "ref": "d483bf78-9b10-475a-b173-d1523063b6cb",
       "rows": [
        [
         "Cocineta",
         "4425.856060606061"
        ],
        [
         "Posada/Chalé",
         "5180.0"
        ],
        [
         "Casa de Vecindad",
         "5961.7405063291135"
        ],
        [
         "Cochera/Estacionamiento",
         "6995.454545454545"
        ],
        [
         "Estudio",
         "8400.0"
        ],
        [
         "Loft",
         "9924.526315789473"
        ],
        [
         "Departamento en Hotel",
         "16285.430769230768"
        ],
        [
         "Departamento",
         "18683.269431456258"
        ],
        [
         "Casa",
         "31453.177064220185"
        ],
        [
         "Tienda en Centro Comercial",
         "32556.785714285714"
        ],
        [
         "Rancho",
         "38014.375"
        ],
        [
         "Casa de Condominio",
         "51428.609836065574"
        ],
        [
         "Casa Comercial",
         "54735.841584158414"
        ],
        [
         "Tienda/Salón",
         "56263.54425182482"
        ],
        [
         "Conjunto Comercial/Sala",
         "57675.21454993835"
        ],
        [
         "Hotel",
         "87500.0"
        ],
        [
         "Loteo/Condominio",
         "92166.66666666667"
        ],
        [
         "Terreno Estándar",
         "135364.44444444444"
        ],
        [
         "Galpón/Depósito/Almacén",
         "299984.1401384083"
        ],
        [
         "Edificio Completo",
         "409418.0806451613"
        ],
        [
         "Industria",
         "420000.0"
        ]
       ],
       "shape": {
        "columns": 1,
        "rows": 21
       }
      },
      "text/html": [
       "<div>\n",
       "<style scoped>\n",
       "    .dataframe tbody tr th:only-of-type {\n",
       "        vertical-align: middle;\n",
       "    }\n",
       "\n",
       "    .dataframe tbody tr th {\n",
       "        vertical-align: top;\n",
       "    }\n",
       "\n",
       "    .dataframe thead th {\n",
       "        text-align: right;\n",
       "    }\n",
       "</style>\n",
       "<table border=\"1\" class=\"dataframe\">\n",
       "  <thead>\n",
       "    <tr style=\"text-align: right;\">\n",
       "      <th></th>\n",
       "      <th>Valor</th>\n",
       "    </tr>\n",
       "    <tr>\n",
       "      <th>Tipo</th>\n",
       "      <th></th>\n",
       "    </tr>\n",
       "  </thead>\n",
       "  <tbody>\n",
       "    <tr>\n",
       "      <th>Cocineta</th>\n",
       "      <td>4425.856061</td>\n",
       "    </tr>\n",
       "    <tr>\n",
       "      <th>Posada/Chalé</th>\n",
       "      <td>5180.000000</td>\n",
       "    </tr>\n",
       "    <tr>\n",
       "      <th>Casa de Vecindad</th>\n",
       "      <td>5961.740506</td>\n",
       "    </tr>\n",
       "    <tr>\n",
       "      <th>Cochera/Estacionamiento</th>\n",
       "      <td>6995.454545</td>\n",
       "    </tr>\n",
       "    <tr>\n",
       "      <th>Estudio</th>\n",
       "      <td>8400.000000</td>\n",
       "    </tr>\n",
       "    <tr>\n",
       "      <th>Loft</th>\n",
       "      <td>9924.526316</td>\n",
       "    </tr>\n",
       "    <tr>\n",
       "      <th>Departamento en Hotel</th>\n",
       "      <td>16285.430769</td>\n",
       "    </tr>\n",
       "    <tr>\n",
       "      <th>Departamento</th>\n",
       "      <td>18683.269431</td>\n",
       "    </tr>\n",
       "    <tr>\n",
       "      <th>Casa</th>\n",
       "      <td>31453.177064</td>\n",
       "    </tr>\n",
       "    <tr>\n",
       "      <th>Tienda en Centro Comercial</th>\n",
       "      <td>32556.785714</td>\n",
       "    </tr>\n",
       "    <tr>\n",
       "      <th>Rancho</th>\n",
       "      <td>38014.375000</td>\n",
       "    </tr>\n",
       "    <tr>\n",
       "      <th>Casa de Condominio</th>\n",
       "      <td>51428.609836</td>\n",
       "    </tr>\n",
       "    <tr>\n",
       "      <th>Casa Comercial</th>\n",
       "      <td>54735.841584</td>\n",
       "    </tr>\n",
       "    <tr>\n",
       "      <th>Tienda/Salón</th>\n",
       "      <td>56263.544252</td>\n",
       "    </tr>\n",
       "    <tr>\n",
       "      <th>Conjunto Comercial/Sala</th>\n",
       "      <td>57675.214550</td>\n",
       "    </tr>\n",
       "    <tr>\n",
       "      <th>Hotel</th>\n",
       "      <td>87500.000000</td>\n",
       "    </tr>\n",
       "    <tr>\n",
       "      <th>Loteo/Condominio</th>\n",
       "      <td>92166.666667</td>\n",
       "    </tr>\n",
       "    <tr>\n",
       "      <th>Terreno Estándar</th>\n",
       "      <td>135364.444444</td>\n",
       "    </tr>\n",
       "    <tr>\n",
       "      <th>Galpón/Depósito/Almacén</th>\n",
       "      <td>299984.140138</td>\n",
       "    </tr>\n",
       "    <tr>\n",
       "      <th>Edificio Completo</th>\n",
       "      <td>409418.080645</td>\n",
       "    </tr>\n",
       "    <tr>\n",
       "      <th>Industria</th>\n",
       "      <td>420000.000000</td>\n",
       "    </tr>\n",
       "  </tbody>\n",
       "</table>\n",
       "</div>"
      ],
      "text/plain": [
       "                                    Valor\n",
       "Tipo                                     \n",
       "Cocineta                      4425.856061\n",
       "Posada/Chalé                  5180.000000\n",
       "Casa de Vecindad              5961.740506\n",
       "Cochera/Estacionamiento       6995.454545\n",
       "Estudio                       8400.000000\n",
       "Loft                          9924.526316\n",
       "Departamento en Hotel        16285.430769\n",
       "Departamento                 18683.269431\n",
       "Casa                         31453.177064\n",
       "Tienda en Centro Comercial   32556.785714\n",
       "Rancho                       38014.375000\n",
       "Casa de Condominio           51428.609836\n",
       "Casa Comercial               54735.841584\n",
       "Tienda/Salón                 56263.544252\n",
       "Conjunto Comercial/Sala      57675.214550\n",
       "Hotel                        87500.000000\n",
       "Loteo/Condominio             92166.666667\n",
       "Terreno Estándar            135364.444444\n",
       "Galpón/Depósito/Almacén     299984.140138\n",
       "Edificio Completo           409418.080645\n",
       "Industria                   420000.000000"
      ]
     },
     "execution_count": 127,
     "metadata": {},
     "output_type": "execute_result"
    }
   ],
   "source": [
    "df_inmuebles.groupby('Tipo')[['Valor']].mean().sort_values('Valor')"
   ]
  },
  {
   "cell_type": "code",
   "execution_count": 128,
   "id": "0e1276f7",
   "metadata": {},
   "outputs": [
    {
     "data": {
      "text/plain": [
       "<Axes: ylabel='Tipo'>"
      ]
     },
     "execution_count": 128,
     "metadata": {},
     "output_type": "execute_result"
    },
    {
     "data": {
      "image/png": "[encoded data removed]",
      "text/plain": [
       "<Figure size 1200x800 with 1 Axes>"
      ]
     },
     "metadata": {},
     "output_type": "display_data"
    }
   ],
   "source": [
    "df_tipo_precio = df_inmuebles.groupby('Tipo')[['Valor']].mean().sort_values('Valor')\n",
    "df_tipo_precio.plot(kind=\"barh\", figsize=(12, 8), color=\"purple\")"
   ]
  },
  {
   "cell_type": "code",
   "execution_count": 129,
   "id": "df120e82",
   "metadata": {},
   "outputs": [
    {
     "data": {
      "text/plain": [
       "array(['Cocineta', 'Casa', 'Conjunto Comercial/Sala', 'Departamento',\n",
       "       'Casa de Condominio', 'Edificio Completo', 'Departamento en Hotel',\n",
       "       'Tienda/Salón', 'Casa Comercial', 'Casa de Vecindad',\n",
       "       'Terreno Estándar', 'Cochera/Estacionamiento', 'Loft',\n",
       "       'Galpón/Depósito/Almacén', 'Tienda en Centro Comercial', 'Rancho',\n",
       "       'Posada/Chalé', 'Estudio', 'Hotel', 'Loteo/Condominio',\n",
       "       'Industria'], dtype=object)"
      ]
     },
     "execution_count": 129,
     "metadata": {},
     "output_type": "execute_result"
    }
   ],
   "source": [
    "df_inmuebles.Tipo.unique()"
   ]
  },
  {
   "cell_type": "code",
   "execution_count": 130,
   "id": "49d558db",
   "metadata": {},
   "outputs": [],
   "source": [
    "inmuebles_comerciales  = ['Conjunto Comercial/Sala', 'Edificio Completo',\n",
    "       'Tienda/Salón', 'Casa Comercial', 'Galpón/Depósito/Almacén',\n",
    "       'Terreno Estándar', 'Cochera/Estacionamiento', 'Tienda en Centro Comercial',\n",
    "       'Hotel', 'Loteo/Condominio', 'Industria']"
   ]
  },
  {
   "cell_type": "code",
   "execution_count": 131,
   "id": "ddb530e2",
   "metadata": {},
   "outputs": [
    {
     "data": {
      "application/vnd.microsoft.datawrangler.viewer.v0+json": {
       "columns": [
        {
         "name": "index",
         "rawType": "int64",
         "type": "integer"
        },
        {
         "name": "Tipo",
         "rawType": "object",
         "type": "string"
        },
        {
         "name": "Colonia",
         "rawType": "object",
         "type": "string"
        },
        {
         "name": "Habitaciones",
         "rawType": "int64",
         "type": "integer"
        },
        {
         "name": "Garages",
         "rawType": "int64",
         "type": "integer"
        },
        {
         "name": "Suites",
         "rawType": "int64",
         "type": "integer"
        },
        {
         "name": "Area",
         "rawType": "int64",
         "type": "integer"
        },
        {
         "name": "Valor",
         "rawType": "float64",
         "type": "float"
        },
        {
         "name": "Condominio",
         "rawType": "float64",
         "type": "float"
        },
        {
         "name": "Impuesto",
         "rawType": "float64",
         "type": "float"
        }
       ],
       "ref": "4f0a16ae-39c3-4273-9949-4084a913a093",
       "rows": [
        [
         "0",
         "Cocineta",
         "Condesa",
         "1",
         "0",
         "0",
         "40",
         "5950.0",
         "1750.0",
         "210.0"
        ],
        [
         "1",
         "Casa",
         "Polanco",
         "2",
         "0",
         "1",
         "100",
         "24500.0",
         null,
         null
        ],
        [
         "3",
         "Departamento",
         "Centro Histórico",
         "1",
         "0",
         "0",
         "15",
         "2800.0",
         "1365.0",
         "70.0"
        ],
        [
         "4",
         "Departamento",
         "Del Valle",
         "1",
         "0",
         "0",
         "48",
         "2800.0",
         "805.0",
         null
        ],
        [
         "5",
         "Casa de Condominio",
         "Santa Fe",
         "5",
         "4",
         "5",
         "750",
         "77000.0",
         null,
         null
        ],
        [
         "7",
         "Departamento",
         "Centro Histórico",
         "1",
         "0",
         "0",
         "36",
         "4200.0",
         null,
         null
        ],
        [
         "8",
         "Departamento",
         "Condesa",
         "1",
         "0",
         "1",
         "40",
         "7000.0",
         "1963.5",
         "175.0"
        ],
        [
         "9",
         "Cocineta",
         "Condesa",
         "1",
         "0",
         "0",
         "27",
         "6300.0",
         "1753.5",
         null
        ],
        [
         "10",
         "Departamento",
         "Condesa",
         "4",
         "3",
         "1",
         "243",
         "45500.0",
         "7000.0",
         "2810.5"
        ],
        [
         "12",
         "Departamento en Hotel",
         "Roma",
         "3",
         "1",
         "1",
         "80",
         "13300.0",
         "3640.0",
         null
        ],
        [
         "13",
         "Departamento",
         "Santa Fe",
         "2",
         "1",
         "1",
         "67",
         "5950.0",
         "2061.5",
         "514.5"
        ],
        [
         "14",
         "Departamento",
         "Narvarte",
         "2",
         "1",
         "0",
         "110",
         "6650.0",
         "2450.0",
         "483.0"
        ],
        [
         "15",
         "Casa de Condominio",
         "Santa Fe",
         "4",
         "3",
         "2",
         "466",
         "26250.0",
         "9432.5",
         null
        ],
        [
         "16",
         "Departamento",
         "Narvarte",
         "2",
         "1",
         "0",
         "78",
         "7000.0",
         "2450.0",
         null
        ],
        [
         "17",
         "Departamento en Hotel",
         "Lomas de Chapultepec",
         "1",
         "0",
         "0",
         "56",
         "15750.0",
         "6650.0",
         "5250.0"
        ],
        [
         "18",
         "Departamento",
         "Coyoacán",
         "3",
         "1",
         "1",
         "125",
         "24500.0",
         "7350.0",
         "1620.5"
        ],
        [
         "19",
         "Departamento",
         "Narvarte",
         "1",
         "0",
         "0",
         "48",
         "2625.0",
         "2702.0",
         "87.5"
        ],
        [
         "20",
         "Departamento",
         "Santa Fe",
         "3",
         "3",
         "1",
         "175",
         "14700.0",
         "5250.0",
         "1750.0"
        ],
        [
         "21",
         "Departamento",
         "Roma",
         "2",
         "1",
         "0",
         "76",
         "8750.0",
         "2590.0",
         null
        ],
        [
         "22",
         "Departamento",
         "Condesa",
         "3",
         "1",
         "2",
         "378",
         "35000.0",
         "7525.0",
         "2450.0"
        ],
        [
         "23",
         "Departamento",
         "Condesa",
         "3",
         "0",
         "0",
         "180",
         "19250.0",
         "6230.0",
         "1470.0"
        ],
        [
         "25",
         "Departamento",
         "Lomas de Chapultepec",
         "3",
         "1",
         "0",
         "110",
         "13650.0",
         "5250.0",
         "420.0"
        ],
        [
         "27",
         "Cocineta",
         "Condesa",
         "1",
         "0",
         "0",
         "27",
         "4550.0",
         "1330.0",
         "185.5"
        ],
        [
         "28",
         "Departamento",
         "Santa Fe",
         "3",
         "1",
         "2",
         "70",
         "6300.0",
         "3832.5",
         "490.0"
        ],
        [
         "29",
         "Departamento",
         "Condesa",
         "4",
         "1",
         "0",
         "244",
         "17500.0",
         "8750.0",
         "14350.0"
        ],
        [
         "30",
         "Departamento",
         "Santa Fe",
         "3",
         "2",
         "1",
         "110",
         "15750.0",
         "7000.0",
         "1575.0"
        ],
        [
         "33",
         "Departamento",
         "Santa Fe",
         "3",
         "1",
         "1",
         "72",
         "8225.0",
         "2100.0",
         "245.0"
        ],
        [
         "34",
         "Departamento",
         "San Pedro de los Pinos",
         "2",
         "2",
         "1",
         "180",
         "14000.0",
         "8750.0",
         "1050.0"
        ],
        [
         "37",
         "Departamento",
         "Centro Histórico",
         "1",
         "0",
         "0",
         "27",
         "2625.0",
         "1298.5",
         "66.5"
        ],
        [
         "38",
         "Departamento",
         "Coyoacán",
         "1",
         "0",
         "0",
         "35",
         "7000.0",
         "2275.0",
         "262.5"
        ],
        [
         "39",
         "Departamento",
         "Coyoacán",
         "1",
         "0",
         "0",
         "38",
         "4900.0",
         "1855.0",
         "269.5"
        ],
        [
         "41",
         "Casa de Condominio",
         "Santa Fe",
         "5",
         "10",
         "5",
         "1600",
         "87500.0",
         "5600.0",
         null
        ],
        [
         "42",
         "Departamento",
         "Santa Fe",
         "4",
         "3",
         "3",
         "153",
         "22750.0",
         "8050.0",
         "1519.0"
        ],
        [
         "43",
         "Departamento",
         "Coyoacán",
         "3",
         "1",
         "0",
         "87",
         "11200.0",
         "4567.5",
         "759.5"
        ],
        [
         "44",
         "Departamento",
         "Roma",
         "3",
         "1",
         "1",
         "108",
         "20825.0",
         "4917.5",
         "1011.5"
        ],
        [
         "45",
         "Departamento",
         "Coyoacán",
         "3",
         "2",
         "1",
         "150",
         "28000.0",
         "8400.0",
         null
        ],
        [
         "47",
         "Departamento",
         "Coyoacán",
         "3",
         "1",
         "1",
         "140",
         "27650.0",
         "10150.0",
         "1750.0"
        ],
        [
         "48",
         "Departamento",
         "Polanco",
         "2",
         "2",
         "0",
         "95",
         "14000.0",
         "4095.0",
         null
        ],
        [
         "49",
         "Departamento",
         "Santa Fe",
         "2",
         "1",
         "1",
         "70",
         null,
         "3395.0",
         "238.0"
        ],
        [
         "56",
         "Departamento",
         "Lomas de Chapultepec",
         "2",
         "1",
         "1",
         "80",
         "12250.0",
         "3465.0",
         "857.5"
        ],
        [
         "57",
         "Departamento",
         "Santa Fe",
         "4",
         "4",
         "4",
         "240",
         "44450.0",
         "15400.0",
         "5040.0"
        ],
        [
         "58",
         "Departamento",
         "Santa Fe",
         "3",
         "2",
         "1",
         "104",
         "9100.0",
         "4774.0",
         "1421.0"
        ],
        [
         "59",
         "Departamento",
         "San Ángel",
         "2",
         "1",
         "0",
         "70",
         "9800.0",
         "2380.0",
         "343.0"
        ],
        [
         "60",
         "Departamento",
         "Santa Fe",
         "2",
         "1",
         "1",
         "88",
         "9450.0",
         "4550.0",
         "7147.0"
        ],
        [
         "61",
         "Departamento",
         "Centro Histórico",
         "1",
         "1",
         "0",
         "37",
         "3850.0",
         "1890.0",
         "3150.0"
        ],
        [
         "62",
         "Departamento",
         "San Jerónimo",
         "3",
         "4",
         "0",
         "130",
         "19250.0",
         "4924.5",
         "861.0"
        ],
        [
         "63",
         "Departamento",
         "Santa Fe",
         "3",
         "2",
         "2",
         "85",
         "8750.0",
         "4900.0",
         "665.0"
        ],
        [
         "64",
         "Departamento",
         "Del Valle",
         "2",
         "1",
         "0",
         "54",
         "8050.0",
         "2037.0",
         null
        ],
        [
         "65",
         "Cocineta",
         "Centro Histórico",
         "0",
         "0",
         "0",
         "30",
         "2800.0",
         "1767.5",
         null
        ],
        [
         "66",
         "Departamento",
         "Coyoacán",
         "3",
         "1",
         "1",
         "120",
         "24500.0",
         "6300.0",
         "1295.0"
        ]
       ],
       "shape": {
        "columns": 9,
        "rows": 17309
       }
      },
      "text/html": [
       "<div>\n",
       "<style scoped>\n",
       "    .dataframe tbody tr th:only-of-type {\n",
       "        vertical-align: middle;\n",
       "    }\n",
       "\n",
       "    .dataframe tbody tr th {\n",
       "        vertical-align: top;\n",
       "    }\n",
       "\n",
       "    .dataframe thead th {\n",
       "        text-align: right;\n",
       "    }\n",
       "</style>\n",
       "<table border=\"1\" class=\"dataframe\">\n",
       "  <thead>\n",
       "    <tr style=\"text-align: right;\">\n",
       "      <th></th>\n",
       "      <th>Tipo</th>\n",
       "      <th>Colonia</th>\n",
       "      <th>Habitaciones</th>\n",
       "      <th>Garages</th>\n",
       "      <th>Suites</th>\n",
       "      <th>Area</th>\n",
       "      <th>Valor</th>\n",
       "      <th>Condominio</th>\n",
       "      <th>Impuesto</th>\n",
       "    </tr>\n",
       "  </thead>\n",
       "  <tbody>\n",
       "    <tr>\n",
       "      <th>0</th>\n",
       "      <td>Cocineta</td>\n",
       "      <td>Condesa</td>\n",
       "      <td>1</td>\n",
       "      <td>0</td>\n",
       "      <td>0</td>\n",
       "      <td>40</td>\n",
       "      <td>5950.0</td>\n",
       "      <td>1750.0</td>\n",
       "      <td>210.0</td>\n",
       "    </tr>\n",
       "    <tr>\n",
       "      <th>1</th>\n",
       "      <td>Casa</td>\n",
       "      <td>Polanco</td>\n",
       "      <td>2</td>\n",
       "      <td>0</td>\n",
       "      <td>1</td>\n",
       "      <td>100</td>\n",
       "      <td>24500.0</td>\n",
       "      <td>NaN</td>\n",
       "      <td>NaN</td>\n",
       "    </tr>\n",
       "    <tr>\n",
       "      <th>3</th>\n",
       "      <td>Departamento</td>\n",
       "      <td>Centro Histórico</td>\n",
       "      <td>1</td>\n",
       "      <td>0</td>\n",
       "      <td>0</td>\n",
       "      <td>15</td>\n",
       "      <td>2800.0</td>\n",
       "      <td>1365.0</td>\n",
       "      <td>70.0</td>\n",
       "    </tr>\n",
       "    <tr>\n",
       "      <th>4</th>\n",
       "      <td>Departamento</td>\n",
       "      <td>Del Valle</td>\n",
       "      <td>1</td>\n",
       "      <td>0</td>\n",
       "      <td>0</td>\n",
       "      <td>48</td>\n",
       "      <td>2800.0</td>\n",
       "      <td>805.0</td>\n",
       "      <td>NaN</td>\n",
       "    </tr>\n",
       "    <tr>\n",
       "      <th>5</th>\n",
       "      <td>Casa de Condominio</td>\n",
       "      <td>Santa Fe</td>\n",
       "      <td>5</td>\n",
       "      <td>4</td>\n",
       "      <td>5</td>\n",
       "      <td>750</td>\n",
       "      <td>77000.0</td>\n",
       "      <td>NaN</td>\n",
       "      <td>NaN</td>\n",
       "    </tr>\n",
       "    <tr>\n",
       "      <th>...</th>\n",
       "      <td>...</td>\n",
       "      <td>...</td>\n",
       "      <td>...</td>\n",
       "      <td>...</td>\n",
       "      <td>...</td>\n",
       "      <td>...</td>\n",
       "      <td>...</td>\n",
       "      <td>...</td>\n",
       "      <td>...</td>\n",
       "    </tr>\n",
       "    <tr>\n",
       "      <th>25114</th>\n",
       "      <td>Departamento</td>\n",
       "      <td>Narvarte</td>\n",
       "      <td>1</td>\n",
       "      <td>0</td>\n",
       "      <td>0</td>\n",
       "      <td>28</td>\n",
       "      <td>3500.0</td>\n",
       "      <td>1260.0</td>\n",
       "      <td>87.5</td>\n",
       "    </tr>\n",
       "    <tr>\n",
       "      <th>25115</th>\n",
       "      <td>Casa de Condominio</td>\n",
       "      <td>Santa Fe</td>\n",
       "      <td>5</td>\n",
       "      <td>3</td>\n",
       "      <td>4</td>\n",
       "      <td>450</td>\n",
       "      <td>52500.0</td>\n",
       "      <td>5988.5</td>\n",
       "      <td>8162.0</td>\n",
       "    </tr>\n",
       "    <tr>\n",
       "      <th>25117</th>\n",
       "      <td>Cocineta</td>\n",
       "      <td>Centro Histórico</td>\n",
       "      <td>0</td>\n",
       "      <td>0</td>\n",
       "      <td>0</td>\n",
       "      <td>27</td>\n",
       "      <td>2800.0</td>\n",
       "      <td>1225.0</td>\n",
       "      <td>87.5</td>\n",
       "    </tr>\n",
       "    <tr>\n",
       "      <th>25118</th>\n",
       "      <td>Departamento</td>\n",
       "      <td>Mixcoac</td>\n",
       "      <td>2</td>\n",
       "      <td>1</td>\n",
       "      <td>0</td>\n",
       "      <td>48</td>\n",
       "      <td>4900.0</td>\n",
       "      <td>1781.5</td>\n",
       "      <td>129.5</td>\n",
       "    </tr>\n",
       "    <tr>\n",
       "      <th>25119</th>\n",
       "      <td>Departamento</td>\n",
       "      <td>Lomas de Chapultepec</td>\n",
       "      <td>2</td>\n",
       "      <td>0</td>\n",
       "      <td>0</td>\n",
       "      <td>70</td>\n",
       "      <td>10500.0</td>\n",
       "      <td>2660.0</td>\n",
       "      <td>NaN</td>\n",
       "    </tr>\n",
       "  </tbody>\n",
       "</table>\n",
       "<p>17309 rows × 9 columns</p>\n",
       "</div>"
      ],
      "text/plain": [
       "                     Tipo               Colonia  Habitaciones  Garages  \\\n",
       "0                Cocineta               Condesa             1        0   \n",
       "1                    Casa               Polanco             2        0   \n",
       "3            Departamento      Centro Histórico             1        0   \n",
       "4            Departamento             Del Valle             1        0   \n",
       "5      Casa de Condominio              Santa Fe             5        4   \n",
       "...                   ...                   ...           ...      ...   \n",
       "25114        Departamento              Narvarte             1        0   \n",
       "25115  Casa de Condominio              Santa Fe             5        3   \n",
       "25117            Cocineta      Centro Histórico             0        0   \n",
       "25118        Departamento               Mixcoac             2        1   \n",
       "25119        Departamento  Lomas de Chapultepec             2        0   \n",
       "\n",
       "       Suites  Area    Valor  Condominio  Impuesto  \n",
       "0           0    40   5950.0      1750.0     210.0  \n",
       "1           1   100  24500.0         NaN       NaN  \n",
       "3           0    15   2800.0      1365.0      70.0  \n",
       "4           0    48   2800.0       805.0       NaN  \n",
       "5           5   750  77000.0         NaN       NaN  \n",
       "...       ...   ...      ...         ...       ...  \n",
       "25114       0    28   3500.0      1260.0      87.5  \n",
       "25115       4   450  52500.0      5988.5    8162.0  \n",
       "25117       0    27   2800.0      1225.0      87.5  \n",
       "25118       0    48   4900.0      1781.5     129.5  \n",
       "25119       0    70  10500.0      2660.0       NaN  \n",
       "\n",
       "[17309 rows x 9 columns]"
      ]
     },
     "execution_count": 131,
     "metadata": {},
     "output_type": "execute_result"
    }
   ],
   "source": [
    "# Indicamos si los datos de la variable no existen en Tipo\n",
    "df_inmuebles.query('@inmuebles_comerciales not in Tipo')"
   ]
  },
  {
   "cell_type": "code",
   "execution_count": 132,
   "id": "3758e5e5",
   "metadata": {},
   "outputs": [
    {
     "data": {
      "text/plain": [
       "array(['Cocineta', 'Casa', 'Departamento', 'Casa de Condominio',\n",
       "       'Departamento en Hotel', 'Casa de Vecindad', 'Loft', 'Rancho',\n",
       "       'Posada/Chalé', 'Estudio'], dtype=object)"
      ]
     },
     "execution_count": 132,
     "metadata": {},
     "output_type": "execute_result"
    }
   ],
   "source": [
    "df = df_inmuebles.query('@inmuebles_comerciales not in Tipo')\n",
    "df.Tipo.unique()"
   ]
  },
  {
   "cell_type": "code",
   "execution_count": 133,
   "id": "4e72956b",
   "metadata": {},
   "outputs": [
    {
     "data": {
      "text/plain": [
       "<Axes: ylabel='Tipo'>"
      ]
     },
     "execution_count": 133,
     "metadata": {},
     "output_type": "execute_result"
    },
    {
     "data": {
      "image/png": "[encoded data removed]",
      "text/plain": [
       "<Figure size 1200x800 with 1 Axes>"
      ]
     },
     "metadata": {},
     "output_type": "display_data"
    }
   ],
   "source": [
    "df_tipo_precio = df.groupby('Tipo')[['Valor']].mean().sort_values('Valor')\n",
    "df_tipo_precio.plot(kind=\"barh\", figsize=(12, 8), color=\"purple\")\n",
    "# valores promedio de alquiler por tipo de propiedad"
   ]
  },
  {
   "cell_type": "code",
   "execution_count": 134,
   "id": "9117f5f0",
   "metadata": {},
   "outputs": [
    {
     "data": {
      "text/plain": [
       "array(['Cocineta', 'Casa', 'Departamento', 'Casa de Condominio',\n",
       "       'Departamento en Hotel', 'Casa de Vecindad', 'Loft', 'Rancho',\n",
       "       'Posada/Chalé', 'Estudio'], dtype=object)"
      ]
     },
     "execution_count": 134,
     "metadata": {},
     "output_type": "execute_result"
    }
   ],
   "source": [
    "# ¿Cuál es el porcentaje de cada tipo de propiedad en nuestra base de datos?\n",
    "df.Tipo.unique()"
   ]
  },
  {
   "cell_type": "code",
   "execution_count": 135,
   "id": "a9abc2ca",
   "metadata": {},
   "outputs": [
    {
     "data": {
      "application/vnd.microsoft.datawrangler.viewer.v0+json": {
       "columns": [
        {
         "name": "Tipo",
         "rawType": "object",
         "type": "string"
        },
        {
         "name": "count",
         "rawType": "int64",
         "type": "integer"
        }
       ],
       "ref": "5c06dfff-2581-4210-8c78-c3118805410d",
       "rows": [
        [
         "Departamento",
         "14764"
        ],
        [
         "Cocineta",
         "726"
        ],
        [
         "Casa de Condominio",
         "610"
        ],
        [
         "Casa",
         "545"
        ],
        [
         "Departamento en Hotel",
         "455"
        ],
        [
         "Casa de Vecindad",
         "158"
        ],
        [
         "Loft",
         "38"
        ],
        [
         "Rancho",
         "8"
        ],
        [
         "Estudio",
         "4"
        ],
        [
         "Posada/Chalé",
         "1"
        ]
       ],
       "shape": {
        "columns": 1,
        "rows": 10
       }
      },
      "text/plain": [
       "Tipo\n",
       "Departamento             14764\n",
       "Cocineta                   726\n",
       "Casa de Condominio         610\n",
       "Casa                       545\n",
       "Departamento en Hotel      455\n",
       "Casa de Vecindad           158\n",
       "Loft                        38\n",
       "Rancho                       8\n",
       "Estudio                      4\n",
       "Posada/Chalé                 1\n",
       "Name: count, dtype: int64"
      ]
     },
     "execution_count": 135,
     "metadata": {},
     "output_type": "execute_result"
    }
   ],
   "source": [
    "# Cuenta las ocurrencias de cada tipo\n",
    "df.Tipo.value_counts()"
   ]
  },
  {
   "cell_type": "code",
   "execution_count": 136,
   "id": "3b7235f3",
   "metadata": {},
   "outputs": [
    {
     "data": {
      "application/vnd.microsoft.datawrangler.viewer.v0+json": {
       "columns": [
        {
         "name": "Tipo",
         "rawType": "object",
         "type": "string"
        },
        {
         "name": "proportion",
         "rawType": "float64",
         "type": "float"
        }
       ],
       "ref": "6214c316-831e-40ad-a05d-e294099f501b",
       "rows": [
        [
         "Departamento",
         "0.8529666647408862"
        ],
        [
         "Cocineta",
         "0.04194349760240337"
        ],
        [
         "Casa de Condominio",
         "0.03524178173204691"
        ],
        [
         "Casa",
         "0.031486509908140274"
        ],
        [
         "Departamento en Hotel",
         "0.02628690276734647"
        ],
        [
         "Casa de Vecindad",
         "0.009128199202726905"
        ],
        [
         "Loft",
         "0.0021953896816684962"
        ],
        [
         "Rancho",
         "0.00046218730140389395"
        ],
        [
         "Estudio",
         "0.00023109365070194697"
        ],
        [
         "Posada/Chalé",
         "5.7773412675486743e-05"
        ]
       ],
       "shape": {
        "columns": 1,
        "rows": 10
       }
      },
      "text/plain": [
       "Tipo\n",
       "Departamento             0.852967\n",
       "Cocineta                 0.041943\n",
       "Casa de Condominio       0.035242\n",
       "Casa                     0.031487\n",
       "Departamento en Hotel    0.026287\n",
       "Casa de Vecindad         0.009128\n",
       "Loft                     0.002195\n",
       "Rancho                   0.000462\n",
       "Estudio                  0.000231\n",
       "Posada/Chalé             0.000058\n",
       "Name: proportion, dtype: float64"
      ]
     },
     "execution_count": 136,
     "metadata": {},
     "output_type": "execute_result"
    }
   ],
   "source": [
    "# Genera los porcentajes\n",
    "df.Tipo.value_counts(normalize=True)"
   ]
  },
  {
   "cell_type": "code",
   "execution_count": 137,
   "id": "00f8df1a",
   "metadata": {},
   "outputs": [
    {
     "data": {
      "text/plain": [
       "<Axes: xlabel='Tipo de inmuebles', ylabel='Porcentajes'>"
      ]
     },
     "execution_count": 137,
     "metadata": {},
     "output_type": "execute_result"
    },
    {
     "data": {
      "image/png": "[encoded data removed]",
      "text/plain": [
       "<Figure size 1200x800 with 1 Axes>"
      ]
     },
     "metadata": {},
     "output_type": "display_data"
    }
   ],
   "source": [
    "porcentaje_tipo = df.Tipo.value_counts(normalize=True).to_frame()\n",
    "porcentaje_tipo.plot(kind='bar', figsize=(12, 8), color='green', xlabel='Tipo de inmuebles', ylabel=\"Porcentajes\")"
   ]
  },
  {
   "cell_type": "code",
   "execution_count": 138,
   "id": "b44f3a05",
   "metadata": {},
   "outputs": [
    {
     "data": {
      "text/plain": [
       "(14764, 9)"
      ]
     },
     "execution_count": 138,
     "metadata": {},
     "output_type": "execute_result"
    }
   ],
   "source": [
    "df_departamentos = df.query('Tipo == \"Departamento\"')\n",
    "df_departamentos.head()\n",
    "df_departamentos.shape\n",
    "# df_departamentos"
   ]
  },
  {
   "cell_type": "code",
   "execution_count": 139,
   "id": "41fdc33b",
   "metadata": {},
   "outputs": [
    {
     "data": {
      "application/vnd.microsoft.datawrangler.viewer.v0+json": {
       "columns": [
        {
         "name": "Tipo",
         "rawType": "object",
         "type": "string"
        },
        {
         "name": "proportion",
         "rawType": "float64",
         "type": "float"
        }
       ],
       "ref": "5fa32ac0-26cc-4644-8e88-8411b7c369df",
       "rows": [
        [
         "Departamento",
         "1.0"
        ]
       ],
       "shape": {
        "columns": 1,
        "rows": 1
       }
      },
      "text/plain": [
       "Tipo\n",
       "Departamento    1.0\n",
       "Name: proportion, dtype: float64"
      ]
     },
     "execution_count": 139,
     "metadata": {},
     "output_type": "execute_result"
    }
   ],
   "source": [
    "df_departamentos.Tipo.value_counts(normalize=True)"
   ]
  },
  {
   "cell_type": "markdown",
   "id": "38dfa7b3",
   "metadata": {},
   "source": [
    "# Manejo de datos nulos\n",
    "\n",
    "verificar la existencia y tratar los datos nulos"
   ]
  },
  {
   "cell_type": "code",
   "execution_count": 140,
   "id": "3d9382c4",
   "metadata": {},
   "outputs": [
    {
     "data": {
      "application/vnd.microsoft.datawrangler.viewer.v0+json": {
       "columns": [
        {
         "name": "index",
         "rawType": "int64",
         "type": "integer"
        },
        {
         "name": "Tipo",
         "rawType": "bool",
         "type": "boolean"
        },
        {
         "name": "Colonia",
         "rawType": "bool",
         "type": "boolean"
        },
        {
         "name": "Habitaciones",
         "rawType": "bool",
         "type": "boolean"
        },
        {
         "name": "Garages",
         "rawType": "bool",
         "type": "boolean"
        },
        {
         "name": "Suites",
         "rawType": "bool",
         "type": "boolean"
        },
        {
         "name": "Area",
         "rawType": "bool",
         "type": "boolean"
        },
        {
         "name": "Valor",
         "rawType": "bool",
         "type": "boolean"
        },
        {
         "name": "Condominio",
         "rawType": "bool",
         "type": "boolean"
        },
        {
         "name": "Impuesto",
         "rawType": "bool",
         "type": "boolean"
        }
       ],
       "ref": "07141dac-4ed1-4b97-93c2-b3e7cf52f378",
       "rows": [
        [
         "3",
         "False",
         "False",
         "False",
         "False",
         "False",
         "False",
         "False",
         "False",
         "False"
        ],
        [
         "4",
         "False",
         "False",
         "False",
         "False",
         "False",
         "False",
         "False",
         "False",
         "True"
        ],
        [
         "7",
         "False",
         "False",
         "False",
         "False",
         "False",
         "False",
         "False",
         "True",
         "True"
        ],
        [
         "8",
         "False",
         "False",
         "False",
         "False",
         "False",
         "False",
         "False",
         "False",
         "False"
        ],
        [
         "10",
         "False",
         "False",
         "False",
         "False",
         "False",
         "False",
         "False",
         "False",
         "False"
        ],
        [
         "13",
         "False",
         "False",
         "False",
         "False",
         "False",
         "False",
         "False",
         "False",
         "False"
        ],
        [
         "14",
         "False",
         "False",
         "False",
         "False",
         "False",
         "False",
         "False",
         "False",
         "False"
        ],
        [
         "16",
         "False",
         "False",
         "False",
         "False",
         "False",
         "False",
         "False",
         "False",
         "True"
        ],
        [
         "18",
         "False",
         "False",
         "False",
         "False",
         "False",
         "False",
         "False",
         "False",
         "False"
        ],
        [
         "19",
         "False",
         "False",
         "False",
         "False",
         "False",
         "False",
         "False",
         "False",
         "False"
        ],
        [
         "20",
         "False",
         "False",
         "False",
         "False",
         "False",
         "False",
         "False",
         "False",
         "False"
        ],
        [
         "21",
         "False",
         "False",
         "False",
         "False",
         "False",
         "False",
         "False",
         "False",
         "True"
        ],
        [
         "22",
         "False",
         "False",
         "False",
         "False",
         "False",
         "False",
         "False",
         "False",
         "False"
        ],
        [
         "23",
         "False",
         "False",
         "False",
         "False",
         "False",
         "False",
         "False",
         "False",
         "False"
        ],
        [
         "25",
         "False",
         "False",
         "False",
         "False",
         "False",
         "False",
         "False",
         "False",
         "False"
        ],
        [
         "28",
         "False",
         "False",
         "False",
         "False",
         "False",
         "False",
         "False",
         "False",
         "False"
        ],
        [
         "29",
         "False",
         "False",
         "False",
         "False",
         "False",
         "False",
         "False",
         "False",
         "False"
        ],
        [
         "30",
         "False",
         "False",
         "False",
         "False",
         "False",
         "False",
         "False",
         "False",
         "False"
        ],
        [
         "33",
         "False",
         "False",
         "False",
         "False",
         "False",
         "False",
         "False",
         "False",
         "False"
        ],
        [
         "34",
         "False",
         "False",
         "False",
         "False",
         "False",
         "False",
         "False",
         "False",
         "False"
        ],
        [
         "37",
         "False",
         "False",
         "False",
         "False",
         "False",
         "False",
         "False",
         "False",
         "False"
        ],
        [
         "38",
         "False",
         "False",
         "False",
         "False",
         "False",
         "False",
         "False",
         "False",
         "False"
        ],
        [
         "39",
         "False",
         "False",
         "False",
         "False",
         "False",
         "False",
         "False",
         "False",
         "False"
        ],
        [
         "42",
         "False",
         "False",
         "False",
         "False",
         "False",
         "False",
         "False",
         "False",
         "False"
        ],
        [
         "43",
         "False",
         "False",
         "False",
         "False",
         "False",
         "False",
         "False",
         "False",
         "False"
        ],
        [
         "44",
         "False",
         "False",
         "False",
         "False",
         "False",
         "False",
         "False",
         "False",
         "False"
        ],
        [
         "45",
         "False",
         "False",
         "False",
         "False",
         "False",
         "False",
         "False",
         "False",
         "True"
        ],
        [
         "47",
         "False",
         "False",
         "False",
         "False",
         "False",
         "False",
         "False",
         "False",
         "False"
        ],
        [
         "48",
         "False",
         "False",
         "False",
         "False",
         "False",
         "False",
         "False",
         "False",
         "True"
        ],
        [
         "49",
         "False",
         "False",
         "False",
         "False",
         "False",
         "False",
         "True",
         "False",
         "False"
        ],
        [
         "56",
         "False",
         "False",
         "False",
         "False",
         "False",
         "False",
         "False",
         "False",
         "False"
        ],
        [
         "57",
         "False",
         "False",
         "False",
         "False",
         "False",
         "False",
         "False",
         "False",
         "False"
        ],
        [
         "58",
         "False",
         "False",
         "False",
         "False",
         "False",
         "False",
         "False",
         "False",
         "False"
        ],
        [
         "59",
         "False",
         "False",
         "False",
         "False",
         "False",
         "False",
         "False",
         "False",
         "False"
        ],
        [
         "60",
         "False",
         "False",
         "False",
         "False",
         "False",
         "False",
         "False",
         "False",
         "False"
        ],
        [
         "61",
         "False",
         "False",
         "False",
         "False",
         "False",
         "False",
         "False",
         "False",
         "False"
        ],
        [
         "62",
         "False",
         "False",
         "False",
         "False",
         "False",
         "False",
         "False",
         "False",
         "False"
        ],
        [
         "63",
         "False",
         "False",
         "False",
         "False",
         "False",
         "False",
         "False",
         "False",
         "False"
        ],
        [
         "64",
         "False",
         "False",
         "False",
         "False",
         "False",
         "False",
         "False",
         "False",
         "True"
        ],
        [
         "66",
         "False",
         "False",
         "False",
         "False",
         "False",
         "False",
         "False",
         "False",
         "False"
        ],
        [
         "68",
         "False",
         "False",
         "False",
         "False",
         "False",
         "False",
         "False",
         "False",
         "False"
        ],
        [
         "71",
         "False",
         "False",
         "False",
         "False",
         "False",
         "False",
         "False",
         "False",
         "False"
        ],
        [
         "72",
         "False",
         "False",
         "False",
         "False",
         "False",
         "False",
         "False",
         "False",
         "False"
        ],
        [
         "74",
         "False",
         "False",
         "False",
         "False",
         "False",
         "False",
         "False",
         "True",
         "True"
        ],
        [
         "75",
         "False",
         "False",
         "False",
         "False",
         "False",
         "False",
         "False",
         "False",
         "False"
        ],
        [
         "79",
         "False",
         "False",
         "False",
         "False",
         "False",
         "False",
         "False",
         "False",
         "False"
        ],
        [
         "80",
         "False",
         "False",
         "False",
         "False",
         "False",
         "False",
         "False",
         "False",
         "False"
        ],
        [
         "82",
         "False",
         "False",
         "False",
         "False",
         "False",
         "False",
         "False",
         "False",
         "False"
        ],
        [
         "83",
         "False",
         "False",
         "False",
         "False",
         "False",
         "False",
         "False",
         "False",
         "False"
        ],
        [
         "84",
         "False",
         "False",
         "False",
         "False",
         "False",
         "False",
         "False",
         "False",
         "True"
        ]
       ],
       "shape": {
        "columns": 9,
        "rows": 14764
       }
      },
      "text/html": [
       "<div>\n",
       "<style scoped>\n",
       "    .dataframe tbody tr th:only-of-type {\n",
       "        vertical-align: middle;\n",
       "    }\n",
       "\n",
       "    .dataframe tbody tr th {\n",
       "        vertical-align: top;\n",
       "    }\n",
       "\n",
       "    .dataframe thead th {\n",
       "        text-align: right;\n",
       "    }\n",
       "</style>\n",
       "<table border=\"1\" class=\"dataframe\">\n",
       "  <thead>\n",
       "    <tr style=\"text-align: right;\">\n",
       "      <th></th>\n",
       "      <th>Tipo</th>\n",
       "      <th>Colonia</th>\n",
       "      <th>Habitaciones</th>\n",
       "      <th>Garages</th>\n",
       "      <th>Suites</th>\n",
       "      <th>Area</th>\n",
       "      <th>Valor</th>\n",
       "      <th>Condominio</th>\n",
       "      <th>Impuesto</th>\n",
       "    </tr>\n",
       "  </thead>\n",
       "  <tbody>\n",
       "    <tr>\n",
       "      <th>3</th>\n",
       "      <td>False</td>\n",
       "      <td>False</td>\n",
       "      <td>False</td>\n",
       "      <td>False</td>\n",
       "      <td>False</td>\n",
       "      <td>False</td>\n",
       "      <td>False</td>\n",
       "      <td>False</td>\n",
       "      <td>False</td>\n",
       "    </tr>\n",
       "    <tr>\n",
       "      <th>4</th>\n",
       "      <td>False</td>\n",
       "      <td>False</td>\n",
       "      <td>False</td>\n",
       "      <td>False</td>\n",
       "      <td>False</td>\n",
       "      <td>False</td>\n",
       "      <td>False</td>\n",
       "      <td>False</td>\n",
       "      <td>True</td>\n",
       "    </tr>\n",
       "    <tr>\n",
       "      <th>7</th>\n",
       "      <td>False</td>\n",
       "      <td>False</td>\n",
       "      <td>False</td>\n",
       "      <td>False</td>\n",
       "      <td>False</td>\n",
       "      <td>False</td>\n",
       "      <td>False</td>\n",
       "      <td>True</td>\n",
       "      <td>True</td>\n",
       "    </tr>\n",
       "    <tr>\n",
       "      <th>8</th>\n",
       "      <td>False</td>\n",
       "      <td>False</td>\n",
       "      <td>False</td>\n",
       "      <td>False</td>\n",
       "      <td>False</td>\n",
       "      <td>False</td>\n",
       "      <td>False</td>\n",
       "      <td>False</td>\n",
       "      <td>False</td>\n",
       "    </tr>\n",
       "    <tr>\n",
       "      <th>10</th>\n",
       "      <td>False</td>\n",
       "      <td>False</td>\n",
       "      <td>False</td>\n",
       "      <td>False</td>\n",
       "      <td>False</td>\n",
       "      <td>False</td>\n",
       "      <td>False</td>\n",
       "      <td>False</td>\n",
       "      <td>False</td>\n",
       "    </tr>\n",
       "    <tr>\n",
       "      <th>...</th>\n",
       "      <td>...</td>\n",
       "      <td>...</td>\n",
       "      <td>...</td>\n",
       "      <td>...</td>\n",
       "      <td>...</td>\n",
       "      <td>...</td>\n",
       "      <td>...</td>\n",
       "      <td>...</td>\n",
       "      <td>...</td>\n",
       "    </tr>\n",
       "    <tr>\n",
       "      <th>25111</th>\n",
       "      <td>False</td>\n",
       "      <td>False</td>\n",
       "      <td>False</td>\n",
       "      <td>False</td>\n",
       "      <td>False</td>\n",
       "      <td>False</td>\n",
       "      <td>False</td>\n",
       "      <td>False</td>\n",
       "      <td>False</td>\n",
       "    </tr>\n",
       "    <tr>\n",
       "      <th>25113</th>\n",
       "      <td>False</td>\n",
       "      <td>False</td>\n",
       "      <td>False</td>\n",
       "      <td>False</td>\n",
       "      <td>False</td>\n",
       "      <td>False</td>\n",
       "      <td>False</td>\n",
       "      <td>False</td>\n",
       "      <td>False</td>\n",
       "    </tr>\n",
       "    <tr>\n",
       "      <th>25114</th>\n",
       "      <td>False</td>\n",
       "      <td>False</td>\n",
       "      <td>False</td>\n",
       "      <td>False</td>\n",
       "      <td>False</td>\n",
       "      <td>False</td>\n",
       "      <td>False</td>\n",
       "      <td>False</td>\n",
       "      <td>False</td>\n",
       "    </tr>\n",
       "    <tr>\n",
       "      <th>25118</th>\n",
       "      <td>False</td>\n",
       "      <td>False</td>\n",
       "      <td>False</td>\n",
       "      <td>False</td>\n",
       "      <td>False</td>\n",
       "      <td>False</td>\n",
       "      <td>False</td>\n",
       "      <td>False</td>\n",
       "      <td>False</td>\n",
       "    </tr>\n",
       "    <tr>\n",
       "      <th>25119</th>\n",
       "      <td>False</td>\n",
       "      <td>False</td>\n",
       "      <td>False</td>\n",
       "      <td>False</td>\n",
       "      <td>False</td>\n",
       "      <td>False</td>\n",
       "      <td>False</td>\n",
       "      <td>False</td>\n",
       "      <td>True</td>\n",
       "    </tr>\n",
       "  </tbody>\n",
       "</table>\n",
       "<p>14764 rows × 9 columns</p>\n",
       "</div>"
      ],
      "text/plain": [
       "        Tipo  Colonia  Habitaciones  Garages  Suites   Area  Valor  \\\n",
       "3      False    False         False    False   False  False  False   \n",
       "4      False    False         False    False   False  False  False   \n",
       "7      False    False         False    False   False  False  False   \n",
       "8      False    False         False    False   False  False  False   \n",
       "10     False    False         False    False   False  False  False   \n",
       "...      ...      ...           ...      ...     ...    ...    ...   \n",
       "25111  False    False         False    False   False  False  False   \n",
       "25113  False    False         False    False   False  False  False   \n",
       "25114  False    False         False    False   False  False  False   \n",
       "25118  False    False         False    False   False  False  False   \n",
       "25119  False    False         False    False   False  False  False   \n",
       "\n",
       "       Condominio  Impuesto  \n",
       "3           False     False  \n",
       "4           False      True  \n",
       "7            True      True  \n",
       "8           False     False  \n",
       "10          False     False  \n",
       "...           ...       ...  \n",
       "25111       False     False  \n",
       "25113       False     False  \n",
       "25114       False     False  \n",
       "25118       False     False  \n",
       "25119       False      True  \n",
       "\n",
       "[14764 rows x 9 columns]"
      ]
     },
     "execution_count": 140,
     "metadata": {},
     "output_type": "execute_result"
    }
   ],
   "source": [
    "df_departamentos.isnull()"
   ]
  },
  {
   "cell_type": "code",
   "execution_count": 141,
   "id": "8caa6212",
   "metadata": {},
   "outputs": [
    {
     "data": {
      "application/vnd.microsoft.datawrangler.viewer.v0+json": {
       "columns": [
        {
         "name": "index",
         "rawType": "object",
         "type": "string"
        },
        {
         "name": "0",
         "rawType": "int64",
         "type": "integer"
        }
       ],
       "ref": "15bb29d5-7317-4060-898e-df31f04eaf74",
       "rows": [
        [
         "Tipo",
         "0"
        ],
        [
         "Colonia",
         "0"
        ],
        [
         "Habitaciones",
         "0"
        ],
        [
         "Garages",
         "0"
        ],
        [
         "Suites",
         "0"
        ],
        [
         "Area",
         "0"
        ],
        [
         "Valor",
         "7"
        ],
        [
         "Condominio",
         "493"
        ],
        [
         "Impuesto",
         "3797"
        ]
       ],
       "shape": {
        "columns": 1,
        "rows": 9
       }
      },
      "text/plain": [
       "Tipo               0\n",
       "Colonia            0\n",
       "Habitaciones       0\n",
       "Garages            0\n",
       "Suites             0\n",
       "Area               0\n",
       "Valor              7\n",
       "Condominio       493\n",
       "Impuesto        3797\n",
       "dtype: int64"
      ]
     },
     "execution_count": 141,
     "metadata": {},
     "output_type": "execute_result"
    }
   ],
   "source": [
    "# suma todos los null ya que la función is null nos retorna true si es null y como true es = 1 suma esos valores\n",
    "df_departamentos.isnull().sum()"
   ]
  },
  {
   "cell_type": "code",
   "execution_count": 142,
   "id": "c66eb04b",
   "metadata": {},
   "outputs": [
    {
     "data": {
      "application/vnd.microsoft.datawrangler.viewer.v0+json": {
       "columns": [
        {
         "name": "index",
         "rawType": "object",
         "type": "string"
        },
        {
         "name": "0",
         "rawType": "int64",
         "type": "integer"
        }
       ],
       "ref": "299dab79-0788-4ad5-b8ea-31e2046e055c",
       "rows": [
        [
         "Tipo",
         "0"
        ],
        [
         "Colonia",
         "0"
        ],
        [
         "Habitaciones",
         "0"
        ],
        [
         "Garages",
         "0"
        ],
        [
         "Suites",
         "0"
        ],
        [
         "Area",
         "0"
        ],
        [
         "Valor",
         "0"
        ],
        [
         "Condominio",
         "0"
        ],
        [
         "Impuesto",
         "0"
        ]
       ],
       "shape": {
        "columns": 1,
        "rows": 9
       }
      },
      "text/plain": [
       "Tipo            0\n",
       "Colonia         0\n",
       "Habitaciones    0\n",
       "Garages         0\n",
       "Suites          0\n",
       "Area            0\n",
       "Valor           0\n",
       "Condominio      0\n",
       "Impuesto        0\n",
       "dtype: int64"
      ]
     },
     "execution_count": 142,
     "metadata": {},
     "output_type": "execute_result"
    }
   ],
   "source": [
    "# En este caso rellenar los valores nulos con 0\n",
    "# ! El como se rellenan los datos nulos se base en los datos a analizar\n",
    "\n",
    "df_departamentos = df_departamentos.fillna(0)\n",
    "df_departamentos.isnull().sum()"
   ]
  },
  {
   "cell_type": "markdown",
   "id": "8ba846fd",
   "metadata": {},
   "source": [
    "## **Remover registros inconsistentes**\n",
    "\n",
    "Algunos registros en la base de datos no tienen mucho sentido, por ejemplo:\n",
    "\n",
    "Departamentos con un valor de alquiler igual a 0.\n",
    "\n",
    "Departamentos con un valor de condominio igual a 0.\n",
    "\n",
    "Estos registros son inconsistentes, por lo tanto, debemos eliminarlos de nuestra base de datos."
   ]
  },
  {
   "cell_type": "code",
   "execution_count": 143,
   "id": "1c980a8b",
   "metadata": {},
   "outputs": [
    {
     "data": {
      "application/vnd.microsoft.datawrangler.viewer.v0+json": {
       "columns": [
        {
         "name": "index",
         "rawType": "int64",
         "type": "integer"
        },
        {
         "name": "Tipo",
         "rawType": "object",
         "type": "string"
        },
        {
         "name": "Colonia",
         "rawType": "object",
         "type": "string"
        },
        {
         "name": "Habitaciones",
         "rawType": "int64",
         "type": "integer"
        },
        {
         "name": "Garages",
         "rawType": "int64",
         "type": "integer"
        },
        {
         "name": "Suites",
         "rawType": "int64",
         "type": "integer"
        },
        {
         "name": "Area",
         "rawType": "int64",
         "type": "integer"
        },
        {
         "name": "Valor",
         "rawType": "float64",
         "type": "float"
        },
        {
         "name": "Condominio",
         "rawType": "float64",
         "type": "float"
        },
        {
         "name": "Impuesto",
         "rawType": "float64",
         "type": "float"
        }
       ],
       "ref": "eca02fb1-009e-4735-86ed-eab585555dce",
       "rows": [
        [
         "7",
         "Departamento",
         "Centro Histórico",
         "1",
         "0",
         "0",
         "36",
         "4200.0",
         "0.0",
         "0.0"
        ],
        [
         "49",
         "Departamento",
         "Santa Fe",
         "2",
         "1",
         "1",
         "70",
         "0.0",
         "3395.0",
         "238.0"
        ],
        [
         "74",
         "Departamento",
         "Ciudad de los Deportes",
         "2",
         "0",
         "0",
         "80",
         "3500.0",
         "0.0",
         "0.0"
        ],
        [
         "116",
         "Departamento",
         "El Rosedal",
         "2",
         "1",
         "0",
         "50",
         "3850.0",
         "0.0",
         "0.0"
        ],
        [
         "136",
         "Departamento",
         "Santa Fe",
         "1",
         "1",
         "1",
         "65",
         "8225.0",
         "0.0",
         "0.0"
        ],
        [
         "185",
         "Departamento",
         "Villa de Cortés",
         "1",
         "0",
         "0",
         "46",
         "3500.0",
         "0.0",
         "0.0"
        ],
        [
         "199",
         "Departamento",
         "Lomas de Chapultepec",
         "3",
         "0",
         "1",
         "85",
         "29750.0",
         "0.0",
         "6016.5"
        ],
        [
         "432",
         "Departamento",
         "Villa Coapa",
         "2",
         "1",
         "0",
         "83",
         "3325.0",
         "0.0",
         "45.5"
        ],
        [
         "504",
         "Departamento",
         "El Contadero",
         "2",
         "0",
         "0",
         "92",
         "5600.0",
         "0.0",
         "346.5"
        ],
        [
         "527",
         "Departamento",
         "Ciudad de los Deportes",
         "1",
         "0",
         "1",
         "50",
         "2100.0",
         "0.0",
         "0.0"
        ],
        [
         "552",
         "Departamento",
         "Narvarte",
         "2",
         "0",
         "1",
         "80",
         "4550.0",
         "0.0",
         "287.0"
        ],
        [
         "616",
         "Departamento",
         "Condesa",
         "2",
         "0",
         "0",
         "56",
         "10500.0",
         "0.0",
         "0.0"
        ],
        [
         "673",
         "Departamento",
         "San Andrés Tetepilco",
         "1",
         "0",
         "0",
         "58",
         "3325.0",
         "0.0",
         "0.0"
        ],
        [
         "681",
         "Departamento",
         "El Rosedal",
         "1",
         "0",
         "0",
         "33",
         "2625.0",
         "0.0",
         "0.0"
        ],
        [
         "719",
         "Departamento",
         "Loma Bonita",
         "1",
         "0",
         "0",
         "60",
         "2450.0",
         "0.0",
         "0.0"
        ],
        [
         "860",
         "Departamento",
         "Lindavista",
         "1",
         "0",
         "0",
         "15",
         "1225.0",
         "0.0",
         "0.0"
        ],
        [
         "961",
         "Departamento",
         "Condesa",
         "1",
         "0",
         "0",
         "25",
         "7000.0",
         "0.0",
         "0.0"
        ],
        [
         "1058",
         "Departamento",
         "Loma Bonita",
         "1",
         "0",
         "0",
         "30",
         "1575.0",
         "0.0",
         "0.0"
        ],
        [
         "1070",
         "Departamento",
         "Moctezuma",
         "2",
         "0",
         "0",
         "70",
         "3500.0",
         "0.0",
         "0.0"
        ],
        [
         "1095",
         "Departamento",
         "Condesa",
         "3",
         "0",
         "1",
         "110",
         "28000.0",
         "0.0",
         "0.0"
        ],
        [
         "1216",
         "Departamento",
         "Condesa",
         "2",
         "0",
         "1",
         "70",
         "14000.0",
         "0.0",
         "0.0"
        ],
        [
         "1305",
         "Departamento",
         "Potrero de San Bernardino",
         "1",
         "0",
         "0",
         "25",
         "1120.0",
         "0.0",
         "0.0"
        ],
        [
         "1421",
         "Departamento",
         "Arboledas",
         "3",
         "1",
         "1",
         "146",
         "8400.0",
         "0.0",
         "448.0"
        ],
        [
         "1460",
         "Departamento",
         "Santa Fe",
         "2",
         "1",
         "1",
         "78",
         "10500.0",
         "0.0",
         "0.0"
        ],
        [
         "1614",
         "Departamento",
         "Residencial Emiliano Zapata",
         "2",
         "1",
         "0",
         "75",
         "3500.0",
         "0.0",
         "0.0"
        ],
        [
         "1648",
         "Departamento",
         "Napoles",
         "2",
         "0",
         "0",
         "75",
         "0.0",
         "3073.0",
         "0.0"
        ],
        [
         "1688",
         "Departamento",
         "Nueva Santa María",
         "3",
         "0",
         "0",
         "75",
         "4550.0",
         "0.0",
         "0.0"
        ],
        [
         "1812",
         "Departamento",
         "San Jerónimo",
         "3",
         "1",
         "1",
         "115",
         "13825.0",
         "0.0",
         "0.0"
        ],
        [
         "1826",
         "Departamento",
         "Condesa",
         "1",
         "0",
         "0",
         "20",
         "10500.0",
         "0.0",
         "0.0"
        ],
        [
         "1857",
         "Departamento",
         "Villa de Cortés",
         "2",
         "0",
         "0",
         "117",
         "4550.0",
         "0.0",
         "385.0"
        ],
        [
         "1874",
         "Departamento",
         "Santa Marta Acatitla",
         "2",
         "0",
         "0",
         "40",
         "2100.0",
         "0.0",
         "0.0"
        ],
        [
         "1892",
         "Departamento",
         "Condesa",
         "1",
         "0",
         "0",
         "55",
         "8750.0",
         "0.0",
         "0.0"
        ],
        [
         "1924",
         "Departamento",
         "Culhuacán CTM",
         "2",
         "0",
         "0",
         "96",
         "4375.0",
         "0.0",
         "269.5"
        ],
        [
         "1946",
         "Departamento",
         "Lomas de Chapultepec",
         "3",
         "0",
         "0",
         "90",
         "35000.0",
         "0.0",
         "0.0"
        ],
        [
         "1993",
         "Departamento",
         "Condesa",
         "1",
         "0",
         "1",
         "30",
         "9450.0",
         "0.0",
         "0.0"
        ],
        [
         "2143",
         "Departamento",
         "Loma Bonita",
         "2",
         "0",
         "0",
         "57",
         "3325.0",
         "0.0",
         "0.0"
        ],
        [
         "2211",
         "Departamento",
         "Roma",
         "2",
         "0",
         "0",
         "95",
         "0.0",
         "3535.0",
         "595.0"
        ],
        [
         "2236",
         "Departamento",
         "Condesa",
         "2",
         "0",
         "0",
         "72",
         "0.0",
         "2975.0",
         "0.0"
        ],
        [
         "2240",
         "Departamento",
         "Loma Bonita",
         "2",
         "0",
         "0",
         "58",
         "2975.0",
         "0.0",
         "0.0"
        ],
        [
         "2245",
         "Departamento",
         "Condesa",
         "2",
         "0",
         "0",
         "45",
         "8750.0",
         "0.0",
         "0.0"
        ],
        [
         "2248",
         "Departamento",
         "Santa Fe",
         "1",
         "1",
         "0",
         "84",
         "14000.0",
         "0.0",
         "0.0"
        ],
        [
         "2295",
         "Departamento",
         "Condesa",
         "1",
         "0",
         "0",
         "35",
         "15750.0",
         "0.0",
         "0.0"
        ],
        [
         "2335",
         "Departamento",
         "Villa de Guadalupe",
         "1",
         "1",
         "0",
         "36",
         "3500.0",
         "0.0",
         "0.0"
        ],
        [
         "2404",
         "Departamento",
         "Condesa",
         "2",
         "0",
         "0",
         "65",
         "5250.0",
         "0.0",
         "371.0"
        ],
        [
         "2414",
         "Departamento",
         "Nativitas",
         "2",
         "0",
         "0",
         "50",
         "2625.0",
         "0.0",
         "0.0"
        ],
        [
         "2425",
         "Departamento",
         "San Rafael",
         "2",
         "0",
         "0",
         "55",
         "4550.0",
         "0.0",
         "59.5"
        ],
        [
         "2512",
         "Departamento",
         "Coyoacán",
         "4",
         "2",
         "0",
         "300",
         "105000.0",
         "0.0",
         "0.0"
        ],
        [
         "2826",
         "Departamento",
         "Condesa",
         "2",
         "0",
         "0",
         "110",
         "15750.0",
         "0.0",
         "0.0"
        ],
        [
         "2848",
         "Departamento",
         "Condesa",
         "1",
         "0",
         "0",
         "40",
         "5950.0",
         "0.0",
         "0.0"
        ],
        [
         "2852",
         "Departamento",
         "Condesa",
         "2",
         "1",
         "0",
         "80",
         "12250.0",
         "0.0",
         "0.0"
        ]
       ],
       "shape": {
        "columns": 9,
        "rows": 500
       }
      },
      "text/html": [
       "<div>\n",
       "<style scoped>\n",
       "    .dataframe tbody tr th:only-of-type {\n",
       "        vertical-align: middle;\n",
       "    }\n",
       "\n",
       "    .dataframe tbody tr th {\n",
       "        vertical-align: top;\n",
       "    }\n",
       "\n",
       "    .dataframe thead th {\n",
       "        text-align: right;\n",
       "    }\n",
       "</style>\n",
       "<table border=\"1\" class=\"dataframe\">\n",
       "  <thead>\n",
       "    <tr style=\"text-align: right;\">\n",
       "      <th></th>\n",
       "      <th>Tipo</th>\n",
       "      <th>Colonia</th>\n",
       "      <th>Habitaciones</th>\n",
       "      <th>Garages</th>\n",
       "      <th>Suites</th>\n",
       "      <th>Area</th>\n",
       "      <th>Valor</th>\n",
       "      <th>Condominio</th>\n",
       "      <th>Impuesto</th>\n",
       "    </tr>\n",
       "  </thead>\n",
       "  <tbody>\n",
       "    <tr>\n",
       "      <th>7</th>\n",
       "      <td>Departamento</td>\n",
       "      <td>Centro Histórico</td>\n",
       "      <td>1</td>\n",
       "      <td>0</td>\n",
       "      <td>0</td>\n",
       "      <td>36</td>\n",
       "      <td>4200.0</td>\n",
       "      <td>0.0</td>\n",
       "      <td>0.0</td>\n",
       "    </tr>\n",
       "    <tr>\n",
       "      <th>49</th>\n",
       "      <td>Departamento</td>\n",
       "      <td>Santa Fe</td>\n",
       "      <td>2</td>\n",
       "      <td>1</td>\n",
       "      <td>1</td>\n",
       "      <td>70</td>\n",
       "      <td>0.0</td>\n",
       "      <td>3395.0</td>\n",
       "      <td>238.0</td>\n",
       "    </tr>\n",
       "    <tr>\n",
       "      <th>74</th>\n",
       "      <td>Departamento</td>\n",
       "      <td>Ciudad de los Deportes</td>\n",
       "      <td>2</td>\n",
       "      <td>0</td>\n",
       "      <td>0</td>\n",
       "      <td>80</td>\n",
       "      <td>3500.0</td>\n",
       "      <td>0.0</td>\n",
       "      <td>0.0</td>\n",
       "    </tr>\n",
       "    <tr>\n",
       "      <th>116</th>\n",
       "      <td>Departamento</td>\n",
       "      <td>El Rosedal</td>\n",
       "      <td>2</td>\n",
       "      <td>1</td>\n",
       "      <td>0</td>\n",
       "      <td>50</td>\n",
       "      <td>3850.0</td>\n",
       "      <td>0.0</td>\n",
       "      <td>0.0</td>\n",
       "    </tr>\n",
       "    <tr>\n",
       "      <th>136</th>\n",
       "      <td>Departamento</td>\n",
       "      <td>Santa Fe</td>\n",
       "      <td>1</td>\n",
       "      <td>1</td>\n",
       "      <td>1</td>\n",
       "      <td>65</td>\n",
       "      <td>8225.0</td>\n",
       "      <td>0.0</td>\n",
       "      <td>0.0</td>\n",
       "    </tr>\n",
       "    <tr>\n",
       "      <th>...</th>\n",
       "      <td>...</td>\n",
       "      <td>...</td>\n",
       "      <td>...</td>\n",
       "      <td>...</td>\n",
       "      <td>...</td>\n",
       "      <td>...</td>\n",
       "      <td>...</td>\n",
       "      <td>...</td>\n",
       "      <td>...</td>\n",
       "    </tr>\n",
       "    <tr>\n",
       "      <th>24721</th>\n",
       "      <td>Departamento</td>\n",
       "      <td>Doctores</td>\n",
       "      <td>2</td>\n",
       "      <td>0</td>\n",
       "      <td>0</td>\n",
       "      <td>43</td>\n",
       "      <td>3150.0</td>\n",
       "      <td>0.0</td>\n",
       "      <td>56.0</td>\n",
       "    </tr>\n",
       "    <tr>\n",
       "      <th>24736</th>\n",
       "      <td>Departamento</td>\n",
       "      <td>Condesa</td>\n",
       "      <td>1</td>\n",
       "      <td>0</td>\n",
       "      <td>0</td>\n",
       "      <td>30</td>\n",
       "      <td>9100.0</td>\n",
       "      <td>0.0</td>\n",
       "      <td>0.0</td>\n",
       "    </tr>\n",
       "    <tr>\n",
       "      <th>24866</th>\n",
       "      <td>Departamento</td>\n",
       "      <td>Condesa</td>\n",
       "      <td>3</td>\n",
       "      <td>0</td>\n",
       "      <td>0</td>\n",
       "      <td>130</td>\n",
       "      <td>16100.0</td>\n",
       "      <td>0.0</td>\n",
       "      <td>0.0</td>\n",
       "    </tr>\n",
       "    <tr>\n",
       "      <th>24892</th>\n",
       "      <td>Departamento</td>\n",
       "      <td>Loma Bonita</td>\n",
       "      <td>1</td>\n",
       "      <td>0</td>\n",
       "      <td>0</td>\n",
       "      <td>40</td>\n",
       "      <td>1925.0</td>\n",
       "      <td>0.0</td>\n",
       "      <td>0.0</td>\n",
       "    </tr>\n",
       "    <tr>\n",
       "      <th>25014</th>\n",
       "      <td>Departamento</td>\n",
       "      <td>Culhuacán CTM</td>\n",
       "      <td>3</td>\n",
       "      <td>0</td>\n",
       "      <td>1</td>\n",
       "      <td>70</td>\n",
       "      <td>4200.0</td>\n",
       "      <td>0.0</td>\n",
       "      <td>0.0</td>\n",
       "    </tr>\n",
       "  </tbody>\n",
       "</table>\n",
       "<p>500 rows × 9 columns</p>\n",
       "</div>"
      ],
      "text/plain": [
       "               Tipo                 Colonia  Habitaciones  Garages  Suites  \\\n",
       "7      Departamento        Centro Histórico             1        0       0   \n",
       "49     Departamento                Santa Fe             2        1       1   \n",
       "74     Departamento  Ciudad de los Deportes             2        0       0   \n",
       "116    Departamento              El Rosedal             2        1       0   \n",
       "136    Departamento                Santa Fe             1        1       1   \n",
       "...             ...                     ...           ...      ...     ...   \n",
       "24721  Departamento                Doctores             2        0       0   \n",
       "24736  Departamento                 Condesa             1        0       0   \n",
       "24866  Departamento                 Condesa             3        0       0   \n",
       "24892  Departamento             Loma Bonita             1        0       0   \n",
       "25014  Departamento           Culhuacán CTM             3        0       1   \n",
       "\n",
       "       Area    Valor  Condominio  Impuesto  \n",
       "7        36   4200.0         0.0       0.0  \n",
       "49       70      0.0      3395.0     238.0  \n",
       "74       80   3500.0         0.0       0.0  \n",
       "116      50   3850.0         0.0       0.0  \n",
       "136      65   8225.0         0.0       0.0  \n",
       "...     ...      ...         ...       ...  \n",
       "24721    43   3150.0         0.0      56.0  \n",
       "24736    30   9100.0         0.0       0.0  \n",
       "24866   130  16100.0         0.0       0.0  \n",
       "24892    40   1925.0         0.0       0.0  \n",
       "25014    70   4200.0         0.0       0.0  \n",
       "\n",
       "[500 rows x 9 columns]"
      ]
     },
     "execution_count": 143,
     "metadata": {},
     "output_type": "execute_result"
    }
   ],
   "source": [
    "df_departamentos.query(\"Valor == 0 | Condominio == 0\")"
   ]
  },
  {
   "cell_type": "code",
   "execution_count": 144,
   "id": "05da5815",
   "metadata": {},
   "outputs": [
    {
     "data": {
      "text/plain": [
       "Index([    7,    49,    74,   116,   136,   185,   199,   432,   504,   527,\n",
       "       ...\n",
       "       24426, 24555, 24563, 24597, 24671, 24721, 24736, 24866, 24892, 25014],\n",
       "      dtype='int64', length=500)"
      ]
     },
     "execution_count": 144,
     "metadata": {},
     "output_type": "execute_result"
    }
   ],
   "source": [
    "df_departamentos.query('Valor == 0 | Condominio == 0').index"
   ]
  },
  {
   "cell_type": "code",
   "execution_count": 145,
   "id": "93532f8a",
   "metadata": {},
   "outputs": [
    {
     "data": {
      "text/plain": [
       "array(['Departamento'], dtype=object)"
      ]
     },
     "execution_count": 145,
     "metadata": {},
     "output_type": "execute_result"
    }
   ],
   "source": [
    "df_remover = df_departamentos.query('Valor == 0 | Condominio == 0').index\n",
    "# df_remover es nuestro filtro\n",
    "# El inplace es para realizarlo en el df directamente\n",
    "df_departamentos.drop(df_remover, axis=0, inplace=True)\n",
    "df_departamentos.query('Valor == 0 | Condominio == 0').index\n",
    "\n",
    "df_departamentos.Tipo.unique()"
   ]
  },
  {
   "cell_type": "code",
   "execution_count": 146,
   "id": "f7260932",
   "metadata": {},
   "outputs": [
    {
     "data": {
      "application/vnd.microsoft.datawrangler.viewer.v0+json": {
       "columns": [
        {
         "name": "index",
         "rawType": "int64",
         "type": "integer"
        },
        {
         "name": "Colonia",
         "rawType": "object",
         "type": "string"
        },
        {
         "name": "Habitaciones",
         "rawType": "int64",
         "type": "integer"
        },
        {
         "name": "Garages",
         "rawType": "int64",
         "type": "integer"
        },
        {
         "name": "Suites",
         "rawType": "int64",
         "type": "integer"
        },
        {
         "name": "Area",
         "rawType": "int64",
         "type": "integer"
        },
        {
         "name": "Valor",
         "rawType": "float64",
         "type": "float"
        },
        {
         "name": "Condominio",
         "rawType": "float64",
         "type": "float"
        },
        {
         "name": "Impuesto",
         "rawType": "float64",
         "type": "float"
        }
       ],
       "ref": "bc959d94-32ec-46f7-84a2-915b43f6b27d",
       "rows": [
        [
         "3",
         "Centro Histórico",
         "1",
         "0",
         "0",
         "15",
         "2800.0",
         "1365.0",
         "70.0"
        ],
        [
         "4",
         "Del Valle",
         "1",
         "0",
         "0",
         "48",
         "2800.0",
         "805.0",
         "0.0"
        ],
        [
         "8",
         "Condesa",
         "1",
         "0",
         "1",
         "40",
         "7000.0",
         "1963.5",
         "175.0"
        ],
        [
         "10",
         "Condesa",
         "4",
         "3",
         "1",
         "243",
         "45500.0",
         "7000.0",
         "2810.5"
        ],
        [
         "13",
         "Santa Fe",
         "2",
         "1",
         "1",
         "67",
         "5950.0",
         "2061.5",
         "514.5"
        ],
        [
         "14",
         "Narvarte",
         "2",
         "1",
         "0",
         "110",
         "6650.0",
         "2450.0",
         "483.0"
        ],
        [
         "16",
         "Narvarte",
         "2",
         "1",
         "0",
         "78",
         "7000.0",
         "2450.0",
         "0.0"
        ],
        [
         "18",
         "Coyoacán",
         "3",
         "1",
         "1",
         "125",
         "24500.0",
         "7350.0",
         "1620.5"
        ],
        [
         "19",
         "Narvarte",
         "1",
         "0",
         "0",
         "48",
         "2625.0",
         "2702.0",
         "87.5"
        ],
        [
         "20",
         "Santa Fe",
         "3",
         "3",
         "1",
         "175",
         "14700.0",
         "5250.0",
         "1750.0"
        ],
        [
         "21",
         "Roma",
         "2",
         "1",
         "0",
         "76",
         "8750.0",
         "2590.0",
         "0.0"
        ],
        [
         "22",
         "Condesa",
         "3",
         "1",
         "2",
         "378",
         "35000.0",
         "7525.0",
         "2450.0"
        ],
        [
         "23",
         "Condesa",
         "3",
         "0",
         "0",
         "180",
         "19250.0",
         "6230.0",
         "1470.0"
        ],
        [
         "25",
         "Lomas de Chapultepec",
         "3",
         "1",
         "0",
         "110",
         "13650.0",
         "5250.0",
         "420.0"
        ],
        [
         "28",
         "Santa Fe",
         "3",
         "1",
         "2",
         "70",
         "6300.0",
         "3832.5",
         "490.0"
        ],
        [
         "29",
         "Condesa",
         "4",
         "1",
         "0",
         "244",
         "17500.0",
         "8750.0",
         "14350.0"
        ],
        [
         "30",
         "Santa Fe",
         "3",
         "2",
         "1",
         "110",
         "15750.0",
         "7000.0",
         "1575.0"
        ],
        [
         "33",
         "Santa Fe",
         "3",
         "1",
         "1",
         "72",
         "8225.0",
         "2100.0",
         "245.0"
        ],
        [
         "34",
         "San Pedro de los Pinos",
         "2",
         "2",
         "1",
         "180",
         "14000.0",
         "8750.0",
         "1050.0"
        ],
        [
         "37",
         "Centro Histórico",
         "1",
         "0",
         "0",
         "27",
         "2625.0",
         "1298.5",
         "66.5"
        ],
        [
         "38",
         "Coyoacán",
         "1",
         "0",
         "0",
         "35",
         "7000.0",
         "2275.0",
         "262.5"
        ],
        [
         "39",
         "Coyoacán",
         "1",
         "0",
         "0",
         "38",
         "4900.0",
         "1855.0",
         "269.5"
        ],
        [
         "42",
         "Santa Fe",
         "4",
         "3",
         "3",
         "153",
         "22750.0",
         "8050.0",
         "1519.0"
        ],
        [
         "43",
         "Coyoacán",
         "3",
         "1",
         "0",
         "87",
         "11200.0",
         "4567.5",
         "759.5"
        ],
        [
         "44",
         "Roma",
         "3",
         "1",
         "1",
         "108",
         "20825.0",
         "4917.5",
         "1011.5"
        ],
        [
         "45",
         "Coyoacán",
         "3",
         "2",
         "1",
         "150",
         "28000.0",
         "8400.0",
         "0.0"
        ],
        [
         "47",
         "Coyoacán",
         "3",
         "1",
         "1",
         "140",
         "27650.0",
         "10150.0",
         "1750.0"
        ],
        [
         "48",
         "Polanco",
         "2",
         "2",
         "0",
         "95",
         "14000.0",
         "4095.0",
         "0.0"
        ],
        [
         "56",
         "Lomas de Chapultepec",
         "2",
         "1",
         "1",
         "80",
         "12250.0",
         "3465.0",
         "857.5"
        ],
        [
         "57",
         "Santa Fe",
         "4",
         "4",
         "4",
         "240",
         "44450.0",
         "15400.0",
         "5040.0"
        ],
        [
         "58",
         "Santa Fe",
         "3",
         "2",
         "1",
         "104",
         "9100.0",
         "4774.0",
         "1421.0"
        ],
        [
         "59",
         "San Ángel",
         "2",
         "1",
         "0",
         "70",
         "9800.0",
         "2380.0",
         "343.0"
        ],
        [
         "60",
         "Santa Fe",
         "2",
         "1",
         "1",
         "88",
         "9450.0",
         "4550.0",
         "7147.0"
        ],
        [
         "61",
         "Centro Histórico",
         "1",
         "1",
         "0",
         "37",
         "3850.0",
         "1890.0",
         "3150.0"
        ],
        [
         "62",
         "San Jerónimo",
         "3",
         "4",
         "0",
         "130",
         "19250.0",
         "4924.5",
         "861.0"
        ],
        [
         "63",
         "Santa Fe",
         "3",
         "2",
         "2",
         "85",
         "8750.0",
         "4900.0",
         "665.0"
        ],
        [
         "64",
         "Del Valle",
         "2",
         "1",
         "0",
         "54",
         "8050.0",
         "2037.0",
         "0.0"
        ],
        [
         "66",
         "Coyoacán",
         "3",
         "1",
         "1",
         "120",
         "24500.0",
         "6300.0",
         "1295.0"
        ],
        [
         "68",
         "Santa Fe",
         "2",
         "1",
         "1",
         "78",
         "9625.0",
         "4550.0",
         "483.0"
        ],
        [
         "71",
         "San Pedro de los Pinos",
         "2",
         "1",
         "0",
         "86",
         "14000.0",
         "4406.5",
         "658.0"
        ],
        [
         "72",
         "Santa Fe",
         "1",
         "1",
         "1",
         "70",
         "5950.0",
         "3045.0",
         "500.5"
        ],
        [
         "75",
         "Narvarte",
         "2",
         "1",
         "0",
         "80",
         "6300.0",
         "3850.0",
         "294.0"
        ],
        [
         "79",
         "Narvarte",
         "3",
         "1",
         "0",
         "172",
         "9450.0",
         "2730.0",
         "595.0"
        ],
        [
         "80",
         "Coyoacán",
         "3",
         "1",
         "1",
         "145",
         "28000.0",
         "51688.0",
         "15379.0"
        ],
        [
         "82",
         "Roma",
         "2",
         "1",
         "1",
         "83",
         "9800.0",
         "1960.0",
         "483.0"
        ],
        [
         "83",
         "Roma",
         "2",
         "1",
         "1",
         "80",
         "15050.0",
         "4123.0",
         "654.5"
        ],
        [
         "84",
         "Bosques de las Lomas",
         "3",
         "1",
         "2",
         "250",
         "48650.0",
         "8750.0",
         "0.0"
        ],
        [
         "87",
         "Lomas de Chapultepec",
         "3",
         "2",
         "1",
         "147",
         "26250.0",
         "3598.0",
         "864.5"
        ],
        [
         "88",
         "Condesa",
         "2",
         "1",
         "0",
         "67",
         "12250.0",
         "3325.0",
         "560.0"
        ],
        [
         "89",
         "Coyoacán",
         "3",
         "1",
         "1",
         "150",
         "87500.0",
         "5656.0",
         "14892.5"
        ]
       ],
       "shape": {
        "columns": 8,
        "rows": 14264
       }
      },
      "text/html": [
       "<div>\n",
       "<style scoped>\n",
       "    .dataframe tbody tr th:only-of-type {\n",
       "        vertical-align: middle;\n",
       "    }\n",
       "\n",
       "    .dataframe tbody tr th {\n",
       "        vertical-align: top;\n",
       "    }\n",
       "\n",
       "    .dataframe thead th {\n",
       "        text-align: right;\n",
       "    }\n",
       "</style>\n",
       "<table border=\"1\" class=\"dataframe\">\n",
       "  <thead>\n",
       "    <tr style=\"text-align: right;\">\n",
       "      <th></th>\n",
       "      <th>Colonia</th>\n",
       "      <th>Habitaciones</th>\n",
       "      <th>Garages</th>\n",
       "      <th>Suites</th>\n",
       "      <th>Area</th>\n",
       "      <th>Valor</th>\n",
       "      <th>Condominio</th>\n",
       "      <th>Impuesto</th>\n",
       "    </tr>\n",
       "  </thead>\n",
       "  <tbody>\n",
       "    <tr>\n",
       "      <th>3</th>\n",
       "      <td>Centro Histórico</td>\n",
       "      <td>1</td>\n",
       "      <td>0</td>\n",
       "      <td>0</td>\n",
       "      <td>15</td>\n",
       "      <td>2800.0</td>\n",
       "      <td>1365.0</td>\n",
       "      <td>70.0</td>\n",
       "    </tr>\n",
       "    <tr>\n",
       "      <th>4</th>\n",
       "      <td>Del Valle</td>\n",
       "      <td>1</td>\n",
       "      <td>0</td>\n",
       "      <td>0</td>\n",
       "      <td>48</td>\n",
       "      <td>2800.0</td>\n",
       "      <td>805.0</td>\n",
       "      <td>0.0</td>\n",
       "    </tr>\n",
       "    <tr>\n",
       "      <th>8</th>\n",
       "      <td>Condesa</td>\n",
       "      <td>1</td>\n",
       "      <td>0</td>\n",
       "      <td>1</td>\n",
       "      <td>40</td>\n",
       "      <td>7000.0</td>\n",
       "      <td>1963.5</td>\n",
       "      <td>175.0</td>\n",
       "    </tr>\n",
       "    <tr>\n",
       "      <th>10</th>\n",
       "      <td>Condesa</td>\n",
       "      <td>4</td>\n",
       "      <td>3</td>\n",
       "      <td>1</td>\n",
       "      <td>243</td>\n",
       "      <td>45500.0</td>\n",
       "      <td>7000.0</td>\n",
       "      <td>2810.5</td>\n",
       "    </tr>\n",
       "    <tr>\n",
       "      <th>13</th>\n",
       "      <td>Santa Fe</td>\n",
       "      <td>2</td>\n",
       "      <td>1</td>\n",
       "      <td>1</td>\n",
       "      <td>67</td>\n",
       "      <td>5950.0</td>\n",
       "      <td>2061.5</td>\n",
       "      <td>514.5</td>\n",
       "    </tr>\n",
       "    <tr>\n",
       "      <th>...</th>\n",
       "      <td>...</td>\n",
       "      <td>...</td>\n",
       "      <td>...</td>\n",
       "      <td>...</td>\n",
       "      <td>...</td>\n",
       "      <td>...</td>\n",
       "      <td>...</td>\n",
       "      <td>...</td>\n",
       "    </tr>\n",
       "    <tr>\n",
       "      <th>25111</th>\n",
       "      <td>Lomas de Chapultepec</td>\n",
       "      <td>3</td>\n",
       "      <td>0</td>\n",
       "      <td>1</td>\n",
       "      <td>80</td>\n",
       "      <td>10500.0</td>\n",
       "      <td>3535.0</td>\n",
       "      <td>871.5</td>\n",
       "    </tr>\n",
       "    <tr>\n",
       "      <th>25113</th>\n",
       "      <td>Coyoacán</td>\n",
       "      <td>3</td>\n",
       "      <td>1</td>\n",
       "      <td>2</td>\n",
       "      <td>150</td>\n",
       "      <td>52500.0</td>\n",
       "      <td>4900.0</td>\n",
       "      <td>2100.0</td>\n",
       "    </tr>\n",
       "    <tr>\n",
       "      <th>25114</th>\n",
       "      <td>Narvarte</td>\n",
       "      <td>1</td>\n",
       "      <td>0</td>\n",
       "      <td>0</td>\n",
       "      <td>28</td>\n",
       "      <td>3500.0</td>\n",
       "      <td>1260.0</td>\n",
       "      <td>87.5</td>\n",
       "    </tr>\n",
       "    <tr>\n",
       "      <th>25118</th>\n",
       "      <td>Mixcoac</td>\n",
       "      <td>2</td>\n",
       "      <td>1</td>\n",
       "      <td>0</td>\n",
       "      <td>48</td>\n",
       "      <td>4900.0</td>\n",
       "      <td>1781.5</td>\n",
       "      <td>129.5</td>\n",
       "    </tr>\n",
       "    <tr>\n",
       "      <th>25119</th>\n",
       "      <td>Lomas de Chapultepec</td>\n",
       "      <td>2</td>\n",
       "      <td>0</td>\n",
       "      <td>0</td>\n",
       "      <td>70</td>\n",
       "      <td>10500.0</td>\n",
       "      <td>2660.0</td>\n",
       "      <td>0.0</td>\n",
       "    </tr>\n",
       "  </tbody>\n",
       "</table>\n",
       "<p>14264 rows × 8 columns</p>\n",
       "</div>"
      ],
      "text/plain": [
       "                    Colonia  Habitaciones  Garages  Suites  Area    Valor  \\\n",
       "3          Centro Histórico             1        0       0    15   2800.0   \n",
       "4                 Del Valle             1        0       0    48   2800.0   \n",
       "8                   Condesa             1        0       1    40   7000.0   \n",
       "10                  Condesa             4        3       1   243  45500.0   \n",
       "13                 Santa Fe             2        1       1    67   5950.0   \n",
       "...                     ...           ...      ...     ...   ...      ...   \n",
       "25111  Lomas de Chapultepec             3        0       1    80  10500.0   \n",
       "25113              Coyoacán             3        1       2   150  52500.0   \n",
       "25114              Narvarte             1        0       0    28   3500.0   \n",
       "25118               Mixcoac             2        1       0    48   4900.0   \n",
       "25119  Lomas de Chapultepec             2        0       0    70  10500.0   \n",
       "\n",
       "       Condominio  Impuesto  \n",
       "3          1365.0      70.0  \n",
       "4           805.0       0.0  \n",
       "8          1963.5     175.0  \n",
       "10         7000.0    2810.5  \n",
       "13         2061.5     514.5  \n",
       "...           ...       ...  \n",
       "25111      3535.0     871.5  \n",
       "25113      4900.0    2100.0  \n",
       "25114      1260.0      87.5  \n",
       "25118      1781.5     129.5  \n",
       "25119      2660.0       0.0  \n",
       "\n",
       "[14264 rows x 8 columns]"
      ]
     },
     "execution_count": 146,
     "metadata": {},
     "output_type": "execute_result"
    }
   ],
   "source": [
    "#  Se elimina por que solo tenemos del tipo departamentos\n",
    "df_departamentos.drop('Tipo', axis=1, inplace=True)\n",
    "df_departamentos"
   ]
  },
  {
   "cell_type": "markdown",
   "id": "32334b72",
   "metadata": {},
   "source": [
    "## **APLICAR FILTROS**\n",
    "***En este momento, el equipo de ML desea evaluar solo propiedades en escenarios específicos, como:***\n",
    "1. Apartamentos que tienen 1 dormitorio y un alquiler menor a MXN 4200.\n",
    "\n",
    "2. Apartamentos que tienen al menos 2 dormitorios, un alquiler menor a MXN 10500 y una superficie mayor a 70 m²."
   ]
  },
  {
   "cell_type": "code",
   "execution_count": 147,
   "id": "45de31c7",
   "metadata": {},
   "outputs": [
    {
     "data": {
      "application/vnd.microsoft.datawrangler.viewer.v0+json": {
       "columns": [
        {
         "name": "index",
         "rawType": "int64",
         "type": "integer"
        },
        {
         "name": "Habitaciones",
         "rawType": "bool",
         "type": "boolean"
        }
       ],
       "ref": "94e3cd7d-975a-44e8-9d60-facecc297f42",
       "rows": [
        [
         "3",
         "True"
        ],
        [
         "4",
         "True"
        ],
        [
         "8",
         "True"
        ],
        [
         "10",
         "False"
        ],
        [
         "13",
         "False"
        ],
        [
         "14",
         "False"
        ],
        [
         "16",
         "False"
        ],
        [
         "18",
         "False"
        ],
        [
         "19",
         "True"
        ],
        [
         "20",
         "False"
        ],
        [
         "21",
         "False"
        ],
        [
         "22",
         "False"
        ],
        [
         "23",
         "False"
        ],
        [
         "25",
         "False"
        ],
        [
         "28",
         "False"
        ],
        [
         "29",
         "False"
        ],
        [
         "30",
         "False"
        ],
        [
         "33",
         "False"
        ],
        [
         "34",
         "False"
        ],
        [
         "37",
         "True"
        ],
        [
         "38",
         "True"
        ],
        [
         "39",
         "True"
        ],
        [
         "42",
         "False"
        ],
        [
         "43",
         "False"
        ],
        [
         "44",
         "False"
        ],
        [
         "45",
         "False"
        ],
        [
         "47",
         "False"
        ],
        [
         "48",
         "False"
        ],
        [
         "56",
         "False"
        ],
        [
         "57",
         "False"
        ],
        [
         "58",
         "False"
        ],
        [
         "59",
         "False"
        ],
        [
         "60",
         "False"
        ],
        [
         "61",
         "True"
        ],
        [
         "62",
         "False"
        ],
        [
         "63",
         "False"
        ],
        [
         "64",
         "False"
        ],
        [
         "66",
         "False"
        ],
        [
         "68",
         "False"
        ],
        [
         "71",
         "False"
        ],
        [
         "72",
         "True"
        ],
        [
         "75",
         "False"
        ],
        [
         "79",
         "False"
        ],
        [
         "80",
         "False"
        ],
        [
         "82",
         "False"
        ],
        [
         "83",
         "False"
        ],
        [
         "84",
         "False"
        ],
        [
         "87",
         "False"
        ],
        [
         "88",
         "False"
        ],
        [
         "89",
         "False"
        ]
       ],
       "shape": {
        "columns": 1,
        "rows": 14264
       }
      },
      "text/plain": [
       "3         True\n",
       "4         True\n",
       "8         True\n",
       "10       False\n",
       "13       False\n",
       "         ...  \n",
       "25111    False\n",
       "25113    False\n",
       "25114     True\n",
       "25118    False\n",
       "25119    False\n",
       "Name: Habitaciones, Length: 14264, dtype: bool"
      ]
     },
     "execution_count": 147,
     "metadata": {},
     "output_type": "execute_result"
    }
   ],
   "source": [
    "seleccion_1 = df_departamentos['Habitaciones'] == 1\n",
    "seleccion_1"
   ]
  },
  {
   "cell_type": "code",
   "execution_count": 148,
   "id": "3ee8fc3e",
   "metadata": {},
   "outputs": [
    {
     "data": {
      "application/vnd.microsoft.datawrangler.viewer.v0+json": {
       "columns": [
        {
         "name": "index",
         "rawType": "int64",
         "type": "integer"
        },
        {
         "name": "Colonia",
         "rawType": "object",
         "type": "string"
        },
        {
         "name": "Habitaciones",
         "rawType": "int64",
         "type": "integer"
        },
        {
         "name": "Garages",
         "rawType": "int64",
         "type": "integer"
        },
        {
         "name": "Suites",
         "rawType": "int64",
         "type": "integer"
        },
        {
         "name": "Area",
         "rawType": "int64",
         "type": "integer"
        },
        {
         "name": "Valor",
         "rawType": "float64",
         "type": "float"
        },
        {
         "name": "Condominio",
         "rawType": "float64",
         "type": "float"
        },
        {
         "name": "Impuesto",
         "rawType": "float64",
         "type": "float"
        }
       ],
       "ref": "e533c692-d1ad-4b23-b1f1-1f41b39d472a",
       "rows": [
        [
         "3",
         "Centro Histórico",
         "1",
         "0",
         "0",
         "15",
         "2800.0",
         "1365.0",
         "70.0"
        ],
        [
         "4",
         "Del Valle",
         "1",
         "0",
         "0",
         "48",
         "2800.0",
         "805.0",
         "0.0"
        ],
        [
         "8",
         "Condesa",
         "1",
         "0",
         "1",
         "40",
         "7000.0",
         "1963.5",
         "175.0"
        ],
        [
         "19",
         "Narvarte",
         "1",
         "0",
         "0",
         "48",
         "2625.0",
         "2702.0",
         "87.5"
        ],
        [
         "37",
         "Centro Histórico",
         "1",
         "0",
         "0",
         "27",
         "2625.0",
         "1298.5",
         "66.5"
        ],
        [
         "38",
         "Coyoacán",
         "1",
         "0",
         "0",
         "35",
         "7000.0",
         "2275.0",
         "262.5"
        ],
        [
         "39",
         "Coyoacán",
         "1",
         "0",
         "0",
         "38",
         "4900.0",
         "1855.0",
         "269.5"
        ],
        [
         "61",
         "Centro Histórico",
         "1",
         "1",
         "0",
         "37",
         "3850.0",
         "1890.0",
         "3150.0"
        ],
        [
         "72",
         "Santa Fe",
         "1",
         "1",
         "1",
         "70",
         "5950.0",
         "3045.0",
         "500.5"
        ],
        [
         "101",
         "San Miguel Chapultepec",
         "1",
         "0",
         "0",
         "37",
         "3500.0",
         "997.5",
         "84.0"
        ],
        [
         "133",
         "Roma",
         "1",
         "0",
         "0",
         "35",
         "5250.0",
         "1645.0",
         "175.0"
        ],
        [
         "160",
         "Narvarte",
         "1",
         "0",
         "0",
         "65",
         "4200.0",
         "1120.0",
         "0.0"
        ],
        [
         "195",
         "Centro Histórico",
         "1",
         "0",
         "0",
         "35",
         "4725.0",
         "1470.0",
         "84.0"
        ],
        [
         "203",
         "Santa Fe",
         "1",
         "1",
         "1",
         "60",
         "7700.0",
         "5600.0",
         "1225.0"
        ],
        [
         "212",
         "Roma",
         "1",
         "0",
         "0",
         "35",
         "3500.0",
         "1025.5",
         "301.0"
        ],
        [
         "215",
         "Narvarte",
         "1",
         "0",
         "0",
         "36",
         "4550.0",
         "1032.5",
         "84.0"
        ],
        [
         "219",
         "San Pedro de los Pinos",
         "1",
         "0",
         "0",
         "57",
         "13965.0",
         "3010.0",
         "350.0"
        ],
        [
         "240",
         "Bosques de las Lomas",
         "1",
         "1",
         "0",
         "75",
         "9800.0",
         "2800.0",
         "735.0"
        ],
        [
         "247",
         "Nueva Santa María",
         "1",
         "1",
         "0",
         "63",
         "2450.0",
         "2187.5",
         "126.0"
        ],
        [
         "286",
         "Condesa",
         "1",
         "0",
         "0",
         "43",
         "5600.0",
         "1582.0",
         "847.0"
        ],
        [
         "293",
         "Condesa",
         "1",
         "0",
         "0",
         "45",
         "9800.0",
         "1575.0",
         "105.0"
        ],
        [
         "301",
         "Condesa",
         "1",
         "0",
         "1",
         "37",
         "8750.0",
         "1564.5",
         "70.0"
        ],
        [
         "312",
         "Juárez",
         "1",
         "0",
         "0",
         "45",
         "5600.0",
         "1750.0",
         "192.5"
        ],
        [
         "328",
         "Centro Histórico",
         "1",
         "0",
         "0",
         "42",
         "7700.0",
         "2166.5",
         "707.0"
        ],
        [
         "336",
         "Condesa",
         "1",
         "0",
         "0",
         "43",
         "6300.0",
         "2236.5",
         "266.0"
        ],
        [
         "344",
         "Coyoacán",
         "1",
         "0",
         "1",
         "50",
         "8400.0",
         "3139.5",
         "91.0"
        ],
        [
         "359",
         "Tlalpan",
         "1",
         "0",
         "0",
         "53",
         "9800.0",
         "2695.0",
         "0.0"
        ],
        [
         "365",
         "Condesa",
         "1",
         "0",
         "0",
         "60",
         "9800.0",
         "2170.0",
         "448.0"
        ],
        [
         "373",
         "Narvarte",
         "1",
         "1",
         "1",
         "84",
         "7000.0",
         "2513.0",
         "420.0"
        ],
        [
         "375",
         "Condesa",
         "1",
         "1",
         "0",
         "150",
         "10500.0",
         "4200.0",
         "1365.0"
        ],
        [
         "412",
         "Napoles",
         "1",
         "0",
         "0",
         "31",
         "3990.0",
         "1470.0",
         "84.0"
        ],
        [
         "419",
         "La Condesa",
         "1",
         "0",
         "0",
         "48",
         "4900.0",
         "1680.0",
         "70.0"
        ],
        [
         "429",
         "Roma",
         "1",
         "0",
         "0",
         "17",
         "3850.0",
         "1155.0",
         "52.5"
        ],
        [
         "444",
         "Villa de Guadalupe",
         "1",
         "1",
         "0",
         "45",
         "2450.0",
         "1246.0",
         "441.0"
        ],
        [
         "447",
         "Santa Fe",
         "1",
         "1",
         "1",
         "80",
         "5950.0",
         "3430.0",
         "875.0"
        ],
        [
         "455",
         "Narvarte",
         "1",
         "1",
         "1",
         "87",
         "4900.0",
         "3699.5",
         "567.0"
        ],
        [
         "469",
         "San Rafael",
         "1",
         "0",
         "1",
         "30",
         "3850.0",
         "2030.0",
         "0.0"
        ],
        [
         "490",
         "Lomas de Padierna",
         "1",
         "1",
         "0",
         "47",
         "4200.0",
         "1015.0",
         "171.5"
        ],
        [
         "500",
         "Napoles",
         "1",
         "0",
         "0",
         "55",
         "7000.0",
         "2047.5",
         "276.5"
        ],
        [
         "510",
         "Condesa",
         "1",
         "0",
         "0",
         "30",
         "4200.0",
         "2275.0",
         "189.0"
        ],
        [
         "514",
         "Santa Fe",
         "1",
         "1",
         "1",
         "68",
         "9800.0",
         "4375.0",
         "766.5"
        ],
        [
         "528",
         "Santa Fe",
         "1",
         "0",
         "0",
         "71",
         "7350.0",
         "4200.0",
         "770.0"
        ],
        [
         "545",
         "Roma",
         "1",
         "0",
         "0",
         "38",
         "4550.0",
         "1400.0",
         "87.5"
        ],
        [
         "549",
         "Condesa",
         "1",
         "0",
         "0",
         "36",
         "5950.0",
         "2212.0",
         "241.5"
        ],
        [
         "554",
         "Condesa",
         "1",
         "0",
         "0",
         "37",
         "7700.0",
         "1942.5",
         "245.0"
        ],
        [
         "564",
         "La Condesa",
         "1",
         "0",
         "0",
         "28",
         "5250.0",
         "875.0",
         "0.0"
        ],
        [
         "604",
         "Coyoacán",
         "1",
         "0",
         "1",
         "46",
         "6300.0",
         "3276.0",
         "301.0"
        ],
        [
         "606",
         "Coyoacán",
         "1",
         "0",
         "1",
         "48",
         "7350.0",
         "1890.0",
         "283.5"
        ],
        [
         "614",
         "Centro Histórico",
         "1",
         "0",
         "1",
         "38",
         "4025.0",
         "1400.0",
         "87.5"
        ],
        [
         "627",
         "Roma",
         "1",
         "1",
         "0",
         "65",
         "7700.0",
         "2376.5",
         "94.5"
        ]
       ],
       "shape": {
        "columns": 8,
        "rows": 2072
       }
      },
      "text/html": [
       "<div>\n",
       "<style scoped>\n",
       "    .dataframe tbody tr th:only-of-type {\n",
       "        vertical-align: middle;\n",
       "    }\n",
       "\n",
       "    .dataframe tbody tr th {\n",
       "        vertical-align: top;\n",
       "    }\n",
       "\n",
       "    .dataframe thead th {\n",
       "        text-align: right;\n",
       "    }\n",
       "</style>\n",
       "<table border=\"1\" class=\"dataframe\">\n",
       "  <thead>\n",
       "    <tr style=\"text-align: right;\">\n",
       "      <th></th>\n",
       "      <th>Colonia</th>\n",
       "      <th>Habitaciones</th>\n",
       "      <th>Garages</th>\n",
       "      <th>Suites</th>\n",
       "      <th>Area</th>\n",
       "      <th>Valor</th>\n",
       "      <th>Condominio</th>\n",
       "      <th>Impuesto</th>\n",
       "    </tr>\n",
       "  </thead>\n",
       "  <tbody>\n",
       "    <tr>\n",
       "      <th>3</th>\n",
       "      <td>Centro Histórico</td>\n",
       "      <td>1</td>\n",
       "      <td>0</td>\n",
       "      <td>0</td>\n",
       "      <td>15</td>\n",
       "      <td>2800.0</td>\n",
       "      <td>1365.0</td>\n",
       "      <td>70.0</td>\n",
       "    </tr>\n",
       "    <tr>\n",
       "      <th>4</th>\n",
       "      <td>Del Valle</td>\n",
       "      <td>1</td>\n",
       "      <td>0</td>\n",
       "      <td>0</td>\n",
       "      <td>48</td>\n",
       "      <td>2800.0</td>\n",
       "      <td>805.0</td>\n",
       "      <td>0.0</td>\n",
       "    </tr>\n",
       "    <tr>\n",
       "      <th>8</th>\n",
       "      <td>Condesa</td>\n",
       "      <td>1</td>\n",
       "      <td>0</td>\n",
       "      <td>1</td>\n",
       "      <td>40</td>\n",
       "      <td>7000.0</td>\n",
       "      <td>1963.5</td>\n",
       "      <td>175.0</td>\n",
       "    </tr>\n",
       "    <tr>\n",
       "      <th>19</th>\n",
       "      <td>Narvarte</td>\n",
       "      <td>1</td>\n",
       "      <td>0</td>\n",
       "      <td>0</td>\n",
       "      <td>48</td>\n",
       "      <td>2625.0</td>\n",
       "      <td>2702.0</td>\n",
       "      <td>87.5</td>\n",
       "    </tr>\n",
       "    <tr>\n",
       "      <th>37</th>\n",
       "      <td>Centro Histórico</td>\n",
       "      <td>1</td>\n",
       "      <td>0</td>\n",
       "      <td>0</td>\n",
       "      <td>27</td>\n",
       "      <td>2625.0</td>\n",
       "      <td>1298.5</td>\n",
       "      <td>66.5</td>\n",
       "    </tr>\n",
       "    <tr>\n",
       "      <th>...</th>\n",
       "      <td>...</td>\n",
       "      <td>...</td>\n",
       "      <td>...</td>\n",
       "      <td>...</td>\n",
       "      <td>...</td>\n",
       "      <td>...</td>\n",
       "      <td>...</td>\n",
       "      <td>...</td>\n",
       "    </tr>\n",
       "    <tr>\n",
       "      <th>25090</th>\n",
       "      <td>Coyoacán</td>\n",
       "      <td>1</td>\n",
       "      <td>0</td>\n",
       "      <td>0</td>\n",
       "      <td>55</td>\n",
       "      <td>7000.0</td>\n",
       "      <td>2205.0</td>\n",
       "      <td>66.5</td>\n",
       "    </tr>\n",
       "    <tr>\n",
       "      <th>25092</th>\n",
       "      <td>Santa Fe</td>\n",
       "      <td>1</td>\n",
       "      <td>1</td>\n",
       "      <td>0</td>\n",
       "      <td>62</td>\n",
       "      <td>5950.0</td>\n",
       "      <td>3307.5</td>\n",
       "      <td>630.0</td>\n",
       "    </tr>\n",
       "    <tr>\n",
       "      <th>25100</th>\n",
       "      <td>Lomas de Chapultepec</td>\n",
       "      <td>1</td>\n",
       "      <td>1</td>\n",
       "      <td>1</td>\n",
       "      <td>50</td>\n",
       "      <td>15050.0</td>\n",
       "      <td>6055.0</td>\n",
       "      <td>906.5</td>\n",
       "    </tr>\n",
       "    <tr>\n",
       "      <th>25103</th>\n",
       "      <td>Condesa</td>\n",
       "      <td>1</td>\n",
       "      <td>0</td>\n",
       "      <td>0</td>\n",
       "      <td>50</td>\n",
       "      <td>6825.0</td>\n",
       "      <td>1575.0</td>\n",
       "      <td>245.0</td>\n",
       "    </tr>\n",
       "    <tr>\n",
       "      <th>25114</th>\n",
       "      <td>Narvarte</td>\n",
       "      <td>1</td>\n",
       "      <td>0</td>\n",
       "      <td>0</td>\n",
       "      <td>28</td>\n",
       "      <td>3500.0</td>\n",
       "      <td>1260.0</td>\n",
       "      <td>87.5</td>\n",
       "    </tr>\n",
       "  </tbody>\n",
       "</table>\n",
       "<p>2072 rows × 8 columns</p>\n",
       "</div>"
      ],
      "text/plain": [
       "                    Colonia  Habitaciones  Garages  Suites  Area    Valor  \\\n",
       "3          Centro Histórico             1        0       0    15   2800.0   \n",
       "4                 Del Valle             1        0       0    48   2800.0   \n",
       "8                   Condesa             1        0       1    40   7000.0   \n",
       "19                 Narvarte             1        0       0    48   2625.0   \n",
       "37         Centro Histórico             1        0       0    27   2625.0   \n",
       "...                     ...           ...      ...     ...   ...      ...   \n",
       "25090              Coyoacán             1        0       0    55   7000.0   \n",
       "25092              Santa Fe             1        1       0    62   5950.0   \n",
       "25100  Lomas de Chapultepec             1        1       1    50  15050.0   \n",
       "25103               Condesa             1        0       0    50   6825.0   \n",
       "25114              Narvarte             1        0       0    28   3500.0   \n",
       "\n",
       "       Condominio  Impuesto  \n",
       "3          1365.0      70.0  \n",
       "4           805.0       0.0  \n",
       "8          1963.5     175.0  \n",
       "19         2702.0      87.5  \n",
       "37         1298.5      66.5  \n",
       "...           ...       ...  \n",
       "25090      2205.0      66.5  \n",
       "25092      3307.5     630.0  \n",
       "25100      6055.0     906.5  \n",
       "25103      1575.0     245.0  \n",
       "25114      1260.0      87.5  \n",
       "\n",
       "[2072 rows x 8 columns]"
      ]
     },
     "execution_count": 148,
     "metadata": {},
     "output_type": "execute_result"
    }
   ],
   "source": [
    "df_departamentos[seleccion_1]"
   ]
  },
  {
   "cell_type": "code",
   "execution_count": 149,
   "id": "b274c121",
   "metadata": {},
   "outputs": [
    {
     "data": {
      "application/vnd.microsoft.datawrangler.viewer.v0+json": {
       "columns": [
        {
         "name": "index",
         "rawType": "int64",
         "type": "integer"
        },
        {
         "name": "Colonia",
         "rawType": "object",
         "type": "string"
        },
        {
         "name": "Habitaciones",
         "rawType": "int64",
         "type": "integer"
        },
        {
         "name": "Garages",
         "rawType": "int64",
         "type": "integer"
        },
        {
         "name": "Suites",
         "rawType": "int64",
         "type": "integer"
        },
        {
         "name": "Area",
         "rawType": "int64",
         "type": "integer"
        },
        {
         "name": "Valor",
         "rawType": "float64",
         "type": "float"
        },
        {
         "name": "Condominio",
         "rawType": "float64",
         "type": "float"
        },
        {
         "name": "Impuesto",
         "rawType": "float64",
         "type": "float"
        }
       ],
       "ref": "6072232e-ca01-4868-8b9d-7da95c47d3c6",
       "rows": [
        [
         "3",
         "Centro Histórico",
         "1",
         "0",
         "0",
         "15",
         "2800.0",
         "1365.0",
         "70.0"
        ],
        [
         "4",
         "Del Valle",
         "1",
         "0",
         "0",
         "48",
         "2800.0",
         "805.0",
         "0.0"
        ],
        [
         "19",
         "Narvarte",
         "1",
         "0",
         "0",
         "48",
         "2625.0",
         "2702.0",
         "87.5"
        ],
        [
         "37",
         "Centro Histórico",
         "1",
         "0",
         "0",
         "27",
         "2625.0",
         "1298.5",
         "66.5"
        ],
        [
         "61",
         "Centro Histórico",
         "1",
         "1",
         "0",
         "37",
         "3850.0",
         "1890.0",
         "3150.0"
        ],
        [
         "100",
         "Ciudad de los Deportes",
         "2",
         "0",
         "0",
         "80",
         "3150.0",
         "1225.0",
         "0.0"
        ],
        [
         "101",
         "San Miguel Chapultepec",
         "1",
         "0",
         "0",
         "37",
         "3500.0",
         "997.5",
         "84.0"
        ],
        [
         "140",
         "Nueva Santa María",
         "2",
         "2",
         "0",
         "78",
         "2800.0",
         "3202.5",
         "192.5"
        ],
        [
         "212",
         "Roma",
         "1",
         "0",
         "0",
         "35",
         "3500.0",
         "1025.5",
         "301.0"
        ],
        [
         "247",
         "Nueva Santa María",
         "1",
         "1",
         "0",
         "63",
         "2450.0",
         "2187.5",
         "126.0"
        ],
        [
         "269",
         "Álvaro Obregón",
         "2",
         "0",
         "0",
         "70",
         "3500.0",
         "112.0",
         "0.0"
        ],
        [
         "273",
         "Iztacalco",
         "2",
         "0",
         "0",
         "40",
         "2100.0",
         "1452.5",
         "0.0"
        ],
        [
         "279",
         "Ciudad de los Deportes",
         "3",
         "0",
         "0",
         "90",
         "3150.0",
         "1155.0",
         "52.5"
        ],
        [
         "292",
         "Peralvillo",
         "2",
         "1",
         "0",
         "64",
         "2800.0",
         "868.0",
         "49.0"
        ],
        [
         "306",
         "Nativitas",
         "2",
         "1",
         "0",
         "65",
         "3850.0",
         "892.5",
         "0.0"
        ],
        [
         "310",
         "San Miguel Chapultepec",
         "2",
         "1",
         "0",
         "70",
         "3850.0",
         "1925.0",
         "0.0"
        ],
        [
         "367",
         "Villa de Cortés",
         "2",
         "0",
         "0",
         "64",
         "3325.0",
         "630.0",
         "0.0"
        ],
        [
         "412",
         "Napoles",
         "1",
         "0",
         "0",
         "31",
         "3990.0",
         "1470.0",
         "84.0"
        ],
        [
         "418",
         "Industrial Vallejo",
         "3",
         "1",
         "0",
         "60",
         "2625.0",
         "826.0",
         "0.0"
        ],
        [
         "422",
         "Peralvillo",
         "2",
         "1",
         "0",
         "65",
         "3325.0",
         "2240.0",
         "441.0"
        ],
        [
         "424",
         "Iztapalapa",
         "2",
         "1",
         "0",
         "70",
         "2975.0",
         "700.0",
         "0.0"
        ],
        [
         "425",
         "Ciudad de los Deportes",
         "2",
         "1",
         "1",
         "63",
         "3850.0",
         "1263.5",
         "0.0"
        ],
        [
         "429",
         "Roma",
         "1",
         "0",
         "0",
         "17",
         "3850.0",
         "1155.0",
         "52.5"
        ],
        [
         "444",
         "Villa de Guadalupe",
         "1",
         "1",
         "0",
         "45",
         "2450.0",
         "1246.0",
         "441.0"
        ],
        [
         "469",
         "San Rafael",
         "1",
         "0",
         "1",
         "30",
         "3850.0",
         "2030.0",
         "0.0"
        ],
        [
         "470",
         "Peralvillo",
         "2",
         "1",
         "0",
         "52",
         "2450.0",
         "1470.0",
         "122.5"
        ],
        [
         "535",
         "San Rafael",
         "2",
         "0",
         "0",
         "66",
         "2450.0",
         "3150.0",
         "161.0"
        ],
        [
         "537",
         "Peralvillo",
         "2",
         "1",
         "0",
         "60",
         "3150.0",
         "1470.0",
         "52.5"
        ],
        [
         "547",
         "Narvarte",
         "2",
         "1",
         "0",
         "88",
         "3850.0",
         "2425.5",
         "112.0"
        ],
        [
         "567",
         "Las Águilas",
         "2",
         "1",
         "0",
         "48",
         "3500.0",
         "1190.0",
         "315.0"
        ],
        [
         "578",
         "Culhuacán CTM",
         "3",
         "0",
         "0",
         "58",
         "3465.0",
         "350.0",
         "0.0"
        ],
        [
         "581",
         "Peralvillo",
         "2",
         "1",
         "1",
         "61",
         "3500.0",
         "1711.5",
         "0.0"
        ],
        [
         "614",
         "Centro Histórico",
         "1",
         "0",
         "1",
         "38",
         "4025.0",
         "1400.0",
         "87.5"
        ],
        [
         "642",
         "Condesa",
         "1",
         "0",
         "0",
         "21",
         "2800.0",
         "1092.0",
         "52.5"
        ],
        [
         "676",
         "Santa Fe",
         "2",
         "1",
         "1",
         "70",
         "4025.0",
         "4410.0",
         "560.0"
        ],
        [
         "718",
         "Centro Histórico",
         "1",
         "0",
         "0",
         "35",
         "3500.0",
         "1050.0",
         "0.0"
        ],
        [
         "794",
         "San Miguel Chapultepec",
         "1",
         "1",
         "1",
         "50",
         "3675.0",
         "1575.0",
         "0.0"
        ],
        [
         "814",
         "Arboledas",
         "2",
         "1",
         "0",
         "66",
         "3500.0",
         "1435.0",
         "0.0"
        ],
        [
         "816",
         "Santa Cruz Atoyac",
         "1",
         "0",
         "0",
         "50",
         "3850.0",
         "1953.0",
         "70.0"
        ],
        [
         "818",
         "Del Valle",
         "1",
         "0",
         "0",
         "55",
         "2625.0",
         "420.0",
         "0.0"
        ],
        [
         "824",
         "Peralvillo",
         "2",
         "1",
         "1",
         "50",
         "3325.0",
         "1925.0",
         "59.5"
        ],
        [
         "826",
         "El Rodeo",
         "2",
         "1",
         "0",
         "60",
         "2275.0",
         "892.5",
         "0.0"
        ],
        [
         "829",
         "Roma",
         "1",
         "0",
         "0",
         "35",
         "3500.0",
         "1025.5",
         "301.0"
        ],
        [
         "830",
         "Condesa",
         "1",
         "1",
         "0",
         "49",
         "4025.0",
         "1995.0",
         "98.0"
        ],
        [
         "841",
         "La Virgen",
         "2",
         "1",
         "0",
         "68",
         "3500.0",
         "3500.0",
         "0.0"
        ],
        [
         "878",
         "Roma Norte",
         "2",
         "1",
         "0",
         "56",
         "3500.0",
         "1092.0",
         "115.5"
        ],
        [
         "883",
         "Ciudad de los Deportes",
         "2",
         "1",
         "1",
         "64",
         "3850.0",
         "1540.0",
         "0.0"
        ],
        [
         "897",
         "San José Insurgentes",
         "3",
         "0",
         "0",
         "67",
         "2730.0",
         "577.5",
         "0.0"
        ],
        [
         "973",
         "Santa Fe",
         "2",
         "1",
         "0",
         "62",
         "3850.0",
         "2380.0",
         "346.5"
        ],
        [
         "1009",
         "Condesa",
         "1",
         "0",
         "0",
         "35",
         "3850.0",
         "1400.0",
         "192.5"
        ]
       ],
       "shape": {
        "columns": 8,
        "rows": 1013
       }
      },
      "text/html": [
       "<div>\n",
       "<style scoped>\n",
       "    .dataframe tbody tr th:only-of-type {\n",
       "        vertical-align: middle;\n",
       "    }\n",
       "\n",
       "    .dataframe tbody tr th {\n",
       "        vertical-align: top;\n",
       "    }\n",
       "\n",
       "    .dataframe thead th {\n",
       "        text-align: right;\n",
       "    }\n",
       "</style>\n",
       "<table border=\"1\" class=\"dataframe\">\n",
       "  <thead>\n",
       "    <tr style=\"text-align: right;\">\n",
       "      <th></th>\n",
       "      <th>Colonia</th>\n",
       "      <th>Habitaciones</th>\n",
       "      <th>Garages</th>\n",
       "      <th>Suites</th>\n",
       "      <th>Area</th>\n",
       "      <th>Valor</th>\n",
       "      <th>Condominio</th>\n",
       "      <th>Impuesto</th>\n",
       "    </tr>\n",
       "  </thead>\n",
       "  <tbody>\n",
       "    <tr>\n",
       "      <th>3</th>\n",
       "      <td>Centro Histórico</td>\n",
       "      <td>1</td>\n",
       "      <td>0</td>\n",
       "      <td>0</td>\n",
       "      <td>15</td>\n",
       "      <td>2800.0</td>\n",
       "      <td>1365.0</td>\n",
       "      <td>70.0</td>\n",
       "    </tr>\n",
       "    <tr>\n",
       "      <th>4</th>\n",
       "      <td>Del Valle</td>\n",
       "      <td>1</td>\n",
       "      <td>0</td>\n",
       "      <td>0</td>\n",
       "      <td>48</td>\n",
       "      <td>2800.0</td>\n",
       "      <td>805.0</td>\n",
       "      <td>0.0</td>\n",
       "    </tr>\n",
       "    <tr>\n",
       "      <th>19</th>\n",
       "      <td>Narvarte</td>\n",
       "      <td>1</td>\n",
       "      <td>0</td>\n",
       "      <td>0</td>\n",
       "      <td>48</td>\n",
       "      <td>2625.0</td>\n",
       "      <td>2702.0</td>\n",
       "      <td>87.5</td>\n",
       "    </tr>\n",
       "    <tr>\n",
       "      <th>37</th>\n",
       "      <td>Centro Histórico</td>\n",
       "      <td>1</td>\n",
       "      <td>0</td>\n",
       "      <td>0</td>\n",
       "      <td>27</td>\n",
       "      <td>2625.0</td>\n",
       "      <td>1298.5</td>\n",
       "      <td>66.5</td>\n",
       "    </tr>\n",
       "    <tr>\n",
       "      <th>61</th>\n",
       "      <td>Centro Histórico</td>\n",
       "      <td>1</td>\n",
       "      <td>1</td>\n",
       "      <td>0</td>\n",
       "      <td>37</td>\n",
       "      <td>3850.0</td>\n",
       "      <td>1890.0</td>\n",
       "      <td>3150.0</td>\n",
       "    </tr>\n",
       "    <tr>\n",
       "      <th>...</th>\n",
       "      <td>...</td>\n",
       "      <td>...</td>\n",
       "      <td>...</td>\n",
       "      <td>...</td>\n",
       "      <td>...</td>\n",
       "      <td>...</td>\n",
       "      <td>...</td>\n",
       "      <td>...</td>\n",
       "    </tr>\n",
       "    <tr>\n",
       "      <th>25038</th>\n",
       "      <td>Villa de Guadalupe</td>\n",
       "      <td>2</td>\n",
       "      <td>1</td>\n",
       "      <td>0</td>\n",
       "      <td>50</td>\n",
       "      <td>2800.0</td>\n",
       "      <td>1435.0</td>\n",
       "      <td>0.0</td>\n",
       "    </tr>\n",
       "    <tr>\n",
       "      <th>25051</th>\n",
       "      <td>Nativitas</td>\n",
       "      <td>2</td>\n",
       "      <td>1</td>\n",
       "      <td>0</td>\n",
       "      <td>62</td>\n",
       "      <td>3500.0</td>\n",
       "      <td>1050.0</td>\n",
       "      <td>0.0</td>\n",
       "    </tr>\n",
       "    <tr>\n",
       "      <th>25065</th>\n",
       "      <td>Nativitas</td>\n",
       "      <td>2</td>\n",
       "      <td>1</td>\n",
       "      <td>0</td>\n",
       "      <td>50</td>\n",
       "      <td>3150.0</td>\n",
       "      <td>1050.0</td>\n",
       "      <td>0.0</td>\n",
       "    </tr>\n",
       "    <tr>\n",
       "      <th>25095</th>\n",
       "      <td>Lindavista Sur</td>\n",
       "      <td>2</td>\n",
       "      <td>0</td>\n",
       "      <td>0</td>\n",
       "      <td>63</td>\n",
       "      <td>2800.0</td>\n",
       "      <td>1372.0</td>\n",
       "      <td>0.0</td>\n",
       "    </tr>\n",
       "    <tr>\n",
       "      <th>25114</th>\n",
       "      <td>Narvarte</td>\n",
       "      <td>1</td>\n",
       "      <td>0</td>\n",
       "      <td>0</td>\n",
       "      <td>28</td>\n",
       "      <td>3500.0</td>\n",
       "      <td>1260.0</td>\n",
       "      <td>87.5</td>\n",
       "    </tr>\n",
       "  </tbody>\n",
       "</table>\n",
       "<p>1013 rows × 8 columns</p>\n",
       "</div>"
      ],
      "text/plain": [
       "                  Colonia  Habitaciones  Garages  Suites  Area   Valor  \\\n",
       "3        Centro Histórico             1        0       0    15  2800.0   \n",
       "4               Del Valle             1        0       0    48  2800.0   \n",
       "19               Narvarte             1        0       0    48  2625.0   \n",
       "37       Centro Histórico             1        0       0    27  2625.0   \n",
       "61       Centro Histórico             1        1       0    37  3850.0   \n",
       "...                   ...           ...      ...     ...   ...     ...   \n",
       "25038  Villa de Guadalupe             2        1       0    50  2800.0   \n",
       "25051           Nativitas             2        1       0    62  3500.0   \n",
       "25065           Nativitas             2        1       0    50  3150.0   \n",
       "25095      Lindavista Sur             2        0       0    63  2800.0   \n",
       "25114            Narvarte             1        0       0    28  3500.0   \n",
       "\n",
       "       Condominio  Impuesto  \n",
       "3          1365.0      70.0  \n",
       "4           805.0       0.0  \n",
       "19         2702.0      87.5  \n",
       "37         1298.5      66.5  \n",
       "61         1890.0    3150.0  \n",
       "...           ...       ...  \n",
       "25038      1435.0       0.0  \n",
       "25051      1050.0       0.0  \n",
       "25065      1050.0       0.0  \n",
       "25095      1372.0       0.0  \n",
       "25114      1260.0      87.5  \n",
       "\n",
       "[1013 rows x 8 columns]"
      ]
     },
     "execution_count": 149,
     "metadata": {},
     "output_type": "execute_result"
    }
   ],
   "source": [
    "seleccion_2 = df_departamentos['Valor'] < 4200\n",
    "df_departamentos[seleccion_2]"
   ]
  },
  {
   "cell_type": "code",
   "execution_count": 150,
   "id": "d2bf69f7",
   "metadata": {},
   "outputs": [
    {
     "data": {
      "application/vnd.microsoft.datawrangler.viewer.v0+json": {
       "columns": [
        {
         "name": "index",
         "rawType": "object",
         "type": "string"
        },
        {
         "name": "0",
         "rawType": "object",
         "type": "unknown"
        }
       ],
       "ref": "22748b66-d27c-4d64-ab35-bf3946cd4cd2",
       "rows": [
        [
         "Colonia",
         "Álvaro Obregón"
        ],
        [
         "Habitaciones",
         "3"
        ],
        [
         "Garages",
         "2"
        ],
        [
         "Suites",
         "2"
        ],
        [
         "Area",
         "176"
        ],
        [
         "Valor",
         "4025.0"
        ],
        [
         "Condominio",
         "152575.5"
        ],
        [
         "Impuesto",
         "6699.0"
        ]
       ],
       "shape": {
        "columns": 1,
        "rows": 8
       }
      },
      "text/plain": [
       "Colonia         Álvaro Obregón\n",
       "Habitaciones                 3\n",
       "Garages                      2\n",
       "Suites                       2\n",
       "Area                       176\n",
       "Valor                   4025.0\n",
       "Condominio            152575.5\n",
       "Impuesto                6699.0\n",
       "dtype: object"
      ]
     },
     "execution_count": 150,
     "metadata": {},
     "output_type": "execute_result"
    }
   ],
   "source": [
    "df_departamentos[seleccion_2].max()"
   ]
  },
  {
   "cell_type": "code",
   "execution_count": 151,
   "id": "b3ecccb0",
   "metadata": {},
   "outputs": [
    {
     "data": {
      "application/vnd.microsoft.datawrangler.viewer.v0+json": {
       "columns": [
        {
         "name": "index",
         "rawType": "int64",
         "type": "integer"
        },
        {
         "name": "Colonia",
         "rawType": "object",
         "type": "string"
        },
        {
         "name": "Habitaciones",
         "rawType": "int64",
         "type": "integer"
        },
        {
         "name": "Garages",
         "rawType": "int64",
         "type": "integer"
        },
        {
         "name": "Suites",
         "rawType": "int64",
         "type": "integer"
        },
        {
         "name": "Area",
         "rawType": "int64",
         "type": "integer"
        },
        {
         "name": "Valor",
         "rawType": "float64",
         "type": "float"
        },
        {
         "name": "Condominio",
         "rawType": "float64",
         "type": "float"
        },
        {
         "name": "Impuesto",
         "rawType": "float64",
         "type": "float"
        }
       ],
       "ref": "67e09ee4-5e3a-4c9b-a230-3ac484ed21ff",
       "rows": [
        [
         "3",
         "Centro Histórico",
         "1",
         "0",
         "0",
         "15",
         "2800.0",
         "1365.0",
         "70.0"
        ],
        [
         "4",
         "Del Valle",
         "1",
         "0",
         "0",
         "48",
         "2800.0",
         "805.0",
         "0.0"
        ],
        [
         "19",
         "Narvarte",
         "1",
         "0",
         "0",
         "48",
         "2625.0",
         "2702.0",
         "87.5"
        ],
        [
         "37",
         "Centro Histórico",
         "1",
         "0",
         "0",
         "27",
         "2625.0",
         "1298.5",
         "66.5"
        ],
        [
         "61",
         "Centro Histórico",
         "1",
         "1",
         "0",
         "37",
         "3850.0",
         "1890.0",
         "3150.0"
        ],
        [
         "101",
         "San Miguel Chapultepec",
         "1",
         "0",
         "0",
         "37",
         "3500.0",
         "997.5",
         "84.0"
        ],
        [
         "212",
         "Roma",
         "1",
         "0",
         "0",
         "35",
         "3500.0",
         "1025.5",
         "301.0"
        ],
        [
         "247",
         "Nueva Santa María",
         "1",
         "1",
         "0",
         "63",
         "2450.0",
         "2187.5",
         "126.0"
        ],
        [
         "412",
         "Napoles",
         "1",
         "0",
         "0",
         "31",
         "3990.0",
         "1470.0",
         "84.0"
        ],
        [
         "429",
         "Roma",
         "1",
         "0",
         "0",
         "17",
         "3850.0",
         "1155.0",
         "52.5"
        ],
        [
         "444",
         "Villa de Guadalupe",
         "1",
         "1",
         "0",
         "45",
         "2450.0",
         "1246.0",
         "441.0"
        ],
        [
         "469",
         "San Rafael",
         "1",
         "0",
         "1",
         "30",
         "3850.0",
         "2030.0",
         "0.0"
        ],
        [
         "614",
         "Centro Histórico",
         "1",
         "0",
         "1",
         "38",
         "4025.0",
         "1400.0",
         "87.5"
        ],
        [
         "642",
         "Condesa",
         "1",
         "0",
         "0",
         "21",
         "2800.0",
         "1092.0",
         "52.5"
        ],
        [
         "718",
         "Centro Histórico",
         "1",
         "0",
         "0",
         "35",
         "3500.0",
         "1050.0",
         "0.0"
        ],
        [
         "794",
         "San Miguel Chapultepec",
         "1",
         "1",
         "1",
         "50",
         "3675.0",
         "1575.0",
         "0.0"
        ],
        [
         "816",
         "Santa Cruz Atoyac",
         "1",
         "0",
         "0",
         "50",
         "3850.0",
         "1953.0",
         "70.0"
        ],
        [
         "818",
         "Del Valle",
         "1",
         "0",
         "0",
         "55",
         "2625.0",
         "420.0",
         "0.0"
        ],
        [
         "829",
         "Roma",
         "1",
         "0",
         "0",
         "35",
         "3500.0",
         "1025.5",
         "301.0"
        ],
        [
         "830",
         "Condesa",
         "1",
         "1",
         "0",
         "49",
         "4025.0",
         "1995.0",
         "98.0"
        ],
        [
         "1009",
         "Condesa",
         "1",
         "0",
         "0",
         "35",
         "3850.0",
         "1400.0",
         "192.5"
        ],
        [
         "1015",
         "Narvarte",
         "1",
         "0",
         "0",
         "40",
         "3850.0",
         "1225.0",
         "175.0"
        ],
        [
         "1060",
         "La Condesa",
         "1",
         "0",
         "0",
         "34",
         "3850.0",
         "962.5",
         "49.0"
        ],
        [
         "1062",
         "Del Valle",
         "1",
         "0",
         "1",
         "45",
         "2800.0",
         "420.0",
         "108.5"
        ],
        [
         "1124",
         "Nueva Santa María",
         "1",
         "0",
         "0",
         "37",
         "2100.0",
         "1449.0",
         "56.0"
        ],
        [
         "1194",
         "Del Valle Centro",
         "1",
         "1",
         "0",
         "44",
         "1750.0",
         "1211.0",
         "0.0"
        ],
        [
         "1198",
         "Santa Fe",
         "1",
         "1",
         "1",
         "45",
         "3185.0",
         "2240.0",
         "42.0"
        ],
        [
         "1220",
         "Centro Histórico",
         "1",
         "0",
         "0",
         "30",
         "3150.0",
         "1120.0",
         "0.0"
        ],
        [
         "1246",
         "Centro Histórico",
         "1",
         "0",
         "0",
         "21",
         "3150.0",
         "1011.5",
         "70.0"
        ],
        [
         "1261",
         "Nativitas",
         "1",
         "0",
         "0",
         "35",
         "1400.0",
         "455.0",
         "0.0"
        ],
        [
         "1294",
         "Roma Norte",
         "1",
         "0",
         "0",
         "33",
         "2800.0",
         "962.5",
         "84.0"
        ],
        [
         "1349",
         "Ciudad de los Deportes",
         "1",
         "1",
         "1",
         "70",
         "2100.0",
         "1683.5",
         "59.5"
        ],
        [
         "1555",
         "Centro Histórico",
         "1",
         "0",
         "0",
         "38",
         "3150.0",
         "780.5",
         "52.5"
        ],
        [
         "1602",
         "Nueva Santa María",
         "1",
         "1",
         "1",
         "51",
         "2975.0",
         "1781.5",
         "59.5"
        ],
        [
         "1780",
         "Condesa",
         "1",
         "0",
         "0",
         "45",
         "2590.0",
         "630.0",
         "87.5"
        ],
        [
         "1865",
         "La Florida",
         "1",
         "1",
         "1",
         "64",
         "3150.0",
         "1645.0",
         "52.5"
        ],
        [
         "1902",
         "La Condesa",
         "1",
         "0",
         "1",
         "48",
         "3850.0",
         "1750.0",
         "0.0"
        ],
        [
         "2094",
         "Centro Histórico",
         "1",
         "0",
         "0",
         "40",
         "3500.0",
         "1785.0",
         "73.5"
        ],
        [
         "2146",
         "Centro Histórico",
         "1",
         "0",
         "0",
         "55",
         "2975.0",
         "1225.0",
         "122.5"
        ],
        [
         "2161",
         "Centro Histórico",
         "1",
         "0",
         "0",
         "28",
         "3150.0",
         "1561.0",
         "84.0"
        ],
        [
         "2164",
         "Juárez",
         "1",
         "0",
         "0",
         "27",
         "3500.0",
         "1256.5",
         "101.5"
        ],
        [
         "2172",
         "Nueva Santa María",
         "1",
         "1",
         "0",
         "62",
         "3150.0",
         "1942.5",
         "0.0"
        ],
        [
         "2175",
         "Narvarte",
         "1",
         "0",
         "0",
         "35",
         "2800.0",
         "1330.0",
         "84.0"
        ],
        [
         "2182",
         "Culhuacán CTM",
         "1",
         "0",
         "0",
         "40",
         "2380.0",
         "840.0",
         "0.0"
        ],
        [
         "2276",
         "Centro Histórico",
         "1",
         "0",
         "0",
         "35",
         "3325.0",
         "1190.0",
         "84.0"
        ],
        [
         "2388",
         "Narvarte",
         "1",
         "1",
         "0",
         "47",
         "3850.0",
         "2100.0",
         "0.0"
        ],
        [
         "2409",
         "Iztacalco",
         "1",
         "0",
         "0",
         "55",
         "2450.0",
         "700.0",
         "0.0"
        ],
        [
         "2421",
         "Condesa",
         "1",
         "0",
         "0",
         "55",
         "3850.0",
         "1960.0",
         "199.5"
        ],
        [
         "2423",
         "Del Valle",
         "1",
         "0",
         "0",
         "27",
         "3850.0",
         "2380.0",
         "101.5"
        ],
        [
         "2451",
         "La Condesa",
         "1",
         "0",
         "0",
         "50",
         "3325.0",
         "1995.0",
         "234.5"
        ]
       ],
       "shape": {
        "columns": 8,
        "rows": 361
       }
      },
      "text/html": [
       "<div>\n",
       "<style scoped>\n",
       "    .dataframe tbody tr th:only-of-type {\n",
       "        vertical-align: middle;\n",
       "    }\n",
       "\n",
       "    .dataframe tbody tr th {\n",
       "        vertical-align: top;\n",
       "    }\n",
       "\n",
       "    .dataframe thead th {\n",
       "        text-align: right;\n",
       "    }\n",
       "</style>\n",
       "<table border=\"1\" class=\"dataframe\">\n",
       "  <thead>\n",
       "    <tr style=\"text-align: right;\">\n",
       "      <th></th>\n",
       "      <th>Colonia</th>\n",
       "      <th>Habitaciones</th>\n",
       "      <th>Garages</th>\n",
       "      <th>Suites</th>\n",
       "      <th>Area</th>\n",
       "      <th>Valor</th>\n",
       "      <th>Condominio</th>\n",
       "      <th>Impuesto</th>\n",
       "    </tr>\n",
       "  </thead>\n",
       "  <tbody>\n",
       "    <tr>\n",
       "      <th>3</th>\n",
       "      <td>Centro Histórico</td>\n",
       "      <td>1</td>\n",
       "      <td>0</td>\n",
       "      <td>0</td>\n",
       "      <td>15</td>\n",
       "      <td>2800.0</td>\n",
       "      <td>1365.0</td>\n",
       "      <td>70.0</td>\n",
       "    </tr>\n",
       "    <tr>\n",
       "      <th>4</th>\n",
       "      <td>Del Valle</td>\n",
       "      <td>1</td>\n",
       "      <td>0</td>\n",
       "      <td>0</td>\n",
       "      <td>48</td>\n",
       "      <td>2800.0</td>\n",
       "      <td>805.0</td>\n",
       "      <td>0.0</td>\n",
       "    </tr>\n",
       "    <tr>\n",
       "      <th>19</th>\n",
       "      <td>Narvarte</td>\n",
       "      <td>1</td>\n",
       "      <td>0</td>\n",
       "      <td>0</td>\n",
       "      <td>48</td>\n",
       "      <td>2625.0</td>\n",
       "      <td>2702.0</td>\n",
       "      <td>87.5</td>\n",
       "    </tr>\n",
       "    <tr>\n",
       "      <th>37</th>\n",
       "      <td>Centro Histórico</td>\n",
       "      <td>1</td>\n",
       "      <td>0</td>\n",
       "      <td>0</td>\n",
       "      <td>27</td>\n",
       "      <td>2625.0</td>\n",
       "      <td>1298.5</td>\n",
       "      <td>66.5</td>\n",
       "    </tr>\n",
       "    <tr>\n",
       "      <th>61</th>\n",
       "      <td>Centro Histórico</td>\n",
       "      <td>1</td>\n",
       "      <td>1</td>\n",
       "      <td>0</td>\n",
       "      <td>37</td>\n",
       "      <td>3850.0</td>\n",
       "      <td>1890.0</td>\n",
       "      <td>3150.0</td>\n",
       "    </tr>\n",
       "    <tr>\n",
       "      <th>...</th>\n",
       "      <td>...</td>\n",
       "      <td>...</td>\n",
       "      <td>...</td>\n",
       "      <td>...</td>\n",
       "      <td>...</td>\n",
       "      <td>...</td>\n",
       "      <td>...</td>\n",
       "      <td>...</td>\n",
       "    </tr>\n",
       "    <tr>\n",
       "      <th>24710</th>\n",
       "      <td>Nativitas</td>\n",
       "      <td>1</td>\n",
       "      <td>0</td>\n",
       "      <td>0</td>\n",
       "      <td>40</td>\n",
       "      <td>3150.0</td>\n",
       "      <td>1522.5</td>\n",
       "      <td>0.0</td>\n",
       "    </tr>\n",
       "    <tr>\n",
       "      <th>24872</th>\n",
       "      <td>Peralvillo</td>\n",
       "      <td>1</td>\n",
       "      <td>0</td>\n",
       "      <td>1</td>\n",
       "      <td>69</td>\n",
       "      <td>3150.0</td>\n",
       "      <td>2240.0</td>\n",
       "      <td>441.0</td>\n",
       "    </tr>\n",
       "    <tr>\n",
       "      <th>24880</th>\n",
       "      <td>La Condesa</td>\n",
       "      <td>1</td>\n",
       "      <td>0</td>\n",
       "      <td>0</td>\n",
       "      <td>46</td>\n",
       "      <td>3850.0</td>\n",
       "      <td>1585.5</td>\n",
       "      <td>112.0</td>\n",
       "    </tr>\n",
       "    <tr>\n",
       "      <th>24943</th>\n",
       "      <td>Roma</td>\n",
       "      <td>1</td>\n",
       "      <td>0</td>\n",
       "      <td>0</td>\n",
       "      <td>21</td>\n",
       "      <td>3500.0</td>\n",
       "      <td>987.0</td>\n",
       "      <td>87.5</td>\n",
       "    </tr>\n",
       "    <tr>\n",
       "      <th>25114</th>\n",
       "      <td>Narvarte</td>\n",
       "      <td>1</td>\n",
       "      <td>0</td>\n",
       "      <td>0</td>\n",
       "      <td>28</td>\n",
       "      <td>3500.0</td>\n",
       "      <td>1260.0</td>\n",
       "      <td>87.5</td>\n",
       "    </tr>\n",
       "  </tbody>\n",
       "</table>\n",
       "<p>361 rows × 8 columns</p>\n",
       "</div>"
      ],
      "text/plain": [
       "                Colonia  Habitaciones  Garages  Suites  Area   Valor  \\\n",
       "3      Centro Histórico             1        0       0    15  2800.0   \n",
       "4             Del Valle             1        0       0    48  2800.0   \n",
       "19             Narvarte             1        0       0    48  2625.0   \n",
       "37     Centro Histórico             1        0       0    27  2625.0   \n",
       "61     Centro Histórico             1        1       0    37  3850.0   \n",
       "...                 ...           ...      ...     ...   ...     ...   \n",
       "24710         Nativitas             1        0       0    40  3150.0   \n",
       "24872        Peralvillo             1        0       1    69  3150.0   \n",
       "24880        La Condesa             1        0       0    46  3850.0   \n",
       "24943              Roma             1        0       0    21  3500.0   \n",
       "25114          Narvarte             1        0       0    28  3500.0   \n",
       "\n",
       "       Condominio  Impuesto  \n",
       "3          1365.0      70.0  \n",
       "4           805.0       0.0  \n",
       "19         2702.0      87.5  \n",
       "37         1298.5      66.5  \n",
       "61         1890.0    3150.0  \n",
       "...           ...       ...  \n",
       "24710      1522.5       0.0  \n",
       "24872      2240.0     441.0  \n",
       "24880      1585.5     112.0  \n",
       "24943       987.0      87.5  \n",
       "25114      1260.0      87.5  \n",
       "\n",
       "[361 rows x 8 columns]"
      ]
     },
     "execution_count": 151,
     "metadata": {},
     "output_type": "execute_result"
    }
   ],
   "source": [
    "filtro = seleccion_1 & seleccion_2\n",
    "# filtramos las habitaciones con valor de 1 y un alquiler de mas de 4200\n",
    "df_departamentos[filtro]"
   ]
  },
  {
   "cell_type": "code",
   "execution_count": 152,
   "id": "66a3699f",
   "metadata": {},
   "outputs": [],
   "source": [
    "df_1 = df_departamentos[filtro]"
   ]
  },
  {
   "cell_type": "code",
   "execution_count": 153,
   "id": "fe3d4a80",
   "metadata": {},
   "outputs": [
    {
     "data": {
      "application/vnd.microsoft.datawrangler.viewer.v0+json": {
       "columns": [
        {
         "name": "index",
         "rawType": "int64",
         "type": "integer"
        },
        {
         "name": "Colonia",
         "rawType": "object",
         "type": "string"
        },
        {
         "name": "Habitaciones",
         "rawType": "int64",
         "type": "integer"
        },
        {
         "name": "Garages",
         "rawType": "int64",
         "type": "integer"
        },
        {
         "name": "Suites",
         "rawType": "int64",
         "type": "integer"
        },
        {
         "name": "Area",
         "rawType": "int64",
         "type": "integer"
        },
        {
         "name": "Valor",
         "rawType": "float64",
         "type": "float"
        },
        {
         "name": "Condominio",
         "rawType": "float64",
         "type": "float"
        },
        {
         "name": "Impuesto",
         "rawType": "float64",
         "type": "float"
        }
       ],
       "ref": "a4acddff-e282-454e-a4fb-91a94181a4ae",
       "rows": [
        [
         "14",
         "Narvarte",
         "2",
         "1",
         "0",
         "110",
         "6650.0",
         "2450.0",
         "483.0"
        ],
        [
         "16",
         "Narvarte",
         "2",
         "1",
         "0",
         "78",
         "7000.0",
         "2450.0",
         "0.0"
        ],
        [
         "21",
         "Roma",
         "2",
         "1",
         "0",
         "76",
         "8750.0",
         "2590.0",
         "0.0"
        ],
        [
         "33",
         "Santa Fe",
         "3",
         "1",
         "1",
         "72",
         "8225.0",
         "2100.0",
         "245.0"
        ],
        [
         "58",
         "Santa Fe",
         "3",
         "2",
         "1",
         "104",
         "9100.0",
         "4774.0",
         "1421.0"
        ],
        [
         "60",
         "Santa Fe",
         "2",
         "1",
         "1",
         "88",
         "9450.0",
         "4550.0",
         "7147.0"
        ],
        [
         "63",
         "Santa Fe",
         "3",
         "2",
         "2",
         "85",
         "8750.0",
         "4900.0",
         "665.0"
        ],
        [
         "68",
         "Santa Fe",
         "2",
         "1",
         "1",
         "78",
         "9625.0",
         "4550.0",
         "483.0"
        ],
        [
         "75",
         "Narvarte",
         "2",
         "1",
         "0",
         "80",
         "6300.0",
         "3850.0",
         "294.0"
        ],
        [
         "79",
         "Narvarte",
         "3",
         "1",
         "0",
         "172",
         "9450.0",
         "2730.0",
         "595.0"
        ],
        [
         "82",
         "Roma",
         "2",
         "1",
         "1",
         "83",
         "9800.0",
         "1960.0",
         "483.0"
        ],
        [
         "91",
         "Juárez",
         "2",
         "0",
         "0",
         "77",
         "8400.0",
         "3955.0",
         "490.0"
        ],
        [
         "100",
         "Ciudad de los Deportes",
         "2",
         "0",
         "0",
         "80",
         "3150.0",
         "1225.0",
         "0.0"
        ],
        [
         "125",
         "Santa Fe",
         "2",
         "1",
         "1",
         "72",
         "9100.0",
         "5950.0",
         "829.5"
        ],
        [
         "132",
         "Narvarte",
         "3",
         "0",
         "0",
         "87",
         "5600.0",
         "2275.0",
         "350.0"
        ],
        [
         "139",
         "Santa Fe",
         "3",
         "1",
         "2",
         "93",
         "8750.0",
         "3850.0",
         "0.0"
        ],
        [
         "140",
         "Nueva Santa María",
         "2",
         "2",
         "0",
         "78",
         "2800.0",
         "3202.5",
         "192.5"
        ],
        [
         "141",
         "Santa Fe",
         "2",
         "1",
         "1",
         "85",
         "8750.0",
         "5505.5",
         "689.5"
        ],
        [
         "155",
         "Narvarte",
         "3",
         "1",
         "1",
         "78",
         "8750.0",
         "2555.0",
         "623.0"
        ],
        [
         "163",
         "Santa Fe",
         "2",
         "1",
         "1",
         "83",
         "7000.0",
         "5418.0",
         "910.0"
        ],
        [
         "165",
         "Santa Fe",
         "3",
         "1",
         "1",
         "84",
         "6650.0",
         "3860.5",
         "742.0"
        ],
        [
         "166",
         "Narvarte",
         "3",
         "0",
         "0",
         "75",
         "6300.0",
         "1225.0",
         "0.0"
        ],
        [
         "175",
         "Narvarte",
         "2",
         "1",
         "1",
         "71",
         "5250.0",
         "2100.0",
         "0.0"
        ],
        [
         "176",
         "Santa Fe",
         "2",
         "1",
         "1",
         "81",
         "6650.0",
         "4200.0",
         "423.5"
        ],
        [
         "190",
         "Del Valle",
         "3",
         "1",
         "1",
         "90",
         "8400.0",
         "4588.5",
         "0.0"
        ],
        [
         "200",
         "Narvarte",
         "3",
         "1",
         "0",
         "129",
         "6300.0",
         "2975.0",
         "406.0"
        ],
        [
         "227",
         "Santa Fe",
         "3",
         "1",
         "1",
         "105",
         "8750.0",
         "4900.0",
         "5250.0"
        ],
        [
         "235",
         "San Ángel",
         "3",
         "0",
         "1",
         "120",
         "9450.0",
         "3080.0",
         "833.0"
        ],
        [
         "246",
         "Santa Fe",
         "2",
         "1",
         "1",
         "77",
         "8750.0",
         "2905.0",
         "546.0"
        ],
        [
         "253",
         "Santa Fe",
         "2",
         "1",
         "1",
         "75",
         "4900.0",
         "4480.0",
         "0.0"
        ],
        [
         "274",
         "Condesa",
         "2",
         "1",
         "1",
         "81",
         "10150.0",
         "3125.5",
         "665.0"
        ],
        [
         "279",
         "Ciudad de los Deportes",
         "3",
         "0",
         "0",
         "90",
         "3150.0",
         "1155.0",
         "52.5"
        ],
        [
         "280",
         "San Miguel Chapultepec",
         "3",
         "3",
         "1",
         "124",
         "5950.0",
         "4900.0",
         "0.0"
        ],
        [
         "288",
         "Mixcoac",
         "3",
         "1",
         "1",
         "73",
         "4200.0",
         "1820.0",
         "0.0"
        ],
        [
         "294",
         "Del Valle",
         "2",
         "0",
         "0",
         "110",
         "8750.0",
         "3388.0",
         "584.5"
        ],
        [
         "322",
         "Condesa",
         "3",
         "0",
         "0",
         "80",
         "8750.0",
         "2800.0",
         "549.5"
        ],
        [
         "337",
         "Bosques de las Lomas",
         "2",
         "1",
         "1",
         "80",
         "7700.0",
         "9100.0",
         "1470.0"
        ],
        [
         "356",
         "Narvarte",
         "3",
         "1",
         "0",
         "88",
         "8050.0",
         "2765.0",
         "3097.5"
        ],
        [
         "361",
         "Narvarte",
         "3",
         "1",
         "0",
         "116",
         "7000.0",
         "2765.0",
         "679.0"
        ],
        [
         "362",
         "San Miguel Chapultepec",
         "3",
         "0",
         "0",
         "82",
         "4200.0",
         "2324.0",
         "301.0"
        ],
        [
         "379",
         "Roma",
         "2",
         "0",
         "0",
         "115",
         "7700.0",
         "3657.5",
         "665.0"
        ],
        [
         "389",
         "Condesa",
         "2",
         "1",
         "0",
         "74",
         "9100.0",
         "3573.5",
         "0.0"
        ],
        [
         "390",
         "San Pedro de los Pinos",
         "2",
         "1",
         "0",
         "75",
         "10150.0",
         "3241.0",
         "315.0"
        ],
        [
         "395",
         "Del Valle",
         "2",
         "0",
         "0",
         "85",
         "7350.0",
         "2450.0",
         "332.5"
        ],
        [
         "402",
         "Santa Fe",
         "2",
         "1",
         "1",
         "88",
         "8400.0",
         "4595.5",
         "0.0"
        ],
        [
         "411",
         "Condesa",
         "2",
         "0",
         "0",
         "110",
         "9800.0",
         "2800.0",
         "420.0"
        ],
        [
         "431",
         "Bosques de las Lomas",
         "2",
         "1",
         "1",
         "90",
         "9450.0",
         "4725.0",
         "875.0"
        ],
        [
         "443",
         "San Pedro de los Pinos",
         "3",
         "1",
         "0",
         "95",
         "8050.0",
         "4550.0",
         "420.0"
        ],
        [
         "445",
         "Santa Fe",
         "2",
         "1",
         "0",
         "90",
         "7000.0",
         "3430.0",
         "5600.0"
        ],
        [
         "472",
         "Bosques de las Lomas",
         "2",
         "1",
         "0",
         "77",
         "9450.0",
         "3675.0",
         "1057.0"
        ]
       ],
       "shape": {
        "columns": 8,
        "rows": 2643
       }
      },
      "text/html": [
       "<div>\n",
       "<style scoped>\n",
       "    .dataframe tbody tr th:only-of-type {\n",
       "        vertical-align: middle;\n",
       "    }\n",
       "\n",
       "    .dataframe tbody tr th {\n",
       "        vertical-align: top;\n",
       "    }\n",
       "\n",
       "    .dataframe thead th {\n",
       "        text-align: right;\n",
       "    }\n",
       "</style>\n",
       "<table border=\"1\" class=\"dataframe\">\n",
       "  <thead>\n",
       "    <tr style=\"text-align: right;\">\n",
       "      <th></th>\n",
       "      <th>Colonia</th>\n",
       "      <th>Habitaciones</th>\n",
       "      <th>Garages</th>\n",
       "      <th>Suites</th>\n",
       "      <th>Area</th>\n",
       "      <th>Valor</th>\n",
       "      <th>Condominio</th>\n",
       "      <th>Impuesto</th>\n",
       "    </tr>\n",
       "  </thead>\n",
       "  <tbody>\n",
       "    <tr>\n",
       "      <th>14</th>\n",
       "      <td>Narvarte</td>\n",
       "      <td>2</td>\n",
       "      <td>1</td>\n",
       "      <td>0</td>\n",
       "      <td>110</td>\n",
       "      <td>6650.0</td>\n",
       "      <td>2450.0</td>\n",
       "      <td>483.0</td>\n",
       "    </tr>\n",
       "    <tr>\n",
       "      <th>16</th>\n",
       "      <td>Narvarte</td>\n",
       "      <td>2</td>\n",
       "      <td>1</td>\n",
       "      <td>0</td>\n",
       "      <td>78</td>\n",
       "      <td>7000.0</td>\n",
       "      <td>2450.0</td>\n",
       "      <td>0.0</td>\n",
       "    </tr>\n",
       "    <tr>\n",
       "      <th>21</th>\n",
       "      <td>Roma</td>\n",
       "      <td>2</td>\n",
       "      <td>1</td>\n",
       "      <td>0</td>\n",
       "      <td>76</td>\n",
       "      <td>8750.0</td>\n",
       "      <td>2590.0</td>\n",
       "      <td>0.0</td>\n",
       "    </tr>\n",
       "    <tr>\n",
       "      <th>33</th>\n",
       "      <td>Santa Fe</td>\n",
       "      <td>3</td>\n",
       "      <td>1</td>\n",
       "      <td>1</td>\n",
       "      <td>72</td>\n",
       "      <td>8225.0</td>\n",
       "      <td>2100.0</td>\n",
       "      <td>245.0</td>\n",
       "    </tr>\n",
       "    <tr>\n",
       "      <th>58</th>\n",
       "      <td>Santa Fe</td>\n",
       "      <td>3</td>\n",
       "      <td>2</td>\n",
       "      <td>1</td>\n",
       "      <td>104</td>\n",
       "      <td>9100.0</td>\n",
       "      <td>4774.0</td>\n",
       "      <td>1421.0</td>\n",
       "    </tr>\n",
       "    <tr>\n",
       "      <th>...</th>\n",
       "      <td>...</td>\n",
       "      <td>...</td>\n",
       "      <td>...</td>\n",
       "      <td>...</td>\n",
       "      <td>...</td>\n",
       "      <td>...</td>\n",
       "      <td>...</td>\n",
       "      <td>...</td>\n",
       "    </tr>\n",
       "    <tr>\n",
       "      <th>25028</th>\n",
       "      <td>Del Valle</td>\n",
       "      <td>2</td>\n",
       "      <td>0</td>\n",
       "      <td>1</td>\n",
       "      <td>90</td>\n",
       "      <td>7700.0</td>\n",
       "      <td>1890.0</td>\n",
       "      <td>483.0</td>\n",
       "    </tr>\n",
       "    <tr>\n",
       "      <th>25062</th>\n",
       "      <td>Santa Fe</td>\n",
       "      <td>2</td>\n",
       "      <td>1</td>\n",
       "      <td>1</td>\n",
       "      <td>72</td>\n",
       "      <td>5950.0</td>\n",
       "      <td>3045.0</td>\n",
       "      <td>560.0</td>\n",
       "    </tr>\n",
       "    <tr>\n",
       "      <th>25063</th>\n",
       "      <td>Narvarte</td>\n",
       "      <td>3</td>\n",
       "      <td>1</td>\n",
       "      <td>0</td>\n",
       "      <td>75</td>\n",
       "      <td>6650.0</td>\n",
       "      <td>3010.0</td>\n",
       "      <td>493.5</td>\n",
       "    </tr>\n",
       "    <tr>\n",
       "      <th>25105</th>\n",
       "      <td>Santa Fe</td>\n",
       "      <td>2</td>\n",
       "      <td>1</td>\n",
       "      <td>1</td>\n",
       "      <td>85</td>\n",
       "      <td>7875.0</td>\n",
       "      <td>5463.5</td>\n",
       "      <td>689.5</td>\n",
       "    </tr>\n",
       "    <tr>\n",
       "      <th>25106</th>\n",
       "      <td>Santa Fe</td>\n",
       "      <td>3</td>\n",
       "      <td>2</td>\n",
       "      <td>0</td>\n",
       "      <td>98</td>\n",
       "      <td>8050.0</td>\n",
       "      <td>3104.5</td>\n",
       "      <td>619.5</td>\n",
       "    </tr>\n",
       "  </tbody>\n",
       "</table>\n",
       "<p>2643 rows × 8 columns</p>\n",
       "</div>"
      ],
      "text/plain": [
       "         Colonia  Habitaciones  Garages  Suites  Area   Valor  Condominio  \\\n",
       "14      Narvarte             2        1       0   110  6650.0      2450.0   \n",
       "16      Narvarte             2        1       0    78  7000.0      2450.0   \n",
       "21          Roma             2        1       0    76  8750.0      2590.0   \n",
       "33      Santa Fe             3        1       1    72  8225.0      2100.0   \n",
       "58      Santa Fe             3        2       1   104  9100.0      4774.0   \n",
       "...          ...           ...      ...     ...   ...     ...         ...   \n",
       "25028  Del Valle             2        0       1    90  7700.0      1890.0   \n",
       "25062   Santa Fe             2        1       1    72  5950.0      3045.0   \n",
       "25063   Narvarte             3        1       0    75  6650.0      3010.0   \n",
       "25105   Santa Fe             2        1       1    85  7875.0      5463.5   \n",
       "25106   Santa Fe             3        2       0    98  8050.0      3104.5   \n",
       "\n",
       "       Impuesto  \n",
       "14        483.0  \n",
       "16          0.0  \n",
       "21          0.0  \n",
       "33        245.0  \n",
       "58       1421.0  \n",
       "...         ...  \n",
       "25028     483.0  \n",
       "25062     560.0  \n",
       "25063     493.5  \n",
       "25105     689.5  \n",
       "25106     619.5  \n",
       "\n",
       "[2643 rows x 8 columns]"
      ]
     },
     "execution_count": 153,
     "metadata": {},
     "output_type": "execute_result"
    }
   ],
   "source": [
    "filtro_2 = (df_departamentos['Habitaciones'] >= 2) & (df_departamentos['Valor'] < 10500) & (df_departamentos['Area'] > 70)\n",
    "df_departamentos[filtro_2]"
   ]
  },
  {
   "cell_type": "code",
   "execution_count": 154,
   "id": "272668c5",
   "metadata": {},
   "outputs": [],
   "source": [
    "df_2 = df_departamentos[filtro_2]"
   ]
  },
  {
   "cell_type": "markdown",
   "id": "47bc42df",
   "metadata": {},
   "source": [
    "## **GUARDAR LOS DATOS**"
   ]
  },
  {
   "cell_type": "code",
   "execution_count": 155,
   "id": "1596303b",
   "metadata": {},
   "outputs": [
    {
     "data": {
      "application/vnd.microsoft.datawrangler.viewer.v0+json": {
       "columns": [
        {
         "name": "index",
         "rawType": "int64",
         "type": "integer"
        },
        {
         "name": "Colonia;Habitaciones;Garages;Suites;Area;Valor;Condominio;Impuesto",
         "rawType": "object",
         "type": "string"
        }
       ],
       "ref": "9ead20a4-3365-4b9e-9a4c-12eb4fadc7c4",
       "rows": [
        [
         "0",
         "Centro Histórico;1;0;0;15;2800.0;1365.0;70.0"
        ],
        [
         "1",
         "Del Valle;1;0;0;48;2800.0;805.0;0.0"
        ],
        [
         "2",
         "Condesa;1;0;1;40;7000.0;1963.5;175.0"
        ],
        [
         "3",
         "Condesa;4;3;1;243;45500.0;7000.0;2810.5"
        ],
        [
         "4",
         "Santa Fe;2;1;1;67;5950.0;2061.5;514.5"
        ],
        [
         "5",
         "Narvarte;2;1;0;110;6650.0;2450.0;483.0"
        ],
        [
         "6",
         "Narvarte;2;1;0;78;7000.0;2450.0;0.0"
        ],
        [
         "7",
         "Coyoacán;3;1;1;125;24500.0;7350.0;1620.5"
        ],
        [
         "8",
         "Narvarte;1;0;0;48;2625.0;2702.0;87.5"
        ],
        [
         "9",
         "Santa Fe;3;3;1;175;14700.0;5250.0;1750.0"
        ],
        [
         "10",
         "Roma;2;1;0;76;8750.0;2590.0;0.0"
        ],
        [
         "11",
         "Condesa;3;1;2;378;35000.0;7525.0;2450.0"
        ],
        [
         "12",
         "Condesa;3;0;0;180;19250.0;6230.0;1470.0"
        ],
        [
         "13",
         "Lomas de Chapultepec;3;1;0;110;13650.0;5250.0;420.0"
        ],
        [
         "14",
         "Santa Fe;3;1;2;70;6300.0;3832.5;490.0"
        ],
        [
         "15",
         "Condesa;4;1;0;244;17500.0;8750.0;14350.0"
        ],
        [
         "16",
         "Santa Fe;3;2;1;110;15750.0;7000.0;1575.0"
        ],
        [
         "17",
         "Santa Fe;3;1;1;72;8225.0;2100.0;245.0"
        ],
        [
         "18",
         "San Pedro de los Pinos;2;2;1;180;14000.0;8750.0;1050.0"
        ],
        [
         "19",
         "Centro Histórico;1;0;0;27;2625.0;1298.5;66.5"
        ],
        [
         "20",
         "Coyoacán;1;0;0;35;7000.0;2275.0;262.5"
        ],
        [
         "21",
         "Coyoacán;1;0;0;38;4900.0;1855.0;269.5"
        ],
        [
         "22",
         "Santa Fe;4;3;3;153;22750.0;8050.0;1519.0"
        ],
        [
         "23",
         "Coyoacán;3;1;0;87;11200.0;4567.5;759.5"
        ],
        [
         "24",
         "Roma;3;1;1;108;20825.0;4917.5;1011.5"
        ],
        [
         "25",
         "Coyoacán;3;2;1;150;28000.0;8400.0;0.0"
        ],
        [
         "26",
         "Coyoacán;3;1;1;140;27650.0;10150.0;1750.0"
        ],
        [
         "27",
         "Polanco;2;2;0;95;14000.0;4095.0;0.0"
        ],
        [
         "28",
         "Lomas de Chapultepec;2;1;1;80;12250.0;3465.0;857.5"
        ],
        [
         "29",
         "Santa Fe;4;4;4;240;44450.0;15400.0;5040.0"
        ],
        [
         "30",
         "Santa Fe;3;2;1;104;9100.0;4774.0;1421.0"
        ],
        [
         "31",
         "San Ángel;2;1;0;70;9800.0;2380.0;343.0"
        ],
        [
         "32",
         "Santa Fe;2;1;1;88;9450.0;4550.0;7147.0"
        ],
        [
         "33",
         "Centro Histórico;1;1;0;37;3850.0;1890.0;3150.0"
        ],
        [
         "34",
         "San Jerónimo;3;4;0;130;19250.0;4924.5;861.0"
        ],
        [
         "35",
         "Santa Fe;3;2;2;85;8750.0;4900.0;665.0"
        ],
        [
         "36",
         "Del Valle;2;1;0;54;8050.0;2037.0;0.0"
        ],
        [
         "37",
         "Coyoacán;3;1;1;120;24500.0;6300.0;1295.0"
        ],
        [
         "38",
         "Santa Fe;2;1;1;78;9625.0;4550.0;483.0"
        ],
        [
         "39",
         "San Pedro de los Pinos;2;1;0;86;14000.0;4406.5;658.0"
        ],
        [
         "40",
         "Santa Fe;1;1;1;70;5950.0;3045.0;500.5"
        ],
        [
         "41",
         "Narvarte;2;1;0;80;6300.0;3850.0;294.0"
        ],
        [
         "42",
         "Narvarte;3;1;0;172;9450.0;2730.0;595.0"
        ],
        [
         "43",
         "Coyoacán;3;1;1;145;28000.0;51688.0;15379.0"
        ],
        [
         "44",
         "Roma;2;1;1;83;9800.0;1960.0;483.0"
        ],
        [
         "45",
         "Roma;2;1;1;80;15050.0;4123.0;654.5"
        ],
        [
         "46",
         "Bosques de las Lomas;3;1;2;250;48650.0;8750.0;0.0"
        ],
        [
         "47",
         "Lomas de Chapultepec;3;2;1;147;26250.0;3598.0;864.5"
        ],
        [
         "48",
         "Condesa;2;1;0;67;12250.0;3325.0;560.0"
        ],
        [
         "49",
         "Coyoacán;3;1;1;150;87500.0;5656.0;14892.5"
        ]
       ],
       "shape": {
        "columns": 1,
        "rows": 14264
       }
      },
      "text/html": [
       "<div>\n",
       "<style scoped>\n",
       "    .dataframe tbody tr th:only-of-type {\n",
       "        vertical-align: middle;\n",
       "    }\n",
       "\n",
       "    .dataframe tbody tr th {\n",
       "        vertical-align: top;\n",
       "    }\n",
       "\n",
       "    .dataframe thead th {\n",
       "        text-align: right;\n",
       "    }\n",
       "</style>\n",
       "<table border=\"1\" class=\"dataframe\">\n",
       "  <thead>\n",
       "    <tr style=\"text-align: right;\">\n",
       "      <th></th>\n",
       "      <th>Colonia;Habitaciones;Garages;Suites;Area;Valor;Condominio;Impuesto</th>\n",
       "    </tr>\n",
       "  </thead>\n",
       "  <tbody>\n",
       "    <tr>\n",
       "      <th>0</th>\n",
       "      <td>Centro Histórico;1;0;0;15;2800.0;1365.0;70.0</td>\n",
       "    </tr>\n",
       "    <tr>\n",
       "      <th>1</th>\n",
       "      <td>Del Valle;1;0;0;48;2800.0;805.0;0.0</td>\n",
       "    </tr>\n",
       "    <tr>\n",
       "      <th>2</th>\n",
       "      <td>Condesa;1;0;1;40;7000.0;1963.5;175.0</td>\n",
       "    </tr>\n",
       "    <tr>\n",
       "      <th>3</th>\n",
       "      <td>Condesa;4;3;1;243;45500.0;7000.0;2810.5</td>\n",
       "    </tr>\n",
       "    <tr>\n",
       "      <th>4</th>\n",
       "      <td>Santa Fe;2;1;1;67;5950.0;2061.5;514.5</td>\n",
       "    </tr>\n",
       "    <tr>\n",
       "      <th>...</th>\n",
       "      <td>...</td>\n",
       "    </tr>\n",
       "    <tr>\n",
       "      <th>14259</th>\n",
       "      <td>Lomas de Chapultepec;3;0;1;80;10500.0;3535.0;8...</td>\n",
       "    </tr>\n",
       "    <tr>\n",
       "      <th>14260</th>\n",
       "      <td>Coyoacán;3;1;2;150;52500.0;4900.0;2100.0</td>\n",
       "    </tr>\n",
       "    <tr>\n",
       "      <th>14261</th>\n",
       "      <td>Narvarte;1;0;0;28;3500.0;1260.0;87.5</td>\n",
       "    </tr>\n",
       "    <tr>\n",
       "      <th>14262</th>\n",
       "      <td>Mixcoac;2;1;0;48;4900.0;1781.5;129.5</td>\n",
       "    </tr>\n",
       "    <tr>\n",
       "      <th>14263</th>\n",
       "      <td>Lomas de Chapultepec;2;0;0;70;10500.0;2660.0;0.0</td>\n",
       "    </tr>\n",
       "  </tbody>\n",
       "</table>\n",
       "<p>14264 rows × 1 columns</p>\n",
       "</div>"
      ],
      "text/plain": [
       "      Colonia;Habitaciones;Garages;Suites;Area;Valor;Condominio;Impuesto\n",
       "0           Centro Histórico;1;0;0;15;2800.0;1365.0;70.0                \n",
       "1                    Del Valle;1;0;0;48;2800.0;805.0;0.0                \n",
       "2                   Condesa;1;0;1;40;7000.0;1963.5;175.0                \n",
       "3                Condesa;4;3;1;243;45500.0;7000.0;2810.5                \n",
       "4                  Santa Fe;2;1;1;67;5950.0;2061.5;514.5                \n",
       "...                                                  ...                \n",
       "14259  Lomas de Chapultepec;3;0;1;80;10500.0;3535.0;8...                \n",
       "14260           Coyoacán;3;1;2;150;52500.0;4900.0;2100.0                \n",
       "14261               Narvarte;1;0;0;28;3500.0;1260.0;87.5                \n",
       "14262               Mixcoac;2;1;0;48;4900.0;1781.5;129.5                \n",
       "14263   Lomas de Chapultepec;2;0;0;70;10500.0;2660.0;0.0                \n",
       "\n",
       "[14264 rows x 1 columns]"
      ]
     },
     "execution_count": 155,
     "metadata": {},
     "output_type": "execute_result"
    }
   ],
   "source": [
    "# Indicamos que no guarde el indice ya que no nos sirve y no necesitamos una columna uname\n",
    "# por defecto el sep es una comma y si lo queremos cambiar le ponemos el sep=';'\n",
    "df_departamentos.to_csv('./resources/inmuebles_ml.csv', index=False, sep=';')\n",
    "pd.read_csv('./resources/inmuebles_ml.csv')"
   ]
  },
  {
   "cell_type": "code",
   "execution_count": 156,
   "id": "6514bf5b",
   "metadata": {},
   "outputs": [],
   "source": [
    "df_1.to_csv('./resources/inmuebles_ml_filtro_1.csv', index=False, sep=';')\n",
    "df_2.to_csv('./resources/inmuebles_ml_filtro_2.csv', index=False, sep=';')"
   ]
  },
  {
   "cell_type": "markdown",
   "id": "ca8142ea",
   "metadata": {},
   "source": [
    "# Desafió\n",
    "Calcular el promedio de habitaciones por departamento.\n",
    "\n",
    "Verificar cuántas colonias únicas existen en nuestra base de datos.\n",
    "\n",
    "Analizar qué colonias tienen el promedio de alquiler más alto.\n",
    "\n",
    "Crear un gráfico de barras horizontales que muestre las 5 colonias con los promedios de alquiler más altos."
   ]
  },
  {
   "cell_type": "code",
   "execution_count": 157,
   "id": "a8fdc967",
   "metadata": {},
   "outputs": [
    {
     "data": {
      "text/plain": [
       "np.float64(2.519139091418957)"
      ]
     },
     "execution_count": 157,
     "metadata": {},
     "output_type": "execute_result"
    }
   ],
   "source": [
    "df_departamentos.Habitaciones.mean()"
   ]
  },
  {
   "cell_type": "code",
   "execution_count": 158,
   "id": "94fa8e93",
   "metadata": {},
   "outputs": [
    {
     "data": {
      "text/plain": [
       "88"
      ]
     },
     "execution_count": 158,
     "metadata": {},
     "output_type": "execute_result"
    }
   ],
   "source": [
    "# df_inmuebles.Colonia.unique().size\n",
    "# df_inmuebles.Colonia.nunique()\n",
    "len(df_inmuebles.Colonia.unique())\n"
   ]
  },
  {
   "cell_type": "code",
   "execution_count": 159,
   "id": "7458cf65",
   "metadata": {},
   "outputs": [
    {
     "data": {
      "text/plain": [
       "<Axes: ylabel='Colonia'>"
      ]
     },
     "execution_count": 159,
     "metadata": {},
     "output_type": "execute_result"
    },
    {
     "data": {
      "image/png": "[encoded data removed]",
      "text/plain": [
       "<Figure size 1000x500 with 1 Axes>"
      ]
     },
     "metadata": {},
     "output_type": "display_data"
    }
   ],
   "source": [
    "df_inmuebles.head()\n",
    "promedio_alquiler_colonia = df_inmuebles.groupby('Colonia')[['Valor']].mean().sort_values('Valor', ascending=False).head(5)\n",
    "# data_graficar = promedio_alquiler_colonia.head(5).sort_values('Valor')\n",
    "promedio_alquiler_colonia.plot(kind='barh', figsize=(10,5), color=\"blue\")\n",
    "# # \n",
    "# promedio_alquiler_colonia.plot(kind='barh', figsize=(10,5), color=\"blue\")\n",
    "# promedio_alquileres"
   ]
  },
  {
   "cell_type": "markdown",
   "id": "16166a47",
   "metadata": {},
   "source": [
    "## **DEMANDAS DE DEVS**\n"
   ]
  },
  {
   "cell_type": "markdown",
   "id": "681546ec",
   "metadata": {},
   "source": [
    "### **Crear columnas numéricas**"
   ]
  },
  {
   "cell_type": "markdown",
   "id": "e02810df",
   "metadata": {},
   "source": [
    "1. valor_mensual: Esta columna debe contener los gastos mensuales de cada propiedad, incluyendo el alquiler y el condominio."
   ]
  },
  {
   "cell_type": "code",
   "execution_count": 162,
   "id": "6ff2fae6",
   "metadata": {},
   "outputs": [],
   "source": [
    "datos = pd.read_csv(url, sep=\";\")"
   ]
  },
  {
   "cell_type": "code",
   "execution_count": 163,
   "id": "95992a8a",
   "metadata": {},
   "outputs": [
    {
     "data": {
      "application/vnd.microsoft.datawrangler.viewer.v0+json": {
       "columns": [
        {
         "name": "index",
         "rawType": "int64",
         "type": "integer"
        },
        {
         "name": "Tipo",
         "rawType": "object",
         "type": "string"
        },
        {
         "name": "Colonia",
         "rawType": "object",
         "type": "string"
        },
        {
         "name": "Habitaciones",
         "rawType": "int64",
         "type": "integer"
        },
        {
         "name": "Garages",
         "rawType": "int64",
         "type": "integer"
        },
        {
         "name": "Suites",
         "rawType": "int64",
         "type": "integer"
        },
        {
         "name": "Area",
         "rawType": "int64",
         "type": "integer"
        },
        {
         "name": "Valor",
         "rawType": "float64",
         "type": "float"
        },
        {
         "name": "Condominio",
         "rawType": "float64",
         "type": "float"
        },
        {
         "name": "Impuesto",
         "rawType": "float64",
         "type": "float"
        },
        {
         "name": "Valor_mensual",
         "rawType": "float64",
         "type": "float"
        }
       ],
       "ref": "00b6ea24-062f-41ac-927b-c800134dbb00",
       "rows": [
        [
         "0",
         "Cocineta",
         "Condesa",
         "1",
         "0",
         "0",
         "40",
         "5950.0",
         "1750.0",
         "210.0",
         "7700.0"
        ],
        [
         "1",
         "Casa",
         "Polanco",
         "2",
         "0",
         "1",
         "100",
         "24500.0",
         null,
         null,
         null
        ],
        [
         "2",
         "Conjunto Comercial/Sala",
         "Santa Fe",
         "0",
         "4",
         "0",
         "150",
         "18200.0",
         "14070.0",
         "3888.5",
         "32270.0"
        ],
        [
         "3",
         "Departamento",
         "Centro Histórico",
         "1",
         "0",
         "0",
         "15",
         "2800.0",
         "1365.0",
         "70.0",
         "4165.0"
        ],
        [
         "4",
         "Departamento",
         "Del Valle",
         "1",
         "0",
         "0",
         "48",
         "2800.0",
         "805.0",
         null,
         "3605.0"
        ]
       ],
       "shape": {
        "columns": 10,
        "rows": 5
       }
      },
      "text/html": [
       "<div>\n",
       "<style scoped>\n",
       "    .dataframe tbody tr th:only-of-type {\n",
       "        vertical-align: middle;\n",
       "    }\n",
       "\n",
       "    .dataframe tbody tr th {\n",
       "        vertical-align: top;\n",
       "    }\n",
       "\n",
       "    .dataframe thead th {\n",
       "        text-align: right;\n",
       "    }\n",
       "</style>\n",
       "<table border=\"1\" class=\"dataframe\">\n",
       "  <thead>\n",
       "    <tr style=\"text-align: right;\">\n",
       "      <th></th>\n",
       "      <th>Tipo</th>\n",
       "      <th>Colonia</th>\n",
       "      <th>Habitaciones</th>\n",
       "      <th>Garages</th>\n",
       "      <th>Suites</th>\n",
       "      <th>Area</th>\n",
       "      <th>Valor</th>\n",
       "      <th>Condominio</th>\n",
       "      <th>Impuesto</th>\n",
       "      <th>Valor_mensual</th>\n",
       "    </tr>\n",
       "  </thead>\n",
       "  <tbody>\n",
       "    <tr>\n",
       "      <th>0</th>\n",
       "      <td>Cocineta</td>\n",
       "      <td>Condesa</td>\n",
       "      <td>1</td>\n",
       "      <td>0</td>\n",
       "      <td>0</td>\n",
       "      <td>40</td>\n",
       "      <td>5950.0</td>\n",
       "      <td>1750.0</td>\n",
       "      <td>210.0</td>\n",
       "      <td>7700.0</td>\n",
       "    </tr>\n",
       "    <tr>\n",
       "      <th>1</th>\n",
       "      <td>Casa</td>\n",
       "      <td>Polanco</td>\n",
       "      <td>2</td>\n",
       "      <td>0</td>\n",
       "      <td>1</td>\n",
       "      <td>100</td>\n",
       "      <td>24500.0</td>\n",
       "      <td>NaN</td>\n",
       "      <td>NaN</td>\n",
       "      <td>NaN</td>\n",
       "    </tr>\n",
       "    <tr>\n",
       "      <th>2</th>\n",
       "      <td>Conjunto Comercial/Sala</td>\n",
       "      <td>Santa Fe</td>\n",
       "      <td>0</td>\n",
       "      <td>4</td>\n",
       "      <td>0</td>\n",
       "      <td>150</td>\n",
       "      <td>18200.0</td>\n",
       "      <td>14070.0</td>\n",
       "      <td>3888.5</td>\n",
       "      <td>32270.0</td>\n",
       "    </tr>\n",
       "    <tr>\n",
       "      <th>3</th>\n",
       "      <td>Departamento</td>\n",
       "      <td>Centro Histórico</td>\n",
       "      <td>1</td>\n",
       "      <td>0</td>\n",
       "      <td>0</td>\n",
       "      <td>15</td>\n",
       "      <td>2800.0</td>\n",
       "      <td>1365.0</td>\n",
       "      <td>70.0</td>\n",
       "      <td>4165.0</td>\n",
       "    </tr>\n",
       "    <tr>\n",
       "      <th>4</th>\n",
       "      <td>Departamento</td>\n",
       "      <td>Del Valle</td>\n",
       "      <td>1</td>\n",
       "      <td>0</td>\n",
       "      <td>0</td>\n",
       "      <td>48</td>\n",
       "      <td>2800.0</td>\n",
       "      <td>805.0</td>\n",
       "      <td>NaN</td>\n",
       "      <td>3605.0</td>\n",
       "    </tr>\n",
       "  </tbody>\n",
       "</table>\n",
       "</div>"
      ],
      "text/plain": [
       "                      Tipo           Colonia  Habitaciones  Garages  Suites  \\\n",
       "0                 Cocineta           Condesa             1        0       0   \n",
       "1                     Casa           Polanco             2        0       1   \n",
       "2  Conjunto Comercial/Sala          Santa Fe             0        4       0   \n",
       "3             Departamento  Centro Histórico             1        0       0   \n",
       "4             Departamento         Del Valle             1        0       0   \n",
       "\n",
       "   Area    Valor  Condominio  Impuesto  Valor_mensual  \n",
       "0    40   5950.0      1750.0     210.0         7700.0  \n",
       "1   100  24500.0         NaN       NaN            NaN  \n",
       "2   150  18200.0     14070.0    3888.5        32270.0  \n",
       "3    15   2800.0      1365.0      70.0         4165.0  \n",
       "4    48   2800.0       805.0       NaN         3605.0  "
      ]
     },
     "execution_count": 163,
     "metadata": {},
     "output_type": "execute_result"
    }
   ],
   "source": [
    "datos['Valor_mensual'] = datos['Valor'] + datos['Condominio']\n",
    "datos.head()"
   ]
  },
  {
   "cell_type": "markdown",
   "id": "c6bc60f0",
   "metadata": {},
   "source": [
    "\n",
    "2. valor_anual: Esta columna debe contener los gastos anuales por propiedad, es decir, el Impuesto más 12 meses de alquiler y condominio."
   ]
  },
  {
   "cell_type": "code",
   "execution_count": 165,
   "id": "7f51b9fb",
   "metadata": {},
   "outputs": [
    {
     "data": {
      "application/vnd.microsoft.datawrangler.viewer.v0+json": {
       "columns": [
        {
         "name": "index",
         "rawType": "int64",
         "type": "integer"
        },
        {
         "name": "Tipo",
         "rawType": "object",
         "type": "string"
        },
        {
         "name": "Colonia",
         "rawType": "object",
         "type": "string"
        },
        {
         "name": "Habitaciones",
         "rawType": "int64",
         "type": "integer"
        },
        {
         "name": "Garages",
         "rawType": "int64",
         "type": "integer"
        },
        {
         "name": "Suites",
         "rawType": "int64",
         "type": "integer"
        },
        {
         "name": "Area",
         "rawType": "int64",
         "type": "integer"
        },
        {
         "name": "Valor",
         "rawType": "float64",
         "type": "float"
        },
        {
         "name": "Condominio",
         "rawType": "float64",
         "type": "float"
        },
        {
         "name": "Impuesto",
         "rawType": "float64",
         "type": "float"
        },
        {
         "name": "Valor_mensual",
         "rawType": "float64",
         "type": "float"
        },
        {
         "name": "Valor_anual",
         "rawType": "float64",
         "type": "float"
        }
       ],
       "ref": "fbd776a5-ab26-4f1b-894a-539d50d7d7a4",
       "rows": [
        [
         "0",
         "Cocineta",
         "Condesa",
         "1",
         "0",
         "0",
         "40",
         "5950.0",
         "1750.0",
         "210.0",
         "7700.0",
         "92610.0"
        ],
        [
         "1",
         "Casa",
         "Polanco",
         "2",
         "0",
         "1",
         "100",
         "24500.0",
         null,
         null,
         null,
         null
        ],
        [
         "2",
         "Conjunto Comercial/Sala",
         "Santa Fe",
         "0",
         "4",
         "0",
         "150",
         "18200.0",
         "14070.0",
         "3888.5",
         "32270.0",
         "391128.5"
        ],
        [
         "3",
         "Departamento",
         "Centro Histórico",
         "1",
         "0",
         "0",
         "15",
         "2800.0",
         "1365.0",
         "70.0",
         "4165.0",
         "50050.0"
        ],
        [
         "4",
         "Departamento",
         "Del Valle",
         "1",
         "0",
         "0",
         "48",
         "2800.0",
         "805.0",
         null,
         "3605.0",
         null
        ]
       ],
       "shape": {
        "columns": 11,
        "rows": 5
       }
      },
      "text/html": [
       "<div>\n",
       "<style scoped>\n",
       "    .dataframe tbody tr th:only-of-type {\n",
       "        vertical-align: middle;\n",
       "    }\n",
       "\n",
       "    .dataframe tbody tr th {\n",
       "        vertical-align: top;\n",
       "    }\n",
       "\n",
       "    .dataframe thead th {\n",
       "        text-align: right;\n",
       "    }\n",
       "</style>\n",
       "<table border=\"1\" class=\"dataframe\">\n",
       "  <thead>\n",
       "    <tr style=\"text-align: right;\">\n",
       "      <th></th>\n",
       "      <th>Tipo</th>\n",
       "      <th>Colonia</th>\n",
       "      <th>Habitaciones</th>\n",
       "      <th>Garages</th>\n",
       "      <th>Suites</th>\n",
       "      <th>Area</th>\n",
       "      <th>Valor</th>\n",
       "      <th>Condominio</th>\n",
       "      <th>Impuesto</th>\n",
       "      <th>Valor_mensual</th>\n",
       "      <th>Valor_anual</th>\n",
       "    </tr>\n",
       "  </thead>\n",
       "  <tbody>\n",
       "    <tr>\n",
       "      <th>0</th>\n",
       "      <td>Cocineta</td>\n",
       "      <td>Condesa</td>\n",
       "      <td>1</td>\n",
       "      <td>0</td>\n",
       "      <td>0</td>\n",
       "      <td>40</td>\n",
       "      <td>5950.0</td>\n",
       "      <td>1750.0</td>\n",
       "      <td>210.0</td>\n",
       "      <td>7700.0</td>\n",
       "      <td>92610.0</td>\n",
       "    </tr>\n",
       "    <tr>\n",
       "      <th>1</th>\n",
       "      <td>Casa</td>\n",
       "      <td>Polanco</td>\n",
       "      <td>2</td>\n",
       "      <td>0</td>\n",
       "      <td>1</td>\n",
       "      <td>100</td>\n",
       "      <td>24500.0</td>\n",
       "      <td>NaN</td>\n",
       "      <td>NaN</td>\n",
       "      <td>NaN</td>\n",
       "      <td>NaN</td>\n",
       "    </tr>\n",
       "    <tr>\n",
       "      <th>2</th>\n",
       "      <td>Conjunto Comercial/Sala</td>\n",
       "      <td>Santa Fe</td>\n",
       "      <td>0</td>\n",
       "      <td>4</td>\n",
       "      <td>0</td>\n",
       "      <td>150</td>\n",
       "      <td>18200.0</td>\n",
       "      <td>14070.0</td>\n",
       "      <td>3888.5</td>\n",
       "      <td>32270.0</td>\n",
       "      <td>391128.5</td>\n",
       "    </tr>\n",
       "    <tr>\n",
       "      <th>3</th>\n",
       "      <td>Departamento</td>\n",
       "      <td>Centro Histórico</td>\n",
       "      <td>1</td>\n",
       "      <td>0</td>\n",
       "      <td>0</td>\n",
       "      <td>15</td>\n",
       "      <td>2800.0</td>\n",
       "      <td>1365.0</td>\n",
       "      <td>70.0</td>\n",
       "      <td>4165.0</td>\n",
       "      <td>50050.0</td>\n",
       "    </tr>\n",
       "    <tr>\n",
       "      <th>4</th>\n",
       "      <td>Departamento</td>\n",
       "      <td>Del Valle</td>\n",
       "      <td>1</td>\n",
       "      <td>0</td>\n",
       "      <td>0</td>\n",
       "      <td>48</td>\n",
       "      <td>2800.0</td>\n",
       "      <td>805.0</td>\n",
       "      <td>NaN</td>\n",
       "      <td>3605.0</td>\n",
       "      <td>NaN</td>\n",
       "    </tr>\n",
       "  </tbody>\n",
       "</table>\n",
       "</div>"
      ],
      "text/plain": [
       "                      Tipo           Colonia  Habitaciones  Garages  Suites  \\\n",
       "0                 Cocineta           Condesa             1        0       0   \n",
       "1                     Casa           Polanco             2        0       1   \n",
       "2  Conjunto Comercial/Sala          Santa Fe             0        4       0   \n",
       "3             Departamento  Centro Histórico             1        0       0   \n",
       "4             Departamento         Del Valle             1        0       0   \n",
       "\n",
       "   Area    Valor  Condominio  Impuesto  Valor_mensual  Valor_anual  \n",
       "0    40   5950.0      1750.0     210.0         7700.0      92610.0  \n",
       "1   100  24500.0         NaN       NaN            NaN          NaN  \n",
       "2   150  18200.0     14070.0    3888.5        32270.0     391128.5  \n",
       "3    15   2800.0      1365.0      70.0         4165.0      50050.0  \n",
       "4    48   2800.0       805.0       NaN         3605.0          NaN  "
      ]
     },
     "execution_count": 165,
     "metadata": {},
     "output_type": "execute_result"
    }
   ],
   "source": [
    "datos['Valor_anual'] = datos['Valor_mensual'] * 12 + datos['Impuesto']\n",
    "datos.head()"
   ]
  },
  {
   "cell_type": "markdown",
   "id": "1386ecee",
   "metadata": {},
   "source": [
    "### **Crear columnas categóricas**"
   ]
  },
  {
   "cell_type": "markdown",
   "id": "69f9b362",
   "metadata": {},
   "source": [
    "1. Descripcion: Esta columna debe contener un resumen de la información clave de las propiedades que se mostrarán en el sitio web: tipo de propiedad, barrio, cantidad de habitaciones y plazas de estacionamiento.\n"
   ]
  },
  {
   "cell_type": "code",
   "execution_count": 174,
   "id": "6638ff74",
   "metadata": {},
   "outputs": [
    {
     "data": {
      "text/plain": [
       "'Departamento en la colonia Napolescon 1 cuarto(s) y 0 plazas de estacionamiento'"
      ]
     },
     "execution_count": 174,
     "metadata": {},
     "output_type": "execute_result"
    }
   ],
   "source": [
    "datos['Descripcion'] = datos['Tipo'] + \" en la colonia \" + datos['Colonia'] + \\\n",
    "                        \"con \" + datos['Habitaciones'].astype(str) + \" cuarto(s) y \" +\\\n",
    "                        datos['Garages'].astype(str) + \" plazas de estacionamiento\"\n",
    "# describe una fila\n",
    "datos.iloc[500].Descripcion"
   ]
  },
  {
   "cell_type": "markdown",
   "id": "9e4ab155",
   "metadata": {},
   "source": [
    "1. Tiene_suite: Esta debe ser una columna que indique únicamente si la propiedad tiene o no suites, sin importar la cantidad."
   ]
  },
  {
   "cell_type": "code",
   "execution_count": 179,
   "id": "8f04fca7",
   "metadata": {},
   "outputs": [
    {
     "data": {
      "application/vnd.microsoft.datawrangler.viewer.v0+json": {
       "columns": [
        {
         "name": "index",
         "rawType": "int64",
         "type": "integer"
        },
        {
         "name": "Tipo",
         "rawType": "object",
         "type": "string"
        },
        {
         "name": "Colonia",
         "rawType": "object",
         "type": "string"
        },
        {
         "name": "Habitaciones",
         "rawType": "int64",
         "type": "integer"
        },
        {
         "name": "Garages",
         "rawType": "int64",
         "type": "integer"
        },
        {
         "name": "Suites",
         "rawType": "int64",
         "type": "integer"
        },
        {
         "name": "Area",
         "rawType": "int64",
         "type": "integer"
        },
        {
         "name": "Valor",
         "rawType": "float64",
         "type": "float"
        },
        {
         "name": "Condominio",
         "rawType": "float64",
         "type": "float"
        },
        {
         "name": "Impuesto",
         "rawType": "float64",
         "type": "float"
        },
        {
         "name": "Valor_mensual",
         "rawType": "float64",
         "type": "float"
        },
        {
         "name": "Valor_anual",
         "rawType": "float64",
         "type": "float"
        },
        {
         "name": "Descripcion",
         "rawType": "object",
         "type": "string"
        },
        {
         "name": "Tiene_suite",
         "rawType": "object",
         "type": "string"
        }
       ],
       "ref": "02d73a8b-a2e8-4059-926d-a70020066abe",
       "rows": [
        [
         "0",
         "Cocineta",
         "Condesa",
         "1",
         "0",
         "0",
         "40",
         "5950.0",
         "1750.0",
         "210.0",
         "7700.0",
         "92610.0",
         "Cocineta en la colonia Condesacon 1 cuarto(s) y 0 plazas de estacionamiento",
         "no"
        ],
        [
         "1",
         "Casa",
         "Polanco",
         "2",
         "0",
         "1",
         "100",
         "24500.0",
         null,
         null,
         null,
         null,
         "Casa en la colonia Polancocon 2 cuarto(s) y 0 plazas de estacionamiento",
         "si"
        ],
        [
         "2",
         "Conjunto Comercial/Sala",
         "Santa Fe",
         "0",
         "4",
         "0",
         "150",
         "18200.0",
         "14070.0",
         "3888.5",
         "32270.0",
         "391128.5",
         "Conjunto Comercial/Sala en la colonia Santa Fecon 0 cuarto(s) y 4 plazas de estacionamiento",
         "no"
        ],
        [
         "3",
         "Departamento",
         "Centro Histórico",
         "1",
         "0",
         "0",
         "15",
         "2800.0",
         "1365.0",
         "70.0",
         "4165.0",
         "50050.0",
         "Departamento en la colonia Centro Históricocon 1 cuarto(s) y 0 plazas de estacionamiento",
         "no"
        ],
        [
         "4",
         "Departamento",
         "Del Valle",
         "1",
         "0",
         "0",
         "48",
         "2800.0",
         "805.0",
         null,
         "3605.0",
         null,
         "Departamento en la colonia Del Vallecon 1 cuarto(s) y 0 plazas de estacionamiento",
         "no"
        ]
       ],
       "shape": {
        "columns": 13,
        "rows": 5
       }
      },
      "text/html": [
       "<div>\n",
       "<style scoped>\n",
       "    .dataframe tbody tr th:only-of-type {\n",
       "        vertical-align: middle;\n",
       "    }\n",
       "\n",
       "    .dataframe tbody tr th {\n",
       "        vertical-align: top;\n",
       "    }\n",
       "\n",
       "    .dataframe thead th {\n",
       "        text-align: right;\n",
       "    }\n",
       "</style>\n",
       "<table border=\"1\" class=\"dataframe\">\n",
       "  <thead>\n",
       "    <tr style=\"text-align: right;\">\n",
       "      <th></th>\n",
       "      <th>Tipo</th>\n",
       "      <th>Colonia</th>\n",
       "      <th>Habitaciones</th>\n",
       "      <th>Garages</th>\n",
       "      <th>Suites</th>\n",
       "      <th>Area</th>\n",
       "      <th>Valor</th>\n",
       "      <th>Condominio</th>\n",
       "      <th>Impuesto</th>\n",
       "      <th>Valor_mensual</th>\n",
       "      <th>Valor_anual</th>\n",
       "      <th>Descripcion</th>\n",
       "      <th>Tiene_suite</th>\n",
       "    </tr>\n",
       "  </thead>\n",
       "  <tbody>\n",
       "    <tr>\n",
       "      <th>0</th>\n",
       "      <td>Cocineta</td>\n",
       "      <td>Condesa</td>\n",
       "      <td>1</td>\n",
       "      <td>0</td>\n",
       "      <td>0</td>\n",
       "      <td>40</td>\n",
       "      <td>5950.0</td>\n",
       "      <td>1750.0</td>\n",
       "      <td>210.0</td>\n",
       "      <td>7700.0</td>\n",
       "      <td>92610.0</td>\n",
       "      <td>Cocineta en la colonia Condesacon 1 cuarto(s) ...</td>\n",
       "      <td>no</td>\n",
       "    </tr>\n",
       "    <tr>\n",
       "      <th>1</th>\n",
       "      <td>Casa</td>\n",
       "      <td>Polanco</td>\n",
       "      <td>2</td>\n",
       "      <td>0</td>\n",
       "      <td>1</td>\n",
       "      <td>100</td>\n",
       "      <td>24500.0</td>\n",
       "      <td>NaN</td>\n",
       "      <td>NaN</td>\n",
       "      <td>NaN</td>\n",
       "      <td>NaN</td>\n",
       "      <td>Casa en la colonia Polancocon 2 cuarto(s) y 0 ...</td>\n",
       "      <td>si</td>\n",
       "    </tr>\n",
       "    <tr>\n",
       "      <th>2</th>\n",
       "      <td>Conjunto Comercial/Sala</td>\n",
       "      <td>Santa Fe</td>\n",
       "      <td>0</td>\n",
       "      <td>4</td>\n",
       "      <td>0</td>\n",
       "      <td>150</td>\n",
       "      <td>18200.0</td>\n",
       "      <td>14070.0</td>\n",
       "      <td>3888.5</td>\n",
       "      <td>32270.0</td>\n",
       "      <td>391128.5</td>\n",
       "      <td>Conjunto Comercial/Sala en la colonia Santa Fe...</td>\n",
       "      <td>no</td>\n",
       "    </tr>\n",
       "    <tr>\n",
       "      <th>3</th>\n",
       "      <td>Departamento</td>\n",
       "      <td>Centro Histórico</td>\n",
       "      <td>1</td>\n",
       "      <td>0</td>\n",
       "      <td>0</td>\n",
       "      <td>15</td>\n",
       "      <td>2800.0</td>\n",
       "      <td>1365.0</td>\n",
       "      <td>70.0</td>\n",
       "      <td>4165.0</td>\n",
       "      <td>50050.0</td>\n",
       "      <td>Departamento en la colonia Centro Históricocon...</td>\n",
       "      <td>no</td>\n",
       "    </tr>\n",
       "    <tr>\n",
       "      <th>4</th>\n",
       "      <td>Departamento</td>\n",
       "      <td>Del Valle</td>\n",
       "      <td>1</td>\n",
       "      <td>0</td>\n",
       "      <td>0</td>\n",
       "      <td>48</td>\n",
       "      <td>2800.0</td>\n",
       "      <td>805.0</td>\n",
       "      <td>NaN</td>\n",
       "      <td>3605.0</td>\n",
       "      <td>NaN</td>\n",
       "      <td>Departamento en la colonia Del Vallecon 1 cuar...</td>\n",
       "      <td>no</td>\n",
       "    </tr>\n",
       "  </tbody>\n",
       "</table>\n",
       "</div>"
      ],
      "text/plain": [
       "                      Tipo           Colonia  Habitaciones  Garages  Suites  \\\n",
       "0                 Cocineta           Condesa             1        0       0   \n",
       "1                     Casa           Polanco             2        0       1   \n",
       "2  Conjunto Comercial/Sala          Santa Fe             0        4       0   \n",
       "3             Departamento  Centro Histórico             1        0       0   \n",
       "4             Departamento         Del Valle             1        0       0   \n",
       "\n",
       "   Area    Valor  Condominio  Impuesto  Valor_mensual  Valor_anual  \\\n",
       "0    40   5950.0      1750.0     210.0         7700.0      92610.0   \n",
       "1   100  24500.0         NaN       NaN            NaN          NaN   \n",
       "2   150  18200.0     14070.0    3888.5        32270.0     391128.5   \n",
       "3    15   2800.0      1365.0      70.0         4165.0      50050.0   \n",
       "4    48   2800.0       805.0       NaN         3605.0          NaN   \n",
       "\n",
       "                                         Descripcion Tiene_suite  \n",
       "0  Cocineta en la colonia Condesacon 1 cuarto(s) ...          no  \n",
       "1  Casa en la colonia Polancocon 2 cuarto(s) y 0 ...          si  \n",
       "2  Conjunto Comercial/Sala en la colonia Santa Fe...          no  \n",
       "3  Departamento en la colonia Centro Históricocon...          no  \n",
       "4  Departamento en la colonia Del Vallecon 1 cuar...          no  "
      ]
     },
     "execution_count": 179,
     "metadata": {},
     "output_type": "execute_result"
    }
   ],
   "source": [
    "datos['Tiene_suite'] = datos['Suites'].apply(lambda x: \"si\" if x > 0 else \"no\")\n",
    "datos.head()"
   ]
  },
  {
   "cell_type": "code",
   "execution_count": 181,
   "id": "cb111b70",
   "metadata": {},
   "outputs": [],
   "source": [
    "datos.to_csv('./resources/inmuebles_dev.csv', index=False, sep=\";\")"
   ]
  },
  {
   "cell_type": "markdown",
   "id": "cdbd6fec",
   "metadata": {},
   "source": [
    "# Funciones de pandas\n",
    "\n",
    "¿Cuáles son los valores promedio de alquiler por tipo de propiedad?\n",
    "\n",
    "¿Cuál es el porcentaje de cada tipo de propiedad en nuestra base de datos?"
   ]
  },
  {
   "cell_type": "code",
   "execution_count": null,
   "id": "5696705a",
   "metadata": {},
   "outputs": [],
   "source": [
    "\n",
    "# read_csv() -> read comma separate value\n",
    "# read_excel() ->\n",
    "# read_json()\n",
    "# read_html()\n",
    "# read_sql() -> MySQL, PostgreSQL y SQL Server\n",
    "# *by es el criterio y axis es para especificar el eje de agrupación por defecto es 0 que son las filas y si le pasamos 1 es por columnas\n",
    "# *sort = indica si los grupos deben ordenarse por el valor de la columna de agrupación\n",
    "# *dropna = este parámetro controla si los valores faltantes se eliminaran o no en la agrupación por defecto es TRUE\n",
    "# groupby(by, axis, sort, dropna)\n",
    "# todo: sin el normalize=True solo cuenta las existencias de cada tipo pero si le agregamos ese parámetro este nos da el porcentaje de cada tipo\n",
    "# df.Tipo.value_counts(normalize=True)\n",
    "# !Cambiar el nombre de una columna utilizando Rename\n",
    "# df.rename(columns={'Tipo': 'Porcentajes'}, inplace=True) -> esto cambia Tipo a Porcentajes y el inplace para que se aplique el cambio definitivamente\n",
    "\n",
    "# MANEJO DE DATOS NULOS\n",
    "# df.dropna -> elimina todos los datos nulos de los datos\n",
    "# df.fillna(0) rellena los valores nulos con un valor especifico\n",
    "# df.ffill o bfill, para rellenar el valor nulo con el valor anterior o posterior respectivamente\n",
    "\n",
    "# Otra forma es interpolar los datos haciendo un promedio del valor anterior y posterior al valor nulo\n",
    "# df.interpolate(method=\"linear\")\n",
    "\n",
    "# df.drop() -> eliminar una o mas filas y/o columnas de un dataframe y se puede realizar de forma permanente con el inplace y con axis = 0 seleccionamos filas y con el valor 1 seleccionamos columnas\n",
    "\n",
    "# to_csv(): Guarda el DataFrame en un archivo CSV (Valores Separados por Comas).\n",
    "\n",
    "# to_excel(): Guarda el DataFrame en un archivo de Excel.\n",
    "\n",
    "# to_json(): Guarda el DataFrame en un archivo JSON (Notación de Objetos JavaScript).\n",
    "\n",
    "# df.mean(numeric_only=True) -> promedios, el parámetro es solo para que lo realize en las columnas de tipo numerico\n",
    "# df.Tipo.uniques() -> retorna un array de valores únicos\n",
    "# df.query() -> nos permite realizar filtros"
   ]
  },
  {
   "cell_type": "code",
   "execution_count": null,
   "id": "ba00993a",
   "metadata": {},
   "outputs": [],
   "source": []
  }
 ],
 "metadata": {
  "kernelspec": {
   "display_name": "Python 3",
   "language": "python",
   "name": "python3"
  },
  "language_info": {
   "codemirror_mode": {
    "name": "ipython",
    "version": 3
   },
   "file_extension": ".py",
   "mimetype": "text/x-python",
   "name": "python",
   "nbconvert_exporter": "python",
   "pygments_lexer": "ipython3",
   "version": "3.13.0"
  }
 },
 "nbformat": 4,
 "nbformat_minor": 5
}
