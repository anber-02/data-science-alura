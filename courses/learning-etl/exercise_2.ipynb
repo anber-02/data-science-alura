{
 "cells": [
  {
   "cell_type": "code",
   "execution_count": 2,
   "id": "10c1204e",
   "metadata": {},
   "outputs": [
    {
     "data": {
      "application/vnd.microsoft.datawrangler.viewer.v0+json": {
       "columns": [
        {
         "name": "index",
         "rawType": "int64",
         "type": "integer"
        },
        {
         "name": "Nombre",
         "rawType": "object",
         "type": "string"
        },
        {
         "name": "Edad",
         "rawType": "int64",
         "type": "integer"
        },
        {
         "name": "Nota",
         "rawType": "float64",
         "type": "float"
        },
        {
         "name": "Aprobado",
         "rawType": "object",
         "type": "string"
        }
       ],
       "ref": "c55e07e5-41e7-4fee-ac65-7da39594427e",
       "rows": [
        [
         "0",
         "Alberto",
         "20",
         "7.5",
         "True"
        ],
        [
         "1",
         "Ana",
         "18",
         null,
         "False"
        ],
        [
         "2",
         "Camila",
         "27",
         "2.5",
         "False"
        ],
        [
         "3",
         "David",
         "18",
         "5.0",
         "False"
        ],
        [
         "4",
         "Brian",
         "21",
         "10.0",
         "True"
        ],
        [
         "5",
         "Bruna",
         "23",
         null,
         "False"
        ],
        [
         "6",
         "Daniela",
         "21",
         "7.0",
         "True"
        ],
        [
         "7",
         "Carlos",
         "19",
         "6.0",
         "False"
        ],
        [
         "8",
         "Alicia",
         "35",
         "5.6",
         "False"
        ],
        [
         "9",
         "Victor",
         "28",
         null,
         "False"
        ],
        [
         "10",
         "Danilo",
         "21",
         null,
         "False"
        ],
        [
         "11",
         "Ignacio",
         "24",
         "4.5",
         "False"
        ],
        [
         "12",
         "Stephany",
         "26",
         "10.0",
         "True"
        ],
        [
         "13",
         "Miriam",
         "25",
         "9.0",
         "True"
        ],
        [
         "14",
         "Pablo",
         "37",
         null,
         "False"
        ],
        [
         "15",
         "Milena",
         "29",
         "7.0",
         "True"
        ],
        [
         "16",
         "Lucas",
         "33",
         null,
         "False"
        ],
        [
         "17",
         "Nadia",
         "34",
         "8.0",
         "Verdadero"
        ]
       ],
       "shape": {
        "columns": 4,
        "rows": 18
       }
      },
      "text/html": [
       "<div>\n",
       "<style scoped>\n",
       "    .dataframe tbody tr th:only-of-type {\n",
       "        vertical-align: middle;\n",
       "    }\n",
       "\n",
       "    .dataframe tbody tr th {\n",
       "        vertical-align: top;\n",
       "    }\n",
       "\n",
       "    .dataframe thead th {\n",
       "        text-align: right;\n",
       "    }\n",
       "</style>\n",
       "<table border=\"1\" class=\"dataframe\">\n",
       "  <thead>\n",
       "    <tr style=\"text-align: right;\">\n",
       "      <th></th>\n",
       "      <th>Nombre</th>\n",
       "      <th>Edad</th>\n",
       "      <th>Nota</th>\n",
       "      <th>Aprobado</th>\n",
       "    </tr>\n",
       "  </thead>\n",
       "  <tbody>\n",
       "    <tr>\n",
       "      <th>0</th>\n",
       "      <td>Alberto</td>\n",
       "      <td>20</td>\n",
       "      <td>7.5</td>\n",
       "      <td>True</td>\n",
       "    </tr>\n",
       "    <tr>\n",
       "      <th>1</th>\n",
       "      <td>Ana</td>\n",
       "      <td>18</td>\n",
       "      <td>NaN</td>\n",
       "      <td>False</td>\n",
       "    </tr>\n",
       "    <tr>\n",
       "      <th>2</th>\n",
       "      <td>Camila</td>\n",
       "      <td>27</td>\n",
       "      <td>2.5</td>\n",
       "      <td>False</td>\n",
       "    </tr>\n",
       "    <tr>\n",
       "      <th>3</th>\n",
       "      <td>David</td>\n",
       "      <td>18</td>\n",
       "      <td>5.0</td>\n",
       "      <td>False</td>\n",
       "    </tr>\n",
       "    <tr>\n",
       "      <th>4</th>\n",
       "      <td>Brian</td>\n",
       "      <td>21</td>\n",
       "      <td>10.0</td>\n",
       "      <td>True</td>\n",
       "    </tr>\n",
       "    <tr>\n",
       "      <th>5</th>\n",
       "      <td>Bruna</td>\n",
       "      <td>23</td>\n",
       "      <td>NaN</td>\n",
       "      <td>False</td>\n",
       "    </tr>\n",
       "    <tr>\n",
       "      <th>6</th>\n",
       "      <td>Daniela</td>\n",
       "      <td>21</td>\n",
       "      <td>7.0</td>\n",
       "      <td>True</td>\n",
       "    </tr>\n",
       "    <tr>\n",
       "      <th>7</th>\n",
       "      <td>Carlos</td>\n",
       "      <td>19</td>\n",
       "      <td>6.0</td>\n",
       "      <td>False</td>\n",
       "    </tr>\n",
       "    <tr>\n",
       "      <th>8</th>\n",
       "      <td>Alicia</td>\n",
       "      <td>35</td>\n",
       "      <td>5.6</td>\n",
       "      <td>False</td>\n",
       "    </tr>\n",
       "    <tr>\n",
       "      <th>9</th>\n",
       "      <td>Victor</td>\n",
       "      <td>28</td>\n",
       "      <td>NaN</td>\n",
       "      <td>False</td>\n",
       "    </tr>\n",
       "    <tr>\n",
       "      <th>10</th>\n",
       "      <td>Danilo</td>\n",
       "      <td>21</td>\n",
       "      <td>NaN</td>\n",
       "      <td>False</td>\n",
       "    </tr>\n",
       "    <tr>\n",
       "      <th>11</th>\n",
       "      <td>Ignacio</td>\n",
       "      <td>24</td>\n",
       "      <td>4.5</td>\n",
       "      <td>False</td>\n",
       "    </tr>\n",
       "    <tr>\n",
       "      <th>12</th>\n",
       "      <td>Stephany</td>\n",
       "      <td>26</td>\n",
       "      <td>10.0</td>\n",
       "      <td>True</td>\n",
       "    </tr>\n",
       "    <tr>\n",
       "      <th>13</th>\n",
       "      <td>Miriam</td>\n",
       "      <td>25</td>\n",
       "      <td>9.0</td>\n",
       "      <td>True</td>\n",
       "    </tr>\n",
       "    <tr>\n",
       "      <th>14</th>\n",
       "      <td>Pablo</td>\n",
       "      <td>37</td>\n",
       "      <td>NaN</td>\n",
       "      <td>False</td>\n",
       "    </tr>\n",
       "    <tr>\n",
       "      <th>15</th>\n",
       "      <td>Milena</td>\n",
       "      <td>29</td>\n",
       "      <td>7.0</td>\n",
       "      <td>True</td>\n",
       "    </tr>\n",
       "    <tr>\n",
       "      <th>16</th>\n",
       "      <td>Lucas</td>\n",
       "      <td>33</td>\n",
       "      <td>NaN</td>\n",
       "      <td>False</td>\n",
       "    </tr>\n",
       "    <tr>\n",
       "      <th>17</th>\n",
       "      <td>Nadia</td>\n",
       "      <td>34</td>\n",
       "      <td>8.0</td>\n",
       "      <td>Verdadero</td>\n",
       "    </tr>\n",
       "  </tbody>\n",
       "</table>\n",
       "</div>"
      ],
      "text/plain": [
       "      Nombre  Edad  Nota   Aprobado\n",
       "0    Alberto    20   7.5       True\n",
       "1        Ana    18   NaN      False\n",
       "2     Camila    27   2.5      False\n",
       "3      David    18   5.0      False\n",
       "4      Brian    21  10.0       True\n",
       "5      Bruna    23   NaN      False\n",
       "6    Daniela    21   7.0       True\n",
       "7     Carlos    19   6.0      False\n",
       "8     Alicia    35   5.6      False\n",
       "9     Victor    28   NaN      False\n",
       "10    Danilo    21   NaN      False\n",
       "11   Ignacio    24   4.5      False\n",
       "12  Stephany    26  10.0       True\n",
       "13    Miriam    25   9.0       True\n",
       "14     Pablo    37   NaN      False\n",
       "15    Milena    29   7.0       True\n",
       "16     Lucas    33   NaN      False\n",
       "17     Nadia    34   8.0  Verdadero"
      ]
     },
     "execution_count": 2,
     "metadata": {},
     "output_type": "execute_result"
    }
   ],
   "source": [
    "import pandas as pd\n",
    "url = \"https://gist.githubusercontent.com/ahcamachod/807a2c1cf6c19108b2b701ea1791ab45/raw/fb84f8b2d8917a89de26679eccdbc8f9c1d2e933/alumnos.csv\"\n",
    "\n",
    "data = pd.read_csv(url)\n",
    "data"
   ]
  },
  {
   "cell_type": "code",
   "execution_count": 5,
   "id": "881c39cf",
   "metadata": {},
   "outputs": [
    {
     "data": {
      "application/vnd.microsoft.datawrangler.viewer.v0+json": {
       "columns": [
        {
         "name": "index",
         "rawType": "int64",
         "type": "integer"
        },
        {
         "name": "Nombre",
         "rawType": "object",
         "type": "string"
        },
        {
         "name": "Edad",
         "rawType": "int64",
         "type": "integer"
        },
        {
         "name": "Nota",
         "rawType": "float64",
         "type": "float"
        },
        {
         "name": "Aprobado",
         "rawType": "object",
         "type": "string"
        }
       ],
       "ref": "293b9c57-36d9-4549-9592-76d5aecc10c5",
       "rows": [
        [
         "13",
         "Miriam",
         "25",
         "9.0",
         "True"
        ],
        [
         "14",
         "Pablo",
         "37",
         null,
         "False"
        ],
        [
         "15",
         "Milena",
         "29",
         "7.0",
         "True"
        ],
        [
         "16",
         "Lucas",
         "33",
         null,
         "False"
        ],
        [
         "17",
         "Nadia",
         "34",
         "8.0",
         "Verdadero"
        ]
       ],
       "shape": {
        "columns": 4,
        "rows": 5
       }
      },
      "text/html": [
       "<div>\n",
       "<style scoped>\n",
       "    .dataframe tbody tr th:only-of-type {\n",
       "        vertical-align: middle;\n",
       "    }\n",
       "\n",
       "    .dataframe tbody tr th {\n",
       "        vertical-align: top;\n",
       "    }\n",
       "\n",
       "    .dataframe thead th {\n",
       "        text-align: right;\n",
       "    }\n",
       "</style>\n",
       "<table border=\"1\" class=\"dataframe\">\n",
       "  <thead>\n",
       "    <tr style=\"text-align: right;\">\n",
       "      <th></th>\n",
       "      <th>Nombre</th>\n",
       "      <th>Edad</th>\n",
       "      <th>Nota</th>\n",
       "      <th>Aprobado</th>\n",
       "    </tr>\n",
       "  </thead>\n",
       "  <tbody>\n",
       "    <tr>\n",
       "      <th>13</th>\n",
       "      <td>Miriam</td>\n",
       "      <td>25</td>\n",
       "      <td>9.0</td>\n",
       "      <td>True</td>\n",
       "    </tr>\n",
       "    <tr>\n",
       "      <th>14</th>\n",
       "      <td>Pablo</td>\n",
       "      <td>37</td>\n",
       "      <td>NaN</td>\n",
       "      <td>False</td>\n",
       "    </tr>\n",
       "    <tr>\n",
       "      <th>15</th>\n",
       "      <td>Milena</td>\n",
       "      <td>29</td>\n",
       "      <td>7.0</td>\n",
       "      <td>True</td>\n",
       "    </tr>\n",
       "    <tr>\n",
       "      <th>16</th>\n",
       "      <td>Lucas</td>\n",
       "      <td>33</td>\n",
       "      <td>NaN</td>\n",
       "      <td>False</td>\n",
       "    </tr>\n",
       "    <tr>\n",
       "      <th>17</th>\n",
       "      <td>Nadia</td>\n",
       "      <td>34</td>\n",
       "      <td>8.0</td>\n",
       "      <td>Verdadero</td>\n",
       "    </tr>\n",
       "  </tbody>\n",
       "</table>\n",
       "</div>"
      ],
      "text/plain": [
       "    Nombre  Edad  Nota   Aprobado\n",
       "13  Miriam    25   9.0       True\n",
       "14   Pablo    37   NaN      False\n",
       "15  Milena    29   7.0       True\n",
       "16   Lucas    33   NaN      False\n",
       "17   Nadia    34   8.0  Verdadero"
      ]
     },
     "execution_count": 5,
     "metadata": {},
     "output_type": "execute_result"
    }
   ],
   "source": [
    "data.head(7)\n",
    "data.tail(5)"
   ]
  },
  {
   "cell_type": "code",
   "execution_count": 37,
   "id": "cc882831",
   "metadata": {},
   "outputs": [
    {
     "data": {
      "text/plain": [
       "Index(['Nombre', 'Edad', 'Nota', 'Aprobado'], dtype='object')"
      ]
     },
     "execution_count": 37,
     "metadata": {},
     "output_type": "execute_result"
    }
   ],
   "source": [
    "data.columns"
   ]
  },
  {
   "cell_type": "code",
   "execution_count": 39,
   "id": "277eaaea",
   "metadata": {},
   "outputs": [
    {
     "data": {
      "application/vnd.microsoft.datawrangler.viewer.v0+json": {
       "columns": [
        {
         "name": "index",
         "rawType": "object",
         "type": "string"
        },
        {
         "name": "Edad",
         "rawType": "float64",
         "type": "float"
        },
        {
         "name": "Nota",
         "rawType": "float64",
         "type": "float"
        }
       ],
       "ref": "36839246-88d8-4ee0-b4c5-70c30cd4394a",
       "rows": [
        [
         "count",
         "18.0",
         "12.0"
        ],
        [
         "mean",
         "25.5",
         "6.841666666666666"
        ],
        [
         "std",
         "6.070662334249088",
         "2.264532194649937"
        ],
        [
         "min",
         "18.0",
         "2.5"
        ],
        [
         "25%",
         "21.0",
         "5.449999999999999"
        ],
        [
         "50%",
         "24.5",
         "7.0"
        ],
        [
         "75%",
         "28.75",
         "8.25"
        ],
        [
         "max",
         "37.0",
         "10.0"
        ]
       ],
       "shape": {
        "columns": 2,
        "rows": 8
       }
      },
      "text/html": [
       "<div>\n",
       "<style scoped>\n",
       "    .dataframe tbody tr th:only-of-type {\n",
       "        vertical-align: middle;\n",
       "    }\n",
       "\n",
       "    .dataframe tbody tr th {\n",
       "        vertical-align: top;\n",
       "    }\n",
       "\n",
       "    .dataframe thead th {\n",
       "        text-align: right;\n",
       "    }\n",
       "</style>\n",
       "<table border=\"1\" class=\"dataframe\">\n",
       "  <thead>\n",
       "    <tr style=\"text-align: right;\">\n",
       "      <th></th>\n",
       "      <th>Edad</th>\n",
       "      <th>Nota</th>\n",
       "    </tr>\n",
       "  </thead>\n",
       "  <tbody>\n",
       "    <tr>\n",
       "      <th>count</th>\n",
       "      <td>18.000000</td>\n",
       "      <td>12.000000</td>\n",
       "    </tr>\n",
       "    <tr>\n",
       "      <th>mean</th>\n",
       "      <td>25.500000</td>\n",
       "      <td>6.841667</td>\n",
       "    </tr>\n",
       "    <tr>\n",
       "      <th>std</th>\n",
       "      <td>6.070662</td>\n",
       "      <td>2.264532</td>\n",
       "    </tr>\n",
       "    <tr>\n",
       "      <th>min</th>\n",
       "      <td>18.000000</td>\n",
       "      <td>2.500000</td>\n",
       "    </tr>\n",
       "    <tr>\n",
       "      <th>25%</th>\n",
       "      <td>21.000000</td>\n",
       "      <td>5.450000</td>\n",
       "    </tr>\n",
       "    <tr>\n",
       "      <th>50%</th>\n",
       "      <td>24.500000</td>\n",
       "      <td>7.000000</td>\n",
       "    </tr>\n",
       "    <tr>\n",
       "      <th>75%</th>\n",
       "      <td>28.750000</td>\n",
       "      <td>8.250000</td>\n",
       "    </tr>\n",
       "    <tr>\n",
       "      <th>max</th>\n",
       "      <td>37.000000</td>\n",
       "      <td>10.000000</td>\n",
       "    </tr>\n",
       "  </tbody>\n",
       "</table>\n",
       "</div>"
      ],
      "text/plain": [
       "            Edad       Nota\n",
       "count  18.000000  12.000000\n",
       "mean   25.500000   6.841667\n",
       "std     6.070662   2.264532\n",
       "min    18.000000   2.500000\n",
       "25%    21.000000   5.450000\n",
       "50%    24.500000   7.000000\n",
       "75%    28.750000   8.250000\n",
       "max    37.000000  10.000000"
      ]
     },
     "execution_count": 39,
     "metadata": {},
     "output_type": "execute_result"
    }
   ],
   "source": [
    "data.describe()"
   ]
  },
  {
   "cell_type": "code",
   "execution_count": 40,
   "id": "5c378a12",
   "metadata": {},
   "outputs": [
    {
     "data": {
      "text/plain": [
       "nan"
      ]
     },
     "execution_count": 40,
     "metadata": {},
     "output_type": "execute_result"
    }
   ],
   "source": [
    "import math\n",
    "data.shape\n",
    "notes = data['Nota']\n",
    "media = notes.mean()\n",
    "\n",
    "# media\n",
    "diff = notes - media\n",
    "\n",
    "diff = diff **2\n",
    "\n",
    "diff = sum(diff)\n",
    "muestre = diff / len(notes) - 1\n",
    "muestre\n",
    "# data.describe\n",
    "standard_deviation = math.sqrt(muestre)\n",
    "standard_deviation\n",
    "\n",
    "\n"
   ]
  }
 ],
 "metadata": {
  "kernelspec": {
   "display_name": "Python 3",
   "language": "python",
   "name": "python3"
  },
  "language_info": {
   "codemirror_mode": {
    "name": "ipython",
    "version": 3
   },
   "file_extension": ".py",
   "mimetype": "text/x-python",
   "name": "python",
   "nbconvert_exporter": "python",
   "pygments_lexer": "ipython3",
   "version": "3.13.0"
  }
 },
 "nbformat": 4,
 "nbformat_minor": 5
}
