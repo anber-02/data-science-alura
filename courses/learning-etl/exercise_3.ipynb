{
 "cells": [
  {
   "cell_type": "code",
   "execution_count": 37,
   "id": "865fe273",
   "metadata": {},
   "outputs": [
    {
     "data": {
      "application/vnd.microsoft.datawrangler.viewer.v0+json": {
       "columns": [
        {
         "name": "index",
         "rawType": "int64",
         "type": "integer"
        },
        {
         "name": "Nombre",
         "rawType": "object",
         "type": "string"
        },
        {
         "name": "Edad",
         "rawType": "int64",
         "type": "integer"
        },
        {
         "name": "Nota",
         "rawType": "float64",
         "type": "float"
        },
        {
         "name": "Aprobado",
         "rawType": "object",
         "type": "string"
        }
       ],
       "ref": "be9f8f1c-cc20-4d7c-9062-9334d565c02c",
       "rows": [
        [
         "0",
         "Alberto",
         "20",
         "7.5",
         "True"
        ],
        [
         "1",
         "Ana",
         "18",
         null,
         "False"
        ],
        [
         "2",
         "Camila",
         "27",
         "2.5",
         "False"
        ],
        [
         "3",
         "David",
         "18",
         "5.0",
         "False"
        ],
        [
         "4",
         "Brian",
         "21",
         "10.0",
         "True"
        ],
        [
         "5",
         "Bruna",
         "23",
         null,
         "False"
        ],
        [
         "6",
         "Daniela",
         "21",
         "7.0",
         "True"
        ],
        [
         "7",
         "Carlos",
         "19",
         "6.0",
         "False"
        ],
        [
         "8",
         "Alicia",
         "35",
         "5.6",
         "False"
        ],
        [
         "9",
         "Victor",
         "28",
         null,
         "False"
        ],
        [
         "10",
         "Danilo",
         "21",
         null,
         "False"
        ],
        [
         "11",
         "Ignacio",
         "24",
         "4.5",
         "False"
        ],
        [
         "12",
         "Stephany",
         "26",
         "10.0",
         "True"
        ],
        [
         "13",
         "Miriam",
         "25",
         "9.0",
         "True"
        ],
        [
         "14",
         "Pablo",
         "37",
         null,
         "False"
        ],
        [
         "15",
         "Milena",
         "29",
         "7.0",
         "True"
        ],
        [
         "16",
         "Lucas",
         "33",
         null,
         "False"
        ],
        [
         "17",
         "Nadia",
         "34",
         "8.0",
         "Verdadero"
        ]
       ],
       "shape": {
        "columns": 4,
        "rows": 18
       }
      },
      "text/html": [
       "<div>\n",
       "<style scoped>\n",
       "    .dataframe tbody tr th:only-of-type {\n",
       "        vertical-align: middle;\n",
       "    }\n",
       "\n",
       "    .dataframe tbody tr th {\n",
       "        vertical-align: top;\n",
       "    }\n",
       "\n",
       "    .dataframe thead th {\n",
       "        text-align: right;\n",
       "    }\n",
       "</style>\n",
       "<table border=\"1\" class=\"dataframe\">\n",
       "  <thead>\n",
       "    <tr style=\"text-align: right;\">\n",
       "      <th></th>\n",
       "      <th>Nombre</th>\n",
       "      <th>Edad</th>\n",
       "      <th>Nota</th>\n",
       "      <th>Aprobado</th>\n",
       "    </tr>\n",
       "  </thead>\n",
       "  <tbody>\n",
       "    <tr>\n",
       "      <th>0</th>\n",
       "      <td>Alberto</td>\n",
       "      <td>20</td>\n",
       "      <td>7.5</td>\n",
       "      <td>True</td>\n",
       "    </tr>\n",
       "    <tr>\n",
       "      <th>1</th>\n",
       "      <td>Ana</td>\n",
       "      <td>18</td>\n",
       "      <td>NaN</td>\n",
       "      <td>False</td>\n",
       "    </tr>\n",
       "    <tr>\n",
       "      <th>2</th>\n",
       "      <td>Camila</td>\n",
       "      <td>27</td>\n",
       "      <td>2.5</td>\n",
       "      <td>False</td>\n",
       "    </tr>\n",
       "    <tr>\n",
       "      <th>3</th>\n",
       "      <td>David</td>\n",
       "      <td>18</td>\n",
       "      <td>5.0</td>\n",
       "      <td>False</td>\n",
       "    </tr>\n",
       "    <tr>\n",
       "      <th>4</th>\n",
       "      <td>Brian</td>\n",
       "      <td>21</td>\n",
       "      <td>10.0</td>\n",
       "      <td>True</td>\n",
       "    </tr>\n",
       "    <tr>\n",
       "      <th>5</th>\n",
       "      <td>Bruna</td>\n",
       "      <td>23</td>\n",
       "      <td>NaN</td>\n",
       "      <td>False</td>\n",
       "    </tr>\n",
       "    <tr>\n",
       "      <th>6</th>\n",
       "      <td>Daniela</td>\n",
       "      <td>21</td>\n",
       "      <td>7.0</td>\n",
       "      <td>True</td>\n",
       "    </tr>\n",
       "    <tr>\n",
       "      <th>7</th>\n",
       "      <td>Carlos</td>\n",
       "      <td>19</td>\n",
       "      <td>6.0</td>\n",
       "      <td>False</td>\n",
       "    </tr>\n",
       "    <tr>\n",
       "      <th>8</th>\n",
       "      <td>Alicia</td>\n",
       "      <td>35</td>\n",
       "      <td>5.6</td>\n",
       "      <td>False</td>\n",
       "    </tr>\n",
       "    <tr>\n",
       "      <th>9</th>\n",
       "      <td>Victor</td>\n",
       "      <td>28</td>\n",
       "      <td>NaN</td>\n",
       "      <td>False</td>\n",
       "    </tr>\n",
       "    <tr>\n",
       "      <th>10</th>\n",
       "      <td>Danilo</td>\n",
       "      <td>21</td>\n",
       "      <td>NaN</td>\n",
       "      <td>False</td>\n",
       "    </tr>\n",
       "    <tr>\n",
       "      <th>11</th>\n",
       "      <td>Ignacio</td>\n",
       "      <td>24</td>\n",
       "      <td>4.5</td>\n",
       "      <td>False</td>\n",
       "    </tr>\n",
       "    <tr>\n",
       "      <th>12</th>\n",
       "      <td>Stephany</td>\n",
       "      <td>26</td>\n",
       "      <td>10.0</td>\n",
       "      <td>True</td>\n",
       "    </tr>\n",
       "    <tr>\n",
       "      <th>13</th>\n",
       "      <td>Miriam</td>\n",
       "      <td>25</td>\n",
       "      <td>9.0</td>\n",
       "      <td>True</td>\n",
       "    </tr>\n",
       "    <tr>\n",
       "      <th>14</th>\n",
       "      <td>Pablo</td>\n",
       "      <td>37</td>\n",
       "      <td>NaN</td>\n",
       "      <td>False</td>\n",
       "    </tr>\n",
       "    <tr>\n",
       "      <th>15</th>\n",
       "      <td>Milena</td>\n",
       "      <td>29</td>\n",
       "      <td>7.0</td>\n",
       "      <td>True</td>\n",
       "    </tr>\n",
       "    <tr>\n",
       "      <th>16</th>\n",
       "      <td>Lucas</td>\n",
       "      <td>33</td>\n",
       "      <td>NaN</td>\n",
       "      <td>False</td>\n",
       "    </tr>\n",
       "    <tr>\n",
       "      <th>17</th>\n",
       "      <td>Nadia</td>\n",
       "      <td>34</td>\n",
       "      <td>8.0</td>\n",
       "      <td>Verdadero</td>\n",
       "    </tr>\n",
       "  </tbody>\n",
       "</table>\n",
       "</div>"
      ],
      "text/plain": [
       "      Nombre  Edad  Nota   Aprobado\n",
       "0    Alberto    20   7.5       True\n",
       "1        Ana    18   NaN      False\n",
       "2     Camila    27   2.5      False\n",
       "3      David    18   5.0      False\n",
       "4      Brian    21  10.0       True\n",
       "5      Bruna    23   NaN      False\n",
       "6    Daniela    21   7.0       True\n",
       "7     Carlos    19   6.0      False\n",
       "8     Alicia    35   5.6      False\n",
       "9     Victor    28   NaN      False\n",
       "10    Danilo    21   NaN      False\n",
       "11   Ignacio    24   4.5      False\n",
       "12  Stephany    26  10.0       True\n",
       "13    Miriam    25   9.0       True\n",
       "14     Pablo    37   NaN      False\n",
       "15    Milena    29   7.0       True\n",
       "16     Lucas    33   NaN      False\n",
       "17     Nadia    34   8.0  Verdadero"
      ]
     },
     "execution_count": 37,
     "metadata": {},
     "output_type": "execute_result"
    }
   ],
   "source": [
    "import pandas as pd \n",
    "url = \"https://gist.githubusercontent.com/ahcamachod/807a2c1cf6c19108b2b701ea1791ab45/raw/fb84f8b2d8917a89de26679eccdbc8f9c1d2e933/alumnos.csv\"\n",
    "\n",
    "df_alumnos = pd.read_csv(url)\n",
    "df_alumnos.head(20)"
   ]
  },
  {
   "cell_type": "code",
   "execution_count": 38,
   "id": "ce608d04",
   "metadata": {},
   "outputs": [],
   "source": [
    "# Verificar valores nulos\n",
    "df_alumnos.isnull().sum()\n",
    "df_alumnos = df_alumnos.fillna(0)"
   ]
  },
  {
   "cell_type": "code",
   "execution_count": 39,
   "id": "5b0cd70c",
   "metadata": {},
   "outputs": [
    {
     "data": {
      "application/vnd.microsoft.datawrangler.viewer.v0+json": {
       "columns": [
        {
         "name": "index",
         "rawType": "int64",
         "type": "integer"
        },
        {
         "name": "Nombre",
         "rawType": "object",
         "type": "string"
        },
        {
         "name": "Edad",
         "rawType": "int64",
         "type": "integer"
        },
        {
         "name": "Nota",
         "rawType": "float64",
         "type": "float"
        },
        {
         "name": "Aprobado",
         "rawType": "object",
         "type": "string"
        }
       ],
       "ref": "d337d9a7-51d1-43f0-a5fa-0eaa20850914",
       "rows": [
        [
         "0",
         "Alberto",
         "20",
         "7.5",
         "True"
        ],
        [
         "1",
         "Ana",
         "18",
         "0.0",
         "False"
        ],
        [
         "2",
         "Camila",
         "27",
         "2.5",
         "False"
        ],
        [
         "3",
         "David",
         "18",
         "5.0",
         "False"
        ],
        [
         "4",
         "Brian",
         "21",
         "10.0",
         "True"
        ],
        [
         "5",
         "Bruna",
         "23",
         "0.0",
         "False"
        ],
        [
         "6",
         "Daniela",
         "21",
         "7.0",
         "True"
        ],
        [
         "9",
         "Victor",
         "28",
         "0.0",
         "False"
        ],
        [
         "10",
         "Danilo",
         "21",
         "0.0",
         "False"
        ],
        [
         "11",
         "Ignacio",
         "24",
         "4.5",
         "False"
        ],
        [
         "12",
         "Stephany",
         "26",
         "10.0",
         "True"
        ],
        [
         "13",
         "Miriam",
         "25",
         "9.0",
         "True"
        ],
        [
         "14",
         "Pablo",
         "37",
         "0.0",
         "False"
        ],
        [
         "15",
         "Milena",
         "29",
         "7.0",
         "True"
        ],
        [
         "16",
         "Lucas",
         "33",
         "0.0",
         "False"
        ],
        [
         "17",
         "Nadia",
         "34",
         "8.0",
         "Verdadero"
        ]
       ],
       "shape": {
        "columns": 4,
        "rows": 16
       }
      },
      "text/html": [
       "<div>\n",
       "<style scoped>\n",
       "    .dataframe tbody tr th:only-of-type {\n",
       "        vertical-align: middle;\n",
       "    }\n",
       "\n",
       "    .dataframe tbody tr th {\n",
       "        vertical-align: top;\n",
       "    }\n",
       "\n",
       "    .dataframe thead th {\n",
       "        text-align: right;\n",
       "    }\n",
       "</style>\n",
       "<table border=\"1\" class=\"dataframe\">\n",
       "  <thead>\n",
       "    <tr style=\"text-align: right;\">\n",
       "      <th></th>\n",
       "      <th>Nombre</th>\n",
       "      <th>Edad</th>\n",
       "      <th>Nota</th>\n",
       "      <th>Aprobado</th>\n",
       "    </tr>\n",
       "  </thead>\n",
       "  <tbody>\n",
       "    <tr>\n",
       "      <th>0</th>\n",
       "      <td>Alberto</td>\n",
       "      <td>20</td>\n",
       "      <td>7.5</td>\n",
       "      <td>True</td>\n",
       "    </tr>\n",
       "    <tr>\n",
       "      <th>1</th>\n",
       "      <td>Ana</td>\n",
       "      <td>18</td>\n",
       "      <td>0.0</td>\n",
       "      <td>False</td>\n",
       "    </tr>\n",
       "    <tr>\n",
       "      <th>2</th>\n",
       "      <td>Camila</td>\n",
       "      <td>27</td>\n",
       "      <td>2.5</td>\n",
       "      <td>False</td>\n",
       "    </tr>\n",
       "    <tr>\n",
       "      <th>3</th>\n",
       "      <td>David</td>\n",
       "      <td>18</td>\n",
       "      <td>5.0</td>\n",
       "      <td>False</td>\n",
       "    </tr>\n",
       "    <tr>\n",
       "      <th>4</th>\n",
       "      <td>Brian</td>\n",
       "      <td>21</td>\n",
       "      <td>10.0</td>\n",
       "      <td>True</td>\n",
       "    </tr>\n",
       "    <tr>\n",
       "      <th>5</th>\n",
       "      <td>Bruna</td>\n",
       "      <td>23</td>\n",
       "      <td>0.0</td>\n",
       "      <td>False</td>\n",
       "    </tr>\n",
       "    <tr>\n",
       "      <th>6</th>\n",
       "      <td>Daniela</td>\n",
       "      <td>21</td>\n",
       "      <td>7.0</td>\n",
       "      <td>True</td>\n",
       "    </tr>\n",
       "    <tr>\n",
       "      <th>9</th>\n",
       "      <td>Victor</td>\n",
       "      <td>28</td>\n",
       "      <td>0.0</td>\n",
       "      <td>False</td>\n",
       "    </tr>\n",
       "    <tr>\n",
       "      <th>10</th>\n",
       "      <td>Danilo</td>\n",
       "      <td>21</td>\n",
       "      <td>0.0</td>\n",
       "      <td>False</td>\n",
       "    </tr>\n",
       "    <tr>\n",
       "      <th>11</th>\n",
       "      <td>Ignacio</td>\n",
       "      <td>24</td>\n",
       "      <td>4.5</td>\n",
       "      <td>False</td>\n",
       "    </tr>\n",
       "    <tr>\n",
       "      <th>12</th>\n",
       "      <td>Stephany</td>\n",
       "      <td>26</td>\n",
       "      <td>10.0</td>\n",
       "      <td>True</td>\n",
       "    </tr>\n",
       "    <tr>\n",
       "      <th>13</th>\n",
       "      <td>Miriam</td>\n",
       "      <td>25</td>\n",
       "      <td>9.0</td>\n",
       "      <td>True</td>\n",
       "    </tr>\n",
       "    <tr>\n",
       "      <th>14</th>\n",
       "      <td>Pablo</td>\n",
       "      <td>37</td>\n",
       "      <td>0.0</td>\n",
       "      <td>False</td>\n",
       "    </tr>\n",
       "    <tr>\n",
       "      <th>15</th>\n",
       "      <td>Milena</td>\n",
       "      <td>29</td>\n",
       "      <td>7.0</td>\n",
       "      <td>True</td>\n",
       "    </tr>\n",
       "    <tr>\n",
       "      <th>16</th>\n",
       "      <td>Lucas</td>\n",
       "      <td>33</td>\n",
       "      <td>0.0</td>\n",
       "      <td>False</td>\n",
       "    </tr>\n",
       "    <tr>\n",
       "      <th>17</th>\n",
       "      <td>Nadia</td>\n",
       "      <td>34</td>\n",
       "      <td>8.0</td>\n",
       "      <td>Verdadero</td>\n",
       "    </tr>\n",
       "  </tbody>\n",
       "</table>\n",
       "</div>"
      ],
      "text/plain": [
       "      Nombre  Edad  Nota   Aprobado\n",
       "0    Alberto    20   7.5       True\n",
       "1        Ana    18   0.0      False\n",
       "2     Camila    27   2.5      False\n",
       "3      David    18   5.0      False\n",
       "4      Brian    21  10.0       True\n",
       "5      Bruna    23   0.0      False\n",
       "6    Daniela    21   7.0       True\n",
       "9     Victor    28   0.0      False\n",
       "10    Danilo    21   0.0      False\n",
       "11   Ignacio    24   4.5      False\n",
       "12  Stephany    26  10.0       True\n",
       "13    Miriam    25   9.0       True\n",
       "14     Pablo    37   0.0      False\n",
       "15    Milena    29   7.0       True\n",
       "16     Lucas    33   0.0      False\n",
       "17     Nadia    34   8.0  Verdadero"
      ]
     },
     "execution_count": 39,
     "metadata": {},
     "output_type": "execute_result"
    }
   ],
   "source": [
    "# Eliminar a Alicia y Carlos que ya no forman parte del grupo\n",
    "# todo -> Primero generar el filtro\n",
    "eliminar_alumnos = ['Alicia', 'Carlos']\n",
    "alumnos_index = df_alumnos.query(\"@eliminar_alumnos in Nombre\").index\n",
    "# todo: Aplicar los filtros\n",
    "# alumnos_index\n",
    "df_alumnos.drop(alumnos_index, axis=0, inplace=True)\n",
    "df_alumnos\n"
   ]
  },
  {
   "cell_type": "code",
   "execution_count": 40,
   "id": "9e0e65a1",
   "metadata": {},
   "outputs": [
    {
     "data": {
      "application/vnd.microsoft.datawrangler.viewer.v0+json": {
       "columns": [
        {
         "name": "index",
         "rawType": "int64",
         "type": "integer"
        },
        {
         "name": "Nombre",
         "rawType": "object",
         "type": "string"
        },
        {
         "name": "Edad",
         "rawType": "int64",
         "type": "integer"
        },
        {
         "name": "Nota",
         "rawType": "float64",
         "type": "float"
        },
        {
         "name": "Aprobado",
         "rawType": "object",
         "type": "string"
        }
       ],
       "ref": "d0637f86-a46e-480c-a52f-167df0c1a265",
       "rows": [
        [
         "0",
         "Alberto",
         "20",
         "7.5",
         "True"
        ],
        [
         "4",
         "Brian",
         "21",
         "10.0",
         "True"
        ],
        [
         "6",
         "Daniela",
         "21",
         "7.0",
         "True"
        ],
        [
         "12",
         "Stephany",
         "26",
         "10.0",
         "True"
        ],
        [
         "13",
         "Miriam",
         "25",
         "9.0",
         "True"
        ],
        [
         "15",
         "Milena",
         "29",
         "7.0",
         "True"
        ]
       ],
       "shape": {
        "columns": 4,
        "rows": 6
       }
      },
      "text/html": [
       "<div>\n",
       "<style scoped>\n",
       "    .dataframe tbody tr th:only-of-type {\n",
       "        vertical-align: middle;\n",
       "    }\n",
       "\n",
       "    .dataframe tbody tr th {\n",
       "        vertical-align: top;\n",
       "    }\n",
       "\n",
       "    .dataframe thead th {\n",
       "        text-align: right;\n",
       "    }\n",
       "</style>\n",
       "<table border=\"1\" class=\"dataframe\">\n",
       "  <thead>\n",
       "    <tr style=\"text-align: right;\">\n",
       "      <th></th>\n",
       "      <th>Nombre</th>\n",
       "      <th>Edad</th>\n",
       "      <th>Nota</th>\n",
       "      <th>Aprobado</th>\n",
       "    </tr>\n",
       "  </thead>\n",
       "  <tbody>\n",
       "    <tr>\n",
       "      <th>0</th>\n",
       "      <td>Alberto</td>\n",
       "      <td>20</td>\n",
       "      <td>7.5</td>\n",
       "      <td>True</td>\n",
       "    </tr>\n",
       "    <tr>\n",
       "      <th>4</th>\n",
       "      <td>Brian</td>\n",
       "      <td>21</td>\n",
       "      <td>10.0</td>\n",
       "      <td>True</td>\n",
       "    </tr>\n",
       "    <tr>\n",
       "      <th>6</th>\n",
       "      <td>Daniela</td>\n",
       "      <td>21</td>\n",
       "      <td>7.0</td>\n",
       "      <td>True</td>\n",
       "    </tr>\n",
       "    <tr>\n",
       "      <th>12</th>\n",
       "      <td>Stephany</td>\n",
       "      <td>26</td>\n",
       "      <td>10.0</td>\n",
       "      <td>True</td>\n",
       "    </tr>\n",
       "    <tr>\n",
       "      <th>13</th>\n",
       "      <td>Miriam</td>\n",
       "      <td>25</td>\n",
       "      <td>9.0</td>\n",
       "      <td>True</td>\n",
       "    </tr>\n",
       "    <tr>\n",
       "      <th>15</th>\n",
       "      <td>Milena</td>\n",
       "      <td>29</td>\n",
       "      <td>7.0</td>\n",
       "      <td>True</td>\n",
       "    </tr>\n",
       "  </tbody>\n",
       "</table>\n",
       "</div>"
      ],
      "text/plain": [
       "      Nombre  Edad  Nota Aprobado\n",
       "0    Alberto    20   7.5     True\n",
       "4      Brian    21  10.0     True\n",
       "6    Daniela    21   7.0     True\n",
       "12  Stephany    26  10.0     True\n",
       "13    Miriam    25   9.0     True\n",
       "15    Milena    29   7.0     True"
      ]
     },
     "execution_count": 40,
     "metadata": {},
     "output_type": "execute_result"
    }
   ],
   "source": [
    "\n",
    "# Seleccionar solo a los estudiantes que fueron aprovados\n",
    "#indicamos el True como strin por que el tipo de dato no es boolean\n",
    "\n",
    "filtro = df_alumnos['Aprobado'] == \"True\"\n",
    "# filtro\n",
    "df_alumnos_aprovados = df_alumnos[filtro]\n",
    "df_alumnos_aprovados"
   ]
  },
  {
   "cell_type": "code",
   "execution_count": 41,
   "id": "d129690d",
   "metadata": {},
   "outputs": [],
   "source": [
    "# guardar el data frame de los alumnos que fueron aprovados como alumnos_arpobados.csv\n",
    "df_alumnos_aprovados.to_csv('./resources/alumnos_aprovados.csv')"
   ]
  },
  {
   "cell_type": "code",
   "execution_count": 42,
   "id": "65573d7d",
   "metadata": {},
   "outputs": [],
   "source": [
    "# Los alumnos aprovados que obtuvieron una calificacion de 7 en realizadad tenian un punto extra que no se contabilizo\n",
    "# por lo tanto reemplazar las calificaciones de 7 en la base de datos por 8\n",
    "\n",
    "df_alumnos_aprovados = df_alumnos_aprovados.replace(7.0, 8.0)"
   ]
  },
  {
   "cell_type": "markdown",
   "id": "e2cb9c63",
   "metadata": {},
   "source": [
    "## **AULA 4 DESAFIO**"
   ]
  },
  {
   "cell_type": "code",
   "execution_count": 43,
   "id": "c4edac04",
   "metadata": {},
   "outputs": [
    {
     "data": {
      "application/vnd.microsoft.datawrangler.viewer.v0+json": {
       "columns": [
        {
         "name": "index",
         "rawType": "int64",
         "type": "integer"
        },
        {
         "name": "Nombre",
         "rawType": "object",
         "type": "string"
        },
        {
         "name": "Edad",
         "rawType": "int64",
         "type": "integer"
        },
        {
         "name": "Nota",
         "rawType": "float64",
         "type": "float"
        },
        {
         "name": "Aprobado",
         "rawType": "object",
         "type": "string"
        }
       ],
       "ref": "139a55a1-cd49-4ca8-a819-dbd66307b9b7",
       "rows": [
        [
         "0",
         "Alberto",
         "20",
         "7.5",
         "True"
        ],
        [
         "1",
         "Ana",
         "18",
         null,
         "False"
        ],
        [
         "2",
         "Camila",
         "27",
         "2.5",
         "False"
        ],
        [
         "3",
         "David",
         "18",
         "5.0",
         "False"
        ],
        [
         "4",
         "Brian",
         "21",
         "10.0",
         "True"
        ]
       ],
       "shape": {
        "columns": 4,
        "rows": 5
       }
      },
      "text/html": [
       "<div>\n",
       "<style scoped>\n",
       "    .dataframe tbody tr th:only-of-type {\n",
       "        vertical-align: middle;\n",
       "    }\n",
       "\n",
       "    .dataframe tbody tr th {\n",
       "        vertical-align: top;\n",
       "    }\n",
       "\n",
       "    .dataframe thead th {\n",
       "        text-align: right;\n",
       "    }\n",
       "</style>\n",
       "<table border=\"1\" class=\"dataframe\">\n",
       "  <thead>\n",
       "    <tr style=\"text-align: right;\">\n",
       "      <th></th>\n",
       "      <th>Nombre</th>\n",
       "      <th>Edad</th>\n",
       "      <th>Nota</th>\n",
       "      <th>Aprobado</th>\n",
       "    </tr>\n",
       "  </thead>\n",
       "  <tbody>\n",
       "    <tr>\n",
       "      <th>0</th>\n",
       "      <td>Alberto</td>\n",
       "      <td>20</td>\n",
       "      <td>7.5</td>\n",
       "      <td>True</td>\n",
       "    </tr>\n",
       "    <tr>\n",
       "      <th>1</th>\n",
       "      <td>Ana</td>\n",
       "      <td>18</td>\n",
       "      <td>NaN</td>\n",
       "      <td>False</td>\n",
       "    </tr>\n",
       "    <tr>\n",
       "      <th>2</th>\n",
       "      <td>Camila</td>\n",
       "      <td>27</td>\n",
       "      <td>2.5</td>\n",
       "      <td>False</td>\n",
       "    </tr>\n",
       "    <tr>\n",
       "      <th>3</th>\n",
       "      <td>David</td>\n",
       "      <td>18</td>\n",
       "      <td>5.0</td>\n",
       "      <td>False</td>\n",
       "    </tr>\n",
       "    <tr>\n",
       "      <th>4</th>\n",
       "      <td>Brian</td>\n",
       "      <td>21</td>\n",
       "      <td>10.0</td>\n",
       "      <td>True</td>\n",
       "    </tr>\n",
       "  </tbody>\n",
       "</table>\n",
       "</div>"
      ],
      "text/plain": [
       "    Nombre  Edad  Nota Aprobado\n",
       "0  Alberto    20   7.5     True\n",
       "1      Ana    18   NaN    False\n",
       "2   Camila    27   2.5    False\n",
       "3    David    18   5.0    False\n",
       "4    Brian    21  10.0     True"
      ]
     },
     "execution_count": 43,
     "metadata": {},
     "output_type": "execute_result"
    }
   ],
   "source": [
    "datos = pd.read_csv(url)\n",
    "datos.head()"
   ]
  },
  {
   "cell_type": "code",
   "execution_count": 44,
   "id": "b529ffae",
   "metadata": {},
   "outputs": [
    {
     "data": {
      "application/vnd.microsoft.datawrangler.viewer.v0+json": {
       "columns": [
        {
         "name": "index",
         "rawType": "int64",
         "type": "integer"
        },
        {
         "name": "Nombre",
         "rawType": "object",
         "type": "string"
        },
        {
         "name": "Edad",
         "rawType": "int64",
         "type": "integer"
        },
        {
         "name": "Nota",
         "rawType": "float64",
         "type": "float"
        },
        {
         "name": "Aprobado",
         "rawType": "object",
         "type": "string"
        },
        {
         "name": "Puntos_entras",
         "rawType": "float64",
         "type": "float"
        }
       ],
       "ref": "3918fe83-c123-4968-882f-04b7d6ffc4d3",
       "rows": [
        [
         "0",
         "Alberto",
         "20",
         "7.5",
         "True",
         "3.0"
        ],
        [
         "1",
         "Ana",
         "18",
         null,
         "False",
         null
        ],
        [
         "2",
         "Camila",
         "27",
         "2.5",
         "False",
         "1.0"
        ],
        [
         "3",
         "David",
         "18",
         "5.0",
         "False",
         "2.0"
        ],
        [
         "4",
         "Brian",
         "21",
         "10.0",
         "True",
         "4.0"
        ]
       ],
       "shape": {
        "columns": 5,
        "rows": 5
       }
      },
      "text/html": [
       "<div>\n",
       "<style scoped>\n",
       "    .dataframe tbody tr th:only-of-type {\n",
       "        vertical-align: middle;\n",
       "    }\n",
       "\n",
       "    .dataframe tbody tr th {\n",
       "        vertical-align: top;\n",
       "    }\n",
       "\n",
       "    .dataframe thead th {\n",
       "        text-align: right;\n",
       "    }\n",
       "</style>\n",
       "<table border=\"1\" class=\"dataframe\">\n",
       "  <thead>\n",
       "    <tr style=\"text-align: right;\">\n",
       "      <th></th>\n",
       "      <th>Nombre</th>\n",
       "      <th>Edad</th>\n",
       "      <th>Nota</th>\n",
       "      <th>Aprobado</th>\n",
       "      <th>Puntos_entras</th>\n",
       "    </tr>\n",
       "  </thead>\n",
       "  <tbody>\n",
       "    <tr>\n",
       "      <th>0</th>\n",
       "      <td>Alberto</td>\n",
       "      <td>20</td>\n",
       "      <td>7.5</td>\n",
       "      <td>True</td>\n",
       "      <td>3.0</td>\n",
       "    </tr>\n",
       "    <tr>\n",
       "      <th>1</th>\n",
       "      <td>Ana</td>\n",
       "      <td>18</td>\n",
       "      <td>NaN</td>\n",
       "      <td>False</td>\n",
       "      <td>NaN</td>\n",
       "    </tr>\n",
       "    <tr>\n",
       "      <th>2</th>\n",
       "      <td>Camila</td>\n",
       "      <td>27</td>\n",
       "      <td>2.5</td>\n",
       "      <td>False</td>\n",
       "      <td>1.0</td>\n",
       "    </tr>\n",
       "    <tr>\n",
       "      <th>3</th>\n",
       "      <td>David</td>\n",
       "      <td>18</td>\n",
       "      <td>5.0</td>\n",
       "      <td>False</td>\n",
       "      <td>2.0</td>\n",
       "    </tr>\n",
       "    <tr>\n",
       "      <th>4</th>\n",
       "      <td>Brian</td>\n",
       "      <td>21</td>\n",
       "      <td>10.0</td>\n",
       "      <td>True</td>\n",
       "      <td>4.0</td>\n",
       "    </tr>\n",
       "  </tbody>\n",
       "</table>\n",
       "</div>"
      ],
      "text/plain": [
       "    Nombre  Edad  Nota Aprobado  Puntos_entras\n",
       "0  Alberto    20   7.5     True            3.0\n",
       "1      Ana    18   NaN    False            NaN\n",
       "2   Camila    27   2.5    False            1.0\n",
       "3    David    18   5.0    False            2.0\n",
       "4    Brian    21  10.0     True            4.0"
      ]
     },
     "execution_count": 44,
     "metadata": {},
     "output_type": "execute_result"
    }
   ],
   "source": [
    "# Crear una columna llamada puntos extras que contenga sus puntos extras de cada \n",
    "# estudiante es decir el 40% de su nota actual\n",
    "\n",
    "datos['Puntos_entras'] = datos['Nota'] * .4\n",
    "datos.head()"
   ]
  },
  {
   "cell_type": "code",
   "execution_count": 45,
   "id": "dd45f46b",
   "metadata": {},
   "outputs": [
    {
     "data": {
      "application/vnd.microsoft.datawrangler.viewer.v0+json": {
       "columns": [
        {
         "name": "index",
         "rawType": "int64",
         "type": "integer"
        },
        {
         "name": "Nombre",
         "rawType": "object",
         "type": "string"
        },
        {
         "name": "Edad",
         "rawType": "int64",
         "type": "integer"
        },
        {
         "name": "Nota",
         "rawType": "float64",
         "type": "float"
        },
        {
         "name": "Aprobado",
         "rawType": "object",
         "type": "string"
        },
        {
         "name": "Puntos_entras",
         "rawType": "float64",
         "type": "float"
        },
        {
         "name": "Notas_finales",
         "rawType": "float64",
         "type": "float"
        }
       ],
       "ref": "38e533ea-5c9f-400f-bedf-4f031edeae77",
       "rows": [
        [
         "0",
         "Alberto",
         "20",
         "7.5",
         "True",
         "3.0",
         "10.5"
        ],
        [
         "1",
         "Ana",
         "18",
         null,
         "False",
         null,
         null
        ],
        [
         "2",
         "Camila",
         "27",
         "2.5",
         "False",
         "1.0",
         "3.5"
        ],
        [
         "3",
         "David",
         "18",
         "5.0",
         "False",
         "2.0",
         "7.0"
        ],
        [
         "4",
         "Brian",
         "21",
         "10.0",
         "True",
         "4.0",
         "14.0"
        ]
       ],
       "shape": {
        "columns": 6,
        "rows": 5
       }
      },
      "text/html": [
       "<div>\n",
       "<style scoped>\n",
       "    .dataframe tbody tr th:only-of-type {\n",
       "        vertical-align: middle;\n",
       "    }\n",
       "\n",
       "    .dataframe tbody tr th {\n",
       "        vertical-align: top;\n",
       "    }\n",
       "\n",
       "    .dataframe thead th {\n",
       "        text-align: right;\n",
       "    }\n",
       "</style>\n",
       "<table border=\"1\" class=\"dataframe\">\n",
       "  <thead>\n",
       "    <tr style=\"text-align: right;\">\n",
       "      <th></th>\n",
       "      <th>Nombre</th>\n",
       "      <th>Edad</th>\n",
       "      <th>Nota</th>\n",
       "      <th>Aprobado</th>\n",
       "      <th>Puntos_entras</th>\n",
       "      <th>Notas_finales</th>\n",
       "    </tr>\n",
       "  </thead>\n",
       "  <tbody>\n",
       "    <tr>\n",
       "      <th>0</th>\n",
       "      <td>Alberto</td>\n",
       "      <td>20</td>\n",
       "      <td>7.5</td>\n",
       "      <td>True</td>\n",
       "      <td>3.0</td>\n",
       "      <td>10.5</td>\n",
       "    </tr>\n",
       "    <tr>\n",
       "      <th>1</th>\n",
       "      <td>Ana</td>\n",
       "      <td>18</td>\n",
       "      <td>NaN</td>\n",
       "      <td>False</td>\n",
       "      <td>NaN</td>\n",
       "      <td>NaN</td>\n",
       "    </tr>\n",
       "    <tr>\n",
       "      <th>2</th>\n",
       "      <td>Camila</td>\n",
       "      <td>27</td>\n",
       "      <td>2.5</td>\n",
       "      <td>False</td>\n",
       "      <td>1.0</td>\n",
       "      <td>3.5</td>\n",
       "    </tr>\n",
       "    <tr>\n",
       "      <th>3</th>\n",
       "      <td>David</td>\n",
       "      <td>18</td>\n",
       "      <td>5.0</td>\n",
       "      <td>False</td>\n",
       "      <td>2.0</td>\n",
       "      <td>7.0</td>\n",
       "    </tr>\n",
       "    <tr>\n",
       "      <th>4</th>\n",
       "      <td>Brian</td>\n",
       "      <td>21</td>\n",
       "      <td>10.0</td>\n",
       "      <td>True</td>\n",
       "      <td>4.0</td>\n",
       "      <td>14.0</td>\n",
       "    </tr>\n",
       "  </tbody>\n",
       "</table>\n",
       "</div>"
      ],
      "text/plain": [
       "    Nombre  Edad  Nota Aprobado  Puntos_entras  Notas_finales\n",
       "0  Alberto    20   7.5     True            3.0           10.5\n",
       "1      Ana    18   NaN    False            NaN            NaN\n",
       "2   Camila    27   2.5    False            1.0            3.5\n",
       "3    David    18   5.0    False            2.0            7.0\n",
       "4    Brian    21  10.0     True            4.0           14.0"
      ]
     },
     "execution_count": 45,
     "metadata": {},
     "output_type": "execute_result"
    }
   ],
   "source": [
    "# Crear otra columna llamada notas finales que contenga su nota actual mas los puntos extras\n",
    "datos['Notas_finales'] = datos['Nota'] + datos['Puntos_entras']\n",
    "datos.head()"
   ]
  },
  {
   "cell_type": "code",
   "execution_count": 46,
   "id": "36e4ad0e",
   "metadata": {},
   "outputs": [],
   "source": [
    "# Tomando en cuenta el cambio de las notas crear una columna llamada\n",
    "# Aprobado_final con True si es mayor o igual a 7.0 y False si no\n",
    "\n",
    "datos['Aprobado_final'] = datos['Notas_finales'].apply(lambda x: True if x >= 7.0 else False)"
   ]
  },
  {
   "cell_type": "code",
   "execution_count": 49,
   "id": "95a822a8",
   "metadata": {},
   "outputs": [
    {
     "data": {
      "application/vnd.microsoft.datawrangler.viewer.v0+json": {
       "columns": [
        {
         "name": "index",
         "rawType": "int64",
         "type": "integer"
        },
        {
         "name": "Nombre",
         "rawType": "object",
         "type": "string"
        },
        {
         "name": "Edad",
         "rawType": "int64",
         "type": "integer"
        },
        {
         "name": "Nota",
         "rawType": "float64",
         "type": "float"
        },
        {
         "name": "Aprobado",
         "rawType": "object",
         "type": "string"
        },
        {
         "name": "Puntos_entras",
         "rawType": "float64",
         "type": "float"
        },
        {
         "name": "Notas_finales",
         "rawType": "float64",
         "type": "float"
        },
        {
         "name": "Aprobado_final",
         "rawType": "bool",
         "type": "boolean"
        }
       ],
       "ref": "d3b43b2f-1134-4781-a116-6a1e63c50ce9",
       "rows": [
        [
         "3",
         "David",
         "18",
         "5.0",
         "False",
         "2.0",
         "7.0",
         "True"
        ],
        [
         "7",
         "Carlos",
         "19",
         "6.0",
         "False",
         "2.4000000000000004",
         "8.4",
         "True"
        ],
        [
         "8",
         "Alicia",
         "35",
         "5.6",
         "False",
         "2.2399999999999998",
         "7.84",
         "True"
        ]
       ],
       "shape": {
        "columns": 7,
        "rows": 3
       }
      },
      "text/html": [
       "<div>\n",
       "<style scoped>\n",
       "    .dataframe tbody tr th:only-of-type {\n",
       "        vertical-align: middle;\n",
       "    }\n",
       "\n",
       "    .dataframe tbody tr th {\n",
       "        vertical-align: top;\n",
       "    }\n",
       "\n",
       "    .dataframe thead th {\n",
       "        text-align: right;\n",
       "    }\n",
       "</style>\n",
       "<table border=\"1\" class=\"dataframe\">\n",
       "  <thead>\n",
       "    <tr style=\"text-align: right;\">\n",
       "      <th></th>\n",
       "      <th>Nombre</th>\n",
       "      <th>Edad</th>\n",
       "      <th>Nota</th>\n",
       "      <th>Aprobado</th>\n",
       "      <th>Puntos_entras</th>\n",
       "      <th>Notas_finales</th>\n",
       "      <th>Aprobado_final</th>\n",
       "    </tr>\n",
       "  </thead>\n",
       "  <tbody>\n",
       "    <tr>\n",
       "      <th>3</th>\n",
       "      <td>David</td>\n",
       "      <td>18</td>\n",
       "      <td>5.0</td>\n",
       "      <td>False</td>\n",
       "      <td>2.00</td>\n",
       "      <td>7.00</td>\n",
       "      <td>True</td>\n",
       "    </tr>\n",
       "    <tr>\n",
       "      <th>7</th>\n",
       "      <td>Carlos</td>\n",
       "      <td>19</td>\n",
       "      <td>6.0</td>\n",
       "      <td>False</td>\n",
       "      <td>2.40</td>\n",
       "      <td>8.40</td>\n",
       "      <td>True</td>\n",
       "    </tr>\n",
       "    <tr>\n",
       "      <th>8</th>\n",
       "      <td>Alicia</td>\n",
       "      <td>35</td>\n",
       "      <td>5.6</td>\n",
       "      <td>False</td>\n",
       "      <td>2.24</td>\n",
       "      <td>7.84</td>\n",
       "      <td>True</td>\n",
       "    </tr>\n",
       "  </tbody>\n",
       "</table>\n",
       "</div>"
      ],
      "text/plain": [
       "   Nombre  Edad  Nota Aprobado  Puntos_entras  Notas_finales  Aprobado_final\n",
       "3   David    18   5.0    False           2.00           7.00            True\n",
       "7  Carlos    19   6.0    False           2.40           8.40            True\n",
       "8  Alicia    35   5.6    False           2.24           7.84            True"
      ]
     },
     "execution_count": 49,
     "metadata": {},
     "output_type": "execute_result"
    }
   ],
   "source": [
    "# Filtrar los alumnos que pasaron gracias a los puntos extras\n",
    "seleccion = (datos['Aprobado'] == \"False\") & (datos['Aprobado_final'] == True)\n",
    "\n",
    "# datos.head(20)\n",
    "datos[seleccion]"
   ]
  },
  {
   "cell_type": "code",
   "execution_count": null,
   "id": "4f8f999d",
   "metadata": {},
   "outputs": [],
   "source": []
  }
 ],
 "metadata": {
  "kernelspec": {
   "display_name": "Python 3",
   "language": "python",
   "name": "python3"
  },
  "language_info": {
   "codemirror_mode": {
    "name": "ipython",
    "version": 3
   },
   "file_extension": ".py",
   "mimetype": "text/x-python",
   "name": "python",
   "nbconvert_exporter": "python",
   "pygments_lexer": "ipython3",
   "version": "3.13.0"
  }
 },
 "nbformat": 4,
 "nbformat_minor": 5
}
