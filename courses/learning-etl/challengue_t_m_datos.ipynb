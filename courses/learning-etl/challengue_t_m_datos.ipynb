{
 "cells": [
  {
   "cell_type": "code",
   "execution_count": 84,
   "id": "8cbea0ef",
   "metadata": {},
   "outputs": [],
   "source": [
    "import pandas as pd"
   ]
  },
  {
   "cell_type": "markdown",
   "id": "4fa1ecb6",
   "metadata": {},
   "source": [
    "## **Proyecto Desafió 1 -> Ventas online**\n"
   ]
  },
  {
   "cell_type": "markdown",
   "id": "c9b48085",
   "metadata": {},
   "source": [
    "El objetivo de este proyecto es analizar los resultados de un evento con los clientes de una empresa de venta online. Se recopiló un conjunto de datos que contiene los clientes que más gastaron en productos durante los 5 días de ventas, que es la duración del evento. Este análisis identificará al cliente con la mayor compra esta semana, quien recibirá un premio de la tienda, y posteriormente, puede ayudar a la empresa a crear nuevas estrategias para atraer más clientes.\n",
    "\n",
    "La base de datos utilizada en este análisis es dados_vendas_clientes.json y contiene información importante sobre los clientes, como el nombre registrado del cliente, el monto total pagado al momento de la compra y el día de la compra"
   ]
  },
  {
   "cell_type": "code",
   "execution_count": 85,
   "id": "d14330a3",
   "metadata": {},
   "outputs": [
    {
     "data": {
      "application/vnd.microsoft.datawrangler.viewer.v0+json": {
       "columns": [
        {
         "name": "index",
         "rawType": "int64",
         "type": "integer"
        },
        {
         "name": "Data de venda",
         "rawType": "object",
         "type": "string"
        },
        {
         "name": "Cliente",
         "rawType": "object",
         "type": "unknown"
        },
        {
         "name": "Valor da compra",
         "rawType": "object",
         "type": "unknown"
        }
       ],
       "ref": "ab42c57e-9521-44a2-812f-c631ee92e106",
       "rows": [
        [
         "0",
         "06/06/2022",
         "['@ANA _LUCIA 321', 'DieGO ARMANDIU 210', 'DieGO ARMANDIU 210', 'DieGO ARMANDIU 210']",
         "['R$ 836,5', 'R$ 573,33', 'R$ 392,8', 'R$ 512,34']"
        ],
        [
         "1",
         "07/06/2022",
         "['Isabely JOanes 738', 'Isabely JOanes 738', 'Isabely JOanes 738', 'Isabely JOanes 738']",
         "['R$ 825,31', 'R$ 168,07', 'R$ 339,18', 'R$ 314,69']"
        ],
        [
         "2",
         "08/06/2022",
         "['Isabely JOanes 738', 'JOãO Gabriel 671', 'Julya meireles 914', 'Julya meireles 914']",
         "['R$ 682,05', 'R$ 386,34', 'R$ 622,65', 'R$ 630,79']"
        ],
        [
         "3",
         "09/06/2022",
         "['Julya meireles 914', 'MaRIA Julia 444', 'MaRIA Julia 444', 'MaRIA Julia 444']",
         "['R$ 390,3', 'R$ 759,16', 'R$ 334,47', 'R$ 678,78']"
        ],
        [
         "4",
         "10/06/2022",
         "['MaRIA Julia 444', 'PEDRO PASCO 812', 'Paulo castro 481', 'Thiago fritzz 883']",
         "['R$ 314,24', 'R$ 311,15', 'R$ 899,16', 'R$ 885,24']"
        ]
       ],
       "shape": {
        "columns": 3,
        "rows": 5
       }
      },
      "text/html": [
       "<div>\n",
       "<style scoped>\n",
       "    .dataframe tbody tr th:only-of-type {\n",
       "        vertical-align: middle;\n",
       "    }\n",
       "\n",
       "    .dataframe tbody tr th {\n",
       "        vertical-align: top;\n",
       "    }\n",
       "\n",
       "    .dataframe thead th {\n",
       "        text-align: right;\n",
       "    }\n",
       "</style>\n",
       "<table border=\"1\" class=\"dataframe\">\n",
       "  <thead>\n",
       "    <tr style=\"text-align: right;\">\n",
       "      <th></th>\n",
       "      <th>Data de venda</th>\n",
       "      <th>Cliente</th>\n",
       "      <th>Valor da compra</th>\n",
       "    </tr>\n",
       "  </thead>\n",
       "  <tbody>\n",
       "    <tr>\n",
       "      <th>0</th>\n",
       "      <td>06/06/2022</td>\n",
       "      <td>[@ANA _LUCIA 321, DieGO ARMANDIU 210, DieGO AR...</td>\n",
       "      <td>[R$ 836,5, R$ 573,33, R$ 392,8, R$ 512,34]</td>\n",
       "    </tr>\n",
       "    <tr>\n",
       "      <th>1</th>\n",
       "      <td>07/06/2022</td>\n",
       "      <td>[Isabely JOanes 738, Isabely JOanes 738, Isabe...</td>\n",
       "      <td>[R$ 825,31, R$ 168,07, R$ 339,18, R$ 314,69]</td>\n",
       "    </tr>\n",
       "    <tr>\n",
       "      <th>2</th>\n",
       "      <td>08/06/2022</td>\n",
       "      <td>[Isabely JOanes 738, JOãO Gabriel 671, Julya m...</td>\n",
       "      <td>[R$ 682,05, R$ 386,34, R$ 622,65, R$ 630,79]</td>\n",
       "    </tr>\n",
       "    <tr>\n",
       "      <th>3</th>\n",
       "      <td>09/06/2022</td>\n",
       "      <td>[Julya meireles 914, MaRIA Julia 444, MaRIA Ju...</td>\n",
       "      <td>[R$ 390,3, R$ 759,16, R$ 334,47, R$ 678,78]</td>\n",
       "    </tr>\n",
       "    <tr>\n",
       "      <th>4</th>\n",
       "      <td>10/06/2022</td>\n",
       "      <td>[MaRIA Julia 444, PEDRO PASCO 812, Paulo castr...</td>\n",
       "      <td>[R$ 314,24, R$ 311,15, R$ 899,16, R$ 885,24]</td>\n",
       "    </tr>\n",
       "  </tbody>\n",
       "</table>\n",
       "</div>"
      ],
      "text/plain": [
       "  Data de venda                                            Cliente  \\\n",
       "0    06/06/2022  [@ANA _LUCIA 321, DieGO ARMANDIU 210, DieGO AR...   \n",
       "1    07/06/2022  [Isabely JOanes 738, Isabely JOanes 738, Isabe...   \n",
       "2    08/06/2022  [Isabely JOanes 738, JOãO Gabriel 671, Julya m...   \n",
       "3    09/06/2022  [Julya meireles 914, MaRIA Julia 444, MaRIA Ju...   \n",
       "4    10/06/2022  [MaRIA Julia 444, PEDRO PASCO 812, Paulo castr...   \n",
       "\n",
       "                                Valor da compra  \n",
       "0    [R$ 836,5, R$ 573,33, R$ 392,8, R$ 512,34]  \n",
       "1  [R$ 825,31, R$ 168,07, R$ 339,18, R$ 314,69]  \n",
       "2  [R$ 682,05, R$ 386,34, R$ 622,65, R$ 630,79]  \n",
       "3   [R$ 390,3, R$ 759,16, R$ 334,47, R$ 678,78]  \n",
       "4  [R$ 314,24, R$ 311,15, R$ 899,16, R$ 885,24]  "
      ]
     },
     "execution_count": 85,
     "metadata": {},
     "output_type": "execute_result"
    }
   ],
   "source": [
    "file = \"./resources/challengues/datos_ventas_clientes.json\"\n",
    "# leer el archivo\n",
    "datos_venta = pd.read_json(file)\n",
    "# Normalizar los datos\n",
    "datos_venta = pd.json_normalize(datos_venta['dados_vendas'])\n",
    "datos_venta"
   ]
  },
  {
   "cell_type": "markdown",
   "id": "4da14693",
   "metadata": {},
   "source": [
    "1. Eliminar datos en listas dentro del DataFrame\n",
    "2. Verificar tipos de datos\n",
    "3. Identificar columnas numéricas\n",
    "4. Transformar la columna numérica a tipo numérico"
   ]
  },
  {
   "cell_type": "code",
   "execution_count": 86,
   "id": "096ee8dd",
   "metadata": {},
   "outputs": [
    {
     "data": {
      "application/vnd.microsoft.datawrangler.viewer.v0+json": {
       "columns": [
        {
         "name": "index",
         "rawType": "int64",
         "type": "integer"
        },
        {
         "name": "Data de venda",
         "rawType": "object",
         "type": "string"
        },
        {
         "name": "Cliente",
         "rawType": "object",
         "type": "string"
        },
        {
         "name": "Valor da compra",
         "rawType": "object",
         "type": "string"
        }
       ],
       "ref": "34acab05-1ed9-444c-be4e-5760f69d750d",
       "rows": [
        [
         "0",
         "06/06/2022",
         "@ANA _LUCIA 321",
         "R$ 836,5"
        ],
        [
         "0",
         "06/06/2022",
         "DieGO ARMANDIU 210",
         "R$ 573,33"
        ],
        [
         "0",
         "06/06/2022",
         "DieGO ARMANDIU 210",
         "R$ 392,8"
        ],
        [
         "0",
         "06/06/2022",
         "DieGO ARMANDIU 210",
         "R$ 512,34"
        ],
        [
         "1",
         "07/06/2022",
         "Isabely JOanes 738",
         "R$ 825,31"
        ],
        [
         "1",
         "07/06/2022",
         "Isabely JOanes 738",
         "R$ 168,07"
        ],
        [
         "1",
         "07/06/2022",
         "Isabely JOanes 738",
         "R$ 339,18"
        ],
        [
         "1",
         "07/06/2022",
         "Isabely JOanes 738",
         "R$ 314,69"
        ],
        [
         "2",
         "08/06/2022",
         "Isabely JOanes 738",
         "R$ 682,05"
        ],
        [
         "2",
         "08/06/2022",
         "JOãO Gabriel 671",
         "R$ 386,34"
        ],
        [
         "2",
         "08/06/2022",
         "Julya meireles 914",
         "R$ 622,65"
        ],
        [
         "2",
         "08/06/2022",
         "Julya meireles 914",
         "R$ 630,79"
        ],
        [
         "3",
         "09/06/2022",
         "Julya meireles 914",
         "R$ 390,3"
        ],
        [
         "3",
         "09/06/2022",
         "MaRIA Julia 444",
         "R$ 759,16"
        ],
        [
         "3",
         "09/06/2022",
         "MaRIA Julia 444",
         "R$ 334,47"
        ],
        [
         "3",
         "09/06/2022",
         "MaRIA Julia 444",
         "R$ 678,78"
        ],
        [
         "4",
         "10/06/2022",
         "MaRIA Julia 444",
         "R$ 314,24"
        ],
        [
         "4",
         "10/06/2022",
         "PEDRO PASCO 812",
         "R$ 311,15"
        ],
        [
         "4",
         "10/06/2022",
         "Paulo castro 481",
         "R$ 899,16"
        ],
        [
         "4",
         "10/06/2022",
         "Thiago fritzz 883",
         "R$ 885,24"
        ]
       ],
       "shape": {
        "columns": 3,
        "rows": 20
       }
      },
      "text/html": [
       "<div>\n",
       "<style scoped>\n",
       "    .dataframe tbody tr th:only-of-type {\n",
       "        vertical-align: middle;\n",
       "    }\n",
       "\n",
       "    .dataframe tbody tr th {\n",
       "        vertical-align: top;\n",
       "    }\n",
       "\n",
       "    .dataframe thead th {\n",
       "        text-align: right;\n",
       "    }\n",
       "</style>\n",
       "<table border=\"1\" class=\"dataframe\">\n",
       "  <thead>\n",
       "    <tr style=\"text-align: right;\">\n",
       "      <th></th>\n",
       "      <th>Data de venda</th>\n",
       "      <th>Cliente</th>\n",
       "      <th>Valor da compra</th>\n",
       "    </tr>\n",
       "  </thead>\n",
       "  <tbody>\n",
       "    <tr>\n",
       "      <th>0</th>\n",
       "      <td>06/06/2022</td>\n",
       "      <td>@ANA _LUCIA 321</td>\n",
       "      <td>R$ 836,5</td>\n",
       "    </tr>\n",
       "    <tr>\n",
       "      <th>0</th>\n",
       "      <td>06/06/2022</td>\n",
       "      <td>DieGO ARMANDIU 210</td>\n",
       "      <td>R$ 573,33</td>\n",
       "    </tr>\n",
       "    <tr>\n",
       "      <th>0</th>\n",
       "      <td>06/06/2022</td>\n",
       "      <td>DieGO ARMANDIU 210</td>\n",
       "      <td>R$ 392,8</td>\n",
       "    </tr>\n",
       "    <tr>\n",
       "      <th>0</th>\n",
       "      <td>06/06/2022</td>\n",
       "      <td>DieGO ARMANDIU 210</td>\n",
       "      <td>R$ 512,34</td>\n",
       "    </tr>\n",
       "    <tr>\n",
       "      <th>1</th>\n",
       "      <td>07/06/2022</td>\n",
       "      <td>Isabely JOanes 738</td>\n",
       "      <td>R$ 825,31</td>\n",
       "    </tr>\n",
       "    <tr>\n",
       "      <th>1</th>\n",
       "      <td>07/06/2022</td>\n",
       "      <td>Isabely JOanes 738</td>\n",
       "      <td>R$ 168,07</td>\n",
       "    </tr>\n",
       "    <tr>\n",
       "      <th>1</th>\n",
       "      <td>07/06/2022</td>\n",
       "      <td>Isabely JOanes 738</td>\n",
       "      <td>R$ 339,18</td>\n",
       "    </tr>\n",
       "    <tr>\n",
       "      <th>1</th>\n",
       "      <td>07/06/2022</td>\n",
       "      <td>Isabely JOanes 738</td>\n",
       "      <td>R$ 314,69</td>\n",
       "    </tr>\n",
       "    <tr>\n",
       "      <th>2</th>\n",
       "      <td>08/06/2022</td>\n",
       "      <td>Isabely JOanes 738</td>\n",
       "      <td>R$ 682,05</td>\n",
       "    </tr>\n",
       "    <tr>\n",
       "      <th>2</th>\n",
       "      <td>08/06/2022</td>\n",
       "      <td>JOãO Gabriel 671</td>\n",
       "      <td>R$ 386,34</td>\n",
       "    </tr>\n",
       "    <tr>\n",
       "      <th>2</th>\n",
       "      <td>08/06/2022</td>\n",
       "      <td>Julya meireles 914</td>\n",
       "      <td>R$ 622,65</td>\n",
       "    </tr>\n",
       "    <tr>\n",
       "      <th>2</th>\n",
       "      <td>08/06/2022</td>\n",
       "      <td>Julya meireles 914</td>\n",
       "      <td>R$ 630,79</td>\n",
       "    </tr>\n",
       "    <tr>\n",
       "      <th>3</th>\n",
       "      <td>09/06/2022</td>\n",
       "      <td>Julya meireles 914</td>\n",
       "      <td>R$ 390,3</td>\n",
       "    </tr>\n",
       "    <tr>\n",
       "      <th>3</th>\n",
       "      <td>09/06/2022</td>\n",
       "      <td>MaRIA Julia 444</td>\n",
       "      <td>R$ 759,16</td>\n",
       "    </tr>\n",
       "    <tr>\n",
       "      <th>3</th>\n",
       "      <td>09/06/2022</td>\n",
       "      <td>MaRIA Julia 444</td>\n",
       "      <td>R$ 334,47</td>\n",
       "    </tr>\n",
       "    <tr>\n",
       "      <th>3</th>\n",
       "      <td>09/06/2022</td>\n",
       "      <td>MaRIA Julia 444</td>\n",
       "      <td>R$ 678,78</td>\n",
       "    </tr>\n",
       "    <tr>\n",
       "      <th>4</th>\n",
       "      <td>10/06/2022</td>\n",
       "      <td>MaRIA Julia 444</td>\n",
       "      <td>R$ 314,24</td>\n",
       "    </tr>\n",
       "    <tr>\n",
       "      <th>4</th>\n",
       "      <td>10/06/2022</td>\n",
       "      <td>PEDRO PASCO 812</td>\n",
       "      <td>R$ 311,15</td>\n",
       "    </tr>\n",
       "    <tr>\n",
       "      <th>4</th>\n",
       "      <td>10/06/2022</td>\n",
       "      <td>Paulo castro 481</td>\n",
       "      <td>R$ 899,16</td>\n",
       "    </tr>\n",
       "    <tr>\n",
       "      <th>4</th>\n",
       "      <td>10/06/2022</td>\n",
       "      <td>Thiago fritzz 883</td>\n",
       "      <td>R$ 885,24</td>\n",
       "    </tr>\n",
       "  </tbody>\n",
       "</table>\n",
       "</div>"
      ],
      "text/plain": [
       "  Data de venda             Cliente Valor da compra\n",
       "0    06/06/2022     @ANA _LUCIA 321        R$ 836,5\n",
       "0    06/06/2022  DieGO ARMANDIU 210       R$ 573,33\n",
       "0    06/06/2022  DieGO ARMANDIU 210        R$ 392,8\n",
       "0    06/06/2022  DieGO ARMANDIU 210       R$ 512,34\n",
       "1    07/06/2022  Isabely JOanes 738       R$ 825,31\n",
       "1    07/06/2022  Isabely JOanes 738       R$ 168,07\n",
       "1    07/06/2022  Isabely JOanes 738       R$ 339,18\n",
       "1    07/06/2022  Isabely JOanes 738       R$ 314,69\n",
       "2    08/06/2022  Isabely JOanes 738       R$ 682,05\n",
       "2    08/06/2022    JOãO Gabriel 671       R$ 386,34\n",
       "2    08/06/2022  Julya meireles 914       R$ 622,65\n",
       "2    08/06/2022  Julya meireles 914       R$ 630,79\n",
       "3    09/06/2022  Julya meireles 914        R$ 390,3\n",
       "3    09/06/2022     MaRIA Julia 444       R$ 759,16\n",
       "3    09/06/2022     MaRIA Julia 444       R$ 334,47\n",
       "3    09/06/2022     MaRIA Julia 444       R$ 678,78\n",
       "4    10/06/2022     MaRIA Julia 444       R$ 314,24\n",
       "4    10/06/2022     PEDRO PASCO 812       R$ 311,15\n",
       "4    10/06/2022    Paulo castro 481       R$ 899,16\n",
       "4    10/06/2022   Thiago fritzz 883       R$ 885,24"
      ]
     },
     "execution_count": 86,
     "metadata": {},
     "output_type": "execute_result"
    }
   ],
   "source": [
    "# utilizar el método explode para eliminar los datos que están en listas\n",
    "datos_venta = datos_venta.explode(['Cliente', 'Valor da compra'])\n",
    "datos_venta"
   ]
  },
  {
   "cell_type": "code",
   "execution_count": 87,
   "id": "e2ba527c",
   "metadata": {},
   "outputs": [
    {
     "data": {
      "application/vnd.microsoft.datawrangler.viewer.v0+json": {
       "columns": [
        {
         "name": "index",
         "rawType": "int64",
         "type": "integer"
        },
        {
         "name": "Data de venda",
         "rawType": "object",
         "type": "string"
        },
        {
         "name": "Cliente",
         "rawType": "object",
         "type": "string"
        },
        {
         "name": "Valor da compra",
         "rawType": "object",
         "type": "string"
        }
       ],
       "ref": "cd0c1858-2fae-457c-bf3f-a5b36717f877",
       "rows": [
        [
         "0",
         "06/06/2022",
         "@ANA _LUCIA 321",
         "R$ 836,5"
        ],
        [
         "1",
         "06/06/2022",
         "DieGO ARMANDIU 210",
         "R$ 573,33"
        ],
        [
         "2",
         "06/06/2022",
         "DieGO ARMANDIU 210",
         "R$ 392,8"
        ],
        [
         "3",
         "06/06/2022",
         "DieGO ARMANDIU 210",
         "R$ 512,34"
        ],
        [
         "4",
         "07/06/2022",
         "Isabely JOanes 738",
         "R$ 825,31"
        ],
        [
         "5",
         "07/06/2022",
         "Isabely JOanes 738",
         "R$ 168,07"
        ],
        [
         "6",
         "07/06/2022",
         "Isabely JOanes 738",
         "R$ 339,18"
        ],
        [
         "7",
         "07/06/2022",
         "Isabely JOanes 738",
         "R$ 314,69"
        ],
        [
         "8",
         "08/06/2022",
         "Isabely JOanes 738",
         "R$ 682,05"
        ],
        [
         "9",
         "08/06/2022",
         "JOãO Gabriel 671",
         "R$ 386,34"
        ],
        [
         "10",
         "08/06/2022",
         "Julya meireles 914",
         "R$ 622,65"
        ],
        [
         "11",
         "08/06/2022",
         "Julya meireles 914",
         "R$ 630,79"
        ],
        [
         "12",
         "09/06/2022",
         "Julya meireles 914",
         "R$ 390,3"
        ],
        [
         "13",
         "09/06/2022",
         "MaRIA Julia 444",
         "R$ 759,16"
        ],
        [
         "14",
         "09/06/2022",
         "MaRIA Julia 444",
         "R$ 334,47"
        ],
        [
         "15",
         "09/06/2022",
         "MaRIA Julia 444",
         "R$ 678,78"
        ],
        [
         "16",
         "10/06/2022",
         "MaRIA Julia 444",
         "R$ 314,24"
        ],
        [
         "17",
         "10/06/2022",
         "PEDRO PASCO 812",
         "R$ 311,15"
        ],
        [
         "18",
         "10/06/2022",
         "Paulo castro 481",
         "R$ 899,16"
        ],
        [
         "19",
         "10/06/2022",
         "Thiago fritzz 883",
         "R$ 885,24"
        ]
       ],
       "shape": {
        "columns": 3,
        "rows": 20
       }
      },
      "text/html": [
       "<div>\n",
       "<style scoped>\n",
       "    .dataframe tbody tr th:only-of-type {\n",
       "        vertical-align: middle;\n",
       "    }\n",
       "\n",
       "    .dataframe tbody tr th {\n",
       "        vertical-align: top;\n",
       "    }\n",
       "\n",
       "    .dataframe thead th {\n",
       "        text-align: right;\n",
       "    }\n",
       "</style>\n",
       "<table border=\"1\" class=\"dataframe\">\n",
       "  <thead>\n",
       "    <tr style=\"text-align: right;\">\n",
       "      <th></th>\n",
       "      <th>Data de venda</th>\n",
       "      <th>Cliente</th>\n",
       "      <th>Valor da compra</th>\n",
       "    </tr>\n",
       "  </thead>\n",
       "  <tbody>\n",
       "    <tr>\n",
       "      <th>0</th>\n",
       "      <td>06/06/2022</td>\n",
       "      <td>@ANA _LUCIA 321</td>\n",
       "      <td>R$ 836,5</td>\n",
       "    </tr>\n",
       "    <tr>\n",
       "      <th>1</th>\n",
       "      <td>06/06/2022</td>\n",
       "      <td>DieGO ARMANDIU 210</td>\n",
       "      <td>R$ 573,33</td>\n",
       "    </tr>\n",
       "    <tr>\n",
       "      <th>2</th>\n",
       "      <td>06/06/2022</td>\n",
       "      <td>DieGO ARMANDIU 210</td>\n",
       "      <td>R$ 392,8</td>\n",
       "    </tr>\n",
       "    <tr>\n",
       "      <th>3</th>\n",
       "      <td>06/06/2022</td>\n",
       "      <td>DieGO ARMANDIU 210</td>\n",
       "      <td>R$ 512,34</td>\n",
       "    </tr>\n",
       "    <tr>\n",
       "      <th>4</th>\n",
       "      <td>07/06/2022</td>\n",
       "      <td>Isabely JOanes 738</td>\n",
       "      <td>R$ 825,31</td>\n",
       "    </tr>\n",
       "    <tr>\n",
       "      <th>5</th>\n",
       "      <td>07/06/2022</td>\n",
       "      <td>Isabely JOanes 738</td>\n",
       "      <td>R$ 168,07</td>\n",
       "    </tr>\n",
       "    <tr>\n",
       "      <th>6</th>\n",
       "      <td>07/06/2022</td>\n",
       "      <td>Isabely JOanes 738</td>\n",
       "      <td>R$ 339,18</td>\n",
       "    </tr>\n",
       "    <tr>\n",
       "      <th>7</th>\n",
       "      <td>07/06/2022</td>\n",
       "      <td>Isabely JOanes 738</td>\n",
       "      <td>R$ 314,69</td>\n",
       "    </tr>\n",
       "    <tr>\n",
       "      <th>8</th>\n",
       "      <td>08/06/2022</td>\n",
       "      <td>Isabely JOanes 738</td>\n",
       "      <td>R$ 682,05</td>\n",
       "    </tr>\n",
       "    <tr>\n",
       "      <th>9</th>\n",
       "      <td>08/06/2022</td>\n",
       "      <td>JOãO Gabriel 671</td>\n",
       "      <td>R$ 386,34</td>\n",
       "    </tr>\n",
       "    <tr>\n",
       "      <th>10</th>\n",
       "      <td>08/06/2022</td>\n",
       "      <td>Julya meireles 914</td>\n",
       "      <td>R$ 622,65</td>\n",
       "    </tr>\n",
       "    <tr>\n",
       "      <th>11</th>\n",
       "      <td>08/06/2022</td>\n",
       "      <td>Julya meireles 914</td>\n",
       "      <td>R$ 630,79</td>\n",
       "    </tr>\n",
       "    <tr>\n",
       "      <th>12</th>\n",
       "      <td>09/06/2022</td>\n",
       "      <td>Julya meireles 914</td>\n",
       "      <td>R$ 390,3</td>\n",
       "    </tr>\n",
       "    <tr>\n",
       "      <th>13</th>\n",
       "      <td>09/06/2022</td>\n",
       "      <td>MaRIA Julia 444</td>\n",
       "      <td>R$ 759,16</td>\n",
       "    </tr>\n",
       "    <tr>\n",
       "      <th>14</th>\n",
       "      <td>09/06/2022</td>\n",
       "      <td>MaRIA Julia 444</td>\n",
       "      <td>R$ 334,47</td>\n",
       "    </tr>\n",
       "    <tr>\n",
       "      <th>15</th>\n",
       "      <td>09/06/2022</td>\n",
       "      <td>MaRIA Julia 444</td>\n",
       "      <td>R$ 678,78</td>\n",
       "    </tr>\n",
       "    <tr>\n",
       "      <th>16</th>\n",
       "      <td>10/06/2022</td>\n",
       "      <td>MaRIA Julia 444</td>\n",
       "      <td>R$ 314,24</td>\n",
       "    </tr>\n",
       "    <tr>\n",
       "      <th>17</th>\n",
       "      <td>10/06/2022</td>\n",
       "      <td>PEDRO PASCO 812</td>\n",
       "      <td>R$ 311,15</td>\n",
       "    </tr>\n",
       "    <tr>\n",
       "      <th>18</th>\n",
       "      <td>10/06/2022</td>\n",
       "      <td>Paulo castro 481</td>\n",
       "      <td>R$ 899,16</td>\n",
       "    </tr>\n",
       "    <tr>\n",
       "      <th>19</th>\n",
       "      <td>10/06/2022</td>\n",
       "      <td>Thiago fritzz 883</td>\n",
       "      <td>R$ 885,24</td>\n",
       "    </tr>\n",
       "  </tbody>\n",
       "</table>\n",
       "</div>"
      ],
      "text/plain": [
       "   Data de venda             Cliente Valor da compra\n",
       "0     06/06/2022     @ANA _LUCIA 321        R$ 836,5\n",
       "1     06/06/2022  DieGO ARMANDIU 210       R$ 573,33\n",
       "2     06/06/2022  DieGO ARMANDIU 210        R$ 392,8\n",
       "3     06/06/2022  DieGO ARMANDIU 210       R$ 512,34\n",
       "4     07/06/2022  Isabely JOanes 738       R$ 825,31\n",
       "5     07/06/2022  Isabely JOanes 738       R$ 168,07\n",
       "6     07/06/2022  Isabely JOanes 738       R$ 339,18\n",
       "7     07/06/2022  Isabely JOanes 738       R$ 314,69\n",
       "8     08/06/2022  Isabely JOanes 738       R$ 682,05\n",
       "9     08/06/2022    JOãO Gabriel 671       R$ 386,34\n",
       "10    08/06/2022  Julya meireles 914       R$ 622,65\n",
       "11    08/06/2022  Julya meireles 914       R$ 630,79\n",
       "12    09/06/2022  Julya meireles 914        R$ 390,3\n",
       "13    09/06/2022     MaRIA Julia 444       R$ 759,16\n",
       "14    09/06/2022     MaRIA Julia 444       R$ 334,47\n",
       "15    09/06/2022     MaRIA Julia 444       R$ 678,78\n",
       "16    10/06/2022     MaRIA Julia 444       R$ 314,24\n",
       "17    10/06/2022     PEDRO PASCO 812       R$ 311,15\n",
       "18    10/06/2022    Paulo castro 481       R$ 899,16\n",
       "19    10/06/2022   Thiago fritzz 883       R$ 885,24"
      ]
     },
     "execution_count": 87,
     "metadata": {},
     "output_type": "execute_result"
    }
   ],
   "source": [
    "# ahora que se realizo, hay que resetear el index ya que se repiten varios al transformar las lista a valores únicos\n",
    "datos_venta.reset_index(inplace=True, drop=True)\n",
    "datos_venta"
   ]
  },
  {
   "cell_type": "code",
   "execution_count": 88,
   "id": "5bcbd386",
   "metadata": {},
   "outputs": [
    {
     "name": "stdout",
     "output_type": "stream",
     "text": [
      "<class 'pandas.core.frame.DataFrame'>\n",
      "RangeIndex: 20 entries, 0 to 19\n",
      "Data columns (total 3 columns):\n",
      " #   Column           Non-Null Count  Dtype \n",
      "---  ------           --------------  ----- \n",
      " 0   Data de venda    20 non-null     object\n",
      " 1   Cliente          20 non-null     object\n",
      " 2   Valor da compra  20 non-null     object\n",
      "dtypes: object(3)\n",
      "memory usage: 612.0+ bytes\n"
     ]
    }
   ],
   "source": [
    "datos_venta.info()"
   ]
  },
  {
   "cell_type": "code",
   "execution_count": 89,
   "id": "68cb9f81",
   "metadata": {},
   "outputs": [],
   "source": [
    "import numpy as np\n",
    "\n",
    "datos_venta['Valor da compra']=datos_venta['Valor da compra'].apply(lambda x: x.replace('R$','').replace(',','.').strip()).astype(np.float32)"
   ]
  },
  {
   "cell_type": "code",
   "execution_count": 90,
   "id": "a72f9220",
   "metadata": {},
   "outputs": [],
   "source": [
    "# '''\n",
    "# Proyecto Desafío 1: Ventas Online\n",
    "# En el paso 2, trabajamos en la transformación de datos numéricos. Ahora podemos trabajar con valores textuales.\n",
    "\n",
    "# Debido a una inestabilidad en el sitio web de la empresa, tuvimos problemas con los nombres de los clientes durante el guardado. Esto resultó en una columna de nombres de clientes con una combinación de letras, mayúsculas y minúsculas, números y otros caracteres.\n",
    "\n",
    "# Sabiendo esto, manipula los textos de la columna Cliente para que el resultado sean los nombres de los clientes en letras minúsculas, con ausencia de caracteres especiales o números.\n",
    "\n",
    "# '''"
   ]
  },
  {
   "cell_type": "code",
   "execution_count": 91,
   "id": "b3a01bb0",
   "metadata": {},
   "outputs": [],
   "source": [
    "datos_venta['Cliente'] = datos_venta['Cliente'].str.lower().replace(r\"[^a-z/ã]\",\" \", regex=True)"
   ]
  },
  {
   "cell_type": "code",
   "execution_count": 92,
   "id": "4e178ef1",
   "metadata": {},
   "outputs": [],
   "source": [
    "datos_venta['Cliente'] = datos_venta['Cliente'].str.strip()"
   ]
  },
  {
   "cell_type": "code",
   "execution_count": 93,
   "id": "40c83cb5",
   "metadata": {},
   "outputs": [
    {
     "data": {
      "application/vnd.microsoft.datawrangler.viewer.v0+json": {
       "columns": [
        {
         "name": "index",
         "rawType": "int64",
         "type": "integer"
        },
        {
         "name": "Data de venda",
         "rawType": "object",
         "type": "string"
        },
        {
         "name": "Cliente",
         "rawType": "object",
         "type": "string"
        },
        {
         "name": "Valor da compra",
         "rawType": "float32",
         "type": "float"
        }
       ],
       "ref": "8b030beb-f0e0-4606-83cf-184ee77ce7be",
       "rows": [
        [
         "0",
         "06/06/2022",
         "ana  lucia",
         "836.5"
        ],
        [
         "1",
         "06/06/2022",
         "diego armandiu",
         "573.33"
        ],
        [
         "2",
         "06/06/2022",
         "diego armandiu",
         "392.8"
        ],
        [
         "3",
         "06/06/2022",
         "diego armandiu",
         "512.34"
        ],
        [
         "4",
         "07/06/2022",
         "isabely joanes",
         "825.31"
        ],
        [
         "5",
         "07/06/2022",
         "isabely joanes",
         "168.07"
        ],
        [
         "6",
         "07/06/2022",
         "isabely joanes",
         "339.18"
        ],
        [
         "7",
         "07/06/2022",
         "isabely joanes",
         "314.69"
        ],
        [
         "8",
         "08/06/2022",
         "isabely joanes",
         "682.05"
        ],
        [
         "9",
         "08/06/2022",
         "joão gabriel",
         "386.34"
        ],
        [
         "10",
         "08/06/2022",
         "julya meireles",
         "622.65"
        ],
        [
         "11",
         "08/06/2022",
         "julya meireles",
         "630.79"
        ],
        [
         "12",
         "09/06/2022",
         "julya meireles",
         "390.3"
        ],
        [
         "13",
         "09/06/2022",
         "maria julia",
         "759.16"
        ],
        [
         "14",
         "09/06/2022",
         "maria julia",
         "334.47"
        ],
        [
         "15",
         "09/06/2022",
         "maria julia",
         "678.78"
        ],
        [
         "16",
         "10/06/2022",
         "maria julia",
         "314.24"
        ],
        [
         "17",
         "10/06/2022",
         "pedro pasco",
         "311.15"
        ],
        [
         "18",
         "10/06/2022",
         "paulo castro",
         "899.16"
        ],
        [
         "19",
         "10/06/2022",
         "thiago fritzz",
         "885.24"
        ]
       ],
       "shape": {
        "columns": 3,
        "rows": 20
       }
      },
      "text/html": [
       "<div>\n",
       "<style scoped>\n",
       "    .dataframe tbody tr th:only-of-type {\n",
       "        vertical-align: middle;\n",
       "    }\n",
       "\n",
       "    .dataframe tbody tr th {\n",
       "        vertical-align: top;\n",
       "    }\n",
       "\n",
       "    .dataframe thead th {\n",
       "        text-align: right;\n",
       "    }\n",
       "</style>\n",
       "<table border=\"1\" class=\"dataframe\">\n",
       "  <thead>\n",
       "    <tr style=\"text-align: right;\">\n",
       "      <th></th>\n",
       "      <th>Data de venda</th>\n",
       "      <th>Cliente</th>\n",
       "      <th>Valor da compra</th>\n",
       "    </tr>\n",
       "  </thead>\n",
       "  <tbody>\n",
       "    <tr>\n",
       "      <th>0</th>\n",
       "      <td>06/06/2022</td>\n",
       "      <td>ana  lucia</td>\n",
       "      <td>836.500000</td>\n",
       "    </tr>\n",
       "    <tr>\n",
       "      <th>1</th>\n",
       "      <td>06/06/2022</td>\n",
       "      <td>diego armandiu</td>\n",
       "      <td>573.330017</td>\n",
       "    </tr>\n",
       "    <tr>\n",
       "      <th>2</th>\n",
       "      <td>06/06/2022</td>\n",
       "      <td>diego armandiu</td>\n",
       "      <td>392.799988</td>\n",
       "    </tr>\n",
       "    <tr>\n",
       "      <th>3</th>\n",
       "      <td>06/06/2022</td>\n",
       "      <td>diego armandiu</td>\n",
       "      <td>512.340027</td>\n",
       "    </tr>\n",
       "    <tr>\n",
       "      <th>4</th>\n",
       "      <td>07/06/2022</td>\n",
       "      <td>isabely joanes</td>\n",
       "      <td>825.309998</td>\n",
       "    </tr>\n",
       "    <tr>\n",
       "      <th>5</th>\n",
       "      <td>07/06/2022</td>\n",
       "      <td>isabely joanes</td>\n",
       "      <td>168.070007</td>\n",
       "    </tr>\n",
       "    <tr>\n",
       "      <th>6</th>\n",
       "      <td>07/06/2022</td>\n",
       "      <td>isabely joanes</td>\n",
       "      <td>339.179993</td>\n",
       "    </tr>\n",
       "    <tr>\n",
       "      <th>7</th>\n",
       "      <td>07/06/2022</td>\n",
       "      <td>isabely joanes</td>\n",
       "      <td>314.690002</td>\n",
       "    </tr>\n",
       "    <tr>\n",
       "      <th>8</th>\n",
       "      <td>08/06/2022</td>\n",
       "      <td>isabely joanes</td>\n",
       "      <td>682.049988</td>\n",
       "    </tr>\n",
       "    <tr>\n",
       "      <th>9</th>\n",
       "      <td>08/06/2022</td>\n",
       "      <td>joão gabriel</td>\n",
       "      <td>386.339996</td>\n",
       "    </tr>\n",
       "    <tr>\n",
       "      <th>10</th>\n",
       "      <td>08/06/2022</td>\n",
       "      <td>julya meireles</td>\n",
       "      <td>622.650024</td>\n",
       "    </tr>\n",
       "    <tr>\n",
       "      <th>11</th>\n",
       "      <td>08/06/2022</td>\n",
       "      <td>julya meireles</td>\n",
       "      <td>630.789978</td>\n",
       "    </tr>\n",
       "    <tr>\n",
       "      <th>12</th>\n",
       "      <td>09/06/2022</td>\n",
       "      <td>julya meireles</td>\n",
       "      <td>390.299988</td>\n",
       "    </tr>\n",
       "    <tr>\n",
       "      <th>13</th>\n",
       "      <td>09/06/2022</td>\n",
       "      <td>maria julia</td>\n",
       "      <td>759.159973</td>\n",
       "    </tr>\n",
       "    <tr>\n",
       "      <th>14</th>\n",
       "      <td>09/06/2022</td>\n",
       "      <td>maria julia</td>\n",
       "      <td>334.470001</td>\n",
       "    </tr>\n",
       "    <tr>\n",
       "      <th>15</th>\n",
       "      <td>09/06/2022</td>\n",
       "      <td>maria julia</td>\n",
       "      <td>678.780029</td>\n",
       "    </tr>\n",
       "    <tr>\n",
       "      <th>16</th>\n",
       "      <td>10/06/2022</td>\n",
       "      <td>maria julia</td>\n",
       "      <td>314.239990</td>\n",
       "    </tr>\n",
       "    <tr>\n",
       "      <th>17</th>\n",
       "      <td>10/06/2022</td>\n",
       "      <td>pedro pasco</td>\n",
       "      <td>311.149994</td>\n",
       "    </tr>\n",
       "    <tr>\n",
       "      <th>18</th>\n",
       "      <td>10/06/2022</td>\n",
       "      <td>paulo castro</td>\n",
       "      <td>899.159973</td>\n",
       "    </tr>\n",
       "    <tr>\n",
       "      <th>19</th>\n",
       "      <td>10/06/2022</td>\n",
       "      <td>thiago fritzz</td>\n",
       "      <td>885.239990</td>\n",
       "    </tr>\n",
       "  </tbody>\n",
       "</table>\n",
       "</div>"
      ],
      "text/plain": [
       "   Data de venda         Cliente  Valor da compra\n",
       "0     06/06/2022      ana  lucia       836.500000\n",
       "1     06/06/2022  diego armandiu       573.330017\n",
       "2     06/06/2022  diego armandiu       392.799988\n",
       "3     06/06/2022  diego armandiu       512.340027\n",
       "4     07/06/2022  isabely joanes       825.309998\n",
       "5     07/06/2022  isabely joanes       168.070007\n",
       "6     07/06/2022  isabely joanes       339.179993\n",
       "7     07/06/2022  isabely joanes       314.690002\n",
       "8     08/06/2022  isabely joanes       682.049988\n",
       "9     08/06/2022    joão gabriel       386.339996\n",
       "10    08/06/2022  julya meireles       622.650024\n",
       "11    08/06/2022  julya meireles       630.789978\n",
       "12    09/06/2022  julya meireles       390.299988\n",
       "13    09/06/2022     maria julia       759.159973\n",
       "14    09/06/2022     maria julia       334.470001\n",
       "15    09/06/2022     maria julia       678.780029\n",
       "16    10/06/2022     maria julia       314.239990\n",
       "17    10/06/2022     pedro pasco       311.149994\n",
       "18    10/06/2022    paulo castro       899.159973\n",
       "19    10/06/2022   thiago fritzz       885.239990"
      ]
     },
     "execution_count": 93,
     "metadata": {},
     "output_type": "execute_result"
    }
   ],
   "source": [
    "datos_venta"
   ]
  },
  {
   "cell_type": "code",
   "execution_count": 94,
   "id": "67fa019e",
   "metadata": {},
   "outputs": [],
   "source": [
    "# convertir la fecha a tipo fecha\n",
    "datos_venta['Data de venda'] = pd.to_datetime(datos_venta['Data de venda'])"
   ]
  },
  {
   "cell_type": "code",
   "execution_count": 95,
   "id": "093a8478",
   "metadata": {},
   "outputs": [],
   "source": [
    "# formatear la fecha\n",
    "datos_venta['Data de venda'] = datos_venta['Data de venda'].dt.strftime(\"%d-%m-%y\")"
   ]
  },
  {
   "cell_type": "code",
   "execution_count": 96,
   "id": "e504b818",
   "metadata": {},
   "outputs": [
    {
     "data": {
      "application/vnd.microsoft.datawrangler.viewer.v0+json": {
       "columns": [
        {
         "name": "Cliente",
         "rawType": "object",
         "type": "string"
        },
        {
         "name": "Valor da compra",
         "rawType": "float32",
         "type": "float"
        }
       ],
       "ref": "5a0b09bb-17c6-41ff-8d13-3907b0f39d0d",
       "rows": [
        [
         "ana  lucia",
         "836.5"
        ],
        [
         "diego armandiu",
         "1478.47"
        ],
        [
         "isabely joanes",
         "2329.3"
        ],
        [
         "joão gabriel",
         "386.34"
        ],
        [
         "julya meireles",
         "1643.74"
        ],
        [
         "maria julia",
         "2086.65"
        ],
        [
         "paulo castro",
         "899.16"
        ],
        [
         "pedro pasco",
         "311.15"
        ],
        [
         "thiago fritzz",
         "885.24"
        ]
       ],
       "shape": {
        "columns": 1,
        "rows": 9
       }
      },
      "text/plain": [
       "Cliente\n",
       "ana  lucia         836.500000\n",
       "diego armandiu    1478.469971\n",
       "isabely joanes    2329.300049\n",
       "joão gabriel       386.339996\n",
       "julya meireles    1643.739990\n",
       "maria julia       2086.649902\n",
       "paulo castro       899.159973\n",
       "pedro pasco        311.149994\n",
       "thiago fritzz      885.239990\n",
       "Name: Valor da compra, dtype: float32"
      ]
     },
     "execution_count": 96,
     "metadata": {},
     "output_type": "execute_result"
    }
   ],
   "source": [
    "total_compras = datos_venta.groupby(['Cliente'])['Valor da compra'].sum()\n",
    "total_compras"
   ]
  },
  {
   "cell_type": "code",
   "execution_count": 97,
   "id": "823878fc",
   "metadata": {},
   "outputs": [
    {
     "data": {
      "application/vnd.microsoft.datawrangler.viewer.v0+json": {
       "columns": [
        {
         "name": "index",
         "rawType": "int64",
         "type": "integer"
        },
        {
         "name": "Data de venda",
         "rawType": "object",
         "type": "string"
        }
       ],
       "ref": "e55a7494-d375-4ff2-97c5-f83c243e3e0e",
       "rows": [
        [
         "0",
         "06-06-22"
        ],
        [
         "1",
         "06-06-22"
        ],
        [
         "2",
         "06-06-22"
        ],
        [
         "3",
         "06-06-22"
        ],
        [
         "4",
         "06-07-22"
        ],
        [
         "5",
         "06-07-22"
        ],
        [
         "6",
         "06-07-22"
        ],
        [
         "7",
         "06-07-22"
        ],
        [
         "8",
         "06-08-22"
        ],
        [
         "9",
         "06-08-22"
        ],
        [
         "10",
         "06-08-22"
        ],
        [
         "11",
         "06-08-22"
        ],
        [
         "12",
         "06-09-22"
        ],
        [
         "13",
         "06-09-22"
        ],
        [
         "14",
         "06-09-22"
        ],
        [
         "15",
         "06-09-22"
        ],
        [
         "16",
         "06-10-22"
        ],
        [
         "17",
         "06-10-22"
        ],
        [
         "18",
         "06-10-22"
        ],
        [
         "19",
         "06-10-22"
        ]
       ],
       "shape": {
        "columns": 1,
        "rows": 20
       }
      },
      "text/plain": [
       "0     06-06-22\n",
       "1     06-06-22\n",
       "2     06-06-22\n",
       "3     06-06-22\n",
       "4     06-07-22\n",
       "5     06-07-22\n",
       "6     06-07-22\n",
       "7     06-07-22\n",
       "8     06-08-22\n",
       "9     06-08-22\n",
       "10    06-08-22\n",
       "11    06-08-22\n",
       "12    06-09-22\n",
       "13    06-09-22\n",
       "14    06-09-22\n",
       "15    06-09-22\n",
       "16    06-10-22\n",
       "17    06-10-22\n",
       "18    06-10-22\n",
       "19    06-10-22\n",
       "Name: Data de venda, dtype: object"
      ]
     },
     "execution_count": 97,
     "metadata": {},
     "output_type": "execute_result"
    }
   ],
   "source": [
    "datos_venta['Data de venda']\n"
   ]
  },
  {
   "cell_type": "markdown",
   "id": "e1a5a9d4",
   "metadata": {},
   "source": [
    "## **Proyecto Desafió 2 -> Administración de condominios**\n"
   ]
  },
  {
   "cell_type": "markdown",
   "id": "12097342",
   "metadata": {},
   "source": [
    "Administrar condominios es una tarea que requiere mucha atención y organización. Entre las diversas responsabilidades de gestión se encuentra el cobro del alquiler a los inquilinos. Para garantizar la buena salud financiera de la empresa, es fundamental que estos pagos se realicen de forma regular y puntual. Sin embargo, sabemos que esto no siempre sucede.\n",
    "\n",
    "Teniendo esto en cuenta, propongo un desafío de procesamiento de datos con el objetivo de analizar el retraso en el pago del alquiler en el condominio de algunos residentes. Pongo a disposición la base de datos dados_locacao_imoveis.json, que contiene información sobre el departamento de los inquilinos, el día acordado para el pago del alquiler, el día en que se realiza el pago del alquiler y el monto del alquiler."
   ]
  },
  {
   "cell_type": "code",
   "execution_count": 98,
   "id": "c0196af5",
   "metadata": {},
   "outputs": [
    {
     "data": {
      "application/vnd.microsoft.datawrangler.viewer.v0+json": {
       "columns": [
        {
         "name": "index",
         "rawType": "int64",
         "type": "integer"
        },
        {
         "name": "apartamento",
         "rawType": "object",
         "type": "string"
        },
        {
         "name": "datas_combinadas_pagamento",
         "rawType": "object",
         "type": "unknown"
        },
        {
         "name": "datas_de_pagamento",
         "rawType": "object",
         "type": "unknown"
        },
        {
         "name": "valor_aluguel",
         "rawType": "object",
         "type": "unknown"
        }
       ],
       "ref": "9141fee5-eba5-4e9e-a84a-04170e00ae1a",
       "rows": [
        [
         "0",
         "A101 (blocoAP)",
         "['01/06/2022', '01/07/2022']",
         "['05/06/2022', '03/07/2022']",
         "['$ 1000,0 reais', '$ 2500,0 reais']"
        ],
        [
         "1",
         "A102 (blocoAP)",
         "['02/06/2022', '02/07/2022']",
         "['02/06/2022', '06/07/2022']",
         "['$ 1100,0 reais', '$ 2600,0 reais']"
        ],
        [
         "2",
         "B201 (blocoAP)",
         "['03/06/2022', '03/07/2022']",
         "['07/06/2022', '03/07/2022']",
         "['$ 1200,0 reais', '$ 2700,0 reais']"
        ],
        [
         "3",
         "B202 (blocoAP)",
         "['04/06/2022', '04/07/2022']",
         "['07/06/2022', '05/07/2022']",
         "['$ 1300,0 reais', '$ 2800,0 reais']"
        ],
        [
         "4",
         "C301 (blocoAP)",
         "['05/06/2022', '05/07/2022']",
         "['10/06/2022', '09/07/2022']",
         "['$ 1400,0 reais', '$ 2900,0 reais']"
        ],
        [
         "5",
         "C302 (blocoAP)",
         "['06/06/2022', '06/07/2022']",
         "['08/06/2022', '12/07/2022']",
         "['$ 1500,0 reais', '$ 1200,0 reais']"
        ],
        [
         "6",
         "D401 (blocoAP)",
         "['07/06/2022', '07/07/2022']",
         "['07/06/2022', '09/07/2022']",
         "['$ 1600,0 reais', '$ 1300,0 reais']"
        ],
        [
         "7",
         "D402 (blocoAP)",
         "['08/06/2022', '08/07/2022']",
         "['10/06/2022', '14/07/2022']",
         "['$ 1700,0 reais', '$ 1400,0 reais']"
        ],
        [
         "8",
         "E501 (blocoAP)",
         "['09/06/2022', '09/07/2022']",
         "['10/06/2022', '09/07/2022']",
         "['$ 1800,0 reais', '$ 1500,0 reais']"
        ],
        [
         "9",
         "E502 (blocoAP)",
         "['10/06/2022', '10/07/2022']",
         "['16/06/2022', '12/07/2022']",
         "['$ 1900,0 reais', '$ 1600,0 reais']"
        ],
        [
         "10",
         "F601 (blocoAP)",
         "['11/06/2022', '11/07/2022']",
         "['17/06/2022', '13/07/2022']",
         "['$ 2000,0 reais', '$ 1000,0 reais']"
        ],
        [
         "11",
         "F602 (blocoAP)",
         "['12/06/2022', '12/07/2022']",
         "['15/06/2022', '12/07/2022']",
         "['$ 2100,0 reais', '$ 1100,0 reais']"
        ],
        [
         "12",
         "G701 (blocoAP)",
         "['13/06/2022', '13/07/2022']",
         "['19/06/2022', '20/07/2022']",
         "['$ 2200,0 reais', '$ 1200,0 reais']"
        ],
        [
         "13",
         "G702 (blocoAP)",
         "['14/06/2022', '14/07/2022']",
         "['15/06/2022', '17/07/2022']",
         "['$ 2300,0 reais', '$ 2100,0 reais']"
        ],
        [
         "14",
         "H801 (blocoAP)",
         "['15/06/2022', '15/07/2022']",
         "['18/06/2022', '16/07/2022']",
         "['$ 2400,0 reais', '$ 2200,0 reais']"
        ]
       ],
       "shape": {
        "columns": 4,
        "rows": 15
       }
      },
      "text/html": [
       "<div>\n",
       "<style scoped>\n",
       "    .dataframe tbody tr th:only-of-type {\n",
       "        vertical-align: middle;\n",
       "    }\n",
       "\n",
       "    .dataframe tbody tr th {\n",
       "        vertical-align: top;\n",
       "    }\n",
       "\n",
       "    .dataframe thead th {\n",
       "        text-align: right;\n",
       "    }\n",
       "</style>\n",
       "<table border=\"1\" class=\"dataframe\">\n",
       "  <thead>\n",
       "    <tr style=\"text-align: right;\">\n",
       "      <th></th>\n",
       "      <th>apartamento</th>\n",
       "      <th>datas_combinadas_pagamento</th>\n",
       "      <th>datas_de_pagamento</th>\n",
       "      <th>valor_aluguel</th>\n",
       "    </tr>\n",
       "  </thead>\n",
       "  <tbody>\n",
       "    <tr>\n",
       "      <th>0</th>\n",
       "      <td>A101 (blocoAP)</td>\n",
       "      <td>[01/06/2022, 01/07/2022]</td>\n",
       "      <td>[05/06/2022, 03/07/2022]</td>\n",
       "      <td>[$ 1000,0 reais, $ 2500,0 reais]</td>\n",
       "    </tr>\n",
       "    <tr>\n",
       "      <th>1</th>\n",
       "      <td>A102 (blocoAP)</td>\n",
       "      <td>[02/06/2022, 02/07/2022]</td>\n",
       "      <td>[02/06/2022, 06/07/2022]</td>\n",
       "      <td>[$ 1100,0 reais, $ 2600,0 reais]</td>\n",
       "    </tr>\n",
       "    <tr>\n",
       "      <th>2</th>\n",
       "      <td>B201 (blocoAP)</td>\n",
       "      <td>[03/06/2022, 03/07/2022]</td>\n",
       "      <td>[07/06/2022, 03/07/2022]</td>\n",
       "      <td>[$ 1200,0 reais, $ 2700,0 reais]</td>\n",
       "    </tr>\n",
       "    <tr>\n",
       "      <th>3</th>\n",
       "      <td>B202 (blocoAP)</td>\n",
       "      <td>[04/06/2022, 04/07/2022]</td>\n",
       "      <td>[07/06/2022, 05/07/2022]</td>\n",
       "      <td>[$ 1300,0 reais, $ 2800,0 reais]</td>\n",
       "    </tr>\n",
       "    <tr>\n",
       "      <th>4</th>\n",
       "      <td>C301 (blocoAP)</td>\n",
       "      <td>[05/06/2022, 05/07/2022]</td>\n",
       "      <td>[10/06/2022, 09/07/2022]</td>\n",
       "      <td>[$ 1400,0 reais, $ 2900,0 reais]</td>\n",
       "    </tr>\n",
       "    <tr>\n",
       "      <th>5</th>\n",
       "      <td>C302 (blocoAP)</td>\n",
       "      <td>[06/06/2022, 06/07/2022]</td>\n",
       "      <td>[08/06/2022, 12/07/2022]</td>\n",
       "      <td>[$ 1500,0 reais, $ 1200,0 reais]</td>\n",
       "    </tr>\n",
       "    <tr>\n",
       "      <th>6</th>\n",
       "      <td>D401 (blocoAP)</td>\n",
       "      <td>[07/06/2022, 07/07/2022]</td>\n",
       "      <td>[07/06/2022, 09/07/2022]</td>\n",
       "      <td>[$ 1600,0 reais, $ 1300,0 reais]</td>\n",
       "    </tr>\n",
       "    <tr>\n",
       "      <th>7</th>\n",
       "      <td>D402 (blocoAP)</td>\n",
       "      <td>[08/06/2022, 08/07/2022]</td>\n",
       "      <td>[10/06/2022, 14/07/2022]</td>\n",
       "      <td>[$ 1700,0 reais, $ 1400,0 reais]</td>\n",
       "    </tr>\n",
       "    <tr>\n",
       "      <th>8</th>\n",
       "      <td>E501 (blocoAP)</td>\n",
       "      <td>[09/06/2022, 09/07/2022]</td>\n",
       "      <td>[10/06/2022, 09/07/2022]</td>\n",
       "      <td>[$ 1800,0 reais, $ 1500,0 reais]</td>\n",
       "    </tr>\n",
       "    <tr>\n",
       "      <th>9</th>\n",
       "      <td>E502 (blocoAP)</td>\n",
       "      <td>[10/06/2022, 10/07/2022]</td>\n",
       "      <td>[16/06/2022, 12/07/2022]</td>\n",
       "      <td>[$ 1900,0 reais, $ 1600,0 reais]</td>\n",
       "    </tr>\n",
       "    <tr>\n",
       "      <th>10</th>\n",
       "      <td>F601 (blocoAP)</td>\n",
       "      <td>[11/06/2022, 11/07/2022]</td>\n",
       "      <td>[17/06/2022, 13/07/2022]</td>\n",
       "      <td>[$ 2000,0 reais, $ 1000,0 reais]</td>\n",
       "    </tr>\n",
       "    <tr>\n",
       "      <th>11</th>\n",
       "      <td>F602 (blocoAP)</td>\n",
       "      <td>[12/06/2022, 12/07/2022]</td>\n",
       "      <td>[15/06/2022, 12/07/2022]</td>\n",
       "      <td>[$ 2100,0 reais, $ 1100,0 reais]</td>\n",
       "    </tr>\n",
       "    <tr>\n",
       "      <th>12</th>\n",
       "      <td>G701 (blocoAP)</td>\n",
       "      <td>[13/06/2022, 13/07/2022]</td>\n",
       "      <td>[19/06/2022, 20/07/2022]</td>\n",
       "      <td>[$ 2200,0 reais, $ 1200,0 reais]</td>\n",
       "    </tr>\n",
       "    <tr>\n",
       "      <th>13</th>\n",
       "      <td>G702 (blocoAP)</td>\n",
       "      <td>[14/06/2022, 14/07/2022]</td>\n",
       "      <td>[15/06/2022, 17/07/2022]</td>\n",
       "      <td>[$ 2300,0 reais, $ 2100,0 reais]</td>\n",
       "    </tr>\n",
       "    <tr>\n",
       "      <th>14</th>\n",
       "      <td>H801 (blocoAP)</td>\n",
       "      <td>[15/06/2022, 15/07/2022]</td>\n",
       "      <td>[18/06/2022, 16/07/2022]</td>\n",
       "      <td>[$ 2400,0 reais, $ 2200,0 reais]</td>\n",
       "    </tr>\n",
       "  </tbody>\n",
       "</table>\n",
       "</div>"
      ],
      "text/plain": [
       "       apartamento datas_combinadas_pagamento        datas_de_pagamento  \\\n",
       "0   A101 (blocoAP)   [01/06/2022, 01/07/2022]  [05/06/2022, 03/07/2022]   \n",
       "1   A102 (blocoAP)   [02/06/2022, 02/07/2022]  [02/06/2022, 06/07/2022]   \n",
       "2   B201 (blocoAP)   [03/06/2022, 03/07/2022]  [07/06/2022, 03/07/2022]   \n",
       "3   B202 (blocoAP)   [04/06/2022, 04/07/2022]  [07/06/2022, 05/07/2022]   \n",
       "4   C301 (blocoAP)   [05/06/2022, 05/07/2022]  [10/06/2022, 09/07/2022]   \n",
       "5   C302 (blocoAP)   [06/06/2022, 06/07/2022]  [08/06/2022, 12/07/2022]   \n",
       "6   D401 (blocoAP)   [07/06/2022, 07/07/2022]  [07/06/2022, 09/07/2022]   \n",
       "7   D402 (blocoAP)   [08/06/2022, 08/07/2022]  [10/06/2022, 14/07/2022]   \n",
       "8   E501 (blocoAP)   [09/06/2022, 09/07/2022]  [10/06/2022, 09/07/2022]   \n",
       "9   E502 (blocoAP)   [10/06/2022, 10/07/2022]  [16/06/2022, 12/07/2022]   \n",
       "10  F601 (blocoAP)   [11/06/2022, 11/07/2022]  [17/06/2022, 13/07/2022]   \n",
       "11  F602 (blocoAP)   [12/06/2022, 12/07/2022]  [15/06/2022, 12/07/2022]   \n",
       "12  G701 (blocoAP)   [13/06/2022, 13/07/2022]  [19/06/2022, 20/07/2022]   \n",
       "13  G702 (blocoAP)   [14/06/2022, 14/07/2022]  [15/06/2022, 17/07/2022]   \n",
       "14  H801 (blocoAP)   [15/06/2022, 15/07/2022]  [18/06/2022, 16/07/2022]   \n",
       "\n",
       "                       valor_aluguel  \n",
       "0   [$ 1000,0 reais, $ 2500,0 reais]  \n",
       "1   [$ 1100,0 reais, $ 2600,0 reais]  \n",
       "2   [$ 1200,0 reais, $ 2700,0 reais]  \n",
       "3   [$ 1300,0 reais, $ 2800,0 reais]  \n",
       "4   [$ 1400,0 reais, $ 2900,0 reais]  \n",
       "5   [$ 1500,0 reais, $ 1200,0 reais]  \n",
       "6   [$ 1600,0 reais, $ 1300,0 reais]  \n",
       "7   [$ 1700,0 reais, $ 1400,0 reais]  \n",
       "8   [$ 1800,0 reais, $ 1500,0 reais]  \n",
       "9   [$ 1900,0 reais, $ 1600,0 reais]  \n",
       "10  [$ 2000,0 reais, $ 1000,0 reais]  \n",
       "11  [$ 2100,0 reais, $ 1100,0 reais]  \n",
       "12  [$ 2200,0 reais, $ 1200,0 reais]  \n",
       "13  [$ 2300,0 reais, $ 2100,0 reais]  \n",
       "14  [$ 2400,0 reais, $ 2200,0 reais]  "
      ]
     },
     "execution_count": 98,
     "metadata": {},
     "output_type": "execute_result"
    }
   ],
   "source": [
    "file2 = \"./resources/challengues/datos_locacao_imoveis.json\"\n",
    "# leer el archivo\n",
    "datos_inmobiliaria = pd.read_json(file2)\n",
    "# Normalizar los datos\n",
    "datos_inmobiliaria = pd.json_normalize(datos_inmobiliaria['dados_locacao'])\n",
    "datos_inmobiliaria"
   ]
  },
  {
   "cell_type": "markdown",
   "id": "43c8ee9c",
   "metadata": {},
   "source": [
    "1. Eliminar datos en listas dentro del DataFrame\n",
    "2. Verificar tipos de datos\n",
    "3. Identificar columnas numéricas\n",
    "4. Transformar la columna numérica a tipo numérico"
   ]
  },
  {
   "cell_type": "code",
   "execution_count": 99,
   "id": "4e94afed",
   "metadata": {},
   "outputs": [
    {
     "data": {
      "application/vnd.microsoft.datawrangler.viewer.v0+json": {
       "columns": [
        {
         "name": "index",
         "rawType": "int64",
         "type": "integer"
        },
        {
         "name": "apartamento",
         "rawType": "object",
         "type": "string"
        },
        {
         "name": "datas_combinadas_pagamento",
         "rawType": "object",
         "type": "string"
        },
        {
         "name": "datas_de_pagamento",
         "rawType": "object",
         "type": "string"
        },
        {
         "name": "valor_aluguel",
         "rawType": "object",
         "type": "string"
        }
       ],
       "ref": "09d906c1-ac71-48bf-ad95-101df89e44e4",
       "rows": [
        [
         "0",
         "A101 (blocoAP)",
         "01/06/2022",
         "05/06/2022",
         "$ 1000,0 reais"
        ],
        [
         "1",
         "A101 (blocoAP)",
         "01/07/2022",
         "03/07/2022",
         "$ 2500,0 reais"
        ],
        [
         "2",
         "A102 (blocoAP)",
         "02/06/2022",
         "02/06/2022",
         "$ 1100,0 reais"
        ],
        [
         "3",
         "A102 (blocoAP)",
         "02/07/2022",
         "06/07/2022",
         "$ 2600,0 reais"
        ],
        [
         "4",
         "B201 (blocoAP)",
         "03/06/2022",
         "07/06/2022",
         "$ 1200,0 reais"
        ],
        [
         "5",
         "B201 (blocoAP)",
         "03/07/2022",
         "03/07/2022",
         "$ 2700,0 reais"
        ],
        [
         "6",
         "B202 (blocoAP)",
         "04/06/2022",
         "07/06/2022",
         "$ 1300,0 reais"
        ],
        [
         "7",
         "B202 (blocoAP)",
         "04/07/2022",
         "05/07/2022",
         "$ 2800,0 reais"
        ],
        [
         "8",
         "C301 (blocoAP)",
         "05/06/2022",
         "10/06/2022",
         "$ 1400,0 reais"
        ],
        [
         "9",
         "C301 (blocoAP)",
         "05/07/2022",
         "09/07/2022",
         "$ 2900,0 reais"
        ],
        [
         "10",
         "C302 (blocoAP)",
         "06/06/2022",
         "08/06/2022",
         "$ 1500,0 reais"
        ],
        [
         "11",
         "C302 (blocoAP)",
         "06/07/2022",
         "12/07/2022",
         "$ 1200,0 reais"
        ],
        [
         "12",
         "D401 (blocoAP)",
         "07/06/2022",
         "07/06/2022",
         "$ 1600,0 reais"
        ],
        [
         "13",
         "D401 (blocoAP)",
         "07/07/2022",
         "09/07/2022",
         "$ 1300,0 reais"
        ],
        [
         "14",
         "D402 (blocoAP)",
         "08/06/2022",
         "10/06/2022",
         "$ 1700,0 reais"
        ],
        [
         "15",
         "D402 (blocoAP)",
         "08/07/2022",
         "14/07/2022",
         "$ 1400,0 reais"
        ],
        [
         "16",
         "E501 (blocoAP)",
         "09/06/2022",
         "10/06/2022",
         "$ 1800,0 reais"
        ],
        [
         "17",
         "E501 (blocoAP)",
         "09/07/2022",
         "09/07/2022",
         "$ 1500,0 reais"
        ],
        [
         "18",
         "E502 (blocoAP)",
         "10/06/2022",
         "16/06/2022",
         "$ 1900,0 reais"
        ],
        [
         "19",
         "E502 (blocoAP)",
         "10/07/2022",
         "12/07/2022",
         "$ 1600,0 reais"
        ],
        [
         "20",
         "F601 (blocoAP)",
         "11/06/2022",
         "17/06/2022",
         "$ 2000,0 reais"
        ],
        [
         "21",
         "F601 (blocoAP)",
         "11/07/2022",
         "13/07/2022",
         "$ 1000,0 reais"
        ],
        [
         "22",
         "F602 (blocoAP)",
         "12/06/2022",
         "15/06/2022",
         "$ 2100,0 reais"
        ],
        [
         "23",
         "F602 (blocoAP)",
         "12/07/2022",
         "12/07/2022",
         "$ 1100,0 reais"
        ],
        [
         "24",
         "G701 (blocoAP)",
         "13/06/2022",
         "19/06/2022",
         "$ 2200,0 reais"
        ],
        [
         "25",
         "G701 (blocoAP)",
         "13/07/2022",
         "20/07/2022",
         "$ 1200,0 reais"
        ],
        [
         "26",
         "G702 (blocoAP)",
         "14/06/2022",
         "15/06/2022",
         "$ 2300,0 reais"
        ],
        [
         "27",
         "G702 (blocoAP)",
         "14/07/2022",
         "17/07/2022",
         "$ 2100,0 reais"
        ],
        [
         "28",
         "H801 (blocoAP)",
         "15/06/2022",
         "18/06/2022",
         "$ 2400,0 reais"
        ],
        [
         "29",
         "H801 (blocoAP)",
         "15/07/2022",
         "16/07/2022",
         "$ 2200,0 reais"
        ]
       ],
       "shape": {
        "columns": 4,
        "rows": 30
       }
      },
      "text/html": [
       "<div>\n",
       "<style scoped>\n",
       "    .dataframe tbody tr th:only-of-type {\n",
       "        vertical-align: middle;\n",
       "    }\n",
       "\n",
       "    .dataframe tbody tr th {\n",
       "        vertical-align: top;\n",
       "    }\n",
       "\n",
       "    .dataframe thead th {\n",
       "        text-align: right;\n",
       "    }\n",
       "</style>\n",
       "<table border=\"1\" class=\"dataframe\">\n",
       "  <thead>\n",
       "    <tr style=\"text-align: right;\">\n",
       "      <th></th>\n",
       "      <th>apartamento</th>\n",
       "      <th>datas_combinadas_pagamento</th>\n",
       "      <th>datas_de_pagamento</th>\n",
       "      <th>valor_aluguel</th>\n",
       "    </tr>\n",
       "  </thead>\n",
       "  <tbody>\n",
       "    <tr>\n",
       "      <th>0</th>\n",
       "      <td>A101 (blocoAP)</td>\n",
       "      <td>01/06/2022</td>\n",
       "      <td>05/06/2022</td>\n",
       "      <td>$ 1000,0 reais</td>\n",
       "    </tr>\n",
       "    <tr>\n",
       "      <th>1</th>\n",
       "      <td>A101 (blocoAP)</td>\n",
       "      <td>01/07/2022</td>\n",
       "      <td>03/07/2022</td>\n",
       "      <td>$ 2500,0 reais</td>\n",
       "    </tr>\n",
       "    <tr>\n",
       "      <th>2</th>\n",
       "      <td>A102 (blocoAP)</td>\n",
       "      <td>02/06/2022</td>\n",
       "      <td>02/06/2022</td>\n",
       "      <td>$ 1100,0 reais</td>\n",
       "    </tr>\n",
       "    <tr>\n",
       "      <th>3</th>\n",
       "      <td>A102 (blocoAP)</td>\n",
       "      <td>02/07/2022</td>\n",
       "      <td>06/07/2022</td>\n",
       "      <td>$ 2600,0 reais</td>\n",
       "    </tr>\n",
       "    <tr>\n",
       "      <th>4</th>\n",
       "      <td>B201 (blocoAP)</td>\n",
       "      <td>03/06/2022</td>\n",
       "      <td>07/06/2022</td>\n",
       "      <td>$ 1200,0 reais</td>\n",
       "    </tr>\n",
       "    <tr>\n",
       "      <th>5</th>\n",
       "      <td>B201 (blocoAP)</td>\n",
       "      <td>03/07/2022</td>\n",
       "      <td>03/07/2022</td>\n",
       "      <td>$ 2700,0 reais</td>\n",
       "    </tr>\n",
       "    <tr>\n",
       "      <th>6</th>\n",
       "      <td>B202 (blocoAP)</td>\n",
       "      <td>04/06/2022</td>\n",
       "      <td>07/06/2022</td>\n",
       "      <td>$ 1300,0 reais</td>\n",
       "    </tr>\n",
       "    <tr>\n",
       "      <th>7</th>\n",
       "      <td>B202 (blocoAP)</td>\n",
       "      <td>04/07/2022</td>\n",
       "      <td>05/07/2022</td>\n",
       "      <td>$ 2800,0 reais</td>\n",
       "    </tr>\n",
       "    <tr>\n",
       "      <th>8</th>\n",
       "      <td>C301 (blocoAP)</td>\n",
       "      <td>05/06/2022</td>\n",
       "      <td>10/06/2022</td>\n",
       "      <td>$ 1400,0 reais</td>\n",
       "    </tr>\n",
       "    <tr>\n",
       "      <th>9</th>\n",
       "      <td>C301 (blocoAP)</td>\n",
       "      <td>05/07/2022</td>\n",
       "      <td>09/07/2022</td>\n",
       "      <td>$ 2900,0 reais</td>\n",
       "    </tr>\n",
       "    <tr>\n",
       "      <th>10</th>\n",
       "      <td>C302 (blocoAP)</td>\n",
       "      <td>06/06/2022</td>\n",
       "      <td>08/06/2022</td>\n",
       "      <td>$ 1500,0 reais</td>\n",
       "    </tr>\n",
       "    <tr>\n",
       "      <th>11</th>\n",
       "      <td>C302 (blocoAP)</td>\n",
       "      <td>06/07/2022</td>\n",
       "      <td>12/07/2022</td>\n",
       "      <td>$ 1200,0 reais</td>\n",
       "    </tr>\n",
       "    <tr>\n",
       "      <th>12</th>\n",
       "      <td>D401 (blocoAP)</td>\n",
       "      <td>07/06/2022</td>\n",
       "      <td>07/06/2022</td>\n",
       "      <td>$ 1600,0 reais</td>\n",
       "    </tr>\n",
       "    <tr>\n",
       "      <th>13</th>\n",
       "      <td>D401 (blocoAP)</td>\n",
       "      <td>07/07/2022</td>\n",
       "      <td>09/07/2022</td>\n",
       "      <td>$ 1300,0 reais</td>\n",
       "    </tr>\n",
       "    <tr>\n",
       "      <th>14</th>\n",
       "      <td>D402 (blocoAP)</td>\n",
       "      <td>08/06/2022</td>\n",
       "      <td>10/06/2022</td>\n",
       "      <td>$ 1700,0 reais</td>\n",
       "    </tr>\n",
       "    <tr>\n",
       "      <th>15</th>\n",
       "      <td>D402 (blocoAP)</td>\n",
       "      <td>08/07/2022</td>\n",
       "      <td>14/07/2022</td>\n",
       "      <td>$ 1400,0 reais</td>\n",
       "    </tr>\n",
       "    <tr>\n",
       "      <th>16</th>\n",
       "      <td>E501 (blocoAP)</td>\n",
       "      <td>09/06/2022</td>\n",
       "      <td>10/06/2022</td>\n",
       "      <td>$ 1800,0 reais</td>\n",
       "    </tr>\n",
       "    <tr>\n",
       "      <th>17</th>\n",
       "      <td>E501 (blocoAP)</td>\n",
       "      <td>09/07/2022</td>\n",
       "      <td>09/07/2022</td>\n",
       "      <td>$ 1500,0 reais</td>\n",
       "    </tr>\n",
       "    <tr>\n",
       "      <th>18</th>\n",
       "      <td>E502 (blocoAP)</td>\n",
       "      <td>10/06/2022</td>\n",
       "      <td>16/06/2022</td>\n",
       "      <td>$ 1900,0 reais</td>\n",
       "    </tr>\n",
       "    <tr>\n",
       "      <th>19</th>\n",
       "      <td>E502 (blocoAP)</td>\n",
       "      <td>10/07/2022</td>\n",
       "      <td>12/07/2022</td>\n",
       "      <td>$ 1600,0 reais</td>\n",
       "    </tr>\n",
       "    <tr>\n",
       "      <th>20</th>\n",
       "      <td>F601 (blocoAP)</td>\n",
       "      <td>11/06/2022</td>\n",
       "      <td>17/06/2022</td>\n",
       "      <td>$ 2000,0 reais</td>\n",
       "    </tr>\n",
       "    <tr>\n",
       "      <th>21</th>\n",
       "      <td>F601 (blocoAP)</td>\n",
       "      <td>11/07/2022</td>\n",
       "      <td>13/07/2022</td>\n",
       "      <td>$ 1000,0 reais</td>\n",
       "    </tr>\n",
       "    <tr>\n",
       "      <th>22</th>\n",
       "      <td>F602 (blocoAP)</td>\n",
       "      <td>12/06/2022</td>\n",
       "      <td>15/06/2022</td>\n",
       "      <td>$ 2100,0 reais</td>\n",
       "    </tr>\n",
       "    <tr>\n",
       "      <th>23</th>\n",
       "      <td>F602 (blocoAP)</td>\n",
       "      <td>12/07/2022</td>\n",
       "      <td>12/07/2022</td>\n",
       "      <td>$ 1100,0 reais</td>\n",
       "    </tr>\n",
       "    <tr>\n",
       "      <th>24</th>\n",
       "      <td>G701 (blocoAP)</td>\n",
       "      <td>13/06/2022</td>\n",
       "      <td>19/06/2022</td>\n",
       "      <td>$ 2200,0 reais</td>\n",
       "    </tr>\n",
       "    <tr>\n",
       "      <th>25</th>\n",
       "      <td>G701 (blocoAP)</td>\n",
       "      <td>13/07/2022</td>\n",
       "      <td>20/07/2022</td>\n",
       "      <td>$ 1200,0 reais</td>\n",
       "    </tr>\n",
       "    <tr>\n",
       "      <th>26</th>\n",
       "      <td>G702 (blocoAP)</td>\n",
       "      <td>14/06/2022</td>\n",
       "      <td>15/06/2022</td>\n",
       "      <td>$ 2300,0 reais</td>\n",
       "    </tr>\n",
       "    <tr>\n",
       "      <th>27</th>\n",
       "      <td>G702 (blocoAP)</td>\n",
       "      <td>14/07/2022</td>\n",
       "      <td>17/07/2022</td>\n",
       "      <td>$ 2100,0 reais</td>\n",
       "    </tr>\n",
       "    <tr>\n",
       "      <th>28</th>\n",
       "      <td>H801 (blocoAP)</td>\n",
       "      <td>15/06/2022</td>\n",
       "      <td>18/06/2022</td>\n",
       "      <td>$ 2400,0 reais</td>\n",
       "    </tr>\n",
       "    <tr>\n",
       "      <th>29</th>\n",
       "      <td>H801 (blocoAP)</td>\n",
       "      <td>15/07/2022</td>\n",
       "      <td>16/07/2022</td>\n",
       "      <td>$ 2200,0 reais</td>\n",
       "    </tr>\n",
       "  </tbody>\n",
       "</table>\n",
       "</div>"
      ],
      "text/plain": [
       "       apartamento datas_combinadas_pagamento datas_de_pagamento  \\\n",
       "0   A101 (blocoAP)                 01/06/2022         05/06/2022   \n",
       "1   A101 (blocoAP)                 01/07/2022         03/07/2022   \n",
       "2   A102 (blocoAP)                 02/06/2022         02/06/2022   \n",
       "3   A102 (blocoAP)                 02/07/2022         06/07/2022   \n",
       "4   B201 (blocoAP)                 03/06/2022         07/06/2022   \n",
       "5   B201 (blocoAP)                 03/07/2022         03/07/2022   \n",
       "6   B202 (blocoAP)                 04/06/2022         07/06/2022   \n",
       "7   B202 (blocoAP)                 04/07/2022         05/07/2022   \n",
       "8   C301 (blocoAP)                 05/06/2022         10/06/2022   \n",
       "9   C301 (blocoAP)                 05/07/2022         09/07/2022   \n",
       "10  C302 (blocoAP)                 06/06/2022         08/06/2022   \n",
       "11  C302 (blocoAP)                 06/07/2022         12/07/2022   \n",
       "12  D401 (blocoAP)                 07/06/2022         07/06/2022   \n",
       "13  D401 (blocoAP)                 07/07/2022         09/07/2022   \n",
       "14  D402 (blocoAP)                 08/06/2022         10/06/2022   \n",
       "15  D402 (blocoAP)                 08/07/2022         14/07/2022   \n",
       "16  E501 (blocoAP)                 09/06/2022         10/06/2022   \n",
       "17  E501 (blocoAP)                 09/07/2022         09/07/2022   \n",
       "18  E502 (blocoAP)                 10/06/2022         16/06/2022   \n",
       "19  E502 (blocoAP)                 10/07/2022         12/07/2022   \n",
       "20  F601 (blocoAP)                 11/06/2022         17/06/2022   \n",
       "21  F601 (blocoAP)                 11/07/2022         13/07/2022   \n",
       "22  F602 (blocoAP)                 12/06/2022         15/06/2022   \n",
       "23  F602 (blocoAP)                 12/07/2022         12/07/2022   \n",
       "24  G701 (blocoAP)                 13/06/2022         19/06/2022   \n",
       "25  G701 (blocoAP)                 13/07/2022         20/07/2022   \n",
       "26  G702 (blocoAP)                 14/06/2022         15/06/2022   \n",
       "27  G702 (blocoAP)                 14/07/2022         17/07/2022   \n",
       "28  H801 (blocoAP)                 15/06/2022         18/06/2022   \n",
       "29  H801 (blocoAP)                 15/07/2022         16/07/2022   \n",
       "\n",
       "     valor_aluguel  \n",
       "0   $ 1000,0 reais  \n",
       "1   $ 2500,0 reais  \n",
       "2   $ 1100,0 reais  \n",
       "3   $ 2600,0 reais  \n",
       "4   $ 1200,0 reais  \n",
       "5   $ 2700,0 reais  \n",
       "6   $ 1300,0 reais  \n",
       "7   $ 2800,0 reais  \n",
       "8   $ 1400,0 reais  \n",
       "9   $ 2900,0 reais  \n",
       "10  $ 1500,0 reais  \n",
       "11  $ 1200,0 reais  \n",
       "12  $ 1600,0 reais  \n",
       "13  $ 1300,0 reais  \n",
       "14  $ 1700,0 reais  \n",
       "15  $ 1400,0 reais  \n",
       "16  $ 1800,0 reais  \n",
       "17  $ 1500,0 reais  \n",
       "18  $ 1900,0 reais  \n",
       "19  $ 1600,0 reais  \n",
       "20  $ 2000,0 reais  \n",
       "21  $ 1000,0 reais  \n",
       "22  $ 2100,0 reais  \n",
       "23  $ 1100,0 reais  \n",
       "24  $ 2200,0 reais  \n",
       "25  $ 1200,0 reais  \n",
       "26  $ 2300,0 reais  \n",
       "27  $ 2100,0 reais  \n",
       "28  $ 2400,0 reais  \n",
       "29  $ 2200,0 reais  "
      ]
     },
     "execution_count": 99,
     "metadata": {},
     "output_type": "execute_result"
    }
   ],
   "source": [
    "# utilizar el método explode para eliminar los datos que están en listas\n",
    "datos_inmobiliaria = datos_inmobiliaria.explode(['datas_combinadas_pagamento', 'datas_de_pagamento', 'valor_aluguel'])\n",
    "datos_inmobiliaria\n",
    "datos_inmobiliaria.reset_index(inplace=True, drop=True)\n",
    "datos_inmobiliaria"
   ]
  },
  {
   "cell_type": "code",
   "execution_count": 100,
   "id": "d7e65ff7",
   "metadata": {},
   "outputs": [],
   "source": [
    "import numpy as np\n",
    "\n",
    "datos_inmobiliaria['valor_aluguel']=datos_inmobiliaria['valor_aluguel'].apply(lambda x: x.replace('$','').replace('reais','').replace(',','.').strip()).astype(np.float32)"
   ]
  },
  {
   "cell_type": "code",
   "execution_count": 101,
   "id": "e14f8a20",
   "metadata": {},
   "outputs": [
    {
     "name": "stdout",
     "output_type": "stream",
     "text": [
      "<class 'pandas.core.frame.DataFrame'>\n",
      "RangeIndex: 30 entries, 0 to 29\n",
      "Data columns (total 4 columns):\n",
      " #   Column                      Non-Null Count  Dtype  \n",
      "---  ------                      --------------  -----  \n",
      " 0   apartamento                 30 non-null     object \n",
      " 1   datas_combinadas_pagamento  30 non-null     object \n",
      " 2   datas_de_pagamento          30 non-null     object \n",
      " 3   valor_aluguel               30 non-null     float32\n",
      "dtypes: float32(1), object(3)\n",
      "memory usage: 972.0+ bytes\n"
     ]
    }
   ],
   "source": [
    "datos_inmobiliaria.info()"
   ]
  },
  {
   "cell_type": "code",
   "execution_count": 102,
   "id": "7ed4e2ba",
   "metadata": {},
   "outputs": [],
   "source": [
    "# '''\n",
    "# Proyecto Desafío 2: Administración de Condominios\n",
    "# En el paso 2, trabajamos en transformar los datos numéricos. Ahora podemos trabajar con valores textuales.\n",
    "\n",
    "# Buscando explicar la organización de la identificación de los apartamentos, durante la creación del conjunto de datos se añadió el texto (blocoAP). Este texto informa que los nombres de los apartamentos están organizados con la letra mayúscula seguida del número del apartamento. Sin embargo, esto no aporta ninguna información a nuestros datos, por lo que resulta interesante eliminar este texto del conjunto de datos.\n",
    "\n",
    "# Con esto, manipule los textos de la columna apartamento para eliminar el texto (blocoAP) del DataFrame.\n",
    "# '''\n",
    "datos_inmobiliaria['apartamento'] = datos_inmobiliaria['apartamento'].str.replace('(blocoAP)','')\n"
   ]
  },
  {
   "cell_type": "code",
   "execution_count": 103,
   "id": "dc7f72f9",
   "metadata": {},
   "outputs": [
    {
     "data": {
      "application/vnd.microsoft.datawrangler.viewer.v0+json": {
       "columns": [
        {
         "name": "index",
         "rawType": "int64",
         "type": "integer"
        },
        {
         "name": "apartamento",
         "rawType": "object",
         "type": "string"
        }
       ],
       "ref": "3bc6b8f5-29a5-4e40-b59f-2e91d93bcbea",
       "rows": [
        [
         "0",
         "A101"
        ],
        [
         "1",
         "A101"
        ],
        [
         "2",
         "A102"
        ],
        [
         "3",
         "A102"
        ],
        [
         "4",
         "B201"
        ],
        [
         "5",
         "B201"
        ],
        [
         "6",
         "B202"
        ],
        [
         "7",
         "B202"
        ],
        [
         "8",
         "C301"
        ],
        [
         "9",
         "C301"
        ],
        [
         "10",
         "C302"
        ],
        [
         "11",
         "C302"
        ],
        [
         "12",
         "D401"
        ],
        [
         "13",
         "D401"
        ],
        [
         "14",
         "D402"
        ],
        [
         "15",
         "D402"
        ],
        [
         "16",
         "E501"
        ],
        [
         "17",
         "E501"
        ],
        [
         "18",
         "E502"
        ],
        [
         "19",
         "E502"
        ],
        [
         "20",
         "F601"
        ],
        [
         "21",
         "F601"
        ],
        [
         "22",
         "F602"
        ],
        [
         "23",
         "F602"
        ],
        [
         "24",
         "G701"
        ],
        [
         "25",
         "G701"
        ],
        [
         "26",
         "G702"
        ],
        [
         "27",
         "G702"
        ],
        [
         "28",
         "H801"
        ],
        [
         "29",
         "H801"
        ]
       ],
       "shape": {
        "columns": 1,
        "rows": 30
       }
      },
      "text/plain": [
       "0     A101\n",
       "1     A101\n",
       "2     A102\n",
       "3     A102\n",
       "4     B201\n",
       "5     B201\n",
       "6     B202\n",
       "7     B202\n",
       "8     C301\n",
       "9     C301\n",
       "10    C302\n",
       "11    C302\n",
       "12    D401\n",
       "13    D401\n",
       "14    D402\n",
       "15    D402\n",
       "16    E501\n",
       "17    E501\n",
       "18    E502\n",
       "19    E502\n",
       "20    F601\n",
       "21    F601\n",
       "22    F602\n",
       "23    F602\n",
       "24    G701\n",
       "25    G701\n",
       "26    G702\n",
       "27    G702\n",
       "28    H801\n",
       "29    H801\n",
       "Name: apartamento, dtype: object"
      ]
     },
     "execution_count": 103,
     "metadata": {},
     "output_type": "execute_result"
    }
   ],
   "source": [
    "datos_inmobiliaria['apartamento'].str.strip()"
   ]
  },
  {
   "cell_type": "code",
   "execution_count": 104,
   "id": "9d4aefb0",
   "metadata": {},
   "outputs": [],
   "source": [
    "# Administrar condominios es una tarea que requiere mucha atención y organización. Entre las diversas responsabilidades de gestión se encuentra el cobro del alquiler a los inquilinos. Para garantizar la buena salud financiera de la empresa, es fundamental que estos pagos se realicen de forma regular y puntual. Sin embargo, sabemos que esto no siempre sucede. Teniendo esto en cuenta, propongo un desafío de procesamiento de datos con el objetivo de analizar el retraso en el pago de la renta en el condominio ficticio de algunos residentes."
   ]
  },
  {
   "cell_type": "code",
   "execution_count": 105,
   "id": "98632518",
   "metadata": {},
   "outputs": [],
   "source": [
    "datos_inmobiliaria['datas_combinadas_pagamento'] = pd.to_datetime(datos_inmobiliaria['datas_combinadas_pagamento'], format=\"%d/%m/%Y\")"
   ]
  },
  {
   "cell_type": "code",
   "execution_count": 106,
   "id": "b8b10896",
   "metadata": {},
   "outputs": [],
   "source": [
    "datos_inmobiliaria['datas_de_pagamento'] = pd.to_datetime(datos_inmobiliaria['datas_de_pagamento'], format=\"%d/%m/%Y\")"
   ]
  },
  {
   "cell_type": "code",
   "execution_count": 107,
   "id": "b631e29b",
   "metadata": {},
   "outputs": [
    {
     "name": "stdout",
     "output_type": "stream",
     "text": [
      "<class 'pandas.core.frame.DataFrame'>\n",
      "RangeIndex: 30 entries, 0 to 29\n",
      "Data columns (total 4 columns):\n",
      " #   Column                      Non-Null Count  Dtype         \n",
      "---  ------                      --------------  -----         \n",
      " 0   apartamento                 30 non-null     object        \n",
      " 1   datas_combinadas_pagamento  30 non-null     datetime64[ns]\n",
      " 2   datas_de_pagamento          30 non-null     datetime64[ns]\n",
      " 3   valor_aluguel               30 non-null     float32       \n",
      "dtypes: datetime64[ns](2), float32(1), object(1)\n",
      "memory usage: 972.0+ bytes\n"
     ]
    }
   ],
   "source": [
    "datos_inmobiliaria.info()"
   ]
  },
  {
   "cell_type": "code",
   "execution_count": 108,
   "id": "95e579ed",
   "metadata": {},
   "outputs": [],
   "source": [
    "# hacemos la resta de las fechas y indicamos que el tipo de datetime para obtener los Dias de atraso\n",
    "datos_inmobiliaria['atraso'] = (datos_inmobiliaria['datas_de_pagamento'] - datos_inmobiliaria['datas_combinadas_pagamento']).dt.days"
   ]
  },
  {
   "cell_type": "code",
   "execution_count": 109,
   "id": "7ba68e39",
   "metadata": {},
   "outputs": [
    {
     "data": {
      "application/vnd.microsoft.datawrangler.viewer.v0+json": {
       "columns": [
        {
         "name": "index",
         "rawType": "int64",
         "type": "integer"
        },
        {
         "name": "apartamento",
         "rawType": "object",
         "type": "string"
        },
        {
         "name": "datas_combinadas_pagamento",
         "rawType": "datetime64[ns]",
         "type": "datetime"
        },
        {
         "name": "datas_de_pagamento",
         "rawType": "datetime64[ns]",
         "type": "datetime"
        },
        {
         "name": "valor_aluguel",
         "rawType": "float32",
         "type": "float"
        },
        {
         "name": "atraso",
         "rawType": "int64",
         "type": "integer"
        }
       ],
       "ref": "c7306d8b-9afa-498f-8a03-fb078178e76e",
       "rows": [
        [
         "0",
         "A101 ",
         "2022-06-01 00:00:00",
         "2022-06-05 00:00:00",
         "1000.0",
         "4"
        ],
        [
         "1",
         "A101 ",
         "2022-07-01 00:00:00",
         "2022-07-03 00:00:00",
         "2500.0",
         "2"
        ],
        [
         "2",
         "A102 ",
         "2022-06-02 00:00:00",
         "2022-06-02 00:00:00",
         "1100.0",
         "0"
        ],
        [
         "3",
         "A102 ",
         "2022-07-02 00:00:00",
         "2022-07-06 00:00:00",
         "2600.0",
         "4"
        ],
        [
         "4",
         "B201 ",
         "2022-06-03 00:00:00",
         "2022-06-07 00:00:00",
         "1200.0",
         "4"
        ],
        [
         "5",
         "B201 ",
         "2022-07-03 00:00:00",
         "2022-07-03 00:00:00",
         "2700.0",
         "0"
        ],
        [
         "6",
         "B202 ",
         "2022-06-04 00:00:00",
         "2022-06-07 00:00:00",
         "1300.0",
         "3"
        ],
        [
         "7",
         "B202 ",
         "2022-07-04 00:00:00",
         "2022-07-05 00:00:00",
         "2800.0",
         "1"
        ],
        [
         "8",
         "C301 ",
         "2022-06-05 00:00:00",
         "2022-06-10 00:00:00",
         "1400.0",
         "5"
        ],
        [
         "9",
         "C301 ",
         "2022-07-05 00:00:00",
         "2022-07-09 00:00:00",
         "2900.0",
         "4"
        ],
        [
         "10",
         "C302 ",
         "2022-06-06 00:00:00",
         "2022-06-08 00:00:00",
         "1500.0",
         "2"
        ],
        [
         "11",
         "C302 ",
         "2022-07-06 00:00:00",
         "2022-07-12 00:00:00",
         "1200.0",
         "6"
        ],
        [
         "12",
         "D401 ",
         "2022-06-07 00:00:00",
         "2022-06-07 00:00:00",
         "1600.0",
         "0"
        ],
        [
         "13",
         "D401 ",
         "2022-07-07 00:00:00",
         "2022-07-09 00:00:00",
         "1300.0",
         "2"
        ],
        [
         "14",
         "D402 ",
         "2022-06-08 00:00:00",
         "2022-06-10 00:00:00",
         "1700.0",
         "2"
        ],
        [
         "15",
         "D402 ",
         "2022-07-08 00:00:00",
         "2022-07-14 00:00:00",
         "1400.0",
         "6"
        ],
        [
         "16",
         "E501 ",
         "2022-06-09 00:00:00",
         "2022-06-10 00:00:00",
         "1800.0",
         "1"
        ],
        [
         "17",
         "E501 ",
         "2022-07-09 00:00:00",
         "2022-07-09 00:00:00",
         "1500.0",
         "0"
        ],
        [
         "18",
         "E502 ",
         "2022-06-10 00:00:00",
         "2022-06-16 00:00:00",
         "1900.0",
         "6"
        ],
        [
         "19",
         "E502 ",
         "2022-07-10 00:00:00",
         "2022-07-12 00:00:00",
         "1600.0",
         "2"
        ],
        [
         "20",
         "F601 ",
         "2022-06-11 00:00:00",
         "2022-06-17 00:00:00",
         "2000.0",
         "6"
        ],
        [
         "21",
         "F601 ",
         "2022-07-11 00:00:00",
         "2022-07-13 00:00:00",
         "1000.0",
         "2"
        ],
        [
         "22",
         "F602 ",
         "2022-06-12 00:00:00",
         "2022-06-15 00:00:00",
         "2100.0",
         "3"
        ],
        [
         "23",
         "F602 ",
         "2022-07-12 00:00:00",
         "2022-07-12 00:00:00",
         "1100.0",
         "0"
        ],
        [
         "24",
         "G701 ",
         "2022-06-13 00:00:00",
         "2022-06-19 00:00:00",
         "2200.0",
         "6"
        ],
        [
         "25",
         "G701 ",
         "2022-07-13 00:00:00",
         "2022-07-20 00:00:00",
         "1200.0",
         "7"
        ],
        [
         "26",
         "G702 ",
         "2022-06-14 00:00:00",
         "2022-06-15 00:00:00",
         "2300.0",
         "1"
        ],
        [
         "27",
         "G702 ",
         "2022-07-14 00:00:00",
         "2022-07-17 00:00:00",
         "2100.0",
         "3"
        ],
        [
         "28",
         "H801 ",
         "2022-06-15 00:00:00",
         "2022-06-18 00:00:00",
         "2400.0",
         "3"
        ],
        [
         "29",
         "H801 ",
         "2022-07-15 00:00:00",
         "2022-07-16 00:00:00",
         "2200.0",
         "1"
        ]
       ],
       "shape": {
        "columns": 5,
        "rows": 30
       }
      },
      "text/html": [
       "<div>\n",
       "<style scoped>\n",
       "    .dataframe tbody tr th:only-of-type {\n",
       "        vertical-align: middle;\n",
       "    }\n",
       "\n",
       "    .dataframe tbody tr th {\n",
       "        vertical-align: top;\n",
       "    }\n",
       "\n",
       "    .dataframe thead th {\n",
       "        text-align: right;\n",
       "    }\n",
       "</style>\n",
       "<table border=\"1\" class=\"dataframe\">\n",
       "  <thead>\n",
       "    <tr style=\"text-align: right;\">\n",
       "      <th></th>\n",
       "      <th>apartamento</th>\n",
       "      <th>datas_combinadas_pagamento</th>\n",
       "      <th>datas_de_pagamento</th>\n",
       "      <th>valor_aluguel</th>\n",
       "      <th>atraso</th>\n",
       "    </tr>\n",
       "  </thead>\n",
       "  <tbody>\n",
       "    <tr>\n",
       "      <th>0</th>\n",
       "      <td>A101</td>\n",
       "      <td>2022-06-01</td>\n",
       "      <td>2022-06-05</td>\n",
       "      <td>1000.0</td>\n",
       "      <td>4</td>\n",
       "    </tr>\n",
       "    <tr>\n",
       "      <th>1</th>\n",
       "      <td>A101</td>\n",
       "      <td>2022-07-01</td>\n",
       "      <td>2022-07-03</td>\n",
       "      <td>2500.0</td>\n",
       "      <td>2</td>\n",
       "    </tr>\n",
       "    <tr>\n",
       "      <th>2</th>\n",
       "      <td>A102</td>\n",
       "      <td>2022-06-02</td>\n",
       "      <td>2022-06-02</td>\n",
       "      <td>1100.0</td>\n",
       "      <td>0</td>\n",
       "    </tr>\n",
       "    <tr>\n",
       "      <th>3</th>\n",
       "      <td>A102</td>\n",
       "      <td>2022-07-02</td>\n",
       "      <td>2022-07-06</td>\n",
       "      <td>2600.0</td>\n",
       "      <td>4</td>\n",
       "    </tr>\n",
       "    <tr>\n",
       "      <th>4</th>\n",
       "      <td>B201</td>\n",
       "      <td>2022-06-03</td>\n",
       "      <td>2022-06-07</td>\n",
       "      <td>1200.0</td>\n",
       "      <td>4</td>\n",
       "    </tr>\n",
       "    <tr>\n",
       "      <th>5</th>\n",
       "      <td>B201</td>\n",
       "      <td>2022-07-03</td>\n",
       "      <td>2022-07-03</td>\n",
       "      <td>2700.0</td>\n",
       "      <td>0</td>\n",
       "    </tr>\n",
       "    <tr>\n",
       "      <th>6</th>\n",
       "      <td>B202</td>\n",
       "      <td>2022-06-04</td>\n",
       "      <td>2022-06-07</td>\n",
       "      <td>1300.0</td>\n",
       "      <td>3</td>\n",
       "    </tr>\n",
       "    <tr>\n",
       "      <th>7</th>\n",
       "      <td>B202</td>\n",
       "      <td>2022-07-04</td>\n",
       "      <td>2022-07-05</td>\n",
       "      <td>2800.0</td>\n",
       "      <td>1</td>\n",
       "    </tr>\n",
       "    <tr>\n",
       "      <th>8</th>\n",
       "      <td>C301</td>\n",
       "      <td>2022-06-05</td>\n",
       "      <td>2022-06-10</td>\n",
       "      <td>1400.0</td>\n",
       "      <td>5</td>\n",
       "    </tr>\n",
       "    <tr>\n",
       "      <th>9</th>\n",
       "      <td>C301</td>\n",
       "      <td>2022-07-05</td>\n",
       "      <td>2022-07-09</td>\n",
       "      <td>2900.0</td>\n",
       "      <td>4</td>\n",
       "    </tr>\n",
       "    <tr>\n",
       "      <th>10</th>\n",
       "      <td>C302</td>\n",
       "      <td>2022-06-06</td>\n",
       "      <td>2022-06-08</td>\n",
       "      <td>1500.0</td>\n",
       "      <td>2</td>\n",
       "    </tr>\n",
       "    <tr>\n",
       "      <th>11</th>\n",
       "      <td>C302</td>\n",
       "      <td>2022-07-06</td>\n",
       "      <td>2022-07-12</td>\n",
       "      <td>1200.0</td>\n",
       "      <td>6</td>\n",
       "    </tr>\n",
       "    <tr>\n",
       "      <th>12</th>\n",
       "      <td>D401</td>\n",
       "      <td>2022-06-07</td>\n",
       "      <td>2022-06-07</td>\n",
       "      <td>1600.0</td>\n",
       "      <td>0</td>\n",
       "    </tr>\n",
       "    <tr>\n",
       "      <th>13</th>\n",
       "      <td>D401</td>\n",
       "      <td>2022-07-07</td>\n",
       "      <td>2022-07-09</td>\n",
       "      <td>1300.0</td>\n",
       "      <td>2</td>\n",
       "    </tr>\n",
       "    <tr>\n",
       "      <th>14</th>\n",
       "      <td>D402</td>\n",
       "      <td>2022-06-08</td>\n",
       "      <td>2022-06-10</td>\n",
       "      <td>1700.0</td>\n",
       "      <td>2</td>\n",
       "    </tr>\n",
       "    <tr>\n",
       "      <th>15</th>\n",
       "      <td>D402</td>\n",
       "      <td>2022-07-08</td>\n",
       "      <td>2022-07-14</td>\n",
       "      <td>1400.0</td>\n",
       "      <td>6</td>\n",
       "    </tr>\n",
       "    <tr>\n",
       "      <th>16</th>\n",
       "      <td>E501</td>\n",
       "      <td>2022-06-09</td>\n",
       "      <td>2022-06-10</td>\n",
       "      <td>1800.0</td>\n",
       "      <td>1</td>\n",
       "    </tr>\n",
       "    <tr>\n",
       "      <th>17</th>\n",
       "      <td>E501</td>\n",
       "      <td>2022-07-09</td>\n",
       "      <td>2022-07-09</td>\n",
       "      <td>1500.0</td>\n",
       "      <td>0</td>\n",
       "    </tr>\n",
       "    <tr>\n",
       "      <th>18</th>\n",
       "      <td>E502</td>\n",
       "      <td>2022-06-10</td>\n",
       "      <td>2022-06-16</td>\n",
       "      <td>1900.0</td>\n",
       "      <td>6</td>\n",
       "    </tr>\n",
       "    <tr>\n",
       "      <th>19</th>\n",
       "      <td>E502</td>\n",
       "      <td>2022-07-10</td>\n",
       "      <td>2022-07-12</td>\n",
       "      <td>1600.0</td>\n",
       "      <td>2</td>\n",
       "    </tr>\n",
       "    <tr>\n",
       "      <th>20</th>\n",
       "      <td>F601</td>\n",
       "      <td>2022-06-11</td>\n",
       "      <td>2022-06-17</td>\n",
       "      <td>2000.0</td>\n",
       "      <td>6</td>\n",
       "    </tr>\n",
       "    <tr>\n",
       "      <th>21</th>\n",
       "      <td>F601</td>\n",
       "      <td>2022-07-11</td>\n",
       "      <td>2022-07-13</td>\n",
       "      <td>1000.0</td>\n",
       "      <td>2</td>\n",
       "    </tr>\n",
       "    <tr>\n",
       "      <th>22</th>\n",
       "      <td>F602</td>\n",
       "      <td>2022-06-12</td>\n",
       "      <td>2022-06-15</td>\n",
       "      <td>2100.0</td>\n",
       "      <td>3</td>\n",
       "    </tr>\n",
       "    <tr>\n",
       "      <th>23</th>\n",
       "      <td>F602</td>\n",
       "      <td>2022-07-12</td>\n",
       "      <td>2022-07-12</td>\n",
       "      <td>1100.0</td>\n",
       "      <td>0</td>\n",
       "    </tr>\n",
       "    <tr>\n",
       "      <th>24</th>\n",
       "      <td>G701</td>\n",
       "      <td>2022-06-13</td>\n",
       "      <td>2022-06-19</td>\n",
       "      <td>2200.0</td>\n",
       "      <td>6</td>\n",
       "    </tr>\n",
       "    <tr>\n",
       "      <th>25</th>\n",
       "      <td>G701</td>\n",
       "      <td>2022-07-13</td>\n",
       "      <td>2022-07-20</td>\n",
       "      <td>1200.0</td>\n",
       "      <td>7</td>\n",
       "    </tr>\n",
       "    <tr>\n",
       "      <th>26</th>\n",
       "      <td>G702</td>\n",
       "      <td>2022-06-14</td>\n",
       "      <td>2022-06-15</td>\n",
       "      <td>2300.0</td>\n",
       "      <td>1</td>\n",
       "    </tr>\n",
       "    <tr>\n",
       "      <th>27</th>\n",
       "      <td>G702</td>\n",
       "      <td>2022-07-14</td>\n",
       "      <td>2022-07-17</td>\n",
       "      <td>2100.0</td>\n",
       "      <td>3</td>\n",
       "    </tr>\n",
       "    <tr>\n",
       "      <th>28</th>\n",
       "      <td>H801</td>\n",
       "      <td>2022-06-15</td>\n",
       "      <td>2022-06-18</td>\n",
       "      <td>2400.0</td>\n",
       "      <td>3</td>\n",
       "    </tr>\n",
       "    <tr>\n",
       "      <th>29</th>\n",
       "      <td>H801</td>\n",
       "      <td>2022-07-15</td>\n",
       "      <td>2022-07-16</td>\n",
       "      <td>2200.0</td>\n",
       "      <td>1</td>\n",
       "    </tr>\n",
       "  </tbody>\n",
       "</table>\n",
       "</div>"
      ],
      "text/plain": [
       "   apartamento datas_combinadas_pagamento datas_de_pagamento  valor_aluguel  \\\n",
       "0        A101                  2022-06-01         2022-06-05         1000.0   \n",
       "1        A101                  2022-07-01         2022-07-03         2500.0   \n",
       "2        A102                  2022-06-02         2022-06-02         1100.0   \n",
       "3        A102                  2022-07-02         2022-07-06         2600.0   \n",
       "4        B201                  2022-06-03         2022-06-07         1200.0   \n",
       "5        B201                  2022-07-03         2022-07-03         2700.0   \n",
       "6        B202                  2022-06-04         2022-06-07         1300.0   \n",
       "7        B202                  2022-07-04         2022-07-05         2800.0   \n",
       "8        C301                  2022-06-05         2022-06-10         1400.0   \n",
       "9        C301                  2022-07-05         2022-07-09         2900.0   \n",
       "10       C302                  2022-06-06         2022-06-08         1500.0   \n",
       "11       C302                  2022-07-06         2022-07-12         1200.0   \n",
       "12       D401                  2022-06-07         2022-06-07         1600.0   \n",
       "13       D401                  2022-07-07         2022-07-09         1300.0   \n",
       "14       D402                  2022-06-08         2022-06-10         1700.0   \n",
       "15       D402                  2022-07-08         2022-07-14         1400.0   \n",
       "16       E501                  2022-06-09         2022-06-10         1800.0   \n",
       "17       E501                  2022-07-09         2022-07-09         1500.0   \n",
       "18       E502                  2022-06-10         2022-06-16         1900.0   \n",
       "19       E502                  2022-07-10         2022-07-12         1600.0   \n",
       "20       F601                  2022-06-11         2022-06-17         2000.0   \n",
       "21       F601                  2022-07-11         2022-07-13         1000.0   \n",
       "22       F602                  2022-06-12         2022-06-15         2100.0   \n",
       "23       F602                  2022-07-12         2022-07-12         1100.0   \n",
       "24       G701                  2022-06-13         2022-06-19         2200.0   \n",
       "25       G701                  2022-07-13         2022-07-20         1200.0   \n",
       "26       G702                  2022-06-14         2022-06-15         2300.0   \n",
       "27       G702                  2022-07-14         2022-07-17         2100.0   \n",
       "28       H801                  2022-06-15         2022-06-18         2400.0   \n",
       "29       H801                  2022-07-15         2022-07-16         2200.0   \n",
       "\n",
       "    atraso  \n",
       "0        4  \n",
       "1        2  \n",
       "2        0  \n",
       "3        4  \n",
       "4        4  \n",
       "5        0  \n",
       "6        3  \n",
       "7        1  \n",
       "8        5  \n",
       "9        4  \n",
       "10       2  \n",
       "11       6  \n",
       "12       0  \n",
       "13       2  \n",
       "14       2  \n",
       "15       6  \n",
       "16       1  \n",
       "17       0  \n",
       "18       6  \n",
       "19       2  \n",
       "20       6  \n",
       "21       2  \n",
       "22       3  \n",
       "23       0  \n",
       "24       6  \n",
       "25       7  \n",
       "26       1  \n",
       "27       3  \n",
       "28       3  \n",
       "29       1  "
      ]
     },
     "execution_count": 109,
     "metadata": {},
     "output_type": "execute_result"
    }
   ],
   "source": [
    "datos_inmobiliaria"
   ]
  },
  {
   "cell_type": "code",
   "execution_count": 83,
   "id": "8327872c",
   "metadata": {},
   "outputs": [
    {
     "data": {
      "application/vnd.microsoft.datawrangler.viewer.v0+json": {
       "columns": [
        {
         "name": "apartamento",
         "rawType": "object",
         "type": "string"
        },
        {
         "name": "atraso",
         "rawType": "float64",
         "type": "float"
        }
       ],
       "ref": "eaa0ee4a-d643-4091-aaee-8c18a10ef154",
       "rows": [
        [
         "A101 ",
         "3.0"
        ],
        [
         "A102 ",
         "2.0"
        ],
        [
         "B201 ",
         "2.0"
        ],
        [
         "B202 ",
         "2.0"
        ],
        [
         "C301 ",
         "4.5"
        ],
        [
         "C302 ",
         "4.0"
        ],
        [
         "D401 ",
         "1.0"
        ],
        [
         "D402 ",
         "4.0"
        ],
        [
         "E501 ",
         "0.5"
        ],
        [
         "E502 ",
         "4.0"
        ],
        [
         "F601 ",
         "4.0"
        ],
        [
         "F602 ",
         "1.5"
        ],
        [
         "G701 ",
         "6.5"
        ],
        [
         "G702 ",
         "2.0"
        ],
        [
         "H801 ",
         "2.0"
        ]
       ],
       "shape": {
        "columns": 1,
        "rows": 15
       }
      },
      "text/plain": [
       "apartamento\n",
       "A101     3.0\n",
       "A102     2.0\n",
       "B201     2.0\n",
       "B202     2.0\n",
       "C301     4.5\n",
       "C302     4.0\n",
       "D401     1.0\n",
       "D402     4.0\n",
       "E501     0.5\n",
       "E502     4.0\n",
       "F601     4.0\n",
       "F602     1.5\n",
       "G701     6.5\n",
       "G702     2.0\n",
       "H801     2.0\n",
       "Name: atraso, dtype: float64"
      ]
     },
     "execution_count": 83,
     "metadata": {},
     "output_type": "execute_result"
    }
   ],
   "source": [
    "# media de atraso por apartamento\n",
    "media_atraso = datos_inmobiliaria.groupby(['apartamento'])['atraso'].mean()\n",
    "media_atraso"
   ]
  }
 ],
 "metadata": {
  "kernelspec": {
   "display_name": "Python 3",
   "language": "python",
   "name": "python3"
  },
  "language_info": {
   "codemirror_mode": {
    "name": "ipython",
    "version": 3
   },
   "file_extension": ".py",
   "mimetype": "text/x-python",
   "name": "python",
   "nbconvert_exporter": "python",
   "pygments_lexer": "ipython3",
   "version": "3.13.0"
  }
 },
 "nbformat": 4,
 "nbformat_minor": 5
}
